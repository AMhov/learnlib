{
 "cells": [
  {
   "cell_type": "code",
   "execution_count": 1,
   "id": "db56c632",
   "metadata": {},
   "outputs": [],
   "source": [
    "import re"
   ]
  },
  {
   "cell_type": "code",
   "execution_count": 24,
   "id": "81a9feb2",
   "metadata": {},
   "outputs": [
    {
     "name": "stdout",
     "output_type": "stream",
     "text": [
      "hi\n",
      "anybody\n",
      "hi\"anybody\n",
      "hi\\nanybody\n"
     ]
    }
   ],
   "source": [
    "# About slash\n",
    "x = \"hi\\nanybody\"   # Обратный слэш и символ переноса в действии\n",
    "print(x)\n",
    "\n",
    "x = \"hi\\\"anybody\"   # Обратный слэш и кавычка, показывает, что ее не надо считать закрывающей\n",
    "print(x)\n",
    "\n",
    "x = r\"hi\\nanybody\"  # А так они не работают, указали, что строка \"сырая\" - row,читаем целиком! \n",
    "print(x)"
   ]
  },
  {
   "cell_type": "code",
   "execution_count": 25,
   "id": "fc3bdeb3",
   "metadata": {
    "scrolled": true
   },
   "outputs": [
    {
     "name": "stdout",
     "output_type": "stream",
     "text": [
      "<function match at 0x7faa571eaa60>\n",
      "<function search at 0x7faa57194040>\n",
      "<function findall at 0x7faa57194280>\n",
      "<function sub at 0x7faa571940d0>\n"
     ]
    }
   ],
   "source": [
    "# Re's basic function\n",
    "print(re.match)      # pattern, str. Проверяет, подходит ли строка под шаблон\n",
    "print(re.search)     # Находит первую подстроку в строке, которая подходит под шаблон\n",
    "print(re.findall)    # Найдет все подстроки строки, которые подходят под шаблон\n",
    "print(re.sub)        # Заменяет все найденные подстроки тем, что укажем"
   ]
  },
  {
   "cell_type": "code",
   "execution_count": 11,
   "id": "ce010f43",
   "metadata": {},
   "outputs": [
    {
     "name": "stdout",
     "output_type": "stream",
     "text": [
      "<re.Match object; span=(0, 3), match='abc'>\n",
      "<re.Match object; span=(0, 3), match='abc'>\n"
     ]
    }
   ],
   "source": [
    "pattern = r\"abc\"\n",
    "s = \"abc\"\n",
    "print(re.match(pattern, s))\n",
    "ex = re.match(pattern, s)\n",
    "print(ex)"
   ]
  },
  {
   "cell_type": "code",
   "execution_count": 20,
   "id": "d398509e",
   "metadata": {},
   "outputs": [
    {
     "name": "stdout",
     "output_type": "stream",
     "text": [
      "<re.Match object; span=(0, 3), match='abc'>\n"
     ]
    }
   ],
   "source": [
    "pattern = r\"abc\"\n",
    "s = \"abcd\"\n",
    "ex = re.match(pattern, s)\n",
    "print(ex)"
   ]
  },
  {
   "cell_type": "code",
   "execution_count": 21,
   "id": "882880d0",
   "metadata": {},
   "outputs": [
    {
     "name": "stdout",
     "output_type": "stream",
     "text": [
      "None\n"
     ]
    }
   ],
   "source": [
    "pattern = r\"abc\"\n",
    "s = \"dabc\"\n",
    "ex = re.match(pattern, s)\n",
    "print(ex)"
   ]
  },
  {
   "cell_type": "code",
   "execution_count": 17,
   "id": "6798f8fb",
   "metadata": {},
   "outputs": [
    {
     "name": "stdout",
     "output_type": "stream",
     "text": [
      "None\n"
     ]
    }
   ],
   "source": [
    "pattern = r\"abd\"\n",
    "s = \"abc\"\n",
    "ex = re.match(pattern, s)\n",
    "print(ex)"
   ]
  },
  {
   "cell_type": "code",
   "execution_count": 22,
   "id": "29a8dc67",
   "metadata": {},
   "outputs": [
    {
     "name": "stdout",
     "output_type": "stream",
     "text": [
      "<re.Match object; span=(3, 6), match='abc'>\n"
     ]
    }
   ],
   "source": [
    "pattern = r\"abc\"\n",
    "s = \"hhhabcdabcfgr\"\n",
    "ex = re.search(pattern, s)\n",
    "print(ex)"
   ]
  },
  {
   "cell_type": "markdown",
   "id": "fab265a2",
   "metadata": {},
   "source": [
    "### МЕТАСИМВОЛЫ\n",
    "\n",
    "\n",
    "***[ ] - в скобках в шаблоне можно указывать несколько символов, групп символов!!!!!!!***"
   ]
  },
  {
   "cell_type": "code",
   "execution_count": 28,
   "id": "e03f7375",
   "metadata": {},
   "outputs": [
    {
     "name": "stdout",
     "output_type": "stream",
     "text": [
      "<re.Match object; span=(3, 6), match='abc'>\n",
      "<re.Match object; span=(7, 10), match='akc'>\n",
      "<re.Match object; span=(7, 10), match='amc'>\n"
     ]
    }
   ],
   "source": [
    "pattern = r\"a[kbm]c\"                # Теперь будет искать \"akc\" или \"abc\" или \"amc\"\n",
    "\n",
    "string = \"hhhabcdabcfgr\"\n",
    "ex = re.search(pattern, string)\n",
    "print(ex)\n",
    "\n",
    "string = \"hhhagcdakcfgr\"\n",
    "ex = re.search(pattern, string)\n",
    "print(ex)\n",
    "\n",
    "string = \"hhhagcdamcfgr\"\n",
    "ex = re.search(pattern, string)\n",
    "print(ex)\n"
   ]
  },
  {
   "cell_type": "code",
   "execution_count": 31,
   "id": "0239b26d",
   "metadata": {},
   "outputs": [
    {
     "name": "stdout",
     "output_type": "stream",
     "text": [
      "['abc', 'akc', 'abc']\n"
     ]
    }
   ],
   "source": [
    "# Findall найдет все вхождения и вернет список того, что нашел\n",
    "string = \"hhhabcdakcfgrderabc\"\n",
    "all_inclusion = re.findall(pattern, string)\n",
    "print(all_inclusion)"
   ]
  },
  {
   "cell_type": "code",
   "execution_count": 34,
   "id": "8543a42f",
   "metadata": {},
   "outputs": [
    {
     "name": "stdout",
     "output_type": "stream",
     "text": [
      "hhhabcdabcfgrderabc\n"
     ]
    }
   ],
   "source": [
    "# Это как-бы иправление возможных ошибок в тексте\n",
    "# Sub найдет все вхождения шаблона и заменит на то, что указали (здесь abc). Выводит измененную строку!!!\n",
    "string = \"hhhabcdakcfgrderabc\"\n",
    "change = re.sub(pattern, \"abc\", string)\n",
    "print(change)"
   ]
  },
  {
   "cell_type": "markdown",
   "id": "a7fe5d40",
   "metadata": {},
   "source": [
    "**Слэш, как обозначение метасимволов**"
   ]
  },
  {
   "cell_type": "code",
   "execution_count": 38,
   "id": "65b1c558",
   "metadata": {},
   "outputs": [
    {
     "name": "stdout",
     "output_type": "stream",
     "text": [
      "<re.Match object; span=(12, 20), match=' English'>\n",
      "<re.Match object; span=(12, 21), match=' English?'>\n"
     ]
    }
   ],
   "source": [
    "pattern = r\" English?\"\n",
    "s = \"Do you speak English?\"\n",
    "ex = re.search(pattern, s)            # НАЙДЕТ English без знака вопроса!!!\n",
    "                                      # \"?\"- это метасимвол в re\n",
    "print(ex)\n",
    "\n",
    "\n",
    "pattern = r\" English\\?\"                # Добавим слэш \n",
    "ex = re.search(pattern, s)            # НАЙДЕТ English со знаком вопроса!!!\n",
    "print(ex)"
   ]
  },
  {
   "cell_type": "markdown",
   "id": "6a82fb66",
   "metadata": {},
   "source": [
    "***Обратный слэш тоже надо экранировать!!! Если он - метасимвол***"
   ]
  },
  {
   "cell_type": "markdown",
   "id": "157d79c3",
   "metadata": {},
   "source": [
    "### **\" .  ^  $  *  +  ?  { }  [ ]  \\  |  ( )  - \" - метасимволы**"
   ]
  },
  {
   "cell_type": "code",
   "execution_count": 41,
   "id": "a6e4f39a",
   "metadata": {},
   "outputs": [
    {
     "name": "stdout",
     "output_type": "stream",
     "text": [
      "['abc', 'adc', 'abc', 'acc']\n"
     ]
    }
   ],
   "source": [
    "pattern = r\"a[b-d]c\"                # Теперь будет искать \"abc\" или \"acc\" или \"adc\", т.е. все буквы от b до d\n",
    "\n",
    "string = \"hhabcff4adchabcdaacfgaccr\"\n",
    "ex = re.findall(pattern, string)\n",
    "print(ex)"
   ]
  },
  {
   "cell_type": "code",
   "execution_count": 42,
   "id": "7bc610e3",
   "metadata": {},
   "outputs": [
    {
     "name": "stdout",
     "output_type": "stream",
     "text": [
      "['abc', 'adc', 'abc', 'aac', 'afc', 'asc', 'avc', 'aJc', 'aPc']\n"
     ]
    }
   ],
   "source": [
    "pattern = r\"a[a-zA-Z]c\"             # А теперь все буквы латинского алфавита\n",
    "\n",
    "string = \"hhabcff4adchabcdaacfgafcascrtyavcbbbaJcuryaPcr\"\n",
    "ex = re.findall(pattern, string)\n",
    "print(ex)"
   ]
  },
  {
   "cell_type": "code",
   "execution_count": 44,
   "id": "d43cbb47",
   "metadata": {},
   "outputs": [
    {
     "name": "stdout",
     "output_type": "stream",
     "text": [
      "['abc', 'a3c', 'aWc', 'aac', 'afc', 'a4c', 'avc', 'aJc', 'aPc']\n"
     ]
    }
   ],
   "source": [
    "pattern = r\"a[a-zA-Z0-9]c\"             # А теперь все буквы латинского алфавита и все цифры\n",
    "\n",
    "string = \"hhabcff4a3chaWcdaacfgafca4crtyavcbbbaJcuryaPcr\"\n",
    "ex = re.findall(pattern, string)\n",
    "print(ex)"
   ]
  },
  {
   "cell_type": "code",
   "execution_count": 46,
   "id": "fbcb2681",
   "metadata": {},
   "outputs": [
    {
     "name": "stdout",
     "output_type": "stream",
     "text": [
      "['aжc']\n"
     ]
    }
   ],
   "source": [
    "pattern = r\"a[а-я]c\"             # А теперь, только если в середине буква русского алфавита в нижнем регистре\n",
    "\n",
    "string = \"hhabcff4a3chaWcdaжcfgafca4crtyavcbbbaJcuryaPcr\"\n",
    "ex = re.findall(pattern, string)\n",
    "print(ex)"
   ]
  },
  {
   "cell_type": "code",
   "execution_count": 48,
   "id": "d34f78e7",
   "metadata": {},
   "outputs": [
    {
     "name": "stdout",
     "output_type": "stream",
     "text": [
      "['abc', 'a3c', 'aWc', 'afc', 'a4c', 'avc', 'aЮc', 'aPc']\n"
     ]
    }
   ],
   "source": [
    "pattern = r\"a[^а-я]c\"         # А теперь, КРОМЕ тех, где в середине буква русского алфавита в нижнем регистре\n",
    "\n",
    "string = \"hhabcff4a3chaWcdaжcfgafca4crtyavcbbbaЮcuryaPcr\"\n",
    "ex = re.findall(pattern, string)\n",
    "print(ex)"
   ]
  },
  {
   "cell_type": "code",
   "execution_count": 51,
   "id": "a8cf6674",
   "metadata": {},
   "outputs": [
    {
     "name": "stdout",
     "output_type": "stream",
     "text": [
      "['abc', 'aWc', 'afc', 'a4c', 'avc', 'aЮc', 'aPc']\n"
     ]
    }
   ],
   "source": [
    "pattern = r\"a[^а-я5-9]c\"         # А теперь, КРОМЕ тех, где в середине буква русского алфавита в нижнем регистре\n",
    "                                 # И тех, где в середине цифра от 5 до 9\n",
    "string = \"hhabcff4a8chaWcdaжcfgafca4crtyavcbbbaЮcuryaPcr\"\n",
    "ex = re.findall(pattern, string)\n",
    "print(ex)"
   ]
  },
  {
   "cell_type": "markdown",
   "id": "c15cf8cc",
   "metadata": {},
   "source": [
    "### Основные замены  \n",
    "\n",
    "***\\d = [0-9] - все цифры  \n",
    "\\D = [^0-9] - кроме всех цифр  \n",
    "\\s = [\\t\\n\\r\\f\\v] - все отступы, пробелы, табуляции и т.д.  \n",
    "\\S = [^\\t\\n\\r\\f\\v] - кроме отступов и т.д.  \n",
    "\\w = [a-zA-Z0-9_] - все латинские буквы, все цифры и нижнее подчеркивание  \n",
    "\\W = [^a-zA-Z0-9_] - кроме всех лат букв, всех цифр и нижнего подчеркивания  \n",
    "\\b__\\b - так выделим слово и будем искать только полное такое слово in expressions***"
   ]
  },
  {
   "cell_type": "code",
   "execution_count": 52,
   "id": "0c0a5c4d",
   "metadata": {},
   "outputs": [
    {
     "name": "stdout",
     "output_type": "stream",
     "text": [
      "['abc', 'a3c', 'aWc', 'aac', 'afc', 'a4c', 'avc', 'aJc', 'aPc']\n",
      "['abc', 'a3c', 'aWc', 'aac', 'afc', 'a4c', 'avc', 'aJc', 'aPc']\n"
     ]
    }
   ],
   "source": [
    "pattern = r\"a[a-zA-Z0-9]c\"             \n",
    "\n",
    "string = \"hhabcff4a3chaWcdaacfgafca4crtyavcbbbaJcuryaPcr\"\n",
    "ex = re.findall(pattern, string)\n",
    "print(ex)\n",
    "\n",
    "\n",
    "pattern = r\"a\\wc\"                # Результат одинаков!!! Это одно и тоже, просто короче с помощью метасимволов\n",
    "ex = re.findall(pattern, string)\n",
    "print(ex)"
   ]
  },
  {
   "cell_type": "markdown",
   "id": "05ef8944",
   "metadata": {},
   "source": [
    "**Можно объединять в скобках несколько символов и метасимволов**"
   ]
  },
  {
   "cell_type": "code",
   "execution_count": 59,
   "id": "0326f27e",
   "metadata": {},
   "outputs": [
    {
     "name": "stdout",
     "output_type": "stream",
     "text": [
      "['abc', 'aWc', 'aac', 'afc', 'a4c', 'avc', 'aPc']\n",
      "['abc', 'aWc', 'aac', 'afc', 'a4c', 'avc', 'a.c', 'aPc']\n",
      "['abc', 'a,c', 'aWc', 'aac', 'afc', 'a4c', 'avc', 'a.c', 'aPc']\n"
     ]
    }
   ],
   "source": [
    "pattern = r\"a\\wc\"                  # Только алфавит, цифры и _ \n",
    "string = \"hhabcff4a,chaWcdaacfgafca4crtyavcbbba.curyaPcr\"\n",
    "ex = re.findall(pattern, string)\n",
    "print(ex)\n",
    "\n",
    "pattern = r\"a[\\w.]c\"               # Добавили еще и точку!\n",
    "ex = re.findall(pattern, string)\n",
    "print(ex)\n",
    "\n",
    "pattern = r\"a.c\"                   # ТАК НАЙДЕМ ВСЕ сочетания с любым символом в середине!!!!!!!!!!!!!!!!!\n",
    "ex = re.findall(pattern, string)\n",
    "print(ex)"
   ]
  },
  {
   "cell_type": "markdown",
   "id": "d6e482ed",
   "metadata": {},
   "source": [
    "**ЗВЕЗДОЧКА, ПЛЮС, ВОПРОС, СКОБКИ**"
   ]
  },
  {
   "cell_type": "code",
   "execution_count": 79,
   "id": "3a02a295",
   "metadata": {},
   "outputs": [
    {
     "name": "stdout",
     "output_type": "stream",
     "text": [
      "['abc', 'abbbc', 'ac', 'abbc', 'abbbbbbc']\n",
      "['abc', 'abbbc', 'abbc', 'abbbbbbc']\n",
      "['abc', 'ac']\n",
      "['abbbc']\n",
      "['abc', 'abbc']\n"
     ]
    }
   ],
   "source": [
    "pattern = r\"ab*c\"  # Это указание на то, что символов (b) может быть любое кол-во от 0\n",
    "string = \"hhabcff4abbbchaWcbbacfgabbcabbbbbbcrtyavcbbba.curyaPcr\"\n",
    "ex = re.findall(pattern, string)\n",
    "print(ex)\n",
    "\n",
    "pattern = r\"ab+c\"  # Это указание на то, что символов (b) может быть любое кол-во КРОМЕ 0\n",
    "ex = re.findall(pattern, string)\n",
    "print(ex)\n",
    "\n",
    "pattern = r\"ab?c\"  # Это указание на то, что символов (b) может быть 0 или 1, не более!!!\n",
    "ex = re.findall(pattern, string)\n",
    "print(ex)\n",
    "\n",
    "pattern = r\"ab{3}c\"# Это указание на то, что символов (b) должно быть как число в скобках {}\n",
    "ex = re.findall(pattern, string)\n",
    "print(ex)\n",
    "\n",
    "pattern = r\"ab{1,2}c\"# Это указание на то, что символов (b) должно быть от и до\n",
    "ex = re.findall(pattern, string)\n",
    "print(ex)"
   ]
  },
  {
   "cell_type": "markdown",
   "id": "9bb86e41",
   "metadata": {},
   "source": [
    "***Символы + и * - жадные! Выведут только самый большой ответ!!!!!***"
   ]
  },
  {
   "cell_type": "code",
   "execution_count": 90,
   "id": "40df0155",
   "metadata": {},
   "outputs": [
    {
     "name": "stdout",
     "output_type": "stream",
     "text": [
      "['abaaba']\n",
      "['abaaba']\n",
      "['aba', 'aba']\n",
      "['aba', 'aba']\n"
     ]
    }
   ],
   "source": [
    "pattern = r\"a[ab]+a\"                  # Жадный плюс, ищет максимальный размер!!!\n",
    "string = \"abaaba\"\n",
    "ex = re.findall(pattern, string)\n",
    "print(ex)\n",
    "\n",
    "pattern = r\"a[ab]*a\"                  # Жадная звезда, ищет максимальный размер!!!\n",
    "ex = re.findall(pattern, string)\n",
    "print(ex)\n",
    "\n",
    "pattern = r\"a[ab]+?a\"   # Вопрос делает алгоритм не жадным, т.е. ищем меньший размер\n",
    "ex = re.findall(pattern, string)\n",
    "print(ex)\n",
    "\n",
    "pattern = r\"a[ab]*?a\"   # Вопрос делает алгоритм не жадным, т.е. ищем меньший размер\n",
    "ex = re.findall(pattern, string)\n",
    "print(ex)"
   ]
  },
  {
   "cell_type": "code",
   "execution_count": 88,
   "id": "f8b8173e",
   "metadata": {},
   "outputs": [
    {
     "name": "stdout",
     "output_type": "stream",
     "text": [
      "['aba', 'aba']\n"
     ]
    }
   ],
   "source": [
    "pattern = r\"a[ab]+?a\"                  # \n",
    "string = \"abaaba\"\n",
    "ex = re.findall(pattern, string)\n",
    "print(ex)"
   ]
  },
  {
   "cell_type": "code",
   "execution_count": 5,
   "id": "ca7e07a3",
   "metadata": {},
   "outputs": [
    {
     "name": "stdout",
     "output_type": "stream",
     "text": [
      "['cat']\n",
      "[]\n"
     ]
    }
   ],
   "source": [
    "# Так будем искать такое полное! слово в наборе символов и букв\n",
    "pattern = r\"\\bcat\\b\"\n",
    "line = '!%cat?=+, Hi='\n",
    "print(re.findall(pattern, line))\n",
    "\n",
    "line = '!catty, Hi='             # А вот так нет полного слова!\n",
    "print(re.findall(pattern, line))"
   ]
  },
  {
   "cell_type": "code",
   "execution_count": 17,
   "id": "9400b28d",
   "metadata": {},
   "outputs": [
    {
     "data": {
      "text/plain": [
       "2"
      ]
     },
     "execution_count": 17,
     "metadata": {},
     "output_type": "execute_result"
    }
   ],
   "source": [
    "pattern = r\"(cat)\"               # Скобки это группа символов\n",
    "line = 'catcat'\n",
    "len(re.findall(pattern, line))"
   ]
  },
  {
   "cell_type": "code",
   "execution_count": 22,
   "id": "9cd1f53f",
   "metadata": {},
   "outputs": [
    {
     "name": "stdout",
     "output_type": "stream",
     "text": [
      "['cat', 'cat']\n",
      "['cat', 'cot']\n",
      "['cat']\n",
      "['cot', 'cat']\n"
     ]
    }
   ],
   "source": [
    "pattern = r\"(cat|cot)\"               # Верт черта - это или\n",
    "line = 'catcat'\n",
    "print(re.findall(pattern, line))\n",
    "\n",
    "                                     # К такой строке тоже подойдет\n",
    "line = 'catcot'\n",
    "print(re.findall(pattern, line))\n",
    "\n",
    "pattern = r\"cat|cot\"                 # Без скобок выберет only one of them if\n",
    "line = 'catcоt'\n",
    "print(re.findall(pattern, line))\n",
    "\n",
    "pattern = r\"cat|cot\"                 # Если по порядку, а если нет, то обе))))))\n",
    "line = 'cotcat'\n",
    "print(re.findall(pattern, line))"
   ]
  },
  {
   "cell_type": "code",
   "execution_count": 116,
   "id": "fcbddd33",
   "metadata": {},
   "outputs": [
    {
     "name": "stdout",
     "output_type": "stream",
     "text": [
      "('sop', 'sop', None)\n",
      "('cot', None, 'cot')\n"
     ]
    }
   ],
   "source": [
    "pattern = r\"((sop)|(cat|cot))\"     # Если заключаем в скобки, то можем, используя метод\n",
    "line = 'sop'                       # groops посмотреть как идет проверка,\n",
    "match = re.match(pattern, line)    # скобки поочередно открываются и проверяется что там\n",
    "print(match.groups())\n",
    "\n",
    "pattern = r\"((sop)|(cat|cot))\"     # Откр бол скобки, есть кот, открываем первую мал, нет\n",
    "line = 'cot'                       # кот, открываем вторую мал, есть кот\n",
    "print(re.match(pattern, line).groups())"
   ]
  },
  {
   "cell_type": "markdown",
   "id": "dcc24ae6",
   "metadata": {},
   "source": [
    "***Amazing thing!  \n",
    "Found any simbols, which repeted через символ between скобками и слэш1***"
   ]
  },
  {
   "cell_type": "code",
   "execution_count": 40,
   "id": "a67af8ed",
   "metadata": {},
   "outputs": [
    {
     "name": "stdout",
     "output_type": "stream",
     "text": [
      "['cot', 'dh', '98', '6']\n",
      "['cot']\n",
      "['76']\n"
     ]
    }
   ],
   "source": [
    "pattern = r\"(\\w+)\\1\"                 \n",
    "line = 'cot cotcotey dhdh 12345 9898 56656 76-76'\n",
    "print(re.findall(pattern, line))\n",
    "\n",
    "pattern = r\"(\\w+) \\1\"                 \n",
    "print(re.findall(pattern, line))\n",
    "\n",
    "pattern = r\"(\\w+)-\\1\"                 \n",
    "print(re.findall(pattern, line))"
   ]
  },
  {
   "cell_type": "code",
   "execution_count": 39,
   "id": "21f374db",
   "metadata": {},
   "outputs": [
    {
     "name": "stdout",
     "output_type": "stream",
     "text": [
      "[]\n",
      "['c']\n",
      "['cc']\n",
      "['dh', '98']\n"
     ]
    }
   ],
   "source": [
    "pattern = r\"\\b(\\w+)\\1\\b\"  # То же что и в прошлом, но теперь будет оцениваться только                 \n",
    "line = 'ccc'              # повторы в слове целиком, т.е. не попадут нечетные\n",
    "print(re.findall(pattern, line))\n",
    "\n",
    "pattern = r\"\\b(\\w+)\\1\\b\"                   \n",
    "line = 'cc'              \n",
    "print(re.findall(pattern, line))\n",
    "\n",
    "pattern = r\"\\b(\\w+)\\1\\b\"                   \n",
    "line = 'cccc'             \n",
    "print(re.findall(pattern, line))\n",
    "\n",
    "line = 'cot cotcotey dhdh 12345 9898 56656 76-76'\n",
    "print(re.findall(pattern, line))"
   ]
  },
  {
   "cell_type": "code",
   "execution_count": 73,
   "id": "dc989033",
   "metadata": {},
   "outputs": [
    {
     "name": "stdout",
     "output_type": "stream",
     "text": [
      "I need to understand the computer mind\n",
      "humanity\n",
      "computerity\n",
      "shuma\n"
     ]
    }
   ],
   "source": [
    "pattern = r\"\\bhuman\\b\"\n",
    "line = 'I need to understand the human mind'\n",
    "print(re.sub(pattern, \"computer\", line))\n",
    "\n",
    "\n",
    "pattern = r\"\\bhuman\\b\"\n",
    "line = 'humanity'\n",
    "print(re.sub(pattern, \"computer\", line))\n",
    "\n",
    "pattern = r\"human\"\n",
    "line = 'humanity'\n",
    "print(re.sub(pattern, \"computer\", line))\n",
    "\n",
    "pattern = r\"human\"\n",
    "line = 'shuma'\n",
    "print(re.sub(pattern, \"computer\", line))"
   ]
  },
  {
   "cell_type": "code",
   "execution_count": 63,
   "id": "8f689ae0",
   "metadata": {},
   "outputs": [
    {
     "name": "stdout",
     "output_type": "stream",
     "text": [
      "['aaaaa', 'aaa', 'a', 'aa']\n",
      "(5, 10)\n",
      "HAHA AaAaAaA\n",
      "HAHA AaAaAaA\n"
     ]
    }
   ],
   "source": [
    "pattern = r\"\\ba+\\b\"                   \n",
    "line = 'cccc aaaaa aaa adadad a fddsdg aa'             \n",
    "print(re.findall(pattern, line))\n",
    "\n",
    "pattern = r\"\\ba+\\b\"                   \n",
    "line = 'cccc aaaaa aaa adadad a fddsdg aa'             \n",
    "print(re.search(pattern, line).span())\n",
    "\n",
    "pattern = r\"\\b[aA]+\\b\"                   \n",
    "line = \"AaAaAaA AaAaAaA\"             \n",
    "print(re.sub(pattern, \"HAHA\", line, count=1))\n",
    "\n",
    "pattern = r\"\\b[a]+\\b\"              # Тоже самое с флагом = игнорирование регистра     \n",
    "line = \"AaAaAaA AaAaAaA\"             \n",
    "print(re.sub(pattern, \"HAHA\", line, count=1, flags=re.IGNORECASE))"
   ]
  },
  {
   "cell_type": "markdown",
   "id": "36f52cfe",
   "metadata": {},
   "source": [
    "## Суперподсказка"
   ]
  },
  {
   "cell_type": "code",
   "execution_count": 163,
   "id": "8eb56d45",
   "metadata": {},
   "outputs": [
    {
     "name": "stdout",
     "output_type": "stream",
     "text": [
      "['a', 'b', 'c', 'd', 'e', 'f']\n",
      "[('a', 'b'), ('c', 'd'), ('e', 'f')]\n",
      "[('a', 'b', 'c'), ('d', 'e', 'f')]\n",
      "[('a', 'b', 'c', 'def')]\n",
      "cbadef\n"
     ]
    }
   ],
   "source": [
    "line = 'abcdef'\n",
    "pattern = r'(\\w)'\n",
    "print(re.findall(pattern, line))\n",
    "\n",
    "pattern = r'(\\w)(\\w)'\n",
    "print(re.findall(pattern, line))\n",
    "\n",
    "pattern = r'(\\w)(\\w)(\\w)'\n",
    "print(re.findall(pattern, line))\n",
    "\n",
    "pattern = r'(\\w)(\\w)(\\w)(\\w+)'\n",
    "print(re.findall(pattern, line))\n",
    "\n",
    "pattern = r'(\\w)(\\w)(\\w)(\\w+)'  # Использование цифр для обозначения №поз в запросе\n",
    "print(re.sub(pattern, r'\\3\\2\\1\\4', line))"
   ]
  },
  {
   "cell_type": "code",
   "execution_count": 172,
   "id": "cd81289f",
   "metadata": {},
   "outputs": [
    {
     "name": "stdout",
     "output_type": "stream",
     "text": [
      "['c', 'a', 'c', 'g', 'g', 'd', 'j', '_']\n",
      "['c', 'a', 'c', 'g', 'g', 'd', 'j', '_']\n",
      "!ac \"vagfa. ac ^=-+hgghaa g d &hj i_&\n"
     ]
    }
   ],
   "source": [
    "pattern = r\"\\b\\w\"                  # Вроде так первая буква/цифра в словах\n",
    "line = '!ca \"avgfa. ca ^=-+ghghaa g d &jh _i&'             \n",
    "print(re.findall(pattern, line))\n",
    "\n",
    "pattern = r\"\\b\\w{1}\"               # Так тоже первая буква/цифра в словах\n",
    "print(re.findall(pattern, line))\n",
    "\n",
    "\n",
    "# ЭТО ШАМАНСТВО)))\n",
    "pattern = r\"(\\w)(\\w)(\\w*)\"\n",
    "m = re.sub(pattern, r'\\2\\1\\3', line)\n",
    "print(m)"
   ]
  },
  {
   "cell_type": "code",
   "execution_count": 188,
   "id": "ba307581",
   "metadata": {},
   "outputs": [
    {
     "name": "stdout",
     "output_type": "stream",
     "text": [
      "['c', 'a', 'a', 'ad', 'a']\n"
     ]
    }
   ],
   "source": [
    "pattern = r\"\\b(\\w+?)\\1\"                   \n",
    "line = 'cccc aaaaa aaa adadad a fddsdg aa'             \n",
    "print(re.findall(pattern, line))"
   ]
  },
  {
   "cell_type": "markdown",
   "id": "6ff71745",
   "metadata": {},
   "source": [
    "## курс по рег"
   ]
  },
  {
   "cell_type": "code",
   "execution_count": 2,
   "id": "ea82a9af",
   "metadata": {},
   "outputs": [
    {
     "name": "stdout",
     "output_type": "stream",
     "text": [
      "Переносим\\nстроку\n",
      "\\'\n",
      "\\\\'\n",
      "Переносим\\nстроку\n",
      "\\\\'\n"
     ]
    }
   ],
   "source": [
    "# Слэшами экранировать неудобно!!!!!! Поэтому применяем символ отмены экранирования - r\n",
    "# Тогда один слэш будет означать - символ экранирования, но только в регулярках!!!\n",
    "\n",
    "# r - сырая строка!!!!!!!\n",
    "\n",
    "# Теперь тут выводится строка: Переносим\\nстроку\n",
    "print(\"Переносим\\\\nстроку\")\n",
    "\n",
    "# Вместо вывода, который мы ожидали, снова получаем такой: \\'\n",
    "print(\"\\\\\\'\")\n",
    "\n",
    "# Для того, чтобы исправить эту ситуацию, добавим ещё один обратный слеш!\n",
    "print(\"\\\\\\\\'\")\n",
    "# И только сейчас мы получим вывод: \\\\'\n",
    "\n",
    "print(r\"Переносим\\nстроку\")\n",
    "print(r\"\\\\'\")"
   ]
  },
  {
   "cell_type": "code",
   "execution_count": 31,
   "id": "2c1e6708",
   "metadata": {},
   "outputs": [
    {
     "name": "stdout",
     "output_type": "stream",
     "text": [
      "\\\\\\'\n",
      "\\\\\\'\n"
     ]
    }
   ],
   "source": [
    "print(\"\\\\\\\\\\\\'\")\n",
    "print(r\"\\\\\\'\")    # Так попроще и легче читается"
   ]
  },
  {
   "cell_type": "code",
   "execution_count": 2,
   "id": "d22d77bc",
   "metadata": {},
   "outputs": [
    {
     "name": "stdout",
     "output_type": "stream",
     "text": [
      "0123456789abcdefghijklmnopqrstuvwxyzABCDEFGHIJKLMNOPQRSTUVWXYZ!\"#$%&'()*+,-./:;<=>?@[\\]^_`{|}~ \t\n",
      "\r",
      "\u000b",
      "\f",
      "\n"
     ]
    }
   ],
   "source": [
    "# Строка со всеми возможными печатными символами\n",
    "\n",
    "from string import printable\n",
    "\n",
    "print(printable)"
   ]
  },
  {
   "cell_type": "code",
   "execution_count": 9,
   "id": "da6eb9c5",
   "metadata": {},
   "outputs": [
    {
     "name": "stdout",
     "output_type": "stream",
     "text": [
      "['!ca']\n",
      "['_i&']\n",
      "['!ca ', '\"avg', 'fa. ', 'ca ^', '=-+g', 'hgha', 'a g ', 'd &j', 'h _i']\n"
     ]
    }
   ],
   "source": [
    "pattern = r\"^...\"    # 3 (number of dots) any simbols at the begining of the str\n",
    "line = '!ca \"avgfa. ca ^=-+ghghaa g d &jh _i&'             \n",
    "print(re.findall(pattern, line))\n",
    "\n",
    "pattern = r\"...$\"    # 3(number of dot's) any simbols at the end of the str        \n",
    "print(re.findall(pattern, line))\n",
    "\n",
    "pattern = r\"....\"    # Found out 5 simbols and delit str        \n",
    "print(re.findall(pattern, line))"
   ]
  }
 ],
 "metadata": {
  "kernelspec": {
   "display_name": "Python 3 (ipykernel)",
   "language": "python",
   "name": "python3"
  },
  "language_info": {
   "codemirror_mode": {
    "name": "ipython",
    "version": 3
   },
   "file_extension": ".py",
   "mimetype": "text/x-python",
   "name": "python",
   "nbconvert_exporter": "python",
   "pygments_lexer": "ipython3",
   "version": "3.9.15"
  }
 },
 "nbformat": 4,
 "nbformat_minor": 5
}
