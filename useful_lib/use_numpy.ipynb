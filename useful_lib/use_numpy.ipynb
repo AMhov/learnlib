{
 "cells": [
  {
   "cell_type": "markdown",
   "id": "ae1882a1",
   "metadata": {},
   "source": [
    "# NUMPY"
   ]
  },
  {
   "cell_type": "markdown",
   "id": "88a01cd1",
   "metadata": {},
   "source": [
    "1.np.array(object, ...) - создание массива из объекта + разные условия.  \n",
    "2."
   ]
  },
  {
   "cell_type": "code",
   "execution_count": 1,
   "id": "9dd85e1c",
   "metadata": {},
   "outputs": [],
   "source": [
    "import numpy as np"
   ]
  },
  {
   "cell_type": "markdown",
   "id": "f05d60f7",
   "metadata": {},
   "source": [
    "## Простые действия"
   ]
  },
  {
   "cell_type": "code",
   "execution_count": 2,
   "id": "98c60f53",
   "metadata": {},
   "outputs": [
    {
     "name": "stdout",
     "output_type": "stream",
     "text": [
      "CPU times: user 3.05 s, sys: 238 ms, total: 3.29 s\n",
      "Wall time: 3.28 s\n"
     ]
    }
   ],
   "source": [
    "%%time\n",
    "#Большое время выполнения\n",
    "arr = []\n",
    "n = 10**7\n",
    "for i in range(n):\n",
    "    arr.append(i * 5)"
   ]
  },
  {
   "cell_type": "code",
   "execution_count": 3,
   "id": "744e9d2a",
   "metadata": {},
   "outputs": [
    {
     "name": "stdout",
     "output_type": "stream",
     "text": [
      "49999995000000\n",
      "CPU times: user 1.09 s, sys: 75.8 ms, total: 1.17 s\n",
      "Wall time: 1.17 s\n"
     ]
    }
   ],
   "source": [
    "%%time\n",
    "#Большое время выполнения\n",
    "\n",
    "def summ(a):\n",
    "    rez = 0\n",
    "    for i in arr:\n",
    "        rez += i\n",
    "    return rez\n",
    "\n",
    "arr = range(10**7)\n",
    "\n",
    "print(summ(arr))"
   ]
  },
  {
   "cell_type": "code",
   "execution_count": 4,
   "id": "86cfa77d",
   "metadata": {},
   "outputs": [
    {
     "name": "stdout",
     "output_type": "stream",
     "text": [
      "/usr/bin/python3.9\r\n"
     ]
    }
   ],
   "source": [
    "!which python3.9"
   ]
  },
  {
   "cell_type": "code",
   "execution_count": 5,
   "id": "44df8ebb",
   "metadata": {},
   "outputs": [
    {
     "data": {
      "text/plain": [
       "[1, 2, 3]"
      ]
     },
     "execution_count": 5,
     "metadata": {},
     "output_type": "execute_result"
    }
   ],
   "source": [
    "a = [1, 2, 3]\n",
    "a"
   ]
  },
  {
   "cell_type": "code",
   "execution_count": 19,
   "id": "18070cc3",
   "metadata": {},
   "outputs": [],
   "source": [
    "b = np.array(a, dtype='float64')"
   ]
  },
  {
   "cell_type": "code",
   "execution_count": 7,
   "id": "2052cfca",
   "metadata": {},
   "outputs": [
    {
     "name": "stdout",
     "output_type": "stream",
     "text": [
      "[1, 2, 3] <class 'list'> [1. 2. 3.] <class 'numpy.ndarray'>\n"
     ]
    }
   ],
   "source": [
    "print(a, type(a), b, type(b))"
   ]
  },
  {
   "cell_type": "markdown",
   "id": "13fa0411",
   "metadata": {},
   "source": [
    "**Если в списке (а) будут разные типы, то приведет к одному по приоритетности (н-р: стр выше инт, т.к. инт всегда можно преобразовать в стр)**"
   ]
  },
  {
   "cell_type": "code",
   "execution_count": 3,
   "id": "993b417f",
   "metadata": {},
   "outputs": [
    {
     "name": "stdout",
     "output_type": "stream",
     "text": [
      "[4 5 6]\n"
     ]
    }
   ],
   "source": [
    "d = np.array([4, 5, 6])\n",
    "print(d)"
   ]
  },
  {
   "cell_type": "code",
   "execution_count": 4,
   "id": "d0b6489e",
   "metadata": {},
   "outputs": [
    {
     "data": {
      "text/plain": [
       "32"
      ]
     },
     "execution_count": 4,
     "metadata": {},
     "output_type": "execute_result"
    }
   ],
   "source": [
    "a @ d"
   ]
  },
  {
   "cell_type": "code",
   "execution_count": 6,
   "id": "f686d0a4",
   "metadata": {},
   "outputs": [
    {
     "data": {
      "text/plain": [
       "array([1, 2, 3])"
      ]
     },
     "execution_count": 6,
     "metadata": {},
     "output_type": "execute_result"
    }
   ],
   "source": [
    "np.transpose(a)"
   ]
  },
  {
   "cell_type": "code",
   "execution_count": 16,
   "id": "639c4511",
   "metadata": {},
   "outputs": [
    {
     "data": {
      "text/plain": [
       "([1, 2, 3], array([4, 5, 6]))"
      ]
     },
     "execution_count": 16,
     "metadata": {},
     "output_type": "execute_result"
    }
   ],
   "source": [
    "a, d"
   ]
  },
  {
   "cell_type": "code",
   "execution_count": 12,
   "id": "1edf27f1",
   "metadata": {},
   "outputs": [
    {
     "data": {
      "text/plain": [
       "array([4, 5, 6])"
      ]
     },
     "execution_count": 12,
     "metadata": {},
     "output_type": "execute_result"
    }
   ],
   "source": [
    "d"
   ]
  },
  {
   "cell_type": "code",
   "execution_count": 10,
   "id": "156c8f48",
   "metadata": {},
   "outputs": [
    {
     "data": {
      "text/plain": [
       "[1, 2, 3]"
      ]
     },
     "execution_count": 10,
     "metadata": {},
     "output_type": "execute_result"
    }
   ],
   "source": [
    "a"
   ]
  },
  {
   "cell_type": "code",
   "execution_count": 13,
   "id": "86f3965e",
   "metadata": {},
   "outputs": [
    {
     "data": {
      "text/plain": [
       "array([5, 6, 7])"
      ]
     },
     "execution_count": 13,
     "metadata": {},
     "output_type": "execute_result"
    }
   ],
   "source": [
    "d + 1\n"
   ]
  },
  {
   "cell_type": "code",
   "execution_count": 14,
   "id": "0006a841",
   "metadata": {},
   "outputs": [
    {
     "data": {
      "text/plain": [
       "array([4, 5, 6])"
      ]
     },
     "execution_count": 14,
     "metadata": {},
     "output_type": "execute_result"
    }
   ],
   "source": [
    "d"
   ]
  },
  {
   "cell_type": "code",
   "execution_count": 15,
   "id": "6fefe34c",
   "metadata": {},
   "outputs": [
    {
     "data": {
      "text/plain": [
       "4"
      ]
     },
     "execution_count": 15,
     "metadata": {},
     "output_type": "execute_result"
    }
   ],
   "source": [
    "d[0]"
   ]
  },
  {
   "cell_type": "code",
   "execution_count": null,
   "id": "1a405201",
   "metadata": {},
   "outputs": [],
   "source": []
  },
  {
   "cell_type": "code",
   "execution_count": null,
   "id": "78288f5b",
   "metadata": {},
   "outputs": [],
   "source": []
  },
  {
   "cell_type": "code",
   "execution_count": 11,
   "id": "3f54aad8",
   "metadata": {},
   "outputs": [
    {
     "data": {
      "text/plain": [
       "32"
      ]
     },
     "execution_count": 11,
     "metadata": {},
     "output_type": "execute_result"
    }
   ],
   "source": [
    "np.transpose(a).dot(d)"
   ]
  },
  {
   "cell_type": "code",
   "execution_count": 9,
   "id": "19511995",
   "metadata": {},
   "outputs": [
    {
     "ename": "AttributeError",
     "evalue": "'list' object has no attribute 'dot'",
     "output_type": "error",
     "traceback": [
      "\u001b[0;31m---------------------------------------------------------------------------\u001b[0m",
      "\u001b[0;31mAttributeError\u001b[0m                            Traceback (most recent call last)",
      "\u001b[0;32m/tmp/ipykernel_134045/2626661659.py\u001b[0m in \u001b[0;36m<cell line: 1>\u001b[0;34m()\u001b[0m\n\u001b[0;32m----> 1\u001b[0;31m \u001b[0ma\u001b[0m\u001b[0;34m.\u001b[0m\u001b[0mdot\u001b[0m\u001b[0;34m(\u001b[0m\u001b[0md\u001b[0m\u001b[0;34m)\u001b[0m\u001b[0;34m\u001b[0m\u001b[0;34m\u001b[0m\u001b[0m\n\u001b[0m",
      "\u001b[0;31mAttributeError\u001b[0m: 'list' object has no attribute 'dot'"
     ]
    }
   ],
   "source": [
    "a.dot(d)"
   ]
  },
  {
   "cell_type": "code",
   "execution_count": null,
   "id": "2001cbb4",
   "metadata": {},
   "outputs": [],
   "source": []
  },
  {
   "cell_type": "code",
   "execution_count": 9,
   "id": "1af7669e",
   "metadata": {},
   "outputs": [
    {
     "name": "stdout",
     "output_type": "stream",
     "text": [
      "<class 'list'> <class 'numpy.ndarray'> <class 'numpy.ndarray'>\n"
     ]
    }
   ],
   "source": [
    "print(type(a), type(b), type(d))"
   ]
  },
  {
   "cell_type": "markdown",
   "id": "b88b5525",
   "metadata": {},
   "source": [
    "**посмотрим методы класса ndarray**"
   ]
  },
  {
   "cell_type": "code",
   "execution_count": 10,
   "id": "1bc45239",
   "metadata": {},
   "outputs": [
    {
     "data": {
      "text/plain": [
       "{'T',\n",
       " '__abs__',\n",
       " '__add__',\n",
       " '__and__',\n",
       " '__array__',\n",
       " '__array_finalize__',\n",
       " '__array_function__',\n",
       " '__array_interface__',\n",
       " '__array_prepare__',\n",
       " '__array_priority__',\n",
       " '__array_struct__',\n",
       " '__array_ufunc__',\n",
       " '__array_wrap__',\n",
       " '__bool__',\n",
       " '__class_getitem__',\n",
       " '__complex__',\n",
       " '__contains__',\n",
       " '__copy__',\n",
       " '__deepcopy__',\n",
       " '__delitem__',\n",
       " '__divmod__',\n",
       " '__dlpack__',\n",
       " '__dlpack_device__',\n",
       " '__float__',\n",
       " '__floordiv__',\n",
       " '__getitem__',\n",
       " '__iadd__',\n",
       " '__iand__',\n",
       " '__ifloordiv__',\n",
       " '__ilshift__',\n",
       " '__imatmul__',\n",
       " '__imod__',\n",
       " '__imul__',\n",
       " '__index__',\n",
       " '__int__',\n",
       " '__invert__',\n",
       " '__ior__',\n",
       " '__ipow__',\n",
       " '__irshift__',\n",
       " '__isub__',\n",
       " '__iter__',\n",
       " '__itruediv__',\n",
       " '__ixor__',\n",
       " '__len__',\n",
       " '__lshift__',\n",
       " '__matmul__',\n",
       " '__mod__',\n",
       " '__mul__',\n",
       " '__neg__',\n",
       " '__or__',\n",
       " '__pos__',\n",
       " '__pow__',\n",
       " '__radd__',\n",
       " '__rand__',\n",
       " '__rdivmod__',\n",
       " '__rfloordiv__',\n",
       " '__rlshift__',\n",
       " '__rmatmul__',\n",
       " '__rmod__',\n",
       " '__rmul__',\n",
       " '__ror__',\n",
       " '__rpow__',\n",
       " '__rrshift__',\n",
       " '__rshift__',\n",
       " '__rsub__',\n",
       " '__rtruediv__',\n",
       " '__rxor__',\n",
       " '__setitem__',\n",
       " '__setstate__',\n",
       " '__sub__',\n",
       " '__truediv__',\n",
       " '__xor__',\n",
       " 'all',\n",
       " 'any',\n",
       " 'argmax',\n",
       " 'argmin',\n",
       " 'argpartition',\n",
       " 'argsort',\n",
       " 'astype',\n",
       " 'base',\n",
       " 'byteswap',\n",
       " 'choose',\n",
       " 'clip',\n",
       " 'compress',\n",
       " 'conj',\n",
       " 'conjugate',\n",
       " 'copy',\n",
       " 'ctypes',\n",
       " 'cumprod',\n",
       " 'cumsum',\n",
       " 'data',\n",
       " 'diagonal',\n",
       " 'dot',\n",
       " 'dtype',\n",
       " 'dump',\n",
       " 'dumps',\n",
       " 'fill',\n",
       " 'flags',\n",
       " 'flat',\n",
       " 'flatten',\n",
       " 'getfield',\n",
       " 'imag',\n",
       " 'item',\n",
       " 'itemset',\n",
       " 'itemsize',\n",
       " 'max',\n",
       " 'mean',\n",
       " 'min',\n",
       " 'nbytes',\n",
       " 'ndim',\n",
       " 'newbyteorder',\n",
       " 'nonzero',\n",
       " 'partition',\n",
       " 'prod',\n",
       " 'ptp',\n",
       " 'put',\n",
       " 'ravel',\n",
       " 'real',\n",
       " 'repeat',\n",
       " 'reshape',\n",
       " 'resize',\n",
       " 'round',\n",
       " 'searchsorted',\n",
       " 'setfield',\n",
       " 'setflags',\n",
       " 'shape',\n",
       " 'size',\n",
       " 'sort',\n",
       " 'squeeze',\n",
       " 'std',\n",
       " 'strides',\n",
       " 'sum',\n",
       " 'swapaxes',\n",
       " 'take',\n",
       " 'tobytes',\n",
       " 'tofile',\n",
       " 'tolist',\n",
       " 'tostring',\n",
       " 'trace',\n",
       " 'transpose',\n",
       " 'var',\n",
       " 'view'}"
      ]
     },
     "execution_count": 10,
     "metadata": {},
     "output_type": "execute_result"
    }
   ],
   "source": [
    "set(dir(d)) - set(dir(object)) #Уберем из методов все методы для объектов"
   ]
  },
  {
   "cell_type": "code",
   "execution_count": 11,
   "id": "963a65d9",
   "metadata": {},
   "outputs": [],
   "source": [
    "? d.nbytes"
   ]
  },
  {
   "cell_type": "code",
   "execution_count": 12,
   "id": "22ed2d72",
   "metadata": {},
   "outputs": [
    {
     "data": {
      "text/plain": [
       "24"
      ]
     },
     "execution_count": 12,
     "metadata": {},
     "output_type": "execute_result"
    }
   ],
   "source": [
    "d.nbytes # 4 эл-та по 8 байтов! Т.к. тип инт64"
   ]
  },
  {
   "cell_type": "code",
   "execution_count": 13,
   "id": "b71d5479",
   "metadata": {},
   "outputs": [],
   "source": [
    "c = np.array([5, 6, 2, 1, 10], dtype='int32')"
   ]
  },
  {
   "cell_type": "code",
   "execution_count": 14,
   "id": "481fbaee",
   "metadata": {},
   "outputs": [
    {
     "data": {
      "text/plain": [
       "20"
      ]
     },
     "execution_count": 14,
     "metadata": {},
     "output_type": "execute_result"
    }
   ],
   "source": [
    "c.nbytes #32 бита, т.е. 32/8 = 4 байта. 5элементов по 4 байта!"
   ]
  },
  {
   "cell_type": "code",
   "execution_count": 15,
   "id": "56bf8c20",
   "metadata": {},
   "outputs": [],
   "source": [
    "array = np.array([[[1, 2, 3, 4],\n",
    "                 [2, 3, 4, 5],\n",
    "                 [2, 2, 4, 3]],\n",
    "                [[1, 1, 2, 1],\n",
    "                [3, 4, 3, 3],\n",
    "                [4, 3, 2, 1]]])"
   ]
  },
  {
   "cell_type": "code",
   "execution_count": 16,
   "id": "15783c91",
   "metadata": {},
   "outputs": [
    {
     "data": {
      "text/plain": [
       "array([[[1, 2, 3, 4],\n",
       "        [2, 3, 4, 5],\n",
       "        [2, 2, 4, 3]],\n",
       "\n",
       "       [[1, 1, 2, 1],\n",
       "        [3, 4, 3, 3],\n",
       "        [4, 3, 2, 1]]])"
      ]
     },
     "execution_count": 16,
     "metadata": {},
     "output_type": "execute_result"
    }
   ],
   "source": [
    "array"
   ]
  },
  {
   "cell_type": "code",
   "execution_count": 17,
   "id": "3ad04769",
   "metadata": {},
   "outputs": [
    {
     "data": {
      "text/plain": [
       "numpy.ndarray"
      ]
     },
     "execution_count": 17,
     "metadata": {},
     "output_type": "execute_result"
    }
   ],
   "source": [
    "type(array)"
   ]
  },
  {
   "cell_type": "code",
   "execution_count": 18,
   "id": "8f2746c8",
   "metadata": {},
   "outputs": [
    {
     "data": {
      "text/plain": [
       "2"
      ]
     },
     "execution_count": 18,
     "metadata": {},
     "output_type": "execute_result"
    }
   ],
   "source": [
    "len(array)"
   ]
  },
  {
   "cell_type": "code",
   "execution_count": 19,
   "id": "2ad2daa4",
   "metadata": {},
   "outputs": [
    {
     "data": {
      "text/plain": [
       "24"
      ]
     },
     "execution_count": 19,
     "metadata": {},
     "output_type": "execute_result"
    }
   ],
   "source": [
    "array.size"
   ]
  },
  {
   "cell_type": "code",
   "execution_count": 20,
   "id": "202b0daa",
   "metadata": {},
   "outputs": [
    {
     "data": {
      "text/plain": [
       "3"
      ]
     },
     "execution_count": 20,
     "metadata": {},
     "output_type": "execute_result"
    }
   ],
   "source": [
    "array.ndim"
   ]
  },
  {
   "cell_type": "code",
   "execution_count": 21,
   "id": "c6e7012f",
   "metadata": {},
   "outputs": [
    {
     "data": {
      "text/plain": [
       "(2, 3, 4)"
      ]
     },
     "execution_count": 21,
     "metadata": {},
     "output_type": "execute_result"
    }
   ],
   "source": [
    "array.shape"
   ]
  },
  {
   "cell_type": "code",
   "execution_count": 22,
   "id": "c04de5a0",
   "metadata": {},
   "outputs": [
    {
     "data": {
      "text/plain": [
       "array([[1, 1, 2, 1],\n",
       "       [3, 4, 3, 3],\n",
       "       [4, 3, 2, 1]])"
      ]
     },
     "execution_count": 22,
     "metadata": {},
     "output_type": "execute_result"
    }
   ],
   "source": [
    "array[-1]"
   ]
  },
  {
   "cell_type": "code",
   "execution_count": 23,
   "id": "374c29a5",
   "metadata": {},
   "outputs": [
    {
     "name": "stdout",
     "output_type": "stream",
     "text": [
      "int64 <class 'numpy.ndarray'> (4,) 32\n"
     ]
    }
   ],
   "source": [
    "p = [2, 3, 5, 7]\n",
    "p_arr = np.array(p)\n",
    "print(p_arr.dtype, type(p_arr), p_arr.shape, p_arr.nbytes)"
   ]
  },
  {
   "cell_type": "code",
   "execution_count": 24,
   "id": "9e206f29",
   "metadata": {},
   "outputs": [],
   "source": [
    "a = np.zeros(9)"
   ]
  },
  {
   "cell_type": "code",
   "execution_count": 25,
   "id": "028b4f6d",
   "metadata": {},
   "outputs": [],
   "source": [
    "b = np.ones(5, dtype='int64')"
   ]
  },
  {
   "cell_type": "code",
   "execution_count": 26,
   "id": "b140fdec",
   "metadata": {},
   "outputs": [
    {
     "name": "stdout",
     "output_type": "stream",
     "text": [
      "[0. 0. 0. 0. 0. 0. 0. 0. 0.] [1 1 1 1 1]\n"
     ]
    }
   ],
   "source": [
    "print(a, b)"
   ]
  },
  {
   "cell_type": "code",
   "execution_count": 27,
   "id": "909cc0cd",
   "metadata": {},
   "outputs": [
    {
     "name": "stdout",
     "output_type": "stream",
     "text": [
      "[0 0 0 0 0]\n"
     ]
    }
   ],
   "source": [
    "eq = np.zeros_like(b) #Лайк удобно, копирует не только значения, но и тип\n",
    "print(eq)"
   ]
  },
  {
   "cell_type": "markdown",
   "id": "39bcb612",
   "metadata": {},
   "source": [
    "\n",
    "**np.arange похож на range, Start/Stop/Step. Аргументы могут быть float!!! Аккуратнее, округления!**   \n",
    "**- np.arange(Start, Stop) Step = 1!**  \n",
    "**- np.arange(Stop) Start = 0, Step = 1!**"
   ]
  },
  {
   "cell_type": "code",
   "execution_count": 28,
   "id": "8573c865",
   "metadata": {},
   "outputs": [
    {
     "name": "stdout",
     "output_type": "stream",
     "text": [
      "[ 1  5  9 13 17 21]\n",
      "[ 3.  5.  7.  9. 11. 13.]\n",
      "[ 7  8  9 10 11 12 13 14]\n",
      "[0 1 2 3 4 5]\n"
     ]
    }
   ],
   "source": [
    "print(np.arange(1, 25, 4))\n",
    "print(np.arange(3., 14, 2))\n",
    "print(np.arange(7, 15))\n",
    "print(np.arange(6))"
   ]
  },
  {
   "cell_type": "markdown",
   "id": "dd9f6475",
   "metadata": {},
   "source": [
    "**np.linspace(Start, End, Count) в диапазоне от старт до конец сделать какое-то кол-во одинаковых промежутков**"
   ]
  },
  {
   "cell_type": "code",
   "execution_count": 29,
   "id": "142290a8",
   "metadata": {},
   "outputs": [
    {
     "data": {
      "text/plain": [
       "array([ 3.        ,  3.63636364,  4.27272727,  4.90909091,  5.54545455,\n",
       "        6.18181818,  6.81818182,  7.45454545,  8.09090909,  8.72727273,\n",
       "        9.36363636, 10.        ])"
      ]
     },
     "execution_count": 29,
     "metadata": {},
     "output_type": "execute_result"
    }
   ],
   "source": [
    "np.linspace(3, 10, 12)"
   ]
  },
  {
   "cell_type": "code",
   "execution_count": 30,
   "id": "4e5825ac",
   "metadata": {},
   "outputs": [
    {
     "name": "stdout",
     "output_type": "stream",
     "text": [
      "[10. 12. 14. 16. 18. 20. 22. 24. 26. 28. 30. 32.]\n",
      "2.0\n"
     ]
    }
   ],
   "source": [
    "k = np.linspace(10, 32, 12)\n",
    "print(k, k[1] - k[0], sep='\\n')"
   ]
  },
  {
   "cell_type": "markdown",
   "id": "137e095d",
   "metadata": {},
   "source": [
    "**np.logspace(Start= степень 10, End= степень 10, Count) тоже, что и линспэйс, но начало и конец - 10 в степени...**"
   ]
  },
  {
   "cell_type": "code",
   "execution_count": 31,
   "id": "ee3ded90",
   "metadata": {},
   "outputs": [
    {
     "name": "stdout",
     "output_type": "stream",
     "text": [
      "[   1.            1.87381742    3.51119173    6.57933225   12.32846739\n",
      "   23.101297     43.28761281   81.11308308  151.9911083   284.80358684\n",
      "  533.66992312 1000.        ]\n"
     ]
    }
   ],
   "source": [
    "print(np.logspace(0, 3, 12))"
   ]
  },
  {
   "cell_type": "markdown",
   "id": "a7ba9df4",
   "metadata": {},
   "source": [
    "## Операции над массивами"
   ]
  },
  {
   "cell_type": "markdown",
   "id": "7a269a00",
   "metadata": {},
   "source": [
    "**Все действия с массивами \"+, -, *. /\" поэлементно!!!**"
   ]
  },
  {
   "cell_type": "code",
   "execution_count": 32,
   "id": "c2e60620",
   "metadata": {},
   "outputs": [],
   "source": [
    "a = np.linspace(3, 33, 11)\n",
    "b = np.linspace(-2, -22, 11)"
   ]
  },
  {
   "cell_type": "code",
   "execution_count": 33,
   "id": "3a4960d2",
   "metadata": {},
   "outputs": [
    {
     "name": "stdout",
     "output_type": "stream",
     "text": [
      "\n",
      "\n",
      "\n",
      "a = [ 3.  6.  9. 12. 15. 18. 21. 24. 27. 30. 33.], b = [ -2.  -4.  -6.  -8. -10. -12. -14. -16. -18. -20. -22.]\n",
      "\n",
      "\n",
      "\n",
      "[ 1.  2.  3.  4.  5.  6.  7.  8.  9. 10. 11.]\n",
      "[ 5. 10. 15. 20. 25. 30. 35. 40. 45. 50. 55.]\n",
      "[  -6.  -24.  -54.  -96. -150. -216. -294. -384. -486. -600. -726.]\n",
      "[-1.5 -1.5 -1.5 -1.5 -1.5 -1.5 -1.5 -1.5 -1.5 -1.5 -1.5]\n"
     ]
    }
   ],
   "source": [
    "print('\\n\\n') #Прикольная штука, делает большие отступы в тетрадке!\n",
    "print(f'a = {a}, b = {b}', '\\n\\n', a+b, a-b, a*b, a/b, sep='\\n')"
   ]
  },
  {
   "cell_type": "code",
   "execution_count": 34,
   "id": "311b5361",
   "metadata": {},
   "outputs": [
    {
     "name": "stdout",
     "output_type": "stream",
     "text": [
      "[  1.   4.   9.  16.  25.  36.  49.  64.  81. 100. 121.]\n",
      "[2. 4. 8.]\n"
     ]
    }
   ],
   "source": [
    "print((a + b)**2, 2**(a + b)[:3], sep='\\n') #можно любые арифм операции, слайсы и т.д, также поэлементно!"
   ]
  },
  {
   "cell_type": "markdown",
   "id": "23b7243b",
   "metadata": {},
   "source": [
    "**Есть элементарные ф-ии, применяемые также поэлементно!!!**"
   ]
  },
  {
   "cell_type": "code",
   "execution_count": 35,
   "id": "943affa1",
   "metadata": {
    "scrolled": true
   },
   "outputs": [
    {
     "name": "stdout",
     "output_type": "stream",
     "text": [
      "[-0.9899925   0.96017029 -0.91113026  0.84385396 -0.75968791  0.66031671\n",
      " -0.54772926  0.42417901 -0.29213881  0.15425145 -0.01327675]\n"
     ]
    }
   ],
   "source": [
    "print(np.cos(a))"
   ]
  },
  {
   "cell_type": "markdown",
   "id": "a2293c89",
   "metadata": {},
   "source": [
    "**Если нельзя провести операцию над ячейкой, то не будет краш, запишется nan**"
   ]
  },
  {
   "cell_type": "code",
   "execution_count": 36,
   "id": "03e59365",
   "metadata": {},
   "outputs": [
    {
     "name": "stdout",
     "output_type": "stream",
     "text": [
      "[ -2.  -4.  -6.  -8. -10. -12. -14. -16. -18. -20. -22.] [nan nan nan nan nan nan nan nan nan nan nan]\n"
     ]
    },
    {
     "name": "stderr",
     "output_type": "stream",
     "text": [
      "/tmp/ipykernel_56833/3279071292.py:1: RuntimeWarning: invalid value encountered in log\n",
      "  print(b, np.log(b)) #В массиве в - отрицательные числа, log отриц чисел нет\n"
     ]
    }
   ],
   "source": [
    "print(b, np.log(b)) #В массиве в - отрицательные числа, log отриц чисел нет"
   ]
  },
  {
   "cell_type": "code",
   "execution_count": 37,
   "id": "ac2c74f0",
   "metadata": {},
   "outputs": [
    {
     "name": "stdout",
     "output_type": "stream",
     "text": [
      "[ True  True  True  True  True  True  True  True  True  True  True]\n",
      "[False False False False False False False False False False False]\n",
      "[False False False  True  True  True  True  True  True  True  True]\n"
     ]
    }
   ],
   "source": [
    "print(a>b, a==b, a>=10, sep='\\n') #Сравнение также поэлементно"
   ]
  },
  {
   "cell_type": "markdown",
   "id": "c0b73e5b",
   "metadata": {},
   "source": [
    "**Кванторы существования и всеобщности**"
   ]
  },
  {
   "cell_type": "markdown",
   "id": "67647559",
   "metadata": {},
   "source": [
    "**np.any(Существования)** Существует хотябы один элемент массива, удовлетворяющий условию..."
   ]
  },
  {
   "cell_type": "code",
   "execution_count": 38,
   "id": "1ba3f701",
   "metadata": {},
   "outputs": [],
   "source": [
    "d = np.array([0, 4, 5, 6])"
   ]
  },
  {
   "cell_type": "code",
   "execution_count": 39,
   "id": "e4d39768",
   "metadata": {},
   "outputs": [
    {
     "data": {
      "text/plain": [
       "True"
      ]
     },
     "execution_count": 39,
     "metadata": {},
     "output_type": "execute_result"
    }
   ],
   "source": [
    "np.any(d == 0)"
   ]
  },
  {
   "cell_type": "markdown",
   "id": "854dd20e",
   "metadata": {},
   "source": [
    "**np.all(Всеобщности)** Для всех эл-тов массива верно условие..."
   ]
  },
  {
   "cell_type": "code",
   "execution_count": 40,
   "id": "3b9bc2b4",
   "metadata": {},
   "outputs": [
    {
     "data": {
      "text/plain": [
       "False"
      ]
     },
     "execution_count": 40,
     "metadata": {},
     "output_type": "execute_result"
    }
   ],
   "source": [
    "np.all(d == 0)"
   ]
  },
  {
   "cell_type": "markdown",
   "id": "348368b7",
   "metadata": {},
   "source": [
    "**Деление на ноль даcт nan, если 0/0, или +-inf(бесконечность). Ошибки не бросает!!!**"
   ]
  },
  {
   "cell_type": "code",
   "execution_count": 41,
   "id": "57e96093",
   "metadata": {},
   "outputs": [],
   "source": [
    "f = np.array([3, 2, 1, 9])"
   ]
  },
  {
   "cell_type": "code",
   "execution_count": 42,
   "id": "afab656d",
   "metadata": {},
   "outputs": [
    {
     "name": "stdout",
     "output_type": "stream",
     "text": [
      "[inf 0.5 0.2 1.5]\n"
     ]
    },
    {
     "name": "stderr",
     "output_type": "stream",
     "text": [
      "/tmp/ipykernel_56833/2365881351.py:1: RuntimeWarning: divide by zero encountered in true_divide\n",
      "  print(f / d)\n"
     ]
    }
   ],
   "source": [
    "print(f / d)"
   ]
  },
  {
   "cell_type": "markdown",
   "id": "ce87a35f",
   "metadata": {},
   "source": [
    "**Константы**"
   ]
  },
  {
   "cell_type": "code",
   "execution_count": 43,
   "id": "7783809a",
   "metadata": {},
   "outputs": [
    {
     "name": "stdout",
     "output_type": "stream",
     "text": [
      "2.718281828459045\n",
      "3.141592653589793\n"
     ]
    }
   ],
   "source": [
    "print(np.e, np.pi, sep='\\n')"
   ]
  },
  {
   "cell_type": "markdown",
   "id": "600dc584",
   "metadata": {},
   "source": [
    "**Куммулятивная ф-я. В каждой следующей ячейке сумма предыдущих**"
   ]
  },
  {
   "cell_type": "code",
   "execution_count": 44,
   "id": "ac8bb970",
   "metadata": {},
   "outputs": [
    {
     "data": {
      "text/plain": [
       "array([ -2.,  -4.,  -6.,  -8., -10., -12., -14., -16., -18., -20., -22.])"
      ]
     },
     "execution_count": 44,
     "metadata": {},
     "output_type": "execute_result"
    }
   ],
   "source": [
    "b"
   ]
  },
  {
   "cell_type": "code",
   "execution_count": 45,
   "id": "b99fe86a",
   "metadata": {},
   "outputs": [
    {
     "data": {
      "text/plain": [
       "array([  -2.,   -6.,  -12.,  -20.,  -30.,  -42.,  -56.,  -72.,  -90.,\n",
       "       -110., -132.])"
      ]
     },
     "execution_count": 45,
     "metadata": {},
     "output_type": "execute_result"
    }
   ],
   "source": [
    "b.cumsum()"
   ]
  },
  {
   "cell_type": "markdown",
   "id": "4e50f296",
   "metadata": {},
   "source": [
    "**Сортировка**"
   ]
  },
  {
   "cell_type": "markdown",
   "id": "6f78a097",
   "metadata": {},
   "source": [
    "Как ф-я np.sort(var) - не меняет исходный массив, как метод var.sort() - меняет исходный массив. "
   ]
  },
  {
   "cell_type": "code",
   "execution_count": 46,
   "id": "6d294365",
   "metadata": {},
   "outputs": [],
   "source": [
    "f = np.array([3, 2, 1, 9])"
   ]
  },
  {
   "cell_type": "code",
   "execution_count": 47,
   "id": "d307dfcd",
   "metadata": {},
   "outputs": [
    {
     "name": "stdout",
     "output_type": "stream",
     "text": [
      "[1 2 3 9]\n",
      "[3 2 1 9]\n"
     ]
    }
   ],
   "source": [
    "print(np.sort(f), f, sep='\\n')"
   ]
  },
  {
   "cell_type": "code",
   "execution_count": 48,
   "id": "537306ac",
   "metadata": {},
   "outputs": [
    {
     "name": "stdout",
     "output_type": "stream",
     "text": [
      "[1 2 3 9]\n"
     ]
    }
   ],
   "source": [
    "f.sort()\n",
    "print(f)"
   ]
  },
  {
   "cell_type": "markdown",
   "id": "587102e3",
   "metadata": {},
   "source": [
    "**Массивы можно соединять и расщеплять**"
   ]
  },
  {
   "cell_type": "code",
   "execution_count": 49,
   "id": "16acdd10",
   "metadata": {},
   "outputs": [
    {
     "name": "stdout",
     "output_type": "stream",
     "text": [
      "[ 3.  6.  9. 12. 15. 18. 21. 24. 27. 30. 33.] [ -2.  -4.  -6.  -8. -10. -12. -14. -16. -18. -20. -22.]\n"
     ]
    }
   ],
   "source": [
    "print(a, b)"
   ]
  },
  {
   "cell_type": "code",
   "execution_count": 50,
   "id": "aebe69e1",
   "metadata": {},
   "outputs": [
    {
     "data": {
      "text/plain": [
       "array([  3.,   6.,   9.,  12.,  15.,  18.,  21.,  24.,  27.,  30.,  33.,\n",
       "        -2.,  -4.,  -6.,  -8., -10., -12., -14., -16., -18., -20., -22.,\n",
       "         1.,   2.,   3.,   4.,   5.,   6.,   7.,   8.,   9.,  10.,  11.])"
      ]
     },
     "execution_count": 50,
     "metadata": {},
     "output_type": "execute_result"
    }
   ],
   "source": [
    "#Соединяем\n",
    "np.hstack((a, b, a + b)) #На вход подаем 1 элемент, кортеж из того, что хотим объединить\n",
    "#Будут записаны последовательно, как аргументы метода"
   ]
  },
  {
   "cell_type": "code",
   "execution_count": 51,
   "id": "6f9e9769",
   "metadata": {},
   "outputs": [
    {
     "name": "stdout",
     "output_type": "stream",
     "text": [
      "[ 3.  6.  9. 12. 15. 18. 21. 24. 27. 30. 33.]\n",
      "[3. 6.]\n",
      "[ 9. 12. 15. 18. 21.]\n",
      "[24. 27. 30.]\n",
      "[33.]\n"
     ]
    }
   ],
   "source": [
    "#Разъединяем, массивов будет n + 1 (n- число отсечек, слайсов, от 0 до 1 не вкл, от 1 до 2 не вкл и т.д. )\n",
    "print(a)\n",
    "m1, m2, m3, m4 = np.hsplit(a, [2, 7, 10]) #если указать последний, то будет еще нулевой массив, т.е все равно n + 1\n",
    "print(m1, m2, m3, m4, sep='\\n')"
   ]
  },
  {
   "cell_type": "markdown",
   "id": "8ece8698",
   "metadata": {},
   "source": [
    "**Функции append, delete, insert НЕ ИЗМЕНЯЮТ исходный массив!!!***"
   ]
  },
  {
   "cell_type": "code",
   "execution_count": 52,
   "id": "103af2ea",
   "metadata": {},
   "outputs": [
    {
     "data": {
      "text/plain": [
       "array([ 3.,  6.,  9., 12., 15., 18., 21., 24., 27., 30., 33.])"
      ]
     },
     "execution_count": 52,
     "metadata": {},
     "output_type": "execute_result"
    }
   ],
   "source": [
    "a"
   ]
  },
  {
   "cell_type": "code",
   "execution_count": 53,
   "id": "b3fdef12",
   "metadata": {},
   "outputs": [
    {
     "name": "stdout",
     "output_type": "stream",
     "text": [
      "[ 3.  9. 15. 18. 21. 30. 33.]\n",
      "[ 3.  6.  9. 12. 15. 18. 21. 24. 27. 30. 33.]\n",
      "[ 3.  6.  9. 12. 15. 18. 21. 24. 27. 30. 33. 36. 39. 42. 45.]\n",
      "[ 3.  6.  9. 12. 15. 18. 21. 24. 27. 30. 33.]\n"
     ]
    }
   ],
   "source": [
    "print(np.delete(a, [1, 3, 7, 8]))\n",
    "print(a)\n",
    "print(np.append(a, [36, 39,42,45]))\n",
    "print(a)"
   ]
  },
  {
   "cell_type": "code",
   "execution_count": 54,
   "id": "cd6f572e",
   "metadata": {},
   "outputs": [
    {
     "name": "stdout",
     "output_type": "stream",
     "text": [
      "[ 3.  6.  7.  8.  9. 12. 15. 18. 21. 24. 27. 30. 33.]\n"
     ]
    }
   ],
   "source": [
    "#insert похож на append, только 3 аргумента, второй аргумент - индекс массива до которого вставим что хотим\n",
    "print(np.insert(a, 2, [7, 8]))"
   ]
  },
  {
   "cell_type": "markdown",
   "id": "e4104278",
   "metadata": {},
   "source": [
    "## Индексирование"
   ]
  },
  {
   "cell_type": "markdown",
   "id": "c67a60a0",
   "metadata": {},
   "source": [
    "**Не забыть, что если назвать слайс другой переменной, то она ссылается на ту же область памяти, что и основной массив! Т.е. при изменениях будем видеть их во всех переменных.**"
   ]
  },
  {
   "cell_type": "code",
   "execution_count": 55,
   "id": "868e7f3c",
   "metadata": {},
   "outputs": [
    {
     "ename": "SyntaxError",
     "evalue": "invalid syntax (948568665.py, line 1)",
     "output_type": "error",
     "traceback": [
      "\u001b[0;36m  Input \u001b[0;32mIn [55]\u001b[0;36m\u001b[0m\n\u001b[0;31m    b =\u001b[0m\n\u001b[0m        ^\u001b[0m\n\u001b[0;31mSyntaxError\u001b[0m\u001b[0;31m:\u001b[0m invalid syntax\n"
     ]
    }
   ],
   "source": [
    "b = "
   ]
  },
  {
   "cell_type": "code",
   "execution_count": null,
   "id": "86907768",
   "metadata": {},
   "outputs": [],
   "source": [
    "b[::-1] #Стандартно - обратный порядок"
   ]
  },
  {
   "cell_type": "markdown",
   "id": "c0e06ff2",
   "metadata": {},
   "source": [
    "**copy Чтобы избежать изменений в исходном массиве**"
   ]
  },
  {
   "cell_type": "code",
   "execution_count": null,
   "id": "392e47a9",
   "metadata": {},
   "outputs": [],
   "source": [
    "a"
   ]
  },
  {
   "cell_type": "code",
   "execution_count": null,
   "id": "7e06a100",
   "metadata": {},
   "outputs": [],
   "source": [
    "b"
   ]
  },
  {
   "cell_type": "code",
   "execution_count": null,
   "id": "1445a2c6",
   "metadata": {},
   "outputs": [],
   "source": [
    "b = a.copy() #Теперь ссылаются на разные области, можно менять как хотим"
   ]
  },
  {
   "cell_type": "code",
   "execution_count": null,
   "id": "17c96eeb",
   "metadata": {},
   "outputs": [],
   "source": [
    "b"
   ]
  },
  {
   "cell_type": "code",
   "execution_count": null,
   "id": "c0ce95d0",
   "metadata": {},
   "outputs": [],
   "source": [
    "mass = np.linspace(-4*np.pi, 4*np.pi, 100)"
   ]
  },
  {
   "cell_type": "code",
   "execution_count": null,
   "id": "f4cf5afe",
   "metadata": {},
   "outputs": [],
   "source": [
    "mass1 = (np.cos(mass) ** 2 + np.sin(mass) ** 2).round() #Обязательно!!!!!!!!!! Это не круглые единицы!!!"
   ]
  },
  {
   "cell_type": "code",
   "execution_count": null,
   "id": "2741ce18",
   "metadata": {},
   "outputs": [],
   "source": [
    "mass1"
   ]
  },
  {
   "cell_type": "code",
   "execution_count": null,
   "id": "b5f7dbe5",
   "metadata": {},
   "outputs": [],
   "source": [
    "np.all(mass1 == 1) #Без роунда (округления) получим False!!!"
   ]
  },
  {
   "cell_type": "markdown",
   "id": "3d600c92",
   "metadata": {},
   "source": [
    "## Двумерные массивы"
   ]
  },
  {
   "cell_type": "code",
   "execution_count": 60,
   "id": "d16ed13c",
   "metadata": {},
   "outputs": [],
   "source": [
    "a = np.array([[1, 2], [3, 4]]) #На вход список списков"
   ]
  },
  {
   "cell_type": "code",
   "execution_count": 61,
   "id": "ab8f4740",
   "metadata": {},
   "outputs": [
    {
     "data": {
      "text/plain": [
       "array([[1, 2],\n",
       "       [3, 4]])"
      ]
     },
     "execution_count": 61,
     "metadata": {},
     "output_type": "execute_result"
    }
   ],
   "source": [
    "a #Выводится всегда красиво в виде матрицы"
   ]
  },
  {
   "cell_type": "code",
   "execution_count": 62,
   "id": "087a0314",
   "metadata": {},
   "outputs": [
    {
     "data": {
      "text/plain": [
       "(2, 4, (2, 2), 2)"
      ]
     },
     "execution_count": 62,
     "metadata": {},
     "output_type": "execute_result"
    }
   ],
   "source": [
    "a.ndim, a.size, a.shape, len(a)"
   ]
  },
  {
   "cell_type": "code",
   "execution_count": 63,
   "id": "0305bb0b",
   "metadata": {},
   "outputs": [
    {
     "name": "stdout",
     "output_type": "stream",
     "text": [
      "[3 4]\n",
      "3\n",
      "4\n",
      "2\n",
      "1\n"
     ]
    }
   ],
   "source": [
    "print(a[1], a[1][0], a[1, 1], a[0][1], a[0, 0], sep='\\n') #Слайсы без проблем, можно с запятой"
   ]
  },
  {
   "cell_type": "code",
   "execution_count": 64,
   "id": "d1842851",
   "metadata": {},
   "outputs": [
    {
     "name": "stdout",
     "output_type": "stream",
     "text": [
      "[list([5, 6]) list([7])]\n"
     ]
    },
    {
     "name": "stderr",
     "output_type": "stream",
     "text": [
      "/tmp/ipykernel_56833/2404157978.py:1: VisibleDeprecationWarning: Creating an ndarray from ragged nested sequences (which is a list-or-tuple of lists-or-tuples-or ndarrays with different lengths or shapes) is deprecated. If you meant to do this, you must specify 'dtype=object' when creating the ndarray.\n",
      "  w = np.array([[5, 6], [7]]) #Запишет массив из двух списков!!!\n"
     ]
    }
   ],
   "source": [
    "w = np.array([[5, 6], [7]]) #Запишет массив из двух списков!!!\n",
    "print(w)"
   ]
  },
  {
   "cell_type": "markdown",
   "id": "7d3990a2",
   "metadata": {},
   "source": [
    "**Можно быстро разбить массив на несколько массивов без изменения данных**"
   ]
  },
  {
   "cell_type": "code",
   "execution_count": 56,
   "id": "c2b5a699",
   "metadata": {},
   "outputs": [
    {
     "data": {
      "text/plain": [
       "array([ 0,  1,  2,  3,  4,  5,  6,  7,  8,  9, 10, 11, 12, 13, 14, 15, 16,\n",
       "       17, 18, 19])"
      ]
     },
     "execution_count": 56,
     "metadata": {},
     "output_type": "execute_result"
    }
   ],
   "source": [
    "b = np.arange(0, 20)\n",
    "b"
   ]
  },
  {
   "cell_type": "code",
   "execution_count": 57,
   "id": "49a8da14",
   "metadata": {},
   "outputs": [
    {
     "data": {
      "text/plain": [
       "array([[ 0,  1,  2,  3,  4,  5,  6,  7,  8,  9],\n",
       "       [10, 11, 12, 13, 14, 15, 16, 17, 18, 19]])"
      ]
     },
     "execution_count": 57,
     "metadata": {},
     "output_type": "execute_result"
    }
   ],
   "source": [
    "b.shape = (2, 10) #Всегда size должен быть одинаковый!!! Здесь - 20\n",
    "b"
   ]
  },
  {
   "cell_type": "code",
   "execution_count": 58,
   "id": "fe2294d2",
   "metadata": {},
   "outputs": [
    {
     "data": {
      "text/plain": [
       "array([[ 0,  1,  2,  3,  4],\n",
       "       [ 5,  6,  7,  8,  9],\n",
       "       [10, 11, 12, 13, 14],\n",
       "       [15, 16, 17, 18, 19]])"
      ]
     },
     "execution_count": 58,
     "metadata": {},
     "output_type": "execute_result"
    }
   ],
   "source": [
    "b.shape = (4, 5) #И здесь 20\n",
    "b"
   ]
  },
  {
   "cell_type": "code",
   "execution_count": 59,
   "id": "7417e3ed",
   "metadata": {},
   "outputs": [
    {
     "data": {
      "text/plain": [
       "array([ 0,  1,  2,  3,  4,  5,  6,  7,  8,  9, 10, 11, 12, 13, 14, 15, 16,\n",
       "       17, 18, 19])"
      ]
     },
     "execution_count": 59,
     "metadata": {},
     "output_type": "execute_result"
    }
   ],
   "source": [
    "b.shape = (20) #Одинаково с (1, 20)\n",
    "b"
   ]
  },
  {
   "cell_type": "markdown",
   "id": "0a952b9c",
   "metadata": {},
   "source": [
    "Быстро растянуть можно и так:"
   ]
  },
  {
   "cell_type": "code",
   "execution_count": 65,
   "id": "da21f09a",
   "metadata": {},
   "outputs": [
    {
     "data": {
      "text/plain": [
       "array([[ 0,  1,  2,  3,  4],\n",
       "       [ 5,  6,  7,  8,  9],\n",
       "       [10, 11, 12, 13, 14],\n",
       "       [15, 16, 17, 18, 19]])"
      ]
     },
     "execution_count": 65,
     "metadata": {},
     "output_type": "execute_result"
    }
   ],
   "source": [
    "b.shape = (4, 5)\n",
    "b"
   ]
  },
  {
   "cell_type": "code",
   "execution_count": 66,
   "id": "f5931c6d",
   "metadata": {},
   "outputs": [
    {
     "data": {
      "text/plain": [
       "array([ 0,  1,  2,  3,  4,  5,  6,  7,  8,  9, 10, 11, 12, 13, 14, 15, 16,\n",
       "       17, 18, 19])"
      ]
     },
     "execution_count": 66,
     "metadata": {},
     "output_type": "execute_result"
    }
   ],
   "source": [
    "b.ravel() #Но сам массив не изменится!!!"
   ]
  },
  {
   "cell_type": "markdown",
   "id": "0610cf9b",
   "metadata": {},
   "source": [
    "**Любые массивы нулей и единиц, если указываем кортеж, который фактически shape**"
   ]
  },
  {
   "cell_type": "code",
   "execution_count": 67,
   "id": "e5a5202f",
   "metadata": {},
   "outputs": [
    {
     "data": {
      "text/plain": [
       "array([[1., 1., 1., 1., 1., 1.],\n",
       "       [1., 1., 1., 1., 1., 1.],\n",
       "       [1., 1., 1., 1., 1., 1.]])"
      ]
     },
     "execution_count": 67,
     "metadata": {},
     "output_type": "execute_result"
    }
   ],
   "source": [
    "s = np.ones((3, 6))\n",
    "s"
   ]
  },
  {
   "cell_type": "code",
   "execution_count": 98,
   "id": "9f751de5",
   "metadata": {},
   "outputs": [
    {
     "data": {
      "text/plain": [
       "array([[0, 0, 0],\n",
       "       [0, 0, 0],\n",
       "       [0, 0, 0]])"
      ]
     },
     "execution_count": 98,
     "metadata": {},
     "output_type": "execute_result"
    }
   ],
   "source": [
    "n = np.zeros((3, 3), dtype='int64')\n",
    "n"
   ]
  },
  {
   "cell_type": "code",
   "execution_count": 69,
   "id": "b75e4ee9",
   "metadata": {},
   "outputs": [],
   "source": [
    "g = np.zeros((2, 3, 8))"
   ]
  },
  {
   "cell_type": "code",
   "execution_count": 70,
   "id": "a67432a3",
   "metadata": {},
   "outputs": [
    {
     "data": {
      "text/plain": [
       "array([[[0., 0., 0., 0., 0., 0., 0., 0.],\n",
       "        [0., 0., 0., 0., 0., 0., 0., 0.],\n",
       "        [0., 0., 0., 0., 0., 0., 0., 0.]],\n",
       "\n",
       "       [[0., 0., 0., 0., 0., 0., 0., 0.],\n",
       "        [0., 0., 0., 0., 0., 0., 0., 0.],\n",
       "        [0., 0., 0., 0., 0., 0., 0., 0.]]])"
      ]
     },
     "execution_count": 70,
     "metadata": {},
     "output_type": "execute_result"
    }
   ],
   "source": [
    "g"
   ]
  },
  {
   "cell_type": "markdown",
   "id": "00a8692a",
   "metadata": {},
   "source": [
    "**А вот и единичная матрица!**"
   ]
  },
  {
   "cell_type": "code",
   "execution_count": 71,
   "id": "cab9402a",
   "metadata": {},
   "outputs": [
    {
     "data": {
      "text/plain": [
       "array([[1., 0., 0., 0., 0.],\n",
       "       [0., 1., 0., 0., 0.],\n",
       "       [0., 0., 1., 0., 0.],\n",
       "       [0., 0., 0., 1., 0.],\n",
       "       [0., 0., 0., 0., 1.]])"
      ]
     },
     "execution_count": 71,
     "metadata": {},
     "output_type": "execute_result"
    }
   ],
   "source": [
    "np.eye(5)"
   ]
  },
  {
   "cell_type": "markdown",
   "id": "ef0c6508",
   "metadata": {},
   "source": [
    "Также можно построить матрицу со значениями по диагонали, остальные нули"
   ]
  },
  {
   "cell_type": "code",
   "execution_count": 72,
   "id": "90b8e8b6",
   "metadata": {},
   "outputs": [
    {
     "data": {
      "text/plain": [
       "array([[1, 0, 0, 0],\n",
       "       [0, 2, 0, 0],\n",
       "       [0, 0, 5, 0],\n",
       "       [0, 0, 0, 7]])"
      ]
     },
     "execution_count": 72,
     "metadata": {},
     "output_type": "execute_result"
    }
   ],
   "source": [
    "np.diag(np.array([1, 2, 5, 7]))"
   ]
  },
  {
   "cell_type": "markdown",
   "id": "42d307d7",
   "metadata": {},
   "source": [
    "**Мое решение задачки**"
   ]
  },
  {
   "cell_type": "code",
   "execution_count": 89,
   "id": "c0831329",
   "metadata": {},
   "outputs": [
    {
     "name": "stdout",
     "output_type": "stream",
     "text": [
      "[0 0 0 0 0 0 0 0]\n",
      "[3 3 3 3 3 3 3 3]\n"
     ]
    },
    {
     "data": {
      "text/plain": [
       "array([[ 3,  0,  0,  0,  0,  0,  0,  0],\n",
       "       [ 0,  6,  0,  0,  0,  0,  0,  0],\n",
       "       [ 0,  0,  9,  0,  0,  0,  0,  0],\n",
       "       [ 0,  0,  0, 12,  0,  0,  0,  0],\n",
       "       [ 0,  0,  0,  0, 15,  0,  0,  0],\n",
       "       [ 0,  0,  0,  0,  0, 18,  0,  0],\n",
       "       [ 0,  0,  0,  0,  0,  0, 21,  0],\n",
       "       [ 0,  0,  0,  0,  0,  0,  0, 24]])"
      ]
     },
     "execution_count": 89,
     "metadata": {},
     "output_type": "execute_result"
    }
   ],
   "source": [
    "x = np.zeros(8, dtype='int64')\n",
    "print(x)\n",
    "x[:] = 3\n",
    "print(x)\n",
    "np.diag(x.cumsum())"
   ]
  },
  {
   "cell_type": "code",
   "execution_count": 74,
   "id": "b878a451",
   "metadata": {},
   "outputs": [
    {
     "data": {
      "text/plain": [
       "array([[-1,  0,  0,  0,  0,  0,  0,  0],\n",
       "       [ 0, -1,  0,  0,  0,  0,  0,  0],\n",
       "       [ 0,  0, -1,  0,  0,  0,  0,  0],\n",
       "       [ 0,  0,  0, -1,  0,  0,  0,  0],\n",
       "       [ 0,  0,  0,  0, -1,  0,  0,  0],\n",
       "       [ 0,  0,  0,  0,  0, -1,  0,  0],\n",
       "       [ 0,  0,  0,  0,  0,  0, -1,  0],\n",
       "       [ 0,  0,  0,  0,  0,  0,  0, -1]])"
      ]
     },
     "execution_count": 74,
     "metadata": {},
     "output_type": "execute_result"
    }
   ],
   "source": [
    "y = np.zeros(8, dtype='int64')\n",
    "y[:] = -1\n",
    "z = np.diag(y)\n",
    "z"
   ]
  },
  {
   "cell_type": "code",
   "execution_count": 75,
   "id": "983f7edd",
   "metadata": {},
   "outputs": [
    {
     "data": {
      "text/plain": [
       "array([[ 3,  0,  0,  0,  0,  0,  0, -1],\n",
       "       [ 0,  6,  0,  0,  0,  0, -1,  0],\n",
       "       [ 0,  0,  9,  0,  0, -1,  0,  0],\n",
       "       [ 0,  0,  0, 12, -1,  0,  0,  0],\n",
       "       [ 0,  0,  0, -1, 15,  0,  0,  0],\n",
       "       [ 0,  0, -1,  0,  0, 18,  0,  0],\n",
       "       [ 0, -1,  0,  0,  0,  0, 21,  0],\n",
       "       [-1,  0,  0,  0,  0,  0,  0, 24]])"
      ]
     },
     "execution_count": 75,
     "metadata": {},
     "output_type": "execute_result"
    }
   ],
   "source": [
    "rez_m = z[::-1] + np.diag(x.cumsum())\n",
    "rez_m"
   ]
  },
  {
   "cell_type": "code",
   "execution_count": 76,
   "id": "6f2c6a27",
   "metadata": {},
   "outputs": [
    {
     "data": {
      "text/plain": [
       "array([[ 3.,  0.,  0.,  0.,  0.,  0.,  0., -1.],\n",
       "       [ 0.,  6.,  0.,  0.,  0.,  0., -1.,  0.],\n",
       "       [ 0.,  0.,  9.,  0.,  0., -1.,  0.,  0.],\n",
       "       [ 0.,  0.,  0., 12., -1.,  0.,  0.,  0.],\n",
       "       [ 0.,  0.,  0., -1., 15.,  0.,  0.,  0.],\n",
       "       [ 0.,  0., -1.,  0.,  0., 18.,  0.,  0.],\n",
       "       [ 0., -1.,  0.,  0.,  0.,  0., 21.,  0.],\n",
       "       [-1.,  0.,  0.,  0.,  0.,  0.,  0., 24.]])"
      ]
     },
     "execution_count": 76,
     "metadata": {},
     "output_type": "execute_result"
    }
   ],
   "source": [
    "#Решение в одну строку!!!!!!!!!!!!!!!!!!!!!!!!!!!!!!!!!!!!!!\n",
    "rez_m2 = -1*np.eye(8)[::-1] + np.diag(np.arange(3, 27, 3))\n",
    "rez_m2"
   ]
  },
  {
   "cell_type": "markdown",
   "id": "86a78e1f",
   "metadata": {},
   "source": [
    "**Умножение матриц**"
   ]
  },
  {
   "cell_type": "code",
   "execution_count": 77,
   "id": "2594a28b",
   "metadata": {},
   "outputs": [
    {
     "name": "stdout",
     "output_type": "stream",
     "text": [
      "[[5. 5. 5. 5. 5.]\n",
      " [5. 5. 5. 5. 5.]\n",
      " [5. 5. 5. 5. 5.]\n",
      " [5. 5. 5. 5. 5.]\n",
      " [5. 5. 5. 5. 5.]] \n",
      "\n",
      " [[2. 1. 1. 1. 1.]\n",
      " [1. 2. 1. 1. 1.]\n",
      " [1. 1. 2. 1. 1.]\n",
      " [1. 1. 1. 2. 1.]\n",
      " [1. 1. 1. 1. 2.]]\n"
     ]
    }
   ],
   "source": [
    "a = 5 * np.ones((5, 5))\n",
    "b = 1 + np.eye(5)\n",
    "print(a, '\\n\\n', b)"
   ]
  },
  {
   "cell_type": "code",
   "execution_count": 78,
   "id": "f8473e88",
   "metadata": {},
   "outputs": [
    {
     "name": "stdout",
     "output_type": "stream",
     "text": [
      "[[10.  5.  5.  5.  5.]\n",
      " [ 5. 10.  5.  5.  5.]\n",
      " [ 5.  5. 10.  5.  5.]\n",
      " [ 5.  5.  5. 10.  5.]\n",
      " [ 5.  5.  5.  5. 10.]]\n"
     ]
    }
   ],
   "source": [
    "print(a * b) #Умножение поэлементное"
   ]
  },
  {
   "cell_type": "code",
   "execution_count": 79,
   "id": "246d687e",
   "metadata": {},
   "outputs": [
    {
     "name": "stdout",
     "output_type": "stream",
     "text": [
      "[[30. 30. 30. 30. 30.]\n",
      " [30. 30. 30. 30. 30.]\n",
      " [30. 30. 30. 30. 30.]\n",
      " [30. 30. 30. 30. 30.]\n",
      " [30. 30. 30. 30. 30.]]\n"
     ]
    }
   ],
   "source": [
    "print(a @ b) #Матричное умножение. НЕСИММЕТРИЧНО и т.д.!!!"
   ]
  },
  {
   "cell_type": "code",
   "execution_count": 80,
   "id": "1af85058",
   "metadata": {},
   "outputs": [
    {
     "name": "stdout",
     "output_type": "stream",
     "text": [
      "[[30. 30. 30. 30. 30.]\n",
      " [30. 30. 30. 30. 30.]\n",
      " [30. 30. 30. 30. 30.]\n",
      " [30. 30. 30. 30. 30.]\n",
      " [30. 30. 30. 30. 30.]]\n"
     ]
    }
   ],
   "source": [
    "print(a.dot(b)) #Матричное умножение! (==a@b)"
   ]
  },
  {
   "cell_type": "markdown",
   "id": "3f795050",
   "metadata": {},
   "source": [
    "Непонятная фигня с мешгрид"
   ]
  },
  {
   "cell_type": "code",
   "execution_count": null,
   "id": "4cf44692",
   "metadata": {},
   "outputs": [],
   "source": [
    "u = np.linspace(1, 2, 2)\n",
    "v = np.linspace(4, 8, 3)\n",
    "print(u, v, sep='\\n')"
   ]
  },
  {
   "cell_type": "code",
   "execution_count": null,
   "id": "872779b0",
   "metadata": {},
   "outputs": [],
   "source": [
    "np.meshgrid(u, v)"
   ]
  },
  {
   "cell_type": "markdown",
   "id": "c0e10334",
   "metadata": {},
   "source": [
    "## Тензоры (многомерные массивы)"
   ]
  },
  {
   "cell_type": "code",
   "execution_count": 82,
   "id": "a85111d4",
   "metadata": {},
   "outputs": [
    {
     "data": {
      "text/plain": [
       "array([[[ 0,  1,  2,  3],\n",
       "        [ 4,  5,  6,  7]],\n",
       "\n",
       "       [[ 8,  9, 10, 11],\n",
       "        [12, 13, 14, 15]],\n",
       "\n",
       "       [[16, 17, 18, 19],\n",
       "        [20, 21, 22, 23]],\n",
       "\n",
       "       [[24, 25, 26, 27],\n",
       "        [28, 29, 30, 31]],\n",
       "\n",
       "       [[32, 33, 34, 35],\n",
       "        [36, 37, 38, 39]],\n",
       "\n",
       "       [[40, 41, 42, 43],\n",
       "        [44, 45, 46, 47]],\n",
       "\n",
       "       [[48, 49, 50, 51],\n",
       "        [52, 53, 54, 55]],\n",
       "\n",
       "       [[56, 57, 58, 59],\n",
       "        [60, 61, 62, 63]]])"
      ]
     },
     "execution_count": 82,
     "metadata": {},
     "output_type": "execute_result"
    }
   ],
   "source": [
    "X = np.arange(64).reshape(8, 2, 4) #Вроде shape тоже самое, но не работает???\n",
    "X"
   ]
  },
  {
   "cell_type": "code",
   "execution_count": 83,
   "id": "225a7ea4",
   "metadata": {},
   "outputs": [
    {
     "name": "stdout",
     "output_type": "stream",
     "text": [
      "shape = (8, 2, 4), ndim = 3, len = 8, size = 64\n"
     ]
    }
   ],
   "source": [
    "print(f'shape = {X.shape}, ndim = {X.ndim}, len = {len(X)}, size = {X.size}')"
   ]
  },
  {
   "cell_type": "markdown",
   "id": "de56c26b",
   "metadata": {},
   "source": [
    "**Суммы**"
   ]
  },
  {
   "cell_type": "code",
   "execution_count": 84,
   "id": "06bae3cf",
   "metadata": {},
   "outputs": [
    {
     "data": {
      "text/plain": [
       "2016"
      ]
     },
     "execution_count": 84,
     "metadata": {},
     "output_type": "execute_result"
    }
   ],
   "source": [
    "np.sum(X) #Это просто сумма всех элементов матрицы"
   ]
  },
  {
   "cell_type": "code",
   "execution_count": 85,
   "id": "835cce98",
   "metadata": {
    "scrolled": true
   },
   "outputs": [
    {
     "data": {
      "text/plain": [
       "2016.0"
      ]
     },
     "execution_count": 85,
     "metadata": {},
     "output_type": "execute_result"
    }
   ],
   "source": [
    "(63 * 64)/2 #Проверка предыдущей суммы по известной формуле. Это просто сумма всех элементов матрицы"
   ]
  },
  {
   "cell_type": "markdown",
   "id": "5efcd4f0",
   "metadata": {},
   "source": [
    "**По осям**"
   ]
  },
  {
   "cell_type": "code",
   "execution_count": 86,
   "id": "0b63ead4",
   "metadata": {},
   "outputs": [
    {
     "data": {
      "text/plain": [
       "array([[224, 232, 240, 248],\n",
       "       [256, 264, 272, 280]])"
      ]
     },
     "execution_count": 86,
     "metadata": {},
     "output_type": "execute_result"
    }
   ],
   "source": [
    "np.sum(X, axis=0) #Просто поэлементное сложение матриц"
   ]
  },
  {
   "cell_type": "code",
   "execution_count": 87,
   "id": "f8865c02",
   "metadata": {
    "scrolled": true
   },
   "outputs": [
    {
     "data": {
      "text/plain": [
       "array([[  4,   6,   8,  10],\n",
       "       [ 20,  22,  24,  26],\n",
       "       [ 36,  38,  40,  42],\n",
       "       [ 52,  54,  56,  58],\n",
       "       [ 68,  70,  72,  74],\n",
       "       [ 84,  86,  88,  90],\n",
       "       [100, 102, 104, 106],\n",
       "       [116, 118, 120, 122]])"
      ]
     },
     "execution_count": 87,
     "metadata": {},
     "output_type": "execute_result"
    }
   ],
   "source": [
    "np.sum(X, axis=1) #Все суммы полей в 1-й матрице, потом во второй, потом в третей..."
   ]
  },
  {
   "cell_type": "code",
   "execution_count": 88,
   "id": "fc487842",
   "metadata": {},
   "outputs": [
    {
     "data": {
      "text/plain": [
       "array([[  6,  22],\n",
       "       [ 38,  54],\n",
       "       [ 70,  86],\n",
       "       [102, 118],\n",
       "       [134, 150],\n",
       "       [166, 182],\n",
       "       [198, 214],\n",
       "       [230, 246]])"
      ]
     },
     "execution_count": 88,
     "metadata": {},
     "output_type": "execute_result"
    }
   ],
   "source": [
    "np.sum(X, axis=2) #Суммы строк в 1-й матрице, потом во второй, потом в третей..."
   ]
  },
  {
   "cell_type": "code",
   "execution_count": null,
   "id": "ffe51501",
   "metadata": {},
   "outputs": [],
   "source": [
    "np.sum(X, axis=(1, 2)) #Сначала axis=1, потом к ней уже axis=2 (сумма строк)"
   ]
  },
  {
   "cell_type": "markdown",
   "id": "c266ec50",
   "metadata": {},
   "source": [
    "## ЛинАл"
   ]
  },
  {
   "cell_type": "code",
   "execution_count": null,
   "id": "179453af",
   "metadata": {},
   "outputs": [],
   "source": [
    "a = np.array([[2, 1], [2, 3]])\n",
    "a"
   ]
  },
  {
   "cell_type": "markdown",
   "id": "00d2341b",
   "metadata": {},
   "source": [
    "Определитель"
   ]
  },
  {
   "cell_type": "code",
   "execution_count": null,
   "id": "14e7b860",
   "metadata": {},
   "outputs": [],
   "source": [
    "np.linalg.det(a)"
   ]
  },
  {
   "cell_type": "markdown",
   "id": "41f59ce9",
   "metadata": {},
   "source": [
    "Нахождение обратной"
   ]
  },
  {
   "cell_type": "code",
   "execution_count": null,
   "id": "b4290a1b",
   "metadata": {},
   "outputs": [],
   "source": [
    "b = np.linalg.inv(a)\n",
    "b"
   ]
  },
  {
   "cell_type": "code",
   "execution_count": null,
   "id": "e012e87c",
   "metadata": {
    "scrolled": true
   },
   "outputs": [],
   "source": [
    "#Проверим\n",
    "print(a @ b)\n",
    "print(b.dot(a))"
   ]
  },
  {
   "cell_type": "code",
   "execution_count": null,
   "id": "31ddc3f0",
   "metadata": {},
   "outputs": [],
   "source": [
    "c = np.array([[2, 1], [6, 3]])"
   ]
  },
  {
   "cell_type": "code",
   "execution_count": null,
   "id": "607f43ed",
   "metadata": {},
   "outputs": [],
   "source": [
    "np.linalg.det(c) #В этом питоне все нормально, это ____ матрица!!!"
   ]
  },
  {
   "cell_type": "code",
   "execution_count": null,
   "id": "b1416a50",
   "metadata": {},
   "outputs": [],
   "source": [
    "np.linalg.inv(c) #Как следствие - обратной матрицы не существует!"
   ]
  },
  {
   "cell_type": "markdown",
   "id": "7f65c53c",
   "metadata": {},
   "source": [
    "Решение Неоднородных Линейных Уравнений  \n",
    "**Здесь запутка какая-то, результат не получился**"
   ]
  },
  {
   "cell_type": "code",
   "execution_count": null,
   "id": "9bb0101e",
   "metadata": {},
   "outputs": [],
   "source": [
    "v = np.array([5, -10])\n",
    "v"
   ]
  },
  {
   "cell_type": "code",
   "execution_count": null,
   "id": "5a82f5cf",
   "metadata": {},
   "outputs": [],
   "source": [
    "c = np.linalg.solve(a, v)"
   ]
  },
  {
   "cell_type": "code",
   "execution_count": null,
   "id": "a8c252ec",
   "metadata": {},
   "outputs": [],
   "source": [
    "b"
   ]
  },
  {
   "cell_type": "code",
   "execution_count": null,
   "id": "23afe84e",
   "metadata": {},
   "outputs": [],
   "source": [
    "b.dot(a)"
   ]
  },
  {
   "cell_type": "code",
   "execution_count": null,
   "id": "dbe5543f",
   "metadata": {},
   "outputs": [],
   "source": [
    "a"
   ]
  },
  {
   "cell_type": "code",
   "execution_count": null,
   "id": "d16036b4",
   "metadata": {},
   "outputs": [],
   "source": [
    "b"
   ]
  },
  {
   "cell_type": "code",
   "execution_count": null,
   "id": "73114d80",
   "metadata": {},
   "outputs": [],
   "source": [
    "a @ b"
   ]
  },
  {
   "cell_type": "code",
   "execution_count": null,
   "id": "477e72d3",
   "metadata": {},
   "outputs": [],
   "source": [
    "b @ "
   ]
  },
  {
   "cell_type": "markdown",
   "id": "73742445",
   "metadata": {},
   "source": [
    "Собственный вектор"
   ]
  },
  {
   "cell_type": "code",
   "execution_count": null,
   "id": "d8fcb6a3",
   "metadata": {},
   "outputs": [],
   "source": [
    "a"
   ]
  },
  {
   "cell_type": "code",
   "execution_count": null,
   "id": "bfd6fc26",
   "metadata": {},
   "outputs": [],
   "source": [
    "l, u = np.linalg.eig(a) #Первый аргумент - собственный числа, вторым - собственные вектора\n",
    "print(l, '\\n', u)"
   ]
  },
  {
   "cell_type": "code",
   "execution_count": null,
   "id": "cb65369a",
   "metadata": {},
   "outputs": [],
   "source": [
    "l_T, u_T = np.linalg.eig(a.T) #Собств числа у транспонированной матрицы теже, а ветора несколько отличаются\n",
    "print(l_T, '\\n', u_T)"
   ]
  },
  {
   "cell_type": "markdown",
   "id": "3f486216",
   "metadata": {},
   "source": [
    "## Производительность"
   ]
  },
  {
   "cell_type": "code",
   "execution_count": null,
   "id": "597ae492",
   "metadata": {},
   "outputs": [],
   "source": [
    "%%time\n",
    "\n",
    "summ_arr = np.sum(np.arange(10**7))\n",
    "print(summ_arr)"
   ]
  },
  {
   "cell_type": "code",
   "execution_count": null,
   "id": "6f57400b",
   "metadata": {},
   "outputs": [],
   "source": [
    "%%time\n",
    "\n",
    "arr = 5 * np.arange(10**7)"
   ]
  },
  {
   "cell_type": "code",
   "execution_count": null,
   "id": "22a5ed9a",
   "metadata": {},
   "outputs": [],
   "source": []
  },
  {
   "cell_type": "code",
   "execution_count": 91,
   "id": "8cdf6238",
   "metadata": {},
   "outputs": [],
   "source": [
    "import numpy as np\n",
    "import random\n",
    "import scipy.stats as sps"
   ]
  },
  {
   "cell_type": "code",
   "execution_count": null,
   "id": "fcbb8037",
   "metadata": {},
   "outputs": [],
   "source": []
  }
 ],
 "metadata": {
  "kernelspec": {
   "display_name": "Python 3 (ipykernel)",
   "language": "python",
   "name": "python3"
  },
  "language_info": {
   "codemirror_mode": {
    "name": "ipython",
    "version": 3
   },
   "file_extension": ".py",
   "mimetype": "text/x-python",
   "name": "python",
   "nbconvert_exporter": "python",
   "pygments_lexer": "ipython3",
   "version": "3.9.15"
  }
 },
 "nbformat": 4,
 "nbformat_minor": 5
}
