{
 "cells": [
  {
   "cell_type": "code",
   "execution_count": 1,
   "id": "04babf27",
   "metadata": {},
   "outputs": [],
   "source": [
    "import requests"
   ]
  },
  {
   "cell_type": "code",
   "execution_count": 2,
   "id": "6d0748d2",
   "metadata": {},
   "outputs": [],
   "source": [
    "z = requests.get(\"https://docs.python.org/3/\")"
   ]
  },
  {
   "cell_type": "code",
   "execution_count": 3,
   "id": "1bc9ce76",
   "metadata": {},
   "outputs": [
    {
     "data": {
      "text/plain": [
       "<Response [200]>"
      ]
     },
     "execution_count": 3,
     "metadata": {},
     "output_type": "execute_result"
    }
   ],
   "source": [
    "z   "
   ]
  },
  {
   "cell_type": "code",
   "execution_count": 4,
   "id": "efe69347",
   "metadata": {},
   "outputs": [
    {
     "name": "stdout",
     "output_type": "stream",
     "text": [
      "<Response [200]>\n",
      "200\n",
      "text/html\n"
     ]
    }
   ],
   "source": [
    "print(z)                         # Response - класс с описанием ответа сервера\n",
    "print(z.status_code)             # Статус код 200 - все в порядке (404 - bad gataway...)\n",
    "print(z.headers['Content-Type']) # Запрос по словарю headers"
   ]
  },
  {
   "cell_type": "code",
   "execution_count": 5,
   "id": "ecfd0f02",
   "metadata": {},
   "outputs": [
    {
     "data": {
      "text/plain": [
       "{'Connection': 'keep-alive', 'Content-Length': '3119', 'server': 'nginx', 'content-type': 'text/html', 'last-modified': 'Mon, 21 Nov 2022 08:07:09 GMT', 'etag': '\"637b31ad-36fd\"', 'x-clacks-overhead': 'GNU Terry Pratchett', 'strict-transport-security': 'max-age=315360000; includeSubDomains; preload', 'Content-Encoding': 'gzip', 'Via': '1.1 varnish, 1.1 varnish', 'Accept-Ranges': 'bytes', 'Date': 'Tue, 22 Nov 2022 06:47:18 GMT', 'Age': '81600', 'X-Served-By': 'cache-lga21956-LGA, cache-hhn4072-HHN', 'X-Cache': 'HIT, HIT', 'X-Cache-Hits': '2, 4', 'X-Timer': 'S1669099639.516280,VS0,VE0', 'Vary': 'Accept-Encoding'}"
      ]
     },
     "execution_count": 5,
     "metadata": {},
     "output_type": "execute_result"
    }
   ],
   "source": [
    "z.headers   # Info"
   ]
  },
  {
   "cell_type": "code",
   "execution_count": 19,
   "id": "4fea0726",
   "metadata": {},
   "outputs": [
    {
     "name": "stdout",
     "output_type": "stream",
     "text": [
      "b'\\n<!DOCTYPE html>\\n\\n<html>\\n  <head>\\n    <meta charset=\"utf-8\" />\\n    <meta name=\"viewport\" content=\"width=device-width, initial-scale=1.0\" /><title>3.11.0 Documentation</title><meta name=\"viewport\" content=\"width=device-width, initial-scale=1.0\">\\n    \\n    <link rel=\"stylesheet\" type=\"text/css\" href=\"_static/pygments.css\" />\\n    <link rel=\"stylesheet\" type=\"text/css\" href=\"_static/pydoctheme.css?2022.1\" />\\n    \\n    <script data-url_root=\"./\" id=\"documentation_options\" src=\"_static/documentation_options.js\"></script>\\n    <script src=\"_static/jquery.js\"></script>\\n    <script src=\"_static/underscore.js\"></script>\\n    <script src=\"_static/doctools.js\"></script>\\n    \\n    <script src=\"_static/sidebar.js\"></script>\\n    \\n    <link rel=\"search\" type=\"application/opensearchdescription+xml\"\\n          title=\"Search within Python 3.11.0 documentation\"\\n          href=\"_static/opensearch.xml\"/>\\n    <link rel=\"author\" title=\"About these documents\" href=\"about.html\" />\\n    <link rel=\"index\" title=\"Index\" '\n"
     ]
    }
   ],
   "source": [
    "print(z.content[:1000])"
   ]
  },
  {
   "cell_type": "code",
   "execution_count": 21,
   "id": "7ab531a4",
   "metadata": {},
   "outputs": [
    {
     "name": "stdout",
     "output_type": "stream",
     "text": [
      "\n",
      "<!DOCTYPE html>\n",
      "\n",
      "<html>\n",
      "  <head>\n",
      "    <meta charset=\"utf-8\" />\n",
      "    <meta name=\"viewport\" content=\"width=device-width, initial-scale=1.0\" /><title>3.11.0 Documentation</title><meta name=\"viewport\" content=\"width=device-width, initial-scale=1.0\">\n",
      "    \n",
      "    <link rel=\"stylesheet\" type=\"text/css\" href=\"_static/pygments.css\" />\n",
      "    <link rel=\"stylesheet\" type=\"text/css\" href=\"_static/pydoctheme.css?2022.1\" />\n",
      "    \n",
      "    <script data-url_root=\"./\" id=\"documentation_options\" src=\"_static/documentation_opt\n"
     ]
    }
   ],
   "source": [
    "print(z.text[:500])"
   ]
  },
  {
   "cell_type": "code",
   "execution_count": 22,
   "id": "2e90f0d4",
   "metadata": {},
   "outputs": [],
   "source": [
    "z_picture = requests.get(\"https://docs.python.org/3/_static/py.svg\") # Картинка"
   ]
  },
  {
   "cell_type": "code",
   "execution_count": 9,
   "id": "b8ba217d",
   "metadata": {},
   "outputs": [
    {
     "name": "stdout",
     "output_type": "stream",
     "text": [
      "image/svg+xml\n",
      "<svg width=\"16\" height=\"16\" viewBox=\"0 0 16 16\" fill=\"none\" xmlns=\"http://www.w3.org/2000/svg\">\n",
      "<path d=\"M7.90472 0.00013087C7.24498 0.00316295 6.61493 0.0588153 6.06056 0.15584C4.42744 0.441207 4.13093 1.0385 4.13093 2.14002V3.59479H7.99018V4.07971H4.13093H2.68259C1.56098 4.07971 0.578874 4.7465 0.271682 6.01495C-0.0826595 7.4689 -0.0983765 8.37618 0.271682 9.89434C0.546011 11.0244 1.20115 11.8296 2.32275 11.8296H3.64965V10.0856C3.64965 8.82574 4.75178 7.71441 6.06056 7.71441H9.91531C10.9883 7.71441 11.8449 6.84056 11.8449 5.77472V2.14002C11.8449 1.10556 10.9626 0.328486 9.91531 0.15584C9.25235 0.046687 8.56447 -0.00290121 7.90472 0.00013087ZM5.81767 1.17017C6.2163 1.17017 6.54184 1.49742 6.54184 1.89978C6.54184 2.30072 6.2163 2.62494 5.81767 2.62494C5.41761 2.62494 5.0935 2.30072 5.0935 1.89978C5.0935 1.49742 5.41761 1.17017 5.81767 1.17017Z\" fill=\"url(#paint0_linear)\"/>\n",
      "<path d=\"M12.3262 4.07971V5.77472C12.3262 7.08883 11.1998 8.19488 9.9153 8.19488H6.06055C5.00466 8.19488 4.13092 9.0887 4.13092 10.1346V13.7693C4.13092 14.8037 5.04038 15.4122 6.06055 15.709C7.28217 16.0642 8.45364 16.1285 9.9153 15.709C10.8869 15.4307 11.8449 14.8708 11.8449 13.7693V12.3145H7.99017V11.8296H11.8449H13.7746C14.8962 11.8296 15.3141 11.0558 15.7042 9.89434C16.1071 8.69865 16.09 7.5488 15.7042 6.01495C15.427 4.91058 14.8976 4.07971 13.7746 4.07971H12.3262ZM10.1582 13.2843C10.5583 13.2843 10.8824 13.6086 10.8824 14.0095C10.8824 14.4119 10.5583 14.7391 10.1582 14.7391C9.75955 14.7391 9.43402 14.4119 9.43402 14.0095C9.43402 13.6086 9.75955 13.2843 10.1582 13.2843Z\" fill=\"url(#paint1_linear)\"/>\n",
      "<defs>\n",
      "<linearGradient id=\"paint0_linear\" x1=\"1.25961e-08\" y1=\"1.08223e-08\" x2=\"8.81664\" y2=\"7.59597\" gradientUnits=\"userSpaceOnUse\">\n",
      "<stop stop-color=\"#5A9FD4\"/>\n",
      "<stop offset=\"1\" stop-color=\"#306998\"/>\n",
      "</linearGradient>\n",
      "<linearGradient id=\"paint1_linear\" x1=\"10.0654\" y1=\"13.8872\" x2=\"6.91912\" y2=\"9.42957\" gradientUnits=\"userSpaceOnUse\">\n",
      "<stop stop-color=\"#FFD43B\"/>\n",
      "<stop offset=\"1\" stop-color=\"#FFE873\"/>\n",
      "</linearGradient>\n",
      "</defs>\n",
      "</svg>\n",
      "\n"
     ]
    }
   ],
   "source": [
    "print(z_picture.headers['Content-Type'])\n",
    "print(z_picture.text)\n",
    "# Its possible to write this information down in the file (let's look use_files)"
   ]
  },
  {
   "cell_type": "code",
   "execution_count": 10,
   "id": "d775e452",
   "metadata": {},
   "outputs": [
    {
     "name": "stdout",
     "output_type": "stream",
     "text": [
      "<Response [200]>\n",
      "text/html; charset=utf-8\n",
      "<!DOCTYPE html><html class=i-ua_js_no lang=ru><meta charset=utf-8><meta http-equiv=X-UA-Compatible content=\"IE=edge\"><title>Яндекс</title><script nonce=7899>document.documentElement.className=\"i-ua_js_yes i-ua_svg_yes\"+((screen.deviceXDPI&&screen.logicalXDPI&&screen.deviceXDPI/screen.logicalXDPI||window.devicePixelRatio)>1?\" i-ua_retina_yes\":\"\");</script><meta name=theme-color content=\"#fff\"><meta name=color-scheme content=light><meta name=theme-color content=\"#fff\"><link rel=preconnect href=\"ht\n"
     ]
    }
   ],
   "source": [
    "y_search = requests.get(\"https://yandex.ru/search/?text=Stepic\")\n",
    "print(y_search)\n",
    "print(y_search.headers['Content-Type'])\n",
    "print(y_search.text[:500])"
   ]
  },
  {
   "cell_type": "code",
   "execution_count": 11,
   "id": "3163f567",
   "metadata": {
    "scrolled": false
   },
   "outputs": [
    {
     "name": "stdout",
     "output_type": "stream",
     "text": [
      "<Response [200]>\n",
      "text/html; charset=utf-8\n",
      "https://yandex.ru/search/?text=Stepic\n",
      "<!DOCTYPE html><html class=i-ua_js_no lang=ru><meta charset=utf-8><meta http-equiv=X-UA-Compatible content=\"IE=edge\"><title>Яндекс</title><script nonce=9939>document.documentElement.className=\"i-ua_js_yes i-ua_svg_yes\"+((screen.deviceXDPI&&screen.logicalXDPI&&screen.deviceXDPI/screen.logicalXDPI||window.devicePixelRatio)>1?\" i-ua_retina_yes\":\"\");</script><meta name=theme-color content=\"#fff\"><meta name=color-scheme content=light><meta name=theme-color content=\"#fff\"><link rel=preconnect href=\"ht\n"
     ]
    }
   ],
   "source": [
    "# In get Можно использовать params\n",
    "y_search = requests.get(\"https://yandex.ru/search/\",\n",
    "                       params={\"text\": \"Stepic\"}\n",
    "                       )\n",
    "print(y_search)\n",
    "print(y_search.headers['Content-Type'])\n",
    "print(y_search.url)                     # Видно, что это идентичный прошлому запрос \n",
    "print(y_search.text[:500]) # Чтобы все не выводить"
   ]
  },
  {
   "cell_type": "markdown",
   "id": "643dd54a",
   "metadata": {},
   "source": [
    "**Задачка Степик**"
   ]
  },
  {
   "cell_type": "code",
   "execution_count": 12,
   "id": "f2b6c3a8",
   "metadata": {},
   "outputs": [],
   "source": [
    "z_step = requests.get(\n",
    "    \"https://stepic.org/media/attachments/lesson/24472/sample0.html\"\n",
    ")"
   ]
  },
  {
   "cell_type": "code",
   "execution_count": 13,
   "id": "0834b485",
   "metadata": {},
   "outputs": [
    {
     "name": "stdout",
     "output_type": "stream",
     "text": [
      "<Response [200]>\n",
      "text/html; charset=utf-8\n",
      "https://stepic.org/media/attachments/lesson/24472/sample0.html\n",
      "<a href=\"https://stepic.org/media/attachments/lesson/24472/sample1.html\">1</a>\n",
      "\n"
     ]
    }
   ],
   "source": [
    "print(z_step)\n",
    "print(z_step.headers['Content-Type'])\n",
    "print(z_step.url)\n",
    "print(z_step.text[:500])"
   ]
  },
  {
   "cell_type": "code",
   "execution_count": 14,
   "id": "0d6ac56c",
   "metadata": {},
   "outputs": [
    {
     "name": "stdout",
     "output_type": "stream",
     "text": [
      "Yes\n"
     ]
    }
   ],
   "source": [
    "ch = \"https://stepic.org/media/attachments/lesson/24472/sample1.html\"\n",
    "if ch in z_step.text:\n",
    "    print(\"Yes\")\n",
    "else:\n",
    "    print(\"No\")"
   ]
  }
 ],
 "metadata": {
  "kernelspec": {
   "display_name": "Python 3 (ipykernel)",
   "language": "python",
   "name": "python3"
  },
  "language_info": {
   "codemirror_mode": {
    "name": "ipython",
    "version": 3
   },
   "file_extension": ".py",
   "mimetype": "text/x-python",
   "name": "python",
   "nbconvert_exporter": "python",
   "pygments_lexer": "ipython3",
   "version": "3.9.15"
  }
 },
 "nbformat": 4,
 "nbformat_minor": 5
}
