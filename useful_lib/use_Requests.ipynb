{
 "cells": [
  {
   "cell_type": "code",
   "execution_count": 1,
   "id": "04babf27",
   "metadata": {},
   "outputs": [],
   "source": [
    "import requests"
   ]
  },
  {
   "cell_type": "code",
   "execution_count": 2,
   "id": "6d0748d2",
   "metadata": {},
   "outputs": [],
   "source": [
    "z = requests.get(\"https://docs.python.org/3/\")"
   ]
  },
  {
   "cell_type": "code",
   "execution_count": 3,
   "id": "1bc9ce76",
   "metadata": {},
   "outputs": [
    {
     "data": {
      "text/plain": [
       "<Response [200]>"
      ]
     },
     "execution_count": 3,
     "metadata": {},
     "output_type": "execute_result"
    }
   ],
   "source": [
    "z   "
   ]
  },
  {
   "cell_type": "code",
   "execution_count": 4,
   "id": "efe69347",
   "metadata": {},
   "outputs": [
    {
     "name": "stdout",
     "output_type": "stream",
     "text": [
      "<Response [200]>\n",
      "200\n",
      "text/html\n"
     ]
    }
   ],
   "source": [
    "print(z)                         # Response - класс с описанием ответа сервера\n",
    "print(z.status_code)             # Статус код 200 - все в порядке (404 - bad gataway...)\n",
    "print(z.headers['Content-Type']) # Запрос по словарю headers"
   ]
  },
  {
   "cell_type": "code",
   "execution_count": 24,
   "id": "ecfd0f02",
   "metadata": {},
   "outputs": [
    {
     "data": {
      "text/plain": [
       "{'Connection': 'keep-alive', 'Content-Length': '3119', 'server': 'nginx', 'content-type': 'text/html', 'last-modified': 'Mon, 21 Nov 2022 08:07:09 GMT', 'etag': '\"637b31ad-36fd\"', 'x-clacks-overhead': 'GNU Terry Pratchett', 'strict-transport-security': 'max-age=315360000; includeSubDomains; preload', 'Content-Encoding': 'gzip', 'Via': '1.1 varnish, 1.1 varnish', 'Accept-Ranges': 'bytes', 'Date': 'Tue, 22 Nov 2022 06:47:18 GMT', 'Age': '81600', 'X-Served-By': 'cache-lga21956-LGA, cache-hhn4072-HHN', 'X-Cache': 'HIT, HIT', 'X-Cache-Hits': '2, 4', 'X-Timer': 'S1669099639.516280,VS0,VE0', 'Vary': 'Accept-Encoding'}"
      ]
     },
     "execution_count": 24,
     "metadata": {},
     "output_type": "execute_result"
    }
   ],
   "source": [
    "z.headers   # Info"
   ]
  },
  {
   "cell_type": "code",
   "execution_count": 33,
   "id": "4fea0726",
   "metadata": {},
   "outputs": [],
   "source": [
    "# print(z.content) Выведет все сплошняком с символами"
   ]
  },
  {
   "cell_type": "code",
   "execution_count": 34,
   "id": "7ab531a4",
   "metadata": {},
   "outputs": [],
   "source": [
    "# print(z.text)  Выведет все , как написано в HTML"
   ]
  },
  {
   "cell_type": "code",
   "execution_count": 22,
   "id": "2e90f0d4",
   "metadata": {},
   "outputs": [],
   "source": [
    "z_picture = requests.get(\"https://docs.python.org/3/_static/py.svg\") # Картинка"
   ]
  },
  {
   "cell_type": "code",
   "execution_count": 27,
   "id": "b8ba217d",
   "metadata": {},
   "outputs": [
    {
     "name": "stdout",
     "output_type": "stream",
     "text": [
      "image/svg+xml\n",
      "<svg width=\"16\" height=\"16\" viewBox=\"0 0 16 16\" fill=\"none\" xmlns=\"http://www.w3.org/2000/svg\">\n",
      "<pat\n"
     ]
    }
   ],
   "source": [
    "print(z_picture.headers['Content-Type'])\n",
    "print(z_picture.text[:100])\n",
    "# Its possible to write this information down in the file (let's look use_files)"
   ]
  },
  {
   "cell_type": "code",
   "execution_count": 28,
   "id": "d775e452",
   "metadata": {},
   "outputs": [
    {
     "name": "stdout",
     "output_type": "stream",
     "text": [
      "<Response [200]>\n",
      "text/html; charset=utf-8\n",
      "<!DOCTYPE html><html class=i-ua_js_no lang=ru><meta charset=utf-8><meta http-equiv=X-UA-Compatible content=\"IE=edge\"><title>Яндекс</title><script nonce=2790>document.documentElement.className=\"i-ua_js\n"
     ]
    }
   ],
   "source": [
    "y_search = requests.get(\"https://yandex.ru/search/?text=Stepic\")\n",
    "print(y_search)\n",
    "print(y_search.headers['Content-Type'])\n",
    "print(y_search.text[:200])"
   ]
  },
  {
   "cell_type": "code",
   "execution_count": 29,
   "id": "3163f567",
   "metadata": {
    "scrolled": false
   },
   "outputs": [
    {
     "name": "stdout",
     "output_type": "stream",
     "text": [
      "<Response [200]>\n",
      "text/html\n",
      "https://yandex.ru/showcaptcha?cc=1&mt=700EE74FB809A20A05D57DA6B61FA0334CB930287068A269BD12570D25B80E9C27D0&retpath=aHR0cHM6Ly95YW5kZXgucnUvc2VhcmNoP3RleHQ9U3RlcGlj_7e5875f39affb219a6638abf9ef17c4f&t=2/1669100423/9fb24c9a8707e4024c4a29bd11508362&u=4ae24d6d-31fbd9bb-48cd3ea4-5481ca3d&s=83e002b20a9b5c98c04f1ffa549ef035\n",
      "<!doctype html><html prefix=\"og: http://ogp.me/ns#\"><meta http-equiv=\"X-UA-Compatible\" content=\"IE=edge\"><meta charset=\"utf-8\"><meta name=\"viewport\" content=\"width=device-width,initial-scale=1\"><title\n"
     ]
    }
   ],
   "source": [
    "# In get Можно использовать params\n",
    "y_search = requests.get(\"https://yandex.ru/search/\",\n",
    "                       params={\"text\": \"Stepic\"}\n",
    "                       )\n",
    "print(y_search)\n",
    "print(y_search.headers['Content-Type'])\n",
    "print(y_search.url)                     # Видно, что это идентичный прошлому запрос \n",
    "print(y_search.text[:200]) # Чтобы все не выводить"
   ]
  },
  {
   "cell_type": "markdown",
   "id": "643dd54a",
   "metadata": {},
   "source": [
    "**Задачка Степик**"
   ]
  },
  {
   "cell_type": "code",
   "execution_count": 30,
   "id": "f2b6c3a8",
   "metadata": {},
   "outputs": [],
   "source": [
    "z_step = requests.get(\n",
    "    \"https://stepic.org/media/attachments/lesson/24472/sample0.html\"\n",
    ")"
   ]
  },
  {
   "cell_type": "code",
   "execution_count": 31,
   "id": "0834b485",
   "metadata": {},
   "outputs": [
    {
     "name": "stdout",
     "output_type": "stream",
     "text": [
      "<Response [200]>\n",
      "text/html; charset=utf-8\n",
      "https://stepic.org/media/attachments/lesson/24472/sample0.html\n",
      "<a href=\"https://stepic.org/media/attachments/lesson/24472/sample1.html\">1</a>\n",
      "\n"
     ]
    }
   ],
   "source": [
    "print(z_step)\n",
    "print(z_step.headers['Content-Type'])\n",
    "print(z_step.url)\n",
    "print(z_step.text[:500])"
   ]
  },
  {
   "cell_type": "code",
   "execution_count": 32,
   "id": "0d6ac56c",
   "metadata": {},
   "outputs": [
    {
     "name": "stdout",
     "output_type": "stream",
     "text": [
      "Yes\n"
     ]
    }
   ],
   "source": [
    "ch = \"https://stepic.org/media/attachments/lesson/24472/sample1.html\"\n",
    "if ch in z_step.text:\n",
    "    print(\"Yes\")\n",
    "else:\n",
    "    print(\"No\")"
   ]
  }
 ],
 "metadata": {
  "kernelspec": {
   "display_name": "Python 3 (ipykernel)",
   "language": "python",
   "name": "python3"
  },
  "language_info": {
   "codemirror_mode": {
    "name": "ipython",
    "version": 3
   },
   "file_extension": ".py",
   "mimetype": "text/x-python",
   "name": "python",
   "nbconvert_exporter": "python",
   "pygments_lexer": "ipython3",
   "version": "3.9.15"
  }
 },
 "nbformat": 4,
 "nbformat_minor": 5
}
