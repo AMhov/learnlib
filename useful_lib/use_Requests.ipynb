{
 "cells": [
  {
   "cell_type": "code",
   "execution_count": 2,
   "id": "04babf27",
   "metadata": {},
   "outputs": [],
   "source": [
    "import requests"
   ]
  },
  {
   "cell_type": "code",
   "execution_count": 13,
   "id": "6d0748d2",
   "metadata": {},
   "outputs": [],
   "source": [
    "z = requests.get(\"https://docs.python.org/3/\")"
   ]
  },
  {
   "cell_type": "code",
   "execution_count": 12,
   "id": "70449468",
   "metadata": {},
   "outputs": [],
   "source": []
  },
  {
   "cell_type": "code",
   "execution_count": 4,
   "id": "1bc9ce76",
   "metadata": {},
   "outputs": [
    {
     "data": {
      "text/plain": [
       "<Response [200]>"
      ]
     },
     "execution_count": 4,
     "metadata": {},
     "output_type": "execute_result"
    }
   ],
   "source": [
    "z   "
   ]
  },
  {
   "cell_type": "code",
   "execution_count": 8,
   "id": "efe69347",
   "metadata": {},
   "outputs": [
    {
     "name": "stdout",
     "output_type": "stream",
     "text": [
      "<Response [200]>\n",
      "200\n",
      "text/html\n"
     ]
    }
   ],
   "source": [
    "print(z)                         # Response - класс с описанием ответа сервера\n",
    "print(z.status_code)             # Статус код 200 - все в порядке (404 - bad gataway...)\n",
    "print(z.headers['Content-Type']) # Запрос по словарю headers"
   ]
  },
  {
   "cell_type": "code",
   "execution_count": 9,
   "id": "ecfd0f02",
   "metadata": {},
   "outputs": [
    {
     "data": {
      "text/plain": [
       "{'Connection': 'keep-alive', 'Content-Length': '3119', 'server': 'nginx', 'content-type': 'text/html', 'last-modified': 'Thu, 10 Nov 2022 09:13:46 GMT', 'etag': '\"636cc0ca-36fd\"', 'x-clacks-overhead': 'GNU Terry Pratchett', 'strict-transport-security': 'max-age=315360000; includeSubDomains; preload', 'Content-Encoding': 'gzip', 'Via': '1.1 varnish, 1.1 varnish', 'Accept-Ranges': 'bytes', 'Date': 'Thu, 10 Nov 2022 09:53:37 GMT', 'Age': '2385', 'X-Served-By': 'cache-lga21956-LGA, cache-hhn4054-HHN', 'X-Cache': 'HIT, HIT', 'X-Cache-Hits': '2, 5', 'X-Timer': 'S1668074018.820400,VS0,VE0', 'Vary': 'Accept-Encoding'}"
      ]
     },
     "execution_count": 9,
     "metadata": {},
     "output_type": "execute_result"
    }
   ],
   "source": [
    "z.headers   # Info"
   ]
  },
  {
   "cell_type": "code",
   "execution_count": 10,
   "id": "4fea0726",
   "metadata": {},
   "outputs": [
    {
     "name": "stdout",
     "output_type": "stream",
     "text": [
      "b'\\n<!DOCTYPE html>\\n\\n<html>\\n  <head>\\n    <meta charset=\"utf-8\" />\\n    <meta name=\"viewport\" content=\"width=device-width, initial-scale=1.0\" /><title>3.11.0 Documentation</title><meta name=\"viewport\" content=\"width=device-width, initial-scale=1.0\">\\n    \\n    <link rel=\"stylesheet\" type=\"text/css\" href=\"_static/pygments.css\" />\\n    <link rel=\"stylesheet\" type=\"text/css\" href=\"_static/pydoctheme.css?2022.1\" />\\n    \\n    <script data-url_root=\"./\" id=\"documentation_options\" src=\"_static/documentation_options.js\"></script>\\n    <script src=\"_static/jquery.js\"></script>\\n    <script src=\"_static/underscore.js\"></script>\\n    <script src=\"_static/doctools.js\"></script>\\n    \\n    <script src=\"_static/sidebar.js\"></script>\\n    \\n    <link rel=\"search\" type=\"application/opensearchdescription+xml\"\\n          title=\"Search within Python 3.11.0 documentation\"\\n          href=\"_static/opensearch.xml\"/>\\n    <link rel=\"author\" title=\"About these documents\" href=\"about.html\" />\\n    <link rel=\"index\" title=\"Index\" href=\"genindex.html\" />\\n    <link rel=\"search\" title=\"Search\" href=\"search.html\" />\\n    <link rel=\"copyright\" title=\"Copyright\" href=\"copyright.html\" />\\n    <link rel=\"canonical\" href=\"https://docs.python.org/3/index.html\" />\\n    \\n      \\n    \\n\\n    \\n    <style>\\n      @media only screen {\\n        table.full-width-table {\\n            width: 100%;\\n        }\\n      }\\n    </style>\\n<link rel=\"shortcut icon\" type=\"image/png\" href=\"_static/py.svg\" />\\n            <script type=\"text/javascript\" src=\"_static/copybutton.js\"></script>\\n            <script type=\"text/javascript\" src=\"_static/menu.js\"></script> \\n\\n  </head>\\n<body>\\n<div class=\"mobile-nav\">\\n    <input type=\"checkbox\" id=\"menuToggler\" class=\"toggler__input\" aria-controls=\"navigation\"\\n           aria-pressed=\"false\" aria-expanded=\"false\" role=\"button\" aria-label=\"Menu\" />\\n    <label for=\"menuToggler\" class=\"toggler__label\">\\n        <span></span>\\n    </label>\\n    <nav class=\"nav-content\" role=\"navigation\">\\n         <a href=\"https://www.python.org/\" class=\"nav-logo\">\\n             <img src=\"_static/py.svg\" alt=\"Logo\"/>\\n         </a>\\n        <div class=\"version_switcher_placeholder\"></div>\\n        <form role=\"search\" class=\"search\" action=\"search.html\" method=\"get\">\\n            <svg xmlns=\"http://www.w3.org/2000/svg\" width=\"20\" height=\"20\" viewBox=\"0 0 24 24\" class=\"search-icon\">\\n                <path fill-rule=\"nonzero\"\\n                        d=\"M15.5 14h-.79l-.28-.27a6.5 6.5 0 001.48-5.34c-.47-2.78-2.79-5-5.59-5.34a6.505 6.505 0 00-7.27 7.27c.34 2.8 2.56 5.12 5.34 5.59a6.5 6.5 0 005.34-1.48l.27.28v.79l4.25 4.25c.41.41 1.08.41 1.49 0 .41-.41.41-1.08 0-1.49L15.5 14zm-6 0C7.01 14 5 11.99 5 9.5S7.01 5 9.5 5 14 7.01 14 9.5 11.99 14 9.5 14z\" fill=\"#444\"></path>\\n            </svg>\\n            <input type=\"text\" name=\"q\" aria-label=\"Quick search\"/>\\n            <input type=\"submit\" value=\"Go\"/>\\n        </form>\\n    </nav>\\n    <div class=\"menu-wrapper\">\\n        <nav class=\"menu\" role=\"navigation\" aria-label=\"main navigation\">\\n            <div class=\"language_switcher_placeholder\"></div>\\n\\n\\n<h3>Download</h3>\\n<p><a href=\"download.html\">Download these documents</a></p>\\n\\n\\n<h3>Docs by version</h3>\\n<ul>\\n  \\n  <li><a href=\"https://docs.python.org/3.12/\">Python 3.12 (in development)</a></li>\\n  \\n  <li><a href=\"https://docs.python.org/3.11/\">Python 3.11 (stable)</a></li>\\n  \\n  <li><a href=\"https://docs.python.org/3.10/\">Python 3.10 (stable)</a></li>\\n  \\n  <li><a href=\"https://docs.python.org/3.9/\">Python 3.9 (security-fixes)</a></li>\\n  \\n  <li><a href=\"https://docs.python.org/3.8/\">Python 3.8 (security-fixes)</a></li>\\n  \\n  <li><a href=\"https://docs.python.org/3.7/\">Python 3.7 (security-fixes)</a></li>\\n  \\n  <li><a href=\"https://docs.python.org/3.6/\">Python 3.6 (EOL)</a></li>\\n  \\n  <li><a href=\"https://docs.python.org/3.5/\">Python 3.5 (EOL)</a></li>\\n  \\n  <li><a href=\"https://docs.python.org/2.7/\">Python 2.7 (EOL)</a></li>\\n  \\n  <li><a href=\"https://www.python.org/doc/versions/\">All versions</a></li>\\n</ul>\\n\\n\\n<h3>Other resources</h3>\\n<ul>\\n  \\n  <li><a href=\"https://www.python.org/dev/peps/\">PEP Index</a></li>\\n  <li><a href=\"https://wiki.python.org/moin/BeginnersGuide\">Beginner\\'s Guide</a></li>\\n  <li><a href=\"https://wiki.python.org/moin/PythonBooks\">Book List</a></li>\\n  <li><a href=\"https://www.python.org/doc/av/\">Audio/Visual Talks</a></li>\\n  <li><a href=\"https://devguide.python.org/\">Python Developer\\xe2\\x80\\x99s Guide</a></li>\\n</ul>\\n        </nav>\\n    </div>\\n</div>\\n\\n  \\n    <div class=\"related\" role=\"navigation\" aria-label=\"related navigation\">\\n      <h3>Navigation</h3>\\n      <ul>\\n        <li class=\"right\" style=\"margin-right: 10px\">\\n          <a href=\"genindex.html\" title=\"General Index\"\\n             accesskey=\"I\">index</a></li>\\n        <li class=\"right\" >\\n          <a href=\"py-modindex.html\" title=\"Python Module Index\"\\n             >modules</a> |</li>\\n\\n          <li><img src=\"_static/py.svg\" alt=\"python logo\" style=\"vertical-align: middle; margin-top: -1px\"/></li>\\n          <li><a href=\"https://www.python.org/\">Python</a> &#187;</li>\\n          <li class=\"switchers\">\\n            <div class=\"language_switcher_placeholder\"></div>\\n            <div class=\"version_switcher_placeholder\"></div>\\n          </li>\\n          <li>\\n              \\n          </li>\\n    <li id=\"cpython-language-and-version\">\\n      <a href=\"#\">3.11.0 Documentation</a> &#187;\\n    </li>\\n\\n        <li class=\"nav-item nav-item-this\"><a href=\"\"></a></li>\\n                <li class=\"right\">\\n                    \\n\\n    <div class=\"inline-search\" role=\"search\">\\n        <form class=\"inline-search\" action=\"search.html\" method=\"get\">\\n          <input placeholder=\"Quick search\" aria-label=\"Quick search\" type=\"text\" name=\"q\" />\\n          <input type=\"submit\" value=\"Go\" />\\n          <input type=\"hidden\" name=\"check_keywords\" value=\"yes\" />\\n          <input type=\"hidden\" name=\"area\" value=\"default\" />\\n        </form>\\n    </div>\\n                     |\\n                </li>\\n            \\n      </ul>\\n    </div>    \\n\\n    <div class=\"document\">\\n      <div class=\"documentwrapper\">\\n        <div class=\"bodywrapper\">\\n          <div class=\"body\" role=\"main\">\\n            \\n  <h1>Python 3.11.0 documentation</h1>\\n  <p>\\n  Welcome! This is the official documentation for Python 3.11.0.\\n  </p>\\n  <p><strong>Parts of the documentation:</strong></p>\\n  <table class=\"contentstable\" align=\"center\"><tr>\\n    <td width=\"50%\">\\n      <p class=\"biglink\"><a class=\"biglink\" href=\"whatsnew/3.11.html\">What\\'s new in Python 3.11?</a><br/>\\n        <span class=\"linkdescr\"> or <a href=\"whatsnew/index.html\">all \"What\\'s new\" documents</a> since 2.0</span></p>\\n      <p class=\"biglink\"><a class=\"biglink\" href=\"tutorial/index.html\">Tutorial</a><br/>\\n         <span class=\"linkdescr\">start here</span></p>\\n      <p class=\"biglink\"><a class=\"biglink\" href=\"library/index.html\">Library Reference</a><br/>\\n         <span class=\"linkdescr\">keep this under your pillow</span></p>\\n      <p class=\"biglink\"><a class=\"biglink\" href=\"reference/index.html\">Language Reference</a><br/>\\n         <span class=\"linkdescr\">describes syntax and language elements</span></p>\\n      <p class=\"biglink\"><a class=\"biglink\" href=\"using/index.html\">Python Setup and Usage</a><br/>\\n         <span class=\"linkdescr\">how to use Python on different platforms</span></p>\\n      <p class=\"biglink\"><a class=\"biglink\" href=\"howto/index.html\">Python HOWTOs</a><br/>\\n         <span class=\"linkdescr\">in-depth documents on specific topics</span></p>\\n    </td><td width=\"50%\">\\n      <p class=\"biglink\"><a class=\"biglink\" href=\"installing/index.html\">Installing Python Modules</a><br/>\\n         <span class=\"linkdescr\">installing from the Python Package Index &amp; other sources</span></p>\\n      <p class=\"biglink\"><a class=\"biglink\" href=\"distributing/index.html\">Distributing Python Modules</a><br/>\\n         <span class=\"linkdescr\">publishing modules for installation by others</span></p>\\n      <p class=\"biglink\"><a class=\"biglink\" href=\"extending/index.html\">Extending and Embedding</a><br/>\\n         <span class=\"linkdescr\">tutorial for C/C++ programmers</span></p>\\n      <p class=\"biglink\"><a class=\"biglink\" href=\"c-api/index.html\">Python/C API</a><br/>\\n         <span class=\"linkdescr\">reference for C/C++ programmers</span></p>\\n      <p class=\"biglink\"><a class=\"biglink\" href=\"faq/index.html\">FAQs</a><br/>\\n         <span class=\"linkdescr\">frequently asked questions (with answers!)</span></p>\\n    </td></tr>\\n  </table>\\n\\n  <p><strong>Indices and tables:</strong></p>\\n  <table class=\"contentstable\" align=\"center\"><tr>\\n    <td width=\"50%\">\\n      <p class=\"biglink\"><a class=\"biglink\" href=\"py-modindex.html\">Global Module Index</a><br/>\\n         <span class=\"linkdescr\">quick access to all modules</span></p>\\n      <p class=\"biglink\"><a class=\"biglink\" href=\"genindex.html\">General Index</a><br/>\\n         <span class=\"linkdescr\">all functions, classes, terms</span></p>\\n      <p class=\"biglink\"><a class=\"biglink\" href=\"glossary.html\">Glossary</a><br/>\\n         <span class=\"linkdescr\">the most important terms explained</span></p>\\n    </td><td width=\"50%\">\\n      <p class=\"biglink\"><a class=\"biglink\" href=\"search.html\">Search page</a><br/>\\n         <span class=\"linkdescr\">search this documentation</span></p>\\n      <p class=\"biglink\"><a class=\"biglink\" href=\"contents.html\">Complete Table of Contents</a><br/>\\n         <span class=\"linkdescr\">lists all sections and subsections</span></p>\\n    </td></tr>\\n  </table>\\n\\n  <p><strong>Meta information:</strong></p>\\n  <table class=\"contentstable\" align=\"center\"><tr>\\n    <td width=\"50%\">\\n      <p class=\"biglink\"><a class=\"biglink\" href=\"bugs.html\">Reporting bugs</a></p>\\n      <p class=\"biglink\"><a class=\"biglink\" href=\"https://devguide.python.org/docquality/#helping-with-documentation\">Contributing to Docs</a></p>\\n      <p class=\"biglink\"><a class=\"biglink\" href=\"about.html\">About the documentation</a></p>\\n    </td><td width=\"50%\">\\n      <p class=\"biglink\"><a class=\"biglink\" href=\"license.html\">History and License of Python</a></p>\\n      <p class=\"biglink\"><a class=\"biglink\" href=\"copyright.html\">Copyright</a></p>\\n    </td></tr>\\n  </table>\\n\\n            <div class=\"clearer\"></div>\\n          </div>\\n        </div>\\n      </div>\\n      <div class=\"sphinxsidebar\" role=\"navigation\" aria-label=\"main navigation\">\\n        <div class=\"sphinxsidebarwrapper\">\\n\\n\\n<h3>Download</h3>\\n<p><a href=\"download.html\">Download these documents</a></p>\\n\\n\\n<h3>Docs by version</h3>\\n<ul>\\n  \\n  <li><a href=\"https://docs.python.org/3.12/\">Python 3.12 (in development)</a></li>\\n  \\n  <li><a href=\"https://docs.python.org/3.11/\">Python 3.11 (stable)</a></li>\\n  \\n  <li><a href=\"https://docs.python.org/3.10/\">Python 3.10 (stable)</a></li>\\n  \\n  <li><a href=\"https://docs.python.org/3.9/\">Python 3.9 (security-fixes)</a></li>\\n  \\n  <li><a href=\"https://docs.python.org/3.8/\">Python 3.8 (security-fixes)</a></li>\\n  \\n  <li><a href=\"https://docs.python.org/3.7/\">Python 3.7 (security-fixes)</a></li>\\n  \\n  <li><a href=\"https://docs.python.org/3.6/\">Python 3.6 (EOL)</a></li>\\n  \\n  <li><a href=\"https://docs.python.org/3.5/\">Python 3.5 (EOL)</a></li>\\n  \\n  <li><a href=\"https://docs.python.org/2.7/\">Python 2.7 (EOL)</a></li>\\n  \\n  <li><a href=\"https://www.python.org/doc/versions/\">All versions</a></li>\\n</ul>\\n\\n\\n<h3>Other resources</h3>\\n<ul>\\n  \\n  <li><a href=\"https://www.python.org/dev/peps/\">PEP Index</a></li>\\n  <li><a href=\"https://wiki.python.org/moin/BeginnersGuide\">Beginner\\'s Guide</a></li>\\n  <li><a href=\"https://wiki.python.org/moin/PythonBooks\">Book List</a></li>\\n  <li><a href=\"https://www.python.org/doc/av/\">Audio/Visual Talks</a></li>\\n  <li><a href=\"https://devguide.python.org/\">Python Developer\\xe2\\x80\\x99s Guide</a></li>\\n</ul>\\n        </div>\\n      </div>\\n      <div class=\"clearer\"></div>\\n    </div>  \\n    <div class=\"related\" role=\"navigation\" aria-label=\"related navigation\">\\n      <h3>Navigation</h3>\\n      <ul>\\n        <li class=\"right\" style=\"margin-right: 10px\">\\n          <a href=\"genindex.html\" title=\"General Index\"\\n             >index</a></li>\\n        <li class=\"right\" >\\n          <a href=\"py-modindex.html\" title=\"Python Module Index\"\\n             >modules</a> |</li>\\n\\n          <li><img src=\"_static/py.svg\" alt=\"python logo\" style=\"vertical-align: middle; margin-top: -1px\"/></li>\\n          <li><a href=\"https://www.python.org/\">Python</a> &#187;</li>\\n          <li class=\"switchers\">\\n            <div class=\"language_switcher_placeholder\"></div>\\n            <div class=\"version_switcher_placeholder\"></div>\\n          </li>\\n          <li>\\n              \\n          </li>\\n    <li id=\"cpython-language-and-version\">\\n      <a href=\"#\">3.11.0 Documentation</a> &#187;\\n    </li>\\n\\n        <li class=\"nav-item nav-item-this\"><a href=\"\"></a></li>\\n                <li class=\"right\">\\n                    \\n\\n    <div class=\"inline-search\" role=\"search\">\\n        <form class=\"inline-search\" action=\"search.html\" method=\"get\">\\n          <input placeholder=\"Quick search\" aria-label=\"Quick search\" type=\"text\" name=\"q\" />\\n          <input type=\"submit\" value=\"Go\" />\\n          <input type=\"hidden\" name=\"check_keywords\" value=\"yes\" />\\n          <input type=\"hidden\" name=\"area\" value=\"default\" />\\n        </form>\\n    </div>\\n                     |\\n                </li>\\n            \\n      </ul>\\n    </div>  \\n    <div class=\"footer\">\\n    &copy; <a href=\"copyright.html\">Copyright</a> 2001-2022, Python Software Foundation.\\n    <br />\\n    This page is licensed under the Python Software Foundation License Version 2.\\n    <br />\\n    Examples, recipes, and other code in the documentation are additionally licensed under the Zero Clause BSD License.\\n    <br />\\n    See <a href=\"/license.html\">History and License</a> for more information.<br />\\n    <br />\\n\\n    The Python Software Foundation is a non-profit corporation.\\n<a href=\"https://www.python.org/psf/donations/\">Please donate.</a>\\n<br />\\n    <br />\\n\\n    Last updated on Nov 10, 2022.\\n    <a href=\"/bugs.html\">Found a bug</a>?\\n    <br />\\n\\n    Created using <a href=\"https://www.sphinx-doc.org/\">Sphinx</a> 4.5.0.\\n    </div>\\n\\n    <script type=\"text/javascript\" src=\"_static/switchers.js\"></script>\\n  </body>\\n</html>'\n"
     ]
    }
   ],
   "source": [
    "print(z.content)"
   ]
  },
  {
   "cell_type": "code",
   "execution_count": 19,
   "id": "7ab531a4",
   "metadata": {},
   "outputs": [
    {
     "name": "stdout",
     "output_type": "stream",
     "text": [
      "\n",
      "<!DOCTYPE html>\n",
      "\n",
      "<html>\n",
      "  <head>\n",
      "    <meta charset=\"utf-8\" />\n",
      "    <meta name=\"viewport\" content=\"width=device-width, initial-scale=1.0\" /><title>3.11.0 Documentation</title><meta name=\"viewport\" content=\"width=device-width, initial-scale=1.0\">\n",
      "    \n",
      "    <link rel=\"stylesheet\" type=\"text/css\" href=\"_static/pygments.css\" />\n",
      "    <link rel=\"stylesheet\" type=\"text/css\" href=\"_static/pydoctheme.css?2022.1\" />\n",
      "    \n",
      "    <script data-url_root=\"./\" id=\"documentation_options\" src=\"_static/documentation_options.js\"></script>\n",
      "    <script src=\"_static/jquery.js\"></script>\n",
      "    <script src=\"_static/underscore.js\"></script>\n",
      "    <script src=\"_static/doctools.js\"></script>\n",
      "    \n",
      "    <script src=\"_static/sidebar.js\"></script>\n",
      "    \n",
      "    <link rel=\"search\" type=\"application/opensearchdescription+xml\"\n",
      "          title=\"Search within Python 3.11.0 documentation\"\n",
      "          href=\"_static/opensearch.xml\"/>\n",
      "    <link rel=\"author\" title=\"About these documents\" href=\"about.html\" />\n",
      "    <link rel=\"index\" title=\"Index\" href=\"genindex.html\" />\n",
      "    <link rel=\"search\" title=\"Search\" href=\"search.html\" />\n",
      "    <link rel=\"copyright\" title=\"Copyright\" href=\"copyright.html\" />\n",
      "    <link rel=\"canonical\" href=\"https://docs.python.org/3/index.html\" />\n",
      "    \n",
      "      \n",
      "    \n",
      "\n",
      "    \n",
      "    <style>\n",
      "      @media only screen {\n",
      "        table.full-width-table {\n",
      "            width: 100%;\n",
      "        }\n",
      "      }\n",
      "    </style>\n",
      "<link rel=\"shortcut icon\" type=\"image/png\" href=\"_static/py.svg\" />\n",
      "            <script type=\"text/javascript\" src=\"_static/copybutton.js\"></script>\n",
      "            <script type=\"text/javascript\" src=\"_static/menu.js\"></script> \n",
      "\n",
      "  </head>\n",
      "<body>\n",
      "<div class=\"mobile-nav\">\n",
      "    <input type=\"checkbox\" id=\"menuToggler\" class=\"toggler__input\" aria-controls=\"navigation\"\n",
      "           aria-pressed=\"false\" aria-expanded=\"false\" role=\"button\" aria-label=\"Menu\" />\n",
      "    <label for=\"menuToggler\" class=\"toggler__label\">\n",
      "        <span></span>\n",
      "    </label>\n",
      "    <nav class=\"nav-content\" role=\"navigation\">\n",
      "         <a href=\"https://www.python.org/\" class=\"nav-logo\">\n",
      "             <img src=\"_static/py.svg\" alt=\"Logo\"/>\n",
      "         </a>\n",
      "        <div class=\"version_switcher_placeholder\"></div>\n",
      "        <form role=\"search\" class=\"search\" action=\"search.html\" method=\"get\">\n",
      "            <svg xmlns=\"http://www.w3.org/2000/svg\" width=\"20\" height=\"20\" viewBox=\"0 0 24 24\" class=\"search-icon\">\n",
      "                <path fill-rule=\"nonzero\"\n",
      "                        d=\"M15.5 14h-.79l-.28-.27a6.5 6.5 0 001.48-5.34c-.47-2.78-2.79-5-5.59-5.34a6.505 6.505 0 00-7.27 7.27c.34 2.8 2.56 5.12 5.34 5.59a6.5 6.5 0 005.34-1.48l.27.28v.79l4.25 4.25c.41.41 1.08.41 1.49 0 .41-.41.41-1.08 0-1.49L15.5 14zm-6 0C7.01 14 5 11.99 5 9.5S7.01 5 9.5 5 14 7.01 14 9.5 11.99 14 9.5 14z\" fill=\"#444\"></path>\n",
      "            </svg>\n",
      "            <input type=\"text\" name=\"q\" aria-label=\"Quick search\"/>\n",
      "            <input type=\"submit\" value=\"Go\"/>\n",
      "        </form>\n",
      "    </nav>\n",
      "    <div class=\"menu-wrapper\">\n",
      "        <nav class=\"menu\" role=\"navigation\" aria-label=\"main navigation\">\n",
      "            <div class=\"language_switcher_placeholder\"></div>\n",
      "\n",
      "\n",
      "<h3>Download</h3>\n",
      "<p><a href=\"download.html\">Download these documents</a></p>\n",
      "\n",
      "\n",
      "<h3>Docs by version</h3>\n",
      "<ul>\n",
      "  \n",
      "  <li><a href=\"https://docs.python.org/3.12/\">Python 3.12 (in development)</a></li>\n",
      "  \n",
      "  <li><a href=\"https://docs.python.org/3.11/\">Python 3.11 (stable)</a></li>\n",
      "  \n",
      "  <li><a href=\"https://docs.python.org/3.10/\">Python 3.10 (stable)</a></li>\n",
      "  \n",
      "  <li><a href=\"https://docs.python.org/3.9/\">Python 3.9 (security-fixes)</a></li>\n",
      "  \n",
      "  <li><a href=\"https://docs.python.org/3.8/\">Python 3.8 (security-fixes)</a></li>\n",
      "  \n",
      "  <li><a href=\"https://docs.python.org/3.7/\">Python 3.7 (security-fixes)</a></li>\n",
      "  \n",
      "  <li><a href=\"https://docs.python.org/3.6/\">Python 3.6 (EOL)</a></li>\n",
      "  \n",
      "  <li><a href=\"https://docs.python.org/3.5/\">Python 3.5 (EOL)</a></li>\n",
      "  \n",
      "  <li><a href=\"https://docs.python.org/2.7/\">Python 2.7 (EOL)</a></li>\n",
      "  \n",
      "  <li><a href=\"https://www.python.org/doc/versions/\">All versions</a></li>\n",
      "</ul>\n",
      "\n",
      "\n",
      "<h3>Other resources</h3>\n",
      "<ul>\n",
      "  \n",
      "  <li><a href=\"https://www.python.org/dev/peps/\">PEP Index</a></li>\n",
      "  <li><a href=\"https://wiki.python.org/moin/BeginnersGuide\">Beginner's Guide</a></li>\n",
      "  <li><a href=\"https://wiki.python.org/moin/PythonBooks\">Book List</a></li>\n",
      "  <li><a href=\"https://www.python.org/doc/av/\">Audio/Visual Talks</a></li>\n",
      "  <li><a href=\"https://devguide.python.org/\">Python Developerâs Guide</a></li>\n",
      "</ul>\n",
      "        </nav>\n",
      "    </div>\n",
      "</div>\n",
      "\n",
      "  \n",
      "    <div class=\"related\" role=\"navigation\" aria-label=\"related navigation\">\n",
      "      <h3>Navigation</h3>\n",
      "      <ul>\n",
      "        <li class=\"right\" style=\"margin-right: 10px\">\n",
      "          <a href=\"genindex.html\" title=\"General Index\"\n",
      "             accesskey=\"I\">index</a></li>\n",
      "        <li class=\"right\" >\n",
      "          <a href=\"py-modindex.html\" title=\"Python Module Index\"\n",
      "             >modules</a> |</li>\n",
      "\n",
      "          <li><img src=\"_static/py.svg\" alt=\"python logo\" style=\"vertical-align: middle; margin-top: -1px\"/></li>\n",
      "          <li><a href=\"https://www.python.org/\">Python</a> &#187;</li>\n",
      "          <li class=\"switchers\">\n",
      "            <div class=\"language_switcher_placeholder\"></div>\n",
      "            <div class=\"version_switcher_placeholder\"></div>\n",
      "          </li>\n",
      "          <li>\n",
      "              \n",
      "          </li>\n",
      "    <li id=\"cpython-language-and-version\">\n",
      "      <a href=\"#\">3.11.0 Documentation</a> &#187;\n",
      "    </li>\n",
      "\n",
      "        <li class=\"nav-item nav-item-this\"><a href=\"\"></a></li>\n",
      "                <li class=\"right\">\n",
      "                    \n",
      "\n",
      "    <div class=\"inline-search\" role=\"search\">\n",
      "        <form class=\"inline-search\" action=\"search.html\" method=\"get\">\n",
      "          <input placeholder=\"Quick search\" aria-label=\"Quick search\" type=\"text\" name=\"q\" />\n",
      "          <input type=\"submit\" value=\"Go\" />\n",
      "          <input type=\"hidden\" name=\"check_keywords\" value=\"yes\" />\n",
      "          <input type=\"hidden\" name=\"area\" value=\"default\" />\n",
      "        </form>\n",
      "    </div>\n",
      "                     |\n",
      "                </li>\n",
      "            \n",
      "      </ul>\n",
      "    </div>    \n",
      "\n",
      "    <div class=\"document\">\n",
      "      <div class=\"documentwrapper\">\n",
      "        <div class=\"bodywrapper\">\n",
      "          <div class=\"body\" role=\"main\">\n",
      "            \n",
      "  <h1>Python 3.11.0 documentation</h1>\n",
      "  <p>\n",
      "  Welcome! This is the official documentation for Python 3.11.0.\n",
      "  </p>\n",
      "  <p><strong>Parts of the documentation:</strong></p>\n",
      "  <table class=\"contentstable\" align=\"center\"><tr>\n",
      "    <td width=\"50%\">\n",
      "      <p class=\"biglink\"><a class=\"biglink\" href=\"whatsnew/3.11.html\">What's new in Python 3.11?</a><br/>\n",
      "        <span class=\"linkdescr\"> or <a href=\"whatsnew/index.html\">all \"What's new\" documents</a> since 2.0</span></p>\n",
      "      <p class=\"biglink\"><a class=\"biglink\" href=\"tutorial/index.html\">Tutorial</a><br/>\n",
      "         <span class=\"linkdescr\">start here</span></p>\n",
      "      <p class=\"biglink\"><a class=\"biglink\" href=\"library/index.html\">Library Reference</a><br/>\n",
      "         <span class=\"linkdescr\">keep this under your pillow</span></p>\n",
      "      <p class=\"biglink\"><a class=\"biglink\" href=\"reference/index.html\">Language Reference</a><br/>\n",
      "         <span class=\"linkdescr\">describes syntax and language elements</span></p>\n",
      "      <p class=\"biglink\"><a class=\"biglink\" href=\"using/index.html\">Python Setup and Usage</a><br/>\n",
      "         <span class=\"linkdescr\">how to use Python on different platforms</span></p>\n",
      "      <p class=\"biglink\"><a class=\"biglink\" href=\"howto/index.html\">Python HOWTOs</a><br/>\n",
      "         <span class=\"linkdescr\">in-depth documents on specific topics</span></p>\n",
      "    </td><td width=\"50%\">\n",
      "      <p class=\"biglink\"><a class=\"biglink\" href=\"installing/index.html\">Installing Python Modules</a><br/>\n",
      "         <span class=\"linkdescr\">installing from the Python Package Index &amp; other sources</span></p>\n",
      "      <p class=\"biglink\"><a class=\"biglink\" href=\"distributing/index.html\">Distributing Python Modules</a><br/>\n",
      "         <span class=\"linkdescr\">publishing modules for installation by others</span></p>\n",
      "      <p class=\"biglink\"><a class=\"biglink\" href=\"extending/index.html\">Extending and Embedding</a><br/>\n",
      "         <span class=\"linkdescr\">tutorial for C/C++ programmers</span></p>\n",
      "      <p class=\"biglink\"><a class=\"biglink\" href=\"c-api/index.html\">Python/C API</a><br/>\n",
      "         <span class=\"linkdescr\">reference for C/C++ programmers</span></p>\n",
      "      <p class=\"biglink\"><a class=\"biglink\" href=\"faq/index.html\">FAQs</a><br/>\n",
      "         <span class=\"linkdescr\">frequently asked questions (with answers!)</span></p>\n",
      "    </td></tr>\n",
      "  </table>\n",
      "\n",
      "  <p><strong>Indices and tables:</strong></p>\n",
      "  <table class=\"contentstable\" align=\"center\"><tr>\n",
      "    <td width=\"50%\">\n",
      "      <p class=\"biglink\"><a class=\"biglink\" href=\"py-modindex.html\">Global Module Index</a><br/>\n",
      "         <span class=\"linkdescr\">quick access to all modules</span></p>\n",
      "      <p class=\"biglink\"><a class=\"biglink\" href=\"genindex.html\">General Index</a><br/>\n",
      "         <span class=\"linkdescr\">all functions, classes, terms</span></p>\n",
      "      <p class=\"biglink\"><a class=\"biglink\" href=\"glossary.html\">Glossary</a><br/>\n",
      "         <span class=\"linkdescr\">the most important terms explained</span></p>\n",
      "    </td><td width=\"50%\">\n",
      "      <p class=\"biglink\"><a class=\"biglink\" href=\"search.html\">Search page</a><br/>\n",
      "         <span class=\"linkdescr\">search this documentation</span></p>\n",
      "      <p class=\"biglink\"><a class=\"biglink\" href=\"contents.html\">Complete Table of Contents</a><br/>\n",
      "         <span class=\"linkdescr\">lists all sections and subsections</span></p>\n",
      "    </td></tr>\n",
      "  </table>\n",
      "\n",
      "  <p><strong>Meta information:</strong></p>\n",
      "  <table class=\"contentstable\" align=\"center\"><tr>\n",
      "    <td width=\"50%\">\n",
      "      <p class=\"biglink\"><a class=\"biglink\" href=\"bugs.html\">Reporting bugs</a></p>\n",
      "      <p class=\"biglink\"><a class=\"biglink\" href=\"https://devguide.python.org/docquality/#helping-with-documentation\">Contributing to Docs</a></p>\n",
      "      <p class=\"biglink\"><a class=\"biglink\" href=\"about.html\">About the documentation</a></p>\n",
      "    </td><td width=\"50%\">\n",
      "      <p class=\"biglink\"><a class=\"biglink\" href=\"license.html\">History and License of Python</a></p>\n",
      "      <p class=\"biglink\"><a class=\"biglink\" href=\"copyright.html\">Copyright</a></p>\n",
      "    </td></tr>\n",
      "  </table>\n",
      "\n",
      "            <div class=\"clearer\"></div>\n",
      "          </div>\n",
      "        </div>\n",
      "      </div>\n",
      "      <div class=\"sphinxsidebar\" role=\"navigation\" aria-label=\"main navigation\">\n",
      "        <div class=\"sphinxsidebarwrapper\">\n",
      "\n",
      "\n",
      "<h3>Download</h3>\n",
      "<p><a href=\"download.html\">Download these documents</a></p>\n",
      "\n",
      "\n",
      "<h3>Docs by version</h3>\n",
      "<ul>\n",
      "  \n",
      "  <li><a href=\"https://docs.python.org/3.12/\">Python 3.12 (in development)</a></li>\n",
      "  \n",
      "  <li><a href=\"https://docs.python.org/3.11/\">Python 3.11 (stable)</a></li>\n",
      "  \n",
      "  <li><a href=\"https://docs.python.org/3.10/\">Python 3.10 (stable)</a></li>\n",
      "  \n",
      "  <li><a href=\"https://docs.python.org/3.9/\">Python 3.9 (security-fixes)</a></li>\n",
      "  \n",
      "  <li><a href=\"https://docs.python.org/3.8/\">Python 3.8 (security-fixes)</a></li>\n",
      "  \n",
      "  <li><a href=\"https://docs.python.org/3.7/\">Python 3.7 (security-fixes)</a></li>\n",
      "  \n",
      "  <li><a href=\"https://docs.python.org/3.6/\">Python 3.6 (EOL)</a></li>\n",
      "  \n",
      "  <li><a href=\"https://docs.python.org/3.5/\">Python 3.5 (EOL)</a></li>\n",
      "  \n",
      "  <li><a href=\"https://docs.python.org/2.7/\">Python 2.7 (EOL)</a></li>\n",
      "  \n",
      "  <li><a href=\"https://www.python.org/doc/versions/\">All versions</a></li>\n",
      "</ul>\n",
      "\n",
      "\n",
      "<h3>Other resources</h3>\n",
      "<ul>\n",
      "  \n",
      "  <li><a href=\"https://www.python.org/dev/peps/\">PEP Index</a></li>\n",
      "  <li><a href=\"https://wiki.python.org/moin/BeginnersGuide\">Beginner's Guide</a></li>\n",
      "  <li><a href=\"https://wiki.python.org/moin/PythonBooks\">Book List</a></li>\n",
      "  <li><a href=\"https://www.python.org/doc/av/\">Audio/Visual Talks</a></li>\n",
      "  <li><a href=\"https://devguide.python.org/\">Python Developerâs Guide</a></li>\n",
      "</ul>\n",
      "        </div>\n",
      "      </div>\n",
      "      <div class=\"clearer\"></div>\n",
      "    </div>  \n",
      "    <div class=\"related\" role=\"navigation\" aria-label=\"related navigation\">\n",
      "      <h3>Navigation</h3>\n",
      "      <ul>\n",
      "        <li class=\"right\" style=\"margin-right: 10px\">\n",
      "          <a href=\"genindex.html\" title=\"General Index\"\n",
      "             >index</a></li>\n",
      "        <li class=\"right\" >\n",
      "          <a href=\"py-modindex.html\" title=\"Python Module Index\"\n",
      "             >modules</a> |</li>\n",
      "\n",
      "          <li><img src=\"_static/py.svg\" alt=\"python logo\" style=\"vertical-align: middle; margin-top: -1px\"/></li>\n",
      "          <li><a href=\"https://www.python.org/\">Python</a> &#187;</li>\n",
      "          <li class=\"switchers\">\n",
      "            <div class=\"language_switcher_placeholder\"></div>\n",
      "            <div class=\"version_switcher_placeholder\"></div>\n",
      "          </li>\n",
      "          <li>\n",
      "              \n",
      "          </li>\n",
      "    <li id=\"cpython-language-and-version\">\n",
      "      <a href=\"#\">3.11.0 Documentation</a> &#187;\n",
      "    </li>\n",
      "\n",
      "        <li class=\"nav-item nav-item-this\"><a href=\"\"></a></li>\n",
      "                <li class=\"right\">\n",
      "                    \n",
      "\n",
      "    <div class=\"inline-search\" role=\"search\">\n",
      "        <form class=\"inline-search\" action=\"search.html\" method=\"get\">\n",
      "          <input placeholder=\"Quick search\" aria-label=\"Quick search\" type=\"text\" name=\"q\" />\n",
      "          <input type=\"submit\" value=\"Go\" />\n",
      "          <input type=\"hidden\" name=\"check_keywords\" value=\"yes\" />\n",
      "          <input type=\"hidden\" name=\"area\" value=\"default\" />\n",
      "        </form>\n",
      "    </div>\n",
      "                     |\n",
      "                </li>\n",
      "            \n",
      "      </ul>\n",
      "    </div>  \n",
      "    <div class=\"footer\">\n",
      "    &copy; <a href=\"copyright.html\">Copyright</a> 2001-2022, Python Software Foundation.\n",
      "    <br />\n",
      "    This page is licensed under the Python Software Foundation License Version 2.\n",
      "    <br />\n",
      "    Examples, recipes, and other code in the documentation are additionally licensed under the Zero Clause BSD License.\n",
      "    <br />\n",
      "    See <a href=\"/license.html\">History and License</a> for more information.<br />\n",
      "    <br />\n",
      "\n",
      "    The Python Software Foundation is a non-profit corporation.\n",
      "<a href=\"https://www.python.org/psf/donations/\">Please donate.</a>\n",
      "<br />\n",
      "    <br />\n",
      "\n",
      "    Last updated on Nov 10, 2022.\n",
      "    <a href=\"/bugs.html\">Found a bug</a>?\n",
      "    <br />\n",
      "\n",
      "    Created using <a href=\"https://www.sphinx-doc.org/\">Sphinx</a> 4.5.0.\n",
      "    </div>\n",
      "\n",
      "    <script type=\"text/javascript\" src=\"_static/switchers.js\"></script>\n",
      "  </body>\n",
      "</html>\n"
     ]
    }
   ],
   "source": [
    "print(z.text)"
   ]
  },
  {
   "cell_type": "code",
   "execution_count": 14,
   "id": "2e90f0d4",
   "metadata": {},
   "outputs": [],
   "source": [
    "z_picture = requests.get(\"https://docs.python.org/3/_static/py.svg\") # Картинка"
   ]
  },
  {
   "cell_type": "code",
   "execution_count": 20,
   "id": "b8ba217d",
   "metadata": {},
   "outputs": [
    {
     "name": "stdout",
     "output_type": "stream",
     "text": [
      "image/svg+xml\n",
      "<svg width=\"16\" height=\"16\" viewBox=\"0 0 16 16\" fill=\"none\" xmlns=\"http://www.w3.org/2000/svg\">\n",
      "<path d=\"M7.90472 0.00013087C7.24498 0.00316295 6.61493 0.0588153 6.06056 0.15584C4.42744 0.441207 4.13093 1.0385 4.13093 2.14002V3.59479H7.99018V4.07971H4.13093H2.68259C1.56098 4.07971 0.578874 4.7465 0.271682 6.01495C-0.0826595 7.4689 -0.0983765 8.37618 0.271682 9.89434C0.546011 11.0244 1.20115 11.8296 2.32275 11.8296H3.64965V10.0856C3.64965 8.82574 4.75178 7.71441 6.06056 7.71441H9.91531C10.9883 7.71441 11.8449 6.84056 11.8449 5.77472V2.14002C11.8449 1.10556 10.9626 0.328486 9.91531 0.15584C9.25235 0.046687 8.56447 -0.00290121 7.90472 0.00013087ZM5.81767 1.17017C6.2163 1.17017 6.54184 1.49742 6.54184 1.89978C6.54184 2.30072 6.2163 2.62494 5.81767 2.62494C5.41761 2.62494 5.0935 2.30072 5.0935 1.89978C5.0935 1.49742 5.41761 1.17017 5.81767 1.17017Z\" fill=\"url(#paint0_linear)\"/>\n",
      "<path d=\"M12.3262 4.07971V5.77472C12.3262 7.08883 11.1998 8.19488 9.9153 8.19488H6.06055C5.00466 8.19488 4.13092 9.0887 4.13092 10.1346V13.7693C4.13092 14.8037 5.04038 15.4122 6.06055 15.709C7.28217 16.0642 8.45364 16.1285 9.9153 15.709C10.8869 15.4307 11.8449 14.8708 11.8449 13.7693V12.3145H7.99017V11.8296H11.8449H13.7746C14.8962 11.8296 15.3141 11.0558 15.7042 9.89434C16.1071 8.69865 16.09 7.5488 15.7042 6.01495C15.427 4.91058 14.8976 4.07971 13.7746 4.07971H12.3262ZM10.1582 13.2843C10.5583 13.2843 10.8824 13.6086 10.8824 14.0095C10.8824 14.4119 10.5583 14.7391 10.1582 14.7391C9.75955 14.7391 9.43402 14.4119 9.43402 14.0095C9.43402 13.6086 9.75955 13.2843 10.1582 13.2843Z\" fill=\"url(#paint1_linear)\"/>\n",
      "<defs>\n",
      "<linearGradient id=\"paint0_linear\" x1=\"1.25961e-08\" y1=\"1.08223e-08\" x2=\"8.81664\" y2=\"7.59597\" gradientUnits=\"userSpaceOnUse\">\n",
      "<stop stop-color=\"#5A9FD4\"/>\n",
      "<stop offset=\"1\" stop-color=\"#306998\"/>\n",
      "</linearGradient>\n",
      "<linearGradient id=\"paint1_linear\" x1=\"10.0654\" y1=\"13.8872\" x2=\"6.91912\" y2=\"9.42957\" gradientUnits=\"userSpaceOnUse\">\n",
      "<stop stop-color=\"#FFD43B\"/>\n",
      "<stop offset=\"1\" stop-color=\"#FFE873\"/>\n",
      "</linearGradient>\n",
      "</defs>\n",
      "</svg>\n",
      "\n"
     ]
    }
   ],
   "source": [
    "print(z_picture.headers['Content-Type'])\n",
    "print(z_picture.text)\n",
    "# Its possible to write this information down in the file (let's look use_files)"
   ]
  },
  {
   "cell_type": "code",
   "execution_count": 35,
   "id": "d775e452",
   "metadata": {},
   "outputs": [
    {
     "name": "stdout",
     "output_type": "stream",
     "text": [
      "<Response [200]>\n",
      "text/html; charset=utf-8\n",
      "<!DOCTYPE html><html class=i-ua_js_no lang=ru><meta charset=utf-8><meta http-equiv=X-UA-Compatible content=\"IE=edge\"><title>Яндекс</title><script nonce=7166>document.documentElement.className=\"i-ua_js_yes i-ua_svg_yes\"+((screen.deviceXDPI&&screen.logicalXDPI&&screen.deviceXDPI/screen.logicalXDPI||window.devicePixelRatio)>1?\" i-ua_retina_yes\":\"\");</script><meta name=theme-color content=\"#fff\"><meta name=color-scheme content=light><meta name=theme-color content=\"#fff\"><link rel=preconnect href=\"ht\n"
     ]
    }
   ],
   "source": [
    "y_search = requests.get(\"https://yandex.ru/search/?text=Stepic\")\n",
    "print(y_search)\n",
    "print(y_search.headers['Content-Type'])\n",
    "print(y_search.text[:500])"
   ]
  },
  {
   "cell_type": "code",
   "execution_count": 33,
   "id": "3163f567",
   "metadata": {
    "scrolled": false
   },
   "outputs": [
    {
     "name": "stdout",
     "output_type": "stream",
     "text": [
      "<Response [200]>\n",
      "text/html; charset=utf-8\n",
      "https://yandex.ru/search/?text=Stepic\n",
      "<!DOCTYPE html><html class=i-ua_js_no lang=ru><meta charset=utf-8><meta http-equiv=X-UA-Compatible content=\"IE=edge\"><title>Яндекс</title><script nonce=1696>document.documentElement.className=\"i-ua_js_yes i-ua_svg_yes\"+((screen.deviceXDPI&&screen.logicalXDPI&&screen.deviceXDPI/screen.logicalXDPI||window.devicePixelRatio)>1?\" i-ua_retina_yes\":\"\");</script><meta name=theme-color content=\"#fff\"><meta name=color-scheme content=light><meta name=theme-color content=\"#fff\"><link rel=preconnect href=\"ht\n"
     ]
    }
   ],
   "source": [
    "# In get Можно использовать params\n",
    "y_search = requests.get(\"https://yandex.ru/search/\",\n",
    "                       params={\"text\": \"Stepic\"}\n",
    "                       )\n",
    "print(y_search)\n",
    "print(y_search.headers['Content-Type'])\n",
    "print(y_search.url)                     # Видно, что это идентичный прошлому запрос \n",
    "print(y_search.text[:500]) # Чтобы все не выводить"
   ]
  },
  {
   "cell_type": "markdown",
   "id": "643dd54a",
   "metadata": {},
   "source": [
    "**Задачка Степик**"
   ]
  },
  {
   "cell_type": "code",
   "execution_count": 38,
   "id": "f2b6c3a8",
   "metadata": {},
   "outputs": [],
   "source": [
    "z_step = requests.get(\n",
    "    \"https://stepic.org/media/attachments/lesson/24472/sample0.html\"\n",
    ")"
   ]
  },
  {
   "cell_type": "code",
   "execution_count": 39,
   "id": "0834b485",
   "metadata": {},
   "outputs": [
    {
     "name": "stdout",
     "output_type": "stream",
     "text": [
      "<Response [200]>\n",
      "text/html; charset=utf-8\n",
      "https://stepic.org/media/attachments/lesson/24472/sample0.html\n",
      "<a href=\"https://stepic.org/media/attachments/lesson/24472/sample1.html\">1</a>\n",
      "\n"
     ]
    }
   ],
   "source": [
    "print(z_step)\n",
    "print(z_step.headers['Content-Type'])\n",
    "print(z_step.url)\n",
    "print(z_step.text[:500])"
   ]
  },
  {
   "cell_type": "code",
   "execution_count": 41,
   "id": "0d6ac56c",
   "metadata": {},
   "outputs": [
    {
     "name": "stdout",
     "output_type": "stream",
     "text": [
      "Yes\n"
     ]
    }
   ],
   "source": [
    "ch = \"https://stepic.org/media/attachments/lesson/24472/sample1.html\"\n",
    "if ch in z_step.text:\n",
    "    print(\"Yes\")\n",
    "else:\n",
    "    print(\"No\")"
   ]
  },
  {
   "cell_type": "code",
   "execution_count": null,
   "id": "4601d744",
   "metadata": {},
   "outputs": [],
   "source": []
  }
 ],
 "metadata": {
  "kernelspec": {
   "display_name": "Python 3 (ipykernel)",
   "language": "python",
   "name": "python3"
  },
  "language_info": {
   "codemirror_mode": {
    "name": "ipython",
    "version": 3
   },
   "file_extension": ".py",
   "mimetype": "text/x-python",
   "name": "python",
   "nbconvert_exporter": "python",
   "pygments_lexer": "ipython3",
   "version": "3.9.15"
  }
 },
 "nbformat": 4,
 "nbformat_minor": 5
}
