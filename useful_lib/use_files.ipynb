{
 "cells": [
  {
   "cell_type": "markdown",
   "id": "264e5db1",
   "metadata": {},
   "source": [
    "'r' - reed - открыть для чтения (по умолчанию),  \n",
    "'w' - write - открыть для записи (старый файл сотрется целиком),   \n",
    "'a' - append - открыть для записи в конец (добавление),  \n",
    "'b' - binary - открыть в бинарном режиме,  \n",
    "'t' - text - открыть в текстовом режиме (по умолчанию),  \n",
    "'r+' - открыть для чтения и записи,  \n",
    "'w+' - открыть для чтения и записи, старый файл сотрется полностью. \n",
    "  \n",
    "**Не забываем закрывать файл _.close()** \n",
    "  \n",
    "x = f.read() - прочитает весь файл (или кол-во указанных символов)  \n",
    "x.splitlines() - в лист занесет файл построчно (1 эл-т - 1 строка)\n",
    "y = f.readline() - прочитает 1 строку, по очереди, с символом переноса  \n",
    "y.rstrip() - удалит символ переноса  \n",
    "  \n",
    "**Объект имеет итератор \"_.repr\", выводит построчно**  \n",
    "  \n",
    "  \n",
    "  \n",
    "with open(somethin) as file, open(someth) as another_file, e.t.c.: - откроет и закроет поле использования\n"
   ]
  },
  {
   "cell_type": "code",
   "execution_count": 38,
   "id": "c5f45d2f",
   "metadata": {
    "scrolled": true
   },
   "outputs": [
    {
     "data": {
      "text/plain": [
       "'Бизнес-аналитика, финансовая аналитика, аналитика данных.\\nПрофессиональные навыки\\nАнализ данных, Машинное обучение, SQL, MySQL, Python, Pandas, Финансовая аналитика, Microsoft Excel, Математическая статистика\\n\\nStepik\\nАпрель 2021 — По\\xa0наст.\\xa0время\\nПройденный курс\\nРяд курсов\\nУлучшенные навыки\\nPython, Pandas, SQL, MySQL, Математическая статистика, ООП'"
      ]
     },
     "execution_count": 38,
     "metadata": {},
     "output_type": "execute_result"
    }
   ],
   "source": [
    "f = open('/home/anton/Доки/test', 'r')\n",
    "# Прочитает\n",
    "x = f.read()\n",
    "x"
   ]
  },
  {
   "cell_type": "code",
   "execution_count": 39,
   "id": "05e4a0d5",
   "metadata": {
    "scrolled": true
   },
   "outputs": [
    {
     "name": "stdout",
     "output_type": "stream",
     "text": [
      "['Бизнес-аналитика, финансовая аналитика, аналитика данных.', 'Профессиональные навыки', 'Анализ данных, Машинное обучение, SQL, MySQL, Python, Pandas, Финансовая аналитика, Microsoft Excel, Математическая статистика', '', 'Stepik', 'Апрель 2021 — По\\xa0наст.\\xa0время', 'Пройденный курс', 'Ряд курсов', 'Улучшенные навыки', 'Python, Pandas, SQL, MySQL, Математическая статистика, ООП']\n"
     ]
    }
   ],
   "source": [
    "# Занесет построчно в список\n",
    "file_lst = x.splitlines()\n",
    "print(file_lst)\n",
    "f.close()"
   ]
  },
  {
   "cell_type": "code",
   "execution_count": 43,
   "id": "dd8fc923",
   "metadata": {},
   "outputs": [
    {
     "name": "stdout",
     "output_type": "stream",
     "text": [
      "Бизнес-аналитика, финансовая аналитика, аналитика данных.\n",
      "\n"
     ]
    }
   ],
   "source": [
    "#Так мы прочитаем построчно. Так и делают чаще всего, но так будет символ переноса в конце\n",
    "f = open('/home/anton/Доки/test', 'r')\n",
    "y = f.readline()\n",
    "print(y)          # Знак переноса не видим, т.к. print, но видим перескок в выводе на след строку\n",
    "f.close()"
   ]
  },
  {
   "cell_type": "code",
   "execution_count": 44,
   "id": "f24ab4bb",
   "metadata": {
    "scrolled": true
   },
   "outputs": [
    {
     "name": "stdout",
     "output_type": "stream",
     "text": [
      "Бизнес-аналитика, финансовая аналитика, аналитика данных.\n"
     ]
    }
   ],
   "source": [
    "# А так не будет символа переноса\n",
    "f = open('/home/anton/Доки/test', 'r')\n",
    "y = f.readline()\n",
    "print(y.rstrip())       # И нет перескока на след строку\n",
    "f.close()"
   ]
  },
  {
   "cell_type": "code",
   "execution_count": 47,
   "id": "ebf63a88",
   "metadata": {},
   "outputs": [
    {
     "name": "stdout",
     "output_type": "stream",
     "text": [
      "'Бизнес-аналитика, финансовая аналитика, аналитика данных.'\n",
      "'Профессиональные навыки'\n",
      "'Анализ данных, Машинное обучение, SQL, MySQL, Python, Pandas, Финансовая аналитика, Microsoft Excel, Математическая статистика'\n",
      "''\n",
      "'Stepik'\n",
      "'Апрель 2021 — По\\xa0наст.\\xa0время'\n",
      "'Пройденный курс'\n",
      "'Ряд курсов'\n",
      "'Улучшенные навыки'\n",
      "'Python, Pandas, SQL, MySQL, Математическая статистика, ООП'\n"
     ]
    }
   ],
   "source": [
    "f = open('/home/anton/Доки/test', 'r')\n",
    "\n",
    "for line in f:\n",
    "    line = line.rstrip()\n",
    "    print(repr(line))\n",
    "    \n",
    "f.close()"
   ]
  },
  {
   "cell_type": "code",
   "execution_count": 53,
   "id": "b2bd1cd8",
   "metadata": {},
   "outputs": [],
   "source": [
    "f1 = open('/home/anton/Доки/xxx.txt1', 'w')\n",
    "\n",
    "f1.write(\"Hello\")   #так напишет без переноса строки все слитно\n",
    "f1.write(\"Hello\\n\") # а так перенесет строку\n",
    "f1.write(\"Ant\")\n",
    "\n",
    "f1.close()"
   ]
  },
  {
   "cell_type": "code",
   "execution_count": 55,
   "id": "4a869f0f",
   "metadata": {},
   "outputs": [
    {
     "name": "stdout",
     "output_type": "stream",
     "text": [
      "HelloHello\n",
      "Ant\n"
     ]
    }
   ],
   "source": [
    "f1_r = open('/home/anton/Доки/xxx.txt1')\n",
    "print(f1_r.read())      # После 1-го нет переноса, после второго есть\n",
    "f1_r.close()"
   ]
  },
  {
   "cell_type": "code",
   "execution_count": 57,
   "id": "343fc4d5",
   "metadata": {},
   "outputs": [],
   "source": [
    "# Если известны строки, можно записать в файл сджоинив из списка\n",
    "f1 = open('/home/anton/Доки/xxx.txt1', 'w')\n",
    "rows = [\"Hello\", \"Ant\", \"Mih\"]\n",
    "f1.write(\"\\n\".join(rows))\n",
    "f1.close()"
   ]
  },
  {
   "cell_type": "code",
   "execution_count": 58,
   "id": "6d337dce",
   "metadata": {},
   "outputs": [
    {
     "name": "stdout",
     "output_type": "stream",
     "text": [
      "Hello\n",
      "Ant\n",
      "Mih\n"
     ]
    }
   ],
   "source": [
    "f1_r = open('/home/anton/Доки/xxx.txt1')\n",
    "print(f1_r.read())      # Записалось из списка, как указали в join, с переносом строки\n",
    "f1_r.close()"
   ]
  },
  {
   "cell_type": "code",
   "execution_count": 59,
   "id": "87553b38",
   "metadata": {},
   "outputs": [],
   "source": [
    "# И не обязательно вставлять перенос в join, например, можно вставить пробел\n",
    "f1 = open('/home/anton/Доки/xxx.txt1', 'w')\n",
    "rows = [\"Hello\", \"Ant\", \"Mih\"]\n",
    "f1.write(\" \".join(rows))\n",
    "f1.close()"
   ]
  },
  {
   "cell_type": "code",
   "execution_count": 60,
   "id": "5f3bb5a4",
   "metadata": {},
   "outputs": [
    {
     "name": "stdout",
     "output_type": "stream",
     "text": [
      "Hello Ant Mih\n"
     ]
    }
   ],
   "source": [
    "f1_r = open('/home/anton/Доки/xxx.txt1')\n",
    "print(f1_r.read())       # Теперь пробел в join \n",
    "f1_r.close()"
   ]
  },
  {
   "cell_type": "markdown",
   "id": "2ed8a54f",
   "metadata": {},
   "source": [
    "**А это уже добавление в конец - \"a\"**"
   ]
  },
  {
   "cell_type": "code",
   "execution_count": 61,
   "id": "74c81e12",
   "metadata": {},
   "outputs": [],
   "source": [
    "# Запустим скрипт 3 раза и увидим три эти строчки добавленными в файл\n",
    "# Знаки переноса и др символы не забыть!\n",
    "for _ in range(3):\n",
    "    f1 = open('/home/anton/Доки/xxx.txt1', 'a')\n",
    "    rows = [\"\\nHello\", \"Everyone!\"]\n",
    "    f1.write(\"___\".join(rows))\n",
    "    f1.close()"
   ]
  },
  {
   "cell_type": "code",
   "execution_count": 62,
   "id": "2ebdc8e1",
   "metadata": {},
   "outputs": [
    {
     "name": "stdout",
     "output_type": "stream",
     "text": [
      "Hello Ant Mih\n",
      "Hello___Everyone!\n",
      "Hello___Everyone!\n",
      "Hello___Everyone!\n"
     ]
    }
   ],
   "source": [
    "f1_r = open('/home/anton/Доки/xxx.txt1')\n",
    "print(f1_r.read())       # Добавили к нашему файлу, в конец, а не перезаписали, как \"w\"\n",
    "f1_r.close()"
   ]
  },
  {
   "cell_type": "markdown",
   "id": "5629feb3",
   "metadata": {},
   "source": [
    "**Это дом задание, взять из файла и переписать строки в обратной последовательности в новый файл**"
   ]
  },
  {
   "cell_type": "code",
   "execution_count": 64,
   "id": "7c21f61a",
   "metadata": {},
   "outputs": [],
   "source": [
    "file = open('/home/anton/Доки/test', 'r')\n",
    "new_file = open('/home/anton/Доки/new_test', 'w')\n",
    "new_file.write(\"\\n\".join(file.read().splitlines()[-1::-1]))\n",
    "file.close()\n",
    "new_file.close()"
   ]
  },
  {
   "cell_type": "code",
   "execution_count": 65,
   "id": "a16a2908",
   "metadata": {
    "scrolled": true
   },
   "outputs": [
    {
     "name": "stdout",
     "output_type": "stream",
     "text": [
      "Бизнес-аналитика, финансовая аналитика, аналитика данных.\n",
      "Профессиональные навыки\n",
      "Анализ данных, Машинное обучение, SQL, MySQL, Python, Pandas, Финансовая аналитика, Microsoft Excel, Математическая статистика\n",
      "\n",
      "Stepik\n",
      "Апрель 2021 — По наст. время\n",
      "Пройденный курс\n",
      "Ряд курсов\n",
      "Улучшенные навыки\n",
      "Python, Pandas, SQL, MySQL, Математическая статистика, ООП\n"
     ]
    }
   ],
   "source": [
    "f1_r = open('/home/anton/Доки/test')\n",
    "print(f1_r.read())                    # Start file\n",
    "f1_r.close()"
   ]
  },
  {
   "cell_type": "code",
   "execution_count": 66,
   "id": "9a1fdc1b",
   "metadata": {
    "scrolled": true
   },
   "outputs": [
    {
     "name": "stdout",
     "output_type": "stream",
     "text": [
      "Python, Pandas, SQL, MySQL, Математическая статистика, ООП\n",
      "Улучшенные навыки\n",
      "Ряд курсов\n",
      "Пройденный курс\n",
      "Апрель 2021 — По наст. время\n",
      "Stepik\n",
      "\n",
      "Анализ данных, Машинное обучение, SQL, MySQL, Python, Pandas, Финансовая аналитика, Microsoft Excel, Математическая статистика\n",
      "Профессиональные навыки\n",
      "Бизнес-аналитика, финансовая аналитика, аналитика данных.\n"
     ]
    }
   ],
   "source": [
    "f1_r = open('/home/anton/Доки/new_test')\n",
    "print(f1_r.read())                     # End file\n",
    "f1_r.close()"
   ]
  },
  {
   "cell_type": "markdown",
   "id": "3b31d177",
   "metadata": {},
   "source": [
    "## with"
   ]
  },
  {
   "cell_type": "code",
   "execution_count": 67,
   "id": "f46e51ff",
   "metadata": {},
   "outputs": [],
   "source": [
    "# Так более правильно, файлы сами закрываются после использования\n",
    "with open('/home/anton/Доки/xxx.txt1', 'r') as file, \\\n",
    "     open('/home/anton/Доки/new_xxx.txt1', 'w') as new_file:\n",
    "    \n",
    "    new_file.write(\"\\n\".join(file.read().splitlines()[-1::-1]))"
   ]
  },
  {
   "cell_type": "code",
   "execution_count": 68,
   "id": "b2a4eb94",
   "metadata": {
    "scrolled": true
   },
   "outputs": [
    {
     "name": "stdout",
     "output_type": "stream",
     "text": [
      "Hello___Everyone!\n",
      "Hello___Everyone!\n",
      "Hello___Everyone!\n",
      "Hello Ant Mih\n"
     ]
    }
   ],
   "source": [
    "f1_r = open('/home/anton/Доки/new_xxx.txt1')\n",
    "print(f1_r.read())                          # Rows chenge\n",
    "f1_r.close()"
   ]
  },
  {
   "cell_type": "markdown",
   "id": "f5b69d62",
   "metadata": {},
   "source": [
    "### Работа с директориями и расположением"
   ]
  },
  {
   "cell_type": "code",
   "execution_count": 73,
   "id": "0e1208f2",
   "metadata": {},
   "outputs": [],
   "source": [
    "import os\n",
    "import os.path"
   ]
  },
  {
   "cell_type": "code",
   "execution_count": 74,
   "id": "404c1bed",
   "metadata": {},
   "outputs": [
    {
     "name": "stdout",
     "output_type": "stream",
     "text": [
      "/home/anton/notebooks\n"
     ]
    }
   ],
   "source": [
    "# Наша дирректория\n",
    "print(os.getcwd())"
   ]
  },
  {
   "cell_type": "code",
   "execution_count": 75,
   "id": "3039d801",
   "metadata": {},
   "outputs": [
    {
     "name": "stdout",
     "output_type": "stream",
     "text": [
      "['fizTeh_lessons_DS', 'useful_lib', 'course_ml_RUS', '.git', 'course_ml_ENG', 'course_Airflow', 'work', '.ipynb_checkpoints', 'course_ml_ANg2012_Octave', 'course_DLSchool', 'SOBES.ipynb', 'mlcourse_ai_bonus_assignments.zip', 'progect_Auto_price', 'GIT.ipynb', 'course_ml_ANg', 'progect_House_price']\n"
     ]
    }
   ],
   "source": [
    "# Файлы, которые есть в нашей дирректории\n",
    "print(os.listdir())"
   ]
  },
  {
   "cell_type": "code",
   "execution_count": 77,
   "id": "c4571c1f",
   "metadata": {},
   "outputs": [
    {
     "name": "stdout",
     "output_type": "stream",
     "text": [
      "['use_RE.ipynb', 'use_git.ipynb', 'use_Requests.ipynb', '.git', 'use_matplotlib', 'Scipy_Stats', 'plotly_interactive.ipynb', '.ipynb_checkpoints', 'use_files.ipynb', 'use_numpy.ipynb']\n"
     ]
    }
   ],
   "source": [
    "# Можно посмотреть любую директорию\n",
    "print(os.listdir(\"/home/anton/notebooks/useful_lib\"))"
   ]
  },
  {
   "cell_type": "code",
   "execution_count": 79,
   "id": "69f20568",
   "metadata": {},
   "outputs": [
    {
     "data": {
      "text/plain": [
       "True"
      ]
     },
     "execution_count": 79,
     "metadata": {},
     "output_type": "execute_result"
    }
   ],
   "source": [
    "# Так убедимся в наличии или отсутствии файла или директории\n",
    "os.path.exists('useful_lib/use_git.ipynb')"
   ]
  },
  {
   "cell_type": "code",
   "execution_count": 80,
   "id": "2f5a5c46",
   "metadata": {},
   "outputs": [
    {
     "data": {
      "text/plain": [
       "False"
      ]
     },
     "execution_count": 80,
     "metadata": {},
     "output_type": "execute_result"
    }
   ],
   "source": [
    "os.path.exists('useful_lib/Нет_такого.ipynb')"
   ]
  },
  {
   "cell_type": "code",
   "execution_count": 81,
   "id": "f5a611e6",
   "metadata": {},
   "outputs": [
    {
     "data": {
      "text/plain": [
       "True"
      ]
     },
     "execution_count": 81,
     "metadata": {},
     "output_type": "execute_result"
    }
   ],
   "source": [
    "os.path.exists('/home/anton/notebooks')"
   ]
  },
  {
   "cell_type": "code",
   "execution_count": 82,
   "id": "d9fa86d1",
   "metadata": {},
   "outputs": [
    {
     "data": {
      "text/plain": [
       "False"
      ]
     },
     "execution_count": 82,
     "metadata": {},
     "output_type": "execute_result"
    }
   ],
   "source": [
    "os.path.exists('/home/anton/note')"
   ]
  },
  {
   "cell_type": "code",
   "execution_count": 83,
   "id": "6b2f43d3",
   "metadata": {},
   "outputs": [
    {
     "data": {
      "text/plain": [
       "False"
      ]
     },
     "execution_count": 83,
     "metadata": {},
     "output_type": "execute_result"
    }
   ],
   "source": [
    "# А так проверим файл это или директория\n",
    "os.path.isfile('/home/anton/notebooks')"
   ]
  },
  {
   "cell_type": "code",
   "execution_count": 84,
   "id": "dfc5996d",
   "metadata": {},
   "outputs": [
    {
     "data": {
      "text/plain": [
       "True"
      ]
     },
     "execution_count": 84,
     "metadata": {},
     "output_type": "execute_result"
    }
   ],
   "source": [
    "os.path.isdir('/home/anton/notebooks')"
   ]
  },
  {
   "cell_type": "code",
   "execution_count": 85,
   "id": "5a0e7a29",
   "metadata": {},
   "outputs": [
    {
     "data": {
      "text/plain": [
       "True"
      ]
     },
     "execution_count": 85,
     "metadata": {},
     "output_type": "execute_result"
    }
   ],
   "source": [
    "os.path.isfile('useful_lib/use_git.ipynb')"
   ]
  },
  {
   "cell_type": "code",
   "execution_count": 86,
   "id": "0f4ef195",
   "metadata": {},
   "outputs": [
    {
     "data": {
      "text/plain": [
       "False"
      ]
     },
     "execution_count": 86,
     "metadata": {},
     "output_type": "execute_result"
    }
   ],
   "source": [
    "os.path.isdir('useful_lib/use_git.ipynb')"
   ]
  },
  {
   "cell_type": "code",
   "execution_count": 89,
   "id": "2d706385",
   "metadata": {},
   "outputs": [
    {
     "data": {
      "text/plain": [
       "'/home/anton/notebooks/use_RE.ipynb'"
      ]
     },
     "execution_count": 89,
     "metadata": {},
     "output_type": "execute_result"
    }
   ],
   "source": [
    "# Так узнаем абсолютный путь до файла\n",
    "os.path.abspath('use_RE.ipynb')"
   ]
  },
  {
   "cell_type": "code",
   "execution_count": 94,
   "id": "1e296492",
   "metadata": {},
   "outputs": [],
   "source": [
    "# Переход в другую директорию\n",
    "os.chdir(\"/home/anton/notebooks/useful_lib\")"
   ]
  },
  {
   "cell_type": "code",
   "execution_count": 95,
   "id": "6089177a",
   "metadata": {},
   "outputs": [
    {
     "data": {
      "text/plain": [
       "['use_RE.ipynb',\n",
       " 'use_git.ipynb',\n",
       " 'use_Requests.ipynb',\n",
       " '.git',\n",
       " 'use_matplotlib',\n",
       " 'Scipy_Stats',\n",
       " 'plotly_interactive.ipynb',\n",
       " '.ipynb_checkpoints',\n",
       " 'use_files.ipynb',\n",
       " 'use_numpy.ipynb']"
      ]
     },
     "execution_count": 95,
     "metadata": {},
     "output_type": "execute_result"
    }
   ],
   "source": [
    "# Перешли в useful_lib\n",
    "os.listdir()"
   ]
  },
  {
   "cell_type": "code",
   "execution_count": 19,
   "id": "6e89599e",
   "metadata": {
    "scrolled": true
   },
   "outputs": [],
   "source": [
    "# Так пробежимся по всем папкам, файлам и директориям!!!!!!!!!!!!!!!!!!!!!!!!!!!!!!\n",
    "# Будет ооочень большой файл\n",
    "\n",
    "#for current_dirs, dirs, files in os.walk(\".\"):\n",
    "#    print(current_dirs, dirs, files)"
   ]
  },
  {
   "cell_type": "markdown",
   "id": "6e8ebc3d",
   "metadata": {},
   "source": [
    "**Копирование**"
   ]
  },
  {
   "cell_type": "code",
   "execution_count": 96,
   "id": "5f69c0fb",
   "metadata": {},
   "outputs": [
    {
     "data": {
      "text/plain": [
       "'use_git_copy.ipynb'"
      ]
     },
     "execution_count": 96,
     "metadata": {},
     "output_type": "execute_result"
    }
   ],
   "source": [
    "import shutil\n",
    "\n",
    "# Сейчас мы в директории useful_lib\n",
    "shutil.copy('use_git.ipynb', 'use_git_copy.ipynb')"
   ]
  },
  {
   "cell_type": "markdown",
   "id": "4290a421",
   "metadata": {},
   "source": [
    "### Домашнее задание 2"
   ]
  },
  {
   "cell_type": "code",
   "execution_count": 3,
   "id": "a6a20ad5",
   "metadata": {},
   "outputs": [],
   "source": [
    "import zipfile\n",
    "import re"
   ]
  },
  {
   "cell_type": "code",
   "execution_count": 11,
   "id": "1a635702",
   "metadata": {},
   "outputs": [
    {
     "data": {
      "text/plain": [
       "'/home/anton/Доки/less'"
      ]
     },
     "execution_count": 11,
     "metadata": {},
     "output_type": "execute_result"
    }
   ],
   "source": [
    "# Сейчас мы здесь\n",
    "os.getcwd()"
   ]
  },
  {
   "cell_type": "code",
   "execution_count": 10,
   "id": "2569522c",
   "metadata": {},
   "outputs": [],
   "source": [
    "# Перейдем в директорию со сжатой папкой\n",
    "os.chdir(\"/home/anton/Доки/less\")"
   ]
  },
  {
   "cell_type": "code",
   "execution_count": 12,
   "id": "80ecbc0b",
   "metadata": {},
   "outputs": [
    {
     "name": "stdout",
     "output_type": "stream",
     "text": [
      "['sample/', 'sample/a/', 'sample/a/a.py', 'sample/a/c/', 'sample/a/c/ac1.py', 'sample/a/c/ac2.py', 'sample/a/c/not_py.txt', 'sample/a/not_py.txt', 'sample/b/', 'sample/b/b.py', 'sample/c/', 'sample/not_py.txt', 'sample/sample.py']\n"
     ]
    }
   ],
   "source": [
    "# Распаковываем папку и записываем имена всех файлов и путей к ним в список\n",
    "with zipfile.ZipFile('sample.zip', 'r') as sam:\n",
    "    s = sam.namelist()\n",
    "    print(s)"
   ]
  },
  {
   "cell_type": "code",
   "execution_count": 15,
   "id": "09f26742",
   "metadata": {},
   "outputs": [],
   "source": [
    "# I added slice [-3:] to It checked only \".py\" at the end of the string\n",
    "with zipfile.ZipFile('sample.zip', 'r') as sam, open(\"my_sample.txt\", \"w\") as my_s:\n",
    "    s = [_ for _ in sam.namelist() if re.search(\".py\", _[-3:])]\n",
    "    res = sorted(list(set([_[:-(_[-1::-1].index(\"/\") + 1)] for _ in s])))\n",
    "    my_s.write(\"\\n\".join(res))\n"
   ]
  },
  {
   "cell_type": "code",
   "execution_count": 14,
   "id": "f95bdcd9",
   "metadata": {},
   "outputs": [],
   "source": [
    "# Using main data\n",
    "with zipfile.ZipFile('main.zip', 'r') as sam, open(\"my_main.txt\", \"w\") as my_s:\n",
    "    # s = [_ for _ in sam.namelist() if re.search(\".py\", _[-3:])]\n",
    "    s = [st for st in sam.namelist() if st.endswith(\".py\")]                   # It's more correctly!!!!\n",
    "    res = sorted(list(set([_[:-(_[-1::-1].index(\"/\") + 1)] for _ in s])))\n",
    "    my_s.write(\"\\n\".join(res))\n"
   ]
  },
  {
   "cell_type": "code",
   "execution_count": null,
   "id": "67f953bd",
   "metadata": {},
   "outputs": [],
   "source": []
  }
 ],
 "metadata": {
  "kernelspec": {
   "display_name": "Python 3 (ipykernel)",
   "language": "python",
   "name": "python3"
  },
  "language_info": {
   "codemirror_mode": {
    "name": "ipython",
    "version": 3
   },
   "file_extension": ".py",
   "mimetype": "text/x-python",
   "name": "python",
   "nbconvert_exporter": "python",
   "pygments_lexer": "ipython3",
   "version": "3.9.15"
  }
 },
 "nbformat": 4,
 "nbformat_minor": 5
}
