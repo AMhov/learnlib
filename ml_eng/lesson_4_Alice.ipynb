{
 "cells": [
  {
   "cell_type": "markdown",
   "id": "eb5f6578",
   "metadata": {},
   "source": [
    "## Алиса или нет?"
   ]
  },
  {
   "cell_type": "markdown",
   "id": "cd44347b",
   "metadata": {},
   "source": [
    "**Есть трэйн выборка посещения людьми разных сайтов (до 10) и один из них идентифицирован как Алиса!  \n",
    "Надо обучиться так, чтобы в тестовых выборках тоже определять Алису!**"
   ]
  },
  {
   "cell_type": "code",
   "execution_count": 1,
   "id": "2299727c",
   "metadata": {},
   "outputs": [],
   "source": [
    "import numpy as np\n",
    "import pandas as pd\n",
    "import matplotlib.pyplot as plt\n",
    "import seaborn as sns\n",
    "import pickle\n",
    "from scipy.sparse import csr_matrix, hstack\n",
    "from sklearn.metrics import roc_auc_score\n",
    "from sklearn.model_selection import train_test_split\n",
    "import datetime\n",
    "from sklearn.preprocessing import StandardScaler"
   ]
  },
  {
   "cell_type": "code",
   "execution_count": 7,
   "id": "f5360e16",
   "metadata": {
    "scrolled": false
   },
   "outputs": [
    {
     "data": {
      "text/html": [
       "<div>\n",
       "<style scoped>\n",
       "    .dataframe tbody tr th:only-of-type {\n",
       "        vertical-align: middle;\n",
       "    }\n",
       "\n",
       "    .dataframe tbody tr th {\n",
       "        vertical-align: top;\n",
       "    }\n",
       "\n",
       "    .dataframe thead th {\n",
       "        text-align: right;\n",
       "    }\n",
       "</style>\n",
       "<table border=\"1\" class=\"dataframe\">\n",
       "  <thead>\n",
       "    <tr style=\"text-align: right;\">\n",
       "      <th></th>\n",
       "      <th>site1</th>\n",
       "      <th>time1</th>\n",
       "      <th>site2</th>\n",
       "      <th>time2</th>\n",
       "      <th>site3</th>\n",
       "      <th>time3</th>\n",
       "      <th>site4</th>\n",
       "      <th>time4</th>\n",
       "      <th>site5</th>\n",
       "      <th>time5</th>\n",
       "      <th>...</th>\n",
       "      <th>time6</th>\n",
       "      <th>site7</th>\n",
       "      <th>time7</th>\n",
       "      <th>site8</th>\n",
       "      <th>time8</th>\n",
       "      <th>site9</th>\n",
       "      <th>time9</th>\n",
       "      <th>site10</th>\n",
       "      <th>time10</th>\n",
       "      <th>target</th>\n",
       "    </tr>\n",
       "    <tr>\n",
       "      <th>session_id</th>\n",
       "      <th></th>\n",
       "      <th></th>\n",
       "      <th></th>\n",
       "      <th></th>\n",
       "      <th></th>\n",
       "      <th></th>\n",
       "      <th></th>\n",
       "      <th></th>\n",
       "      <th></th>\n",
       "      <th></th>\n",
       "      <th></th>\n",
       "      <th></th>\n",
       "      <th></th>\n",
       "      <th></th>\n",
       "      <th></th>\n",
       "      <th></th>\n",
       "      <th></th>\n",
       "      <th></th>\n",
       "      <th></th>\n",
       "      <th></th>\n",
       "      <th></th>\n",
       "    </tr>\n",
       "  </thead>\n",
       "  <tbody>\n",
       "    <tr>\n",
       "      <th>1</th>\n",
       "      <td>718</td>\n",
       "      <td>2014-02-20 10:02:45</td>\n",
       "      <td>NaN</td>\n",
       "      <td>NaN</td>\n",
       "      <td>NaN</td>\n",
       "      <td>NaN</td>\n",
       "      <td>NaN</td>\n",
       "      <td>NaN</td>\n",
       "      <td>NaN</td>\n",
       "      <td>NaN</td>\n",
       "      <td>...</td>\n",
       "      <td>NaN</td>\n",
       "      <td>NaN</td>\n",
       "      <td>NaN</td>\n",
       "      <td>NaN</td>\n",
       "      <td>NaN</td>\n",
       "      <td>NaN</td>\n",
       "      <td>NaN</td>\n",
       "      <td>NaN</td>\n",
       "      <td>NaN</td>\n",
       "      <td>0</td>\n",
       "    </tr>\n",
       "    <tr>\n",
       "      <th>2</th>\n",
       "      <td>890</td>\n",
       "      <td>2014-02-22 11:19:50</td>\n",
       "      <td>941.0</td>\n",
       "      <td>2014-02-22 11:19:50</td>\n",
       "      <td>3847.0</td>\n",
       "      <td>2014-02-22 11:19:51</td>\n",
       "      <td>941.0</td>\n",
       "      <td>2014-02-22 11:19:51</td>\n",
       "      <td>942.0</td>\n",
       "      <td>2014-02-22 11:19:51</td>\n",
       "      <td>...</td>\n",
       "      <td>2014-02-22 11:19:51</td>\n",
       "      <td>3847.0</td>\n",
       "      <td>2014-02-22 11:19:52</td>\n",
       "      <td>3846.0</td>\n",
       "      <td>2014-02-22 11:19:52</td>\n",
       "      <td>1516.0</td>\n",
       "      <td>2014-02-22 11:20:15</td>\n",
       "      <td>1518.0</td>\n",
       "      <td>2014-02-22 11:20:16</td>\n",
       "      <td>0</td>\n",
       "    </tr>\n",
       "    <tr>\n",
       "      <th>3</th>\n",
       "      <td>14769</td>\n",
       "      <td>2013-12-16 16:40:17</td>\n",
       "      <td>39.0</td>\n",
       "      <td>2013-12-16 16:40:18</td>\n",
       "      <td>14768.0</td>\n",
       "      <td>2013-12-16 16:40:19</td>\n",
       "      <td>14769.0</td>\n",
       "      <td>2013-12-16 16:40:19</td>\n",
       "      <td>37.0</td>\n",
       "      <td>2013-12-16 16:40:19</td>\n",
       "      <td>...</td>\n",
       "      <td>2013-12-16 16:40:19</td>\n",
       "      <td>14768.0</td>\n",
       "      <td>2013-12-16 16:40:20</td>\n",
       "      <td>14768.0</td>\n",
       "      <td>2013-12-16 16:40:21</td>\n",
       "      <td>14768.0</td>\n",
       "      <td>2013-12-16 16:40:22</td>\n",
       "      <td>14768.0</td>\n",
       "      <td>2013-12-16 16:40:24</td>\n",
       "      <td>0</td>\n",
       "    </tr>\n",
       "    <tr>\n",
       "      <th>4</th>\n",
       "      <td>782</td>\n",
       "      <td>2014-03-28 10:52:12</td>\n",
       "      <td>782.0</td>\n",
       "      <td>2014-03-28 10:52:42</td>\n",
       "      <td>782.0</td>\n",
       "      <td>2014-03-28 10:53:12</td>\n",
       "      <td>782.0</td>\n",
       "      <td>2014-03-28 10:53:42</td>\n",
       "      <td>782.0</td>\n",
       "      <td>2014-03-28 10:54:12</td>\n",
       "      <td>...</td>\n",
       "      <td>2014-03-28 10:54:42</td>\n",
       "      <td>782.0</td>\n",
       "      <td>2014-03-28 10:55:12</td>\n",
       "      <td>782.0</td>\n",
       "      <td>2014-03-28 10:55:42</td>\n",
       "      <td>782.0</td>\n",
       "      <td>2014-03-28 10:56:12</td>\n",
       "      <td>782.0</td>\n",
       "      <td>2014-03-28 10:56:42</td>\n",
       "      <td>0</td>\n",
       "    </tr>\n",
       "    <tr>\n",
       "      <th>5</th>\n",
       "      <td>22</td>\n",
       "      <td>2014-02-28 10:53:05</td>\n",
       "      <td>177.0</td>\n",
       "      <td>2014-02-28 10:55:22</td>\n",
       "      <td>175.0</td>\n",
       "      <td>2014-02-28 10:55:22</td>\n",
       "      <td>178.0</td>\n",
       "      <td>2014-02-28 10:55:23</td>\n",
       "      <td>177.0</td>\n",
       "      <td>2014-02-28 10:55:23</td>\n",
       "      <td>...</td>\n",
       "      <td>2014-02-28 10:55:59</td>\n",
       "      <td>175.0</td>\n",
       "      <td>2014-02-28 10:55:59</td>\n",
       "      <td>177.0</td>\n",
       "      <td>2014-02-28 10:55:59</td>\n",
       "      <td>177.0</td>\n",
       "      <td>2014-02-28 10:57:06</td>\n",
       "      <td>178.0</td>\n",
       "      <td>2014-02-28 10:57:11</td>\n",
       "      <td>0</td>\n",
       "    </tr>\n",
       "  </tbody>\n",
       "</table>\n",
       "<p>5 rows × 21 columns</p>\n",
       "</div>"
      ],
      "text/plain": [
       "            site1                time1  site2                time2    site3  \\\n",
       "session_id                                                                    \n",
       "1             718  2014-02-20 10:02:45    NaN                  NaN      NaN   \n",
       "2             890  2014-02-22 11:19:50  941.0  2014-02-22 11:19:50   3847.0   \n",
       "3           14769  2013-12-16 16:40:17   39.0  2013-12-16 16:40:18  14768.0   \n",
       "4             782  2014-03-28 10:52:12  782.0  2014-03-28 10:52:42    782.0   \n",
       "5              22  2014-02-28 10:53:05  177.0  2014-02-28 10:55:22    175.0   \n",
       "\n",
       "                          time3    site4                time4  site5  \\\n",
       "session_id                                                             \n",
       "1                           NaN      NaN                  NaN    NaN   \n",
       "2           2014-02-22 11:19:51    941.0  2014-02-22 11:19:51  942.0   \n",
       "3           2013-12-16 16:40:19  14769.0  2013-12-16 16:40:19   37.0   \n",
       "4           2014-03-28 10:53:12    782.0  2014-03-28 10:53:42  782.0   \n",
       "5           2014-02-28 10:55:22    178.0  2014-02-28 10:55:23  177.0   \n",
       "\n",
       "                          time5  ...                time6    site7  \\\n",
       "session_id                       ...                                 \n",
       "1                           NaN  ...                  NaN      NaN   \n",
       "2           2014-02-22 11:19:51  ...  2014-02-22 11:19:51   3847.0   \n",
       "3           2013-12-16 16:40:19  ...  2013-12-16 16:40:19  14768.0   \n",
       "4           2014-03-28 10:54:12  ...  2014-03-28 10:54:42    782.0   \n",
       "5           2014-02-28 10:55:23  ...  2014-02-28 10:55:59    175.0   \n",
       "\n",
       "                          time7    site8                time8    site9  \\\n",
       "session_id                                                               \n",
       "1                           NaN      NaN                  NaN      NaN   \n",
       "2           2014-02-22 11:19:52   3846.0  2014-02-22 11:19:52   1516.0   \n",
       "3           2013-12-16 16:40:20  14768.0  2013-12-16 16:40:21  14768.0   \n",
       "4           2014-03-28 10:55:12    782.0  2014-03-28 10:55:42    782.0   \n",
       "5           2014-02-28 10:55:59    177.0  2014-02-28 10:55:59    177.0   \n",
       "\n",
       "                          time9   site10               time10 target  \n",
       "session_id                                                            \n",
       "1                           NaN      NaN                  NaN      0  \n",
       "2           2014-02-22 11:20:15   1518.0  2014-02-22 11:20:16      0  \n",
       "3           2013-12-16 16:40:22  14768.0  2013-12-16 16:40:24      0  \n",
       "4           2014-03-28 10:56:12    782.0  2014-03-28 10:56:42      0  \n",
       "5           2014-02-28 10:57:06    178.0  2014-02-28 10:57:11      0  \n",
       "\n",
       "[5 rows x 21 columns]"
      ]
     },
     "execution_count": 7,
     "metadata": {},
     "output_type": "execute_result"
    }
   ],
   "source": [
    "train = pd.read_csv(\"train_sessions.csv\", index_col='session_id')\n",
    "train.head()"
   ]
  },
  {
   "cell_type": "code",
   "execution_count": 3,
   "id": "3f15d17b",
   "metadata": {},
   "outputs": [
    {
     "name": "stdout",
     "output_type": "stream",
     "text": [
      "<class 'pandas.core.frame.DataFrame'>\n",
      "Int64Index: 253561 entries, 1 to 253561\n",
      "Data columns (total 21 columns):\n",
      " #   Column  Non-Null Count   Dtype  \n",
      "---  ------  --------------   -----  \n",
      " 0   site1   253561 non-null  int64  \n",
      " 1   time1   253561 non-null  object \n",
      " 2   site2   250098 non-null  float64\n",
      " 3   time2   250098 non-null  object \n",
      " 4   site3   246919 non-null  float64\n",
      " 5   time3   246919 non-null  object \n",
      " 6   site4   244321 non-null  float64\n",
      " 7   time4   244321 non-null  object \n",
      " 8   site5   241829 non-null  float64\n",
      " 9   time5   241829 non-null  object \n",
      " 10  site6   239495 non-null  float64\n",
      " 11  time6   239495 non-null  object \n",
      " 12  site7   237297 non-null  float64\n",
      " 13  time7   237297 non-null  object \n",
      " 14  site8   235224 non-null  float64\n",
      " 15  time8   235224 non-null  object \n",
      " 16  site9   233084 non-null  float64\n",
      " 17  time9   233084 non-null  object \n",
      " 18  site10  231052 non-null  float64\n",
      " 19  time10  231052 non-null  object \n",
      " 20  target  253561 non-null  int64  \n",
      "dtypes: float64(9), int64(2), object(10)\n",
      "memory usage: 42.6+ MB\n"
     ]
    }
   ],
   "source": [
    "train.info()"
   ]
  },
  {
   "cell_type": "code",
   "execution_count": 12,
   "id": "300f7994",
   "metadata": {
    "scrolled": true
   },
   "outputs": [
    {
     "data": {
      "text/plain": [
       "session_id\n",
       "251175    2013-02-12 16:25:10\n",
       "196388    2013-02-12 16:32:27\n",
       "172448    2013-02-12 16:32:53\n",
       "70129     2013-02-12 16:33:50\n",
       "167235    2013-02-12 16:33:55\n",
       "                 ...         \n",
       "188473    2014-04-15 17:42:12\n",
       "40139     2014-04-15 17:42:36\n",
       "205622    2014-04-15 17:42:49\n",
       "60720     2014-04-15 18:06:02\n",
       "244233    2014-04-15 18:07:48\n",
       "Name: time1, Length: 2297, dtype: object"
      ]
     },
     "execution_count": 12,
     "metadata": {},
     "output_type": "execute_result"
    }
   ],
   "source": [
    "train[train.target == 1]['time1']"
   ]
  },
  {
   "cell_type": "markdown",
   "id": "a88943b5",
   "metadata": {},
   "source": [
    "### Получение колонки дней недели"
   ]
  },
  {
   "cell_type": "code",
   "execution_count": 35,
   "id": "a238c4d2",
   "metadata": {},
   "outputs": [
    {
     "data": {
      "text/plain": [
       "Timestamp('2013-02-12 16:25:10')"
      ]
     },
     "execution_count": 35,
     "metadata": {},
     "output_type": "execute_result"
    }
   ],
   "source": [
    "train[train.target == 1]['time1'].sort_values().iloc[0]"
   ]
  },
  {
   "cell_type": "code",
   "execution_count": 34,
   "id": "7464d563",
   "metadata": {},
   "outputs": [
    {
     "data": {
      "text/plain": [
       "datetime.date(2013, 2, 12)"
      ]
     },
     "execution_count": 34,
     "metadata": {},
     "output_type": "execute_result"
    }
   ],
   "source": [
    "train[train.target == 1]['time1'].sort_values().iloc[0].date()"
   ]
  },
  {
   "cell_type": "code",
   "execution_count": 33,
   "id": "cf12a15a",
   "metadata": {
    "scrolled": true
   },
   "outputs": [
    {
     "data": {
      "text/plain": [
       "2"
      ]
     },
     "execution_count": 33,
     "metadata": {},
     "output_type": "execute_result"
    }
   ],
   "source": [
    "train[train.target == 1]['time1'].sort_values().iloc[0].date().isoweekday()"
   ]
  },
  {
   "cell_type": "code",
   "execution_count": 38,
   "id": "6e2e1160",
   "metadata": {
    "scrolled": true
   },
   "outputs": [
    {
     "data": {
      "text/plain": [
       "session_id\n",
       "1    4\n",
       "2    6\n",
       "3    1\n",
       "4    5\n",
       "5    5\n",
       "Name: time1, dtype: int64"
      ]
     },
     "execution_count": 38,
     "metadata": {},
     "output_type": "execute_result"
    }
   ],
   "source": [
    "day_week = train['time1'].apply(lambda time1: time1.date().isoweekday()) # Получили все дни недели у всех\n",
    "day_week.head()"
   ]
  },
  {
   "cell_type": "code",
   "execution_count": 47,
   "id": "333a8bc9",
   "metadata": {},
   "outputs": [
    {
     "data": {
      "text/plain": [
       "3    55971\n",
       "2    48659\n",
       "4    44147\n",
       "5    41140\n",
       "1    40513\n",
       "6    15799\n",
       "7     7332\n",
       "Name: time1, dtype: int64"
      ]
     },
     "execution_count": 47,
     "metadata": {},
     "output_type": "execute_result"
    }
   ],
   "source": [
    "day_week.value_counts()"
   ]
  },
  {
   "cell_type": "markdown",
   "id": "3ee9f42f",
   "metadata": {},
   "source": [
    "### Другие вычисления"
   ]
  },
  {
   "cell_type": "code",
   "execution_count": 4,
   "id": "73cc0caa",
   "metadata": {
    "scrolled": true
   },
   "outputs": [
    {
     "data": {
      "text/plain": [
       "0    251264\n",
       "1      2297\n",
       "Name: target, dtype: int64"
      ]
     },
     "execution_count": 4,
     "metadata": {},
     "output_type": "execute_result"
    }
   ],
   "source": [
    "train['target'].value_counts()"
   ]
  },
  {
   "cell_type": "code",
   "execution_count": 130,
   "id": "5c7e73ae",
   "metadata": {},
   "outputs": [
    {
     "data": {
      "text/plain": [
       "22509"
      ]
     },
     "execution_count": 130,
     "metadata": {},
     "output_type": "execute_result"
    }
   ],
   "source": [
    "train.shape[0] - train.dropna().shape[0]"
   ]
  },
  {
   "cell_type": "code",
   "execution_count": 131,
   "id": "f24208a5",
   "metadata": {
    "scrolled": true
   },
   "outputs": [
    {
     "data": {
      "text/plain": [
       "0.91"
      ]
     },
     "execution_count": 131,
     "metadata": {},
     "output_type": "execute_result"
    }
   ],
   "source": [
    "round(train['target'].value_counts()[1] / train['target'].value_counts()[0] * 100, 2)"
   ]
  },
  {
   "cell_type": "code",
   "execution_count": 132,
   "id": "00c0a04b",
   "metadata": {},
   "outputs": [
    {
     "data": {
      "text/plain": [
       "session_id\n",
       "251175    2013-02-12 16:25:10\n",
       "Name: time1, dtype: object"
      ]
     },
     "execution_count": 132,
     "metadata": {},
     "output_type": "execute_result"
    }
   ],
   "source": [
    "train[train.target == 1]['time1'].sort_values().head(1)"
   ]
  },
  {
   "cell_type": "code",
   "execution_count": 5,
   "id": "70b86f64",
   "metadata": {},
   "outputs": [],
   "source": [
    "test = pd.read_csv(\"test_sessions.csv\", index_col='session_id');"
   ]
  },
  {
   "cell_type": "code",
   "execution_count": 6,
   "id": "ef00c487",
   "metadata": {},
   "outputs": [
    {
     "name": "stdout",
     "output_type": "stream",
     "text": [
      "<class 'pandas.core.frame.DataFrame'>\n",
      "Int64Index: 82797 entries, 1 to 82797\n",
      "Data columns (total 20 columns):\n",
      " #   Column  Non-Null Count  Dtype  \n",
      "---  ------  --------------  -----  \n",
      " 0   site1   82797 non-null  int64  \n",
      " 1   time1   82797 non-null  object \n",
      " 2   site2   81308 non-null  float64\n",
      " 3   time2   81308 non-null  object \n",
      " 4   site3   80075 non-null  float64\n",
      " 5   time3   80075 non-null  object \n",
      " 6   site4   79182 non-null  float64\n",
      " 7   time4   79182 non-null  object \n",
      " 8   site5   78341 non-null  float64\n",
      " 9   time5   78341 non-null  object \n",
      " 10  site6   77566 non-null  float64\n",
      " 11  time6   77566 non-null  object \n",
      " 12  site7   76840 non-null  float64\n",
      " 13  time7   76840 non-null  object \n",
      " 14  site8   76151 non-null  float64\n",
      " 15  time8   76151 non-null  object \n",
      " 16  site9   75484 non-null  float64\n",
      " 17  time9   75484 non-null  object \n",
      " 18  site10  74806 non-null  float64\n",
      " 19  time10  74806 non-null  object \n",
      "dtypes: float64(9), int64(1), object(10)\n",
      "memory usage: 13.3+ MB\n"
     ]
    }
   ],
   "source": [
    "test.info()"
   ]
  },
  {
   "cell_type": "markdown",
   "id": "b5eb2d99",
   "metadata": {},
   "source": [
    "## **Колонки со временем приведем ко времени**"
   ]
  },
  {
   "cell_type": "code",
   "execution_count": 13,
   "id": "b4d98a20",
   "metadata": {},
   "outputs": [
    {
     "data": {
      "text/plain": [
       "['time1',\n",
       " 'time2',\n",
       " 'time3',\n",
       " 'time4',\n",
       " 'time5',\n",
       " 'time6',\n",
       " 'time7',\n",
       " 'time8',\n",
       " 'time9',\n",
       " 'time10']"
      ]
     },
     "execution_count": 13,
     "metadata": {},
     "output_type": "execute_result"
    }
   ],
   "source": [
    "times = ['time%s' % i for i in range(1, 11)] #Прикольная штука, быстро подставить индекс в название\n",
    "times"
   ]
  },
  {
   "cell_type": "code",
   "execution_count": 14,
   "id": "a3cdaf8c",
   "metadata": {},
   "outputs": [],
   "source": [
    "train[times] = train[times].apply(pd.to_datetime) # Можно посмотреть типы данных через инфо До и После"
   ]
  },
  {
   "cell_type": "code",
   "execution_count": 15,
   "id": "ed9ccdb9",
   "metadata": {},
   "outputs": [],
   "source": [
    "test[times] = test[times].apply(pd.to_datetime) # И в тестовой выборке тоже приводим к временному формату данных"
   ]
  },
  {
   "cell_type": "code",
   "execution_count": 137,
   "id": "baca9837",
   "metadata": {},
   "outputs": [],
   "source": [
    "train.sort_values(by='time1', inplace=True) # Отсортируем по времени тайм1 (только зачем?)"
   ]
  },
  {
   "cell_type": "code",
   "execution_count": 138,
   "id": "be93a705",
   "metadata": {},
   "outputs": [
    {
     "data": {
      "text/html": [
       "<div>\n",
       "<style scoped>\n",
       "    .dataframe tbody tr th:only-of-type {\n",
       "        vertical-align: middle;\n",
       "    }\n",
       "\n",
       "    .dataframe tbody tr th {\n",
       "        vertical-align: top;\n",
       "    }\n",
       "\n",
       "    .dataframe thead th {\n",
       "        text-align: right;\n",
       "    }\n",
       "</style>\n",
       "<table border=\"1\" class=\"dataframe\">\n",
       "  <thead>\n",
       "    <tr style=\"text-align: right;\">\n",
       "      <th></th>\n",
       "      <th>site1</th>\n",
       "      <th>time1</th>\n",
       "      <th>site2</th>\n",
       "      <th>time2</th>\n",
       "      <th>site3</th>\n",
       "      <th>time3</th>\n",
       "      <th>site4</th>\n",
       "      <th>time4</th>\n",
       "      <th>site5</th>\n",
       "      <th>time5</th>\n",
       "      <th>...</th>\n",
       "      <th>time6</th>\n",
       "      <th>site7</th>\n",
       "      <th>time7</th>\n",
       "      <th>site8</th>\n",
       "      <th>time8</th>\n",
       "      <th>site9</th>\n",
       "      <th>time9</th>\n",
       "      <th>site10</th>\n",
       "      <th>time10</th>\n",
       "      <th>target</th>\n",
       "    </tr>\n",
       "    <tr>\n",
       "      <th>session_id</th>\n",
       "      <th></th>\n",
       "      <th></th>\n",
       "      <th></th>\n",
       "      <th></th>\n",
       "      <th></th>\n",
       "      <th></th>\n",
       "      <th></th>\n",
       "      <th></th>\n",
       "      <th></th>\n",
       "      <th></th>\n",
       "      <th></th>\n",
       "      <th></th>\n",
       "      <th></th>\n",
       "      <th></th>\n",
       "      <th></th>\n",
       "      <th></th>\n",
       "      <th></th>\n",
       "      <th></th>\n",
       "      <th></th>\n",
       "      <th></th>\n",
       "      <th></th>\n",
       "    </tr>\n",
       "  </thead>\n",
       "  <tbody>\n",
       "    <tr>\n",
       "      <th>21669</th>\n",
       "      <td>56</td>\n",
       "      <td>2013-01-12 08:05:57</td>\n",
       "      <td>55.0</td>\n",
       "      <td>2013-01-12 08:05:57</td>\n",
       "      <td>NaN</td>\n",
       "      <td>NaT</td>\n",
       "      <td>NaN</td>\n",
       "      <td>NaT</td>\n",
       "      <td>NaN</td>\n",
       "      <td>NaT</td>\n",
       "      <td>...</td>\n",
       "      <td>NaT</td>\n",
       "      <td>NaN</td>\n",
       "      <td>NaT</td>\n",
       "      <td>NaN</td>\n",
       "      <td>NaT</td>\n",
       "      <td>NaN</td>\n",
       "      <td>NaT</td>\n",
       "      <td>NaN</td>\n",
       "      <td>NaT</td>\n",
       "      <td>0</td>\n",
       "    </tr>\n",
       "    <tr>\n",
       "      <th>54843</th>\n",
       "      <td>56</td>\n",
       "      <td>2013-01-12 08:37:23</td>\n",
       "      <td>55.0</td>\n",
       "      <td>2013-01-12 08:37:23</td>\n",
       "      <td>56.0</td>\n",
       "      <td>2013-01-12 09:07:07</td>\n",
       "      <td>55.0</td>\n",
       "      <td>2013-01-12 09:07:09</td>\n",
       "      <td>NaN</td>\n",
       "      <td>NaT</td>\n",
       "      <td>...</td>\n",
       "      <td>NaT</td>\n",
       "      <td>NaN</td>\n",
       "      <td>NaT</td>\n",
       "      <td>NaN</td>\n",
       "      <td>NaT</td>\n",
       "      <td>NaN</td>\n",
       "      <td>NaT</td>\n",
       "      <td>NaN</td>\n",
       "      <td>NaT</td>\n",
       "      <td>0</td>\n",
       "    </tr>\n",
       "    <tr>\n",
       "      <th>77292</th>\n",
       "      <td>946</td>\n",
       "      <td>2013-01-12 08:50:13</td>\n",
       "      <td>946.0</td>\n",
       "      <td>2013-01-12 08:50:14</td>\n",
       "      <td>951.0</td>\n",
       "      <td>2013-01-12 08:50:15</td>\n",
       "      <td>946.0</td>\n",
       "      <td>2013-01-12 08:50:15</td>\n",
       "      <td>946.0</td>\n",
       "      <td>2013-01-12 08:50:16</td>\n",
       "      <td>...</td>\n",
       "      <td>2013-01-12 08:50:16</td>\n",
       "      <td>948.0</td>\n",
       "      <td>2013-01-12 08:50:16</td>\n",
       "      <td>784.0</td>\n",
       "      <td>2013-01-12 08:50:16</td>\n",
       "      <td>949.0</td>\n",
       "      <td>2013-01-12 08:50:17</td>\n",
       "      <td>946.0</td>\n",
       "      <td>2013-01-12 08:50:17</td>\n",
       "      <td>0</td>\n",
       "    </tr>\n",
       "    <tr>\n",
       "      <th>114021</th>\n",
       "      <td>945</td>\n",
       "      <td>2013-01-12 08:50:17</td>\n",
       "      <td>948.0</td>\n",
       "      <td>2013-01-12 08:50:17</td>\n",
       "      <td>949.0</td>\n",
       "      <td>2013-01-12 08:50:18</td>\n",
       "      <td>948.0</td>\n",
       "      <td>2013-01-12 08:50:18</td>\n",
       "      <td>945.0</td>\n",
       "      <td>2013-01-12 08:50:18</td>\n",
       "      <td>...</td>\n",
       "      <td>2013-01-12 08:50:18</td>\n",
       "      <td>947.0</td>\n",
       "      <td>2013-01-12 08:50:19</td>\n",
       "      <td>945.0</td>\n",
       "      <td>2013-01-12 08:50:19</td>\n",
       "      <td>946.0</td>\n",
       "      <td>2013-01-12 08:50:19</td>\n",
       "      <td>946.0</td>\n",
       "      <td>2013-01-12 08:50:20</td>\n",
       "      <td>0</td>\n",
       "    </tr>\n",
       "    <tr>\n",
       "      <th>146670</th>\n",
       "      <td>947</td>\n",
       "      <td>2013-01-12 08:50:20</td>\n",
       "      <td>950.0</td>\n",
       "      <td>2013-01-12 08:50:20</td>\n",
       "      <td>948.0</td>\n",
       "      <td>2013-01-12 08:50:20</td>\n",
       "      <td>947.0</td>\n",
       "      <td>2013-01-12 08:50:21</td>\n",
       "      <td>950.0</td>\n",
       "      <td>2013-01-12 08:50:21</td>\n",
       "      <td>...</td>\n",
       "      <td>2013-01-12 08:50:21</td>\n",
       "      <td>946.0</td>\n",
       "      <td>2013-01-12 08:50:21</td>\n",
       "      <td>951.0</td>\n",
       "      <td>2013-01-12 08:50:22</td>\n",
       "      <td>946.0</td>\n",
       "      <td>2013-01-12 08:50:22</td>\n",
       "      <td>947.0</td>\n",
       "      <td>2013-01-12 08:50:22</td>\n",
       "      <td>0</td>\n",
       "    </tr>\n",
       "  </tbody>\n",
       "</table>\n",
       "<p>5 rows × 21 columns</p>\n",
       "</div>"
      ],
      "text/plain": [
       "            site1               time1  site2               time2  site3  \\\n",
       "session_id                                                                \n",
       "21669          56 2013-01-12 08:05:57   55.0 2013-01-12 08:05:57    NaN   \n",
       "54843          56 2013-01-12 08:37:23   55.0 2013-01-12 08:37:23   56.0   \n",
       "77292         946 2013-01-12 08:50:13  946.0 2013-01-12 08:50:14  951.0   \n",
       "114021        945 2013-01-12 08:50:17  948.0 2013-01-12 08:50:17  949.0   \n",
       "146670        947 2013-01-12 08:50:20  950.0 2013-01-12 08:50:20  948.0   \n",
       "\n",
       "                         time3  site4               time4  site5  \\\n",
       "session_id                                                         \n",
       "21669                      NaT    NaN                 NaT    NaN   \n",
       "54843      2013-01-12 09:07:07   55.0 2013-01-12 09:07:09    NaN   \n",
       "77292      2013-01-12 08:50:15  946.0 2013-01-12 08:50:15  946.0   \n",
       "114021     2013-01-12 08:50:18  948.0 2013-01-12 08:50:18  945.0   \n",
       "146670     2013-01-12 08:50:20  947.0 2013-01-12 08:50:21  950.0   \n",
       "\n",
       "                         time5  ...               time6  site7  \\\n",
       "session_id                      ...                              \n",
       "21669                      NaT  ...                 NaT    NaN   \n",
       "54843                      NaT  ...                 NaT    NaN   \n",
       "77292      2013-01-12 08:50:16  ... 2013-01-12 08:50:16  948.0   \n",
       "114021     2013-01-12 08:50:18  ... 2013-01-12 08:50:18  947.0   \n",
       "146670     2013-01-12 08:50:21  ... 2013-01-12 08:50:21  946.0   \n",
       "\n",
       "                         time7  site8               time8  site9  \\\n",
       "session_id                                                         \n",
       "21669                      NaT    NaN                 NaT    NaN   \n",
       "54843                      NaT    NaN                 NaT    NaN   \n",
       "77292      2013-01-12 08:50:16  784.0 2013-01-12 08:50:16  949.0   \n",
       "114021     2013-01-12 08:50:19  945.0 2013-01-12 08:50:19  946.0   \n",
       "146670     2013-01-12 08:50:21  951.0 2013-01-12 08:50:22  946.0   \n",
       "\n",
       "                         time9 site10              time10 target  \n",
       "session_id                                                        \n",
       "21669                      NaT    NaN                 NaT      0  \n",
       "54843                      NaT    NaN                 NaT      0  \n",
       "77292      2013-01-12 08:50:17  946.0 2013-01-12 08:50:17      0  \n",
       "114021     2013-01-12 08:50:19  946.0 2013-01-12 08:50:20      0  \n",
       "146670     2013-01-12 08:50:22  947.0 2013-01-12 08:50:22      0  \n",
       "\n",
       "[5 rows x 21 columns]"
      ]
     },
     "execution_count": 138,
     "metadata": {},
     "output_type": "execute_result"
    }
   ],
   "source": [
    "train.head()"
   ]
  },
  {
   "cell_type": "code",
   "execution_count": 139,
   "id": "5bdc1ddd",
   "metadata": {},
   "outputs": [],
   "source": [
    "sites = ['site%s' % i for i in range(1, 11)]          # Также быстро делаем список с сайтами"
   ]
  },
  {
   "cell_type": "code",
   "execution_count": 140,
   "id": "eff81094",
   "metadata": {},
   "outputs": [],
   "source": [
    "train[sites] = train[sites].fillna(0).astype(\"int\")   # Меняем Nan на нули и делаем их интами в трэйне"
   ]
  },
  {
   "cell_type": "code",
   "execution_count": 141,
   "id": "3d3d220a",
   "metadata": {},
   "outputs": [],
   "source": [
    "test[sites] = test[sites].fillna(0).astype(\"int\")     #...и в тесте"
   ]
  },
  {
   "cell_type": "code",
   "execution_count": null,
   "id": "f51a2eff",
   "metadata": {},
   "outputs": [],
   "source": []
  },
  {
   "cell_type": "code",
   "execution_count": null,
   "id": "5d69849d",
   "metadata": {},
   "outputs": [],
   "source": []
  },
  {
   "cell_type": "code",
   "execution_count": null,
   "id": "124509e0",
   "metadata": {},
   "outputs": [],
   "source": []
  },
  {
   "cell_type": "markdown",
   "id": "b60fadfa",
   "metadata": {},
   "source": [
    "**Можно подгрузить словарик сайтов (он в удобной форме pickle), сделать из него DF**"
   ]
  },
  {
   "cell_type": "code",
   "execution_count": 142,
   "id": "8a4bb985",
   "metadata": {},
   "outputs": [
    {
     "data": {
      "text/html": [
       "<div>\n",
       "<style scoped>\n",
       "    .dataframe tbody tr th:only-of-type {\n",
       "        vertical-align: middle;\n",
       "    }\n",
       "\n",
       "    .dataframe tbody tr th {\n",
       "        vertical-align: top;\n",
       "    }\n",
       "\n",
       "    .dataframe thead th {\n",
       "        text-align: right;\n",
       "    }\n",
       "</style>\n",
       "<table border=\"1\" class=\"dataframe\">\n",
       "  <thead>\n",
       "    <tr style=\"text-align: right;\">\n",
       "      <th></th>\n",
       "      <th>site</th>\n",
       "    </tr>\n",
       "  </thead>\n",
       "  <tbody>\n",
       "    <tr>\n",
       "      <th>25075</th>\n",
       "      <td>www.abmecatronique.com</td>\n",
       "    </tr>\n",
       "    <tr>\n",
       "      <th>13997</th>\n",
       "      <td>groups.live.com</td>\n",
       "    </tr>\n",
       "    <tr>\n",
       "      <th>42436</th>\n",
       "      <td>majeureliguefootball.wordpress.com</td>\n",
       "    </tr>\n",
       "    <tr>\n",
       "      <th>30911</th>\n",
       "      <td>cdt46.media.tourinsoft.eu</td>\n",
       "    </tr>\n",
       "    <tr>\n",
       "      <th>8104</th>\n",
       "      <td>www.hdwallpapers.eu</td>\n",
       "    </tr>\n",
       "  </tbody>\n",
       "</table>\n",
       "</div>"
      ],
      "text/plain": [
       "                                     site\n",
       "25075              www.abmecatronique.com\n",
       "13997                     groups.live.com\n",
       "42436  majeureliguefootball.wordpress.com\n",
       "30911           cdt46.media.tourinsoft.eu\n",
       "8104                  www.hdwallpapers.eu"
      ]
     },
     "execution_count": 142,
     "metadata": {},
     "output_type": "execute_result"
    }
   ],
   "source": [
    "with open(\"site_dic.pkl\", \"rb\") as inp_file:\n",
    "    site_dict = pickle.load(inp_file)        # Это сделает словарь Сайт : номер у нас в таблице\n",
    "site_dict_df = pd.DataFrame(list(site_dict.keys()),\n",
    "                            index=list(site_dict.values()),\n",
    "                            columns=['site'])\n",
    "site_dict_df.head()"
   ]
  },
  {
   "cell_type": "markdown",
   "id": "ee09b9c6",
   "metadata": {},
   "source": [
    "## Интересная предобработка - разряженые матрицы"
   ]
  },
  {
   "cell_type": "markdown",
   "id": "308419d9",
   "metadata": {},
   "source": [
    "**Чтобы применить Bag of words для всех элементов, объединим выборки трэйн и тест**  \n",
    "Предполагаем, что Алиса ходила на какие-то определенные сайты, поэтому делаем из каждого сайта бинарный признак, соответственно 1-посещал, 0-не посещал.  \n",
    "Но тогда у нас будет большое кол-во столбцов с сайтами и единички там, где сайты посещались. Т.е. у каждого человека (в каждой строчке) будет куча нулей (сайтов **50000**, посетил 10 и менее) и только 10 или меньше единиц. Матрица - разряженая. Надо применить другое представление"
   ]
  },
  {
   "cell_type": "code",
   "execution_count": 143,
   "id": "bc1b2550",
   "metadata": {},
   "outputs": [],
   "source": [
    "# Предварительно сделаем y_train\n",
    "y_train = train['target']"
   ]
  },
  {
   "cell_type": "code",
   "execution_count": 144,
   "id": "e0e6ce79",
   "metadata": {},
   "outputs": [
    {
     "data": {
      "text/plain": [
       "253561"
      ]
     },
     "execution_count": 144,
     "metadata": {},
     "output_type": "execute_result"
    }
   ],
   "source": [
    "indx_max = train.shape[0] # Запомним какая строчка в трэйне последняя\n",
    "indx_max"
   ]
  },
  {
   "cell_type": "code",
   "execution_count": 145,
   "id": "92d4807c",
   "metadata": {},
   "outputs": [],
   "source": [
    "full_df = pd.concat([train.drop(\"target\", axis=1), test]) # Объединим без целевой переменной, не забываем []"
   ]
  },
  {
   "cell_type": "markdown",
   "id": "ea07f4be",
   "metadata": {},
   "source": [
    "Теперь посмотрим, что можно выжать только из колонок с сайтами, без времени"
   ]
  },
  {
   "cell_type": "code",
   "execution_count": 146,
   "id": "c6513a25",
   "metadata": {},
   "outputs": [
    {
     "data": {
      "text/html": [
       "<div>\n",
       "<style scoped>\n",
       "    .dataframe tbody tr th:only-of-type {\n",
       "        vertical-align: middle;\n",
       "    }\n",
       "\n",
       "    .dataframe tbody tr th {\n",
       "        vertical-align: top;\n",
       "    }\n",
       "\n",
       "    .dataframe thead th {\n",
       "        text-align: right;\n",
       "    }\n",
       "</style>\n",
       "<table border=\"1\" class=\"dataframe\">\n",
       "  <thead>\n",
       "    <tr style=\"text-align: right;\">\n",
       "      <th></th>\n",
       "      <th>site1</th>\n",
       "      <th>site2</th>\n",
       "      <th>site3</th>\n",
       "      <th>site4</th>\n",
       "      <th>site5</th>\n",
       "      <th>site6</th>\n",
       "      <th>site7</th>\n",
       "      <th>site8</th>\n",
       "      <th>site9</th>\n",
       "      <th>site10</th>\n",
       "    </tr>\n",
       "    <tr>\n",
       "      <th>session_id</th>\n",
       "      <th></th>\n",
       "      <th></th>\n",
       "      <th></th>\n",
       "      <th></th>\n",
       "      <th></th>\n",
       "      <th></th>\n",
       "      <th></th>\n",
       "      <th></th>\n",
       "      <th></th>\n",
       "      <th></th>\n",
       "    </tr>\n",
       "  </thead>\n",
       "  <tbody>\n",
       "    <tr>\n",
       "      <th>21669</th>\n",
       "      <td>56</td>\n",
       "      <td>55</td>\n",
       "      <td>0</td>\n",
       "      <td>0</td>\n",
       "      <td>0</td>\n",
       "      <td>0</td>\n",
       "      <td>0</td>\n",
       "      <td>0</td>\n",
       "      <td>0</td>\n",
       "      <td>0</td>\n",
       "    </tr>\n",
       "    <tr>\n",
       "      <th>54843</th>\n",
       "      <td>56</td>\n",
       "      <td>55</td>\n",
       "      <td>56</td>\n",
       "      <td>55</td>\n",
       "      <td>0</td>\n",
       "      <td>0</td>\n",
       "      <td>0</td>\n",
       "      <td>0</td>\n",
       "      <td>0</td>\n",
       "      <td>0</td>\n",
       "    </tr>\n",
       "    <tr>\n",
       "      <th>77292</th>\n",
       "      <td>946</td>\n",
       "      <td>946</td>\n",
       "      <td>951</td>\n",
       "      <td>946</td>\n",
       "      <td>946</td>\n",
       "      <td>945</td>\n",
       "      <td>948</td>\n",
       "      <td>784</td>\n",
       "      <td>949</td>\n",
       "      <td>946</td>\n",
       "    </tr>\n",
       "    <tr>\n",
       "      <th>114021</th>\n",
       "      <td>945</td>\n",
       "      <td>948</td>\n",
       "      <td>949</td>\n",
       "      <td>948</td>\n",
       "      <td>945</td>\n",
       "      <td>946</td>\n",
       "      <td>947</td>\n",
       "      <td>945</td>\n",
       "      <td>946</td>\n",
       "      <td>946</td>\n",
       "    </tr>\n",
       "    <tr>\n",
       "      <th>146670</th>\n",
       "      <td>947</td>\n",
       "      <td>950</td>\n",
       "      <td>948</td>\n",
       "      <td>947</td>\n",
       "      <td>950</td>\n",
       "      <td>952</td>\n",
       "      <td>946</td>\n",
       "      <td>951</td>\n",
       "      <td>946</td>\n",
       "      <td>947</td>\n",
       "    </tr>\n",
       "  </tbody>\n",
       "</table>\n",
       "</div>"
      ],
      "text/plain": [
       "            site1  site2  site3  site4  site5  site6  site7  site8  site9  \\\n",
       "session_id                                                                  \n",
       "21669          56     55      0      0      0      0      0      0      0   \n",
       "54843          56     55     56     55      0      0      0      0      0   \n",
       "77292         946    946    951    946    946    945    948    784    949   \n",
       "114021        945    948    949    948    945    946    947    945    946   \n",
       "146670        947    950    948    947    950    952    946    951    946   \n",
       "\n",
       "            site10  \n",
       "session_id          \n",
       "21669            0  \n",
       "54843            0  \n",
       "77292          946  \n",
       "114021         946  \n",
       "146670         947  "
      ]
     },
     "execution_count": 146,
     "metadata": {},
     "output_type": "execute_result"
    }
   ],
   "source": [
    "full_sites = full_df[sites]\n",
    "full_sites.head()            #Только сайты!"
   ]
  },
  {
   "cell_type": "code",
   "execution_count": 147,
   "id": "a2759677",
   "metadata": {},
   "outputs": [
    {
     "data": {
      "text/plain": [
       "(336358, 10)"
      ]
     },
     "execution_count": 147,
     "metadata": {},
     "output_type": "execute_result"
    }
   ],
   "source": [
    "full_sites.shape # Это так, для сравнения с train"
   ]
  },
  {
   "cell_type": "code",
   "execution_count": 148,
   "id": "08afa1bf",
   "metadata": {},
   "outputs": [],
   "source": [
    "full_sites_flatten = full_sites.values.flatten() # Требует дополнительного изучения!"
   ]
  },
  {
   "cell_type": "code",
   "execution_count": 149,
   "id": "a4dff4fa",
   "metadata": {},
   "outputs": [
    {
     "data": {
      "text/plain": [
       "(3363580,)"
      ]
     },
     "execution_count": 149,
     "metadata": {},
     "output_type": "execute_result"
    }
   ],
   "source": [
    "full_sites_flatten.shape"
   ]
  },
  {
   "cell_type": "code",
   "execution_count": 150,
   "id": "92062ffb",
   "metadata": {},
   "outputs": [],
   "source": [
    "full_sites_sparse = csr_matrix(([1] * full_sites_flatten.shape[0], full_sites_flatten,\n",
    "                              range(0, full_sites_flatten.shape[0] + 10, 10)))[:, 1:]"
   ]
  },
  {
   "cell_type": "code",
   "execution_count": 151,
   "id": "86f21bfa",
   "metadata": {},
   "outputs": [
    {
     "data": {
      "text/plain": [
       "<336358x48372 sparse matrix of type '<class 'numpy.int64'>'\n",
       "\twith 3363580 stored elements in Compressed Sparse Row format>"
      ]
     },
     "execution_count": 151,
     "metadata": {},
     "output_type": "execute_result"
    }
   ],
   "source": [
    "# from scipy.sparse import csr_matrix\n",
    "\n",
    "csr_matrix(([1] * full_sites_flatten.shape[0], full_sites_flatten, range(0, full_sites_flatten.shape[0] + 10, 10)))"
   ]
  },
  {
   "cell_type": "code",
   "execution_count": 152,
   "id": "56b9734b",
   "metadata": {},
   "outputs": [
    {
     "data": {
      "text/plain": [
       "<336358x48371 sparse matrix of type '<class 'numpy.int64'>'\n",
       "\twith 3195430 stored elements in Compressed Sparse Row format>"
      ]
     },
     "execution_count": 152,
     "metadata": {},
     "output_type": "execute_result"
    }
   ],
   "source": [
    "full_sites_sparse # Это сжатый тип, без первого столбца, как я понимаю, только данные!"
   ]
  },
  {
   "cell_type": "code",
   "execution_count": 153,
   "id": "89cbbc9a",
   "metadata": {},
   "outputs": [
    {
     "data": {
      "text/plain": [
       "(336358, 48371)"
      ]
     },
     "execution_count": 153,
     "metadata": {},
     "output_type": "execute_result"
    }
   ],
   "source": [
    "full_sites_sparse.shape"
   ]
  },
  {
   "cell_type": "markdown",
   "id": "3169d95b",
   "metadata": {},
   "source": [
    "### Обучаем"
   ]
  },
  {
   "cell_type": "markdown",
   "id": "1f9eb845",
   "metadata": {},
   "source": [
    "**Поделим выборку обратно на трэйн и тест, используем максим индекс строки в трэйне, который запоминали**"
   ]
  },
  {
   "cell_type": "code",
   "execution_count": 154,
   "id": "bfcda04b",
   "metadata": {
    "scrolled": true
   },
   "outputs": [],
   "source": [
    "X_train_sparse = full_sites_sparse[:indx_max, :]  # y_train у нас есть, мы забрали его из train перед объединением"
   ]
  },
  {
   "cell_type": "code",
   "execution_count": 155,
   "id": "54336333",
   "metadata": {},
   "outputs": [],
   "source": [
    "X_test_sparse = full_sites_sparse[indx_max:, :]"
   ]
  },
  {
   "cell_type": "code",
   "execution_count": 156,
   "id": "04fe6476",
   "metadata": {},
   "outputs": [
    {
     "data": {
      "text/plain": [
       "(253561, 48371)"
      ]
     },
     "execution_count": 156,
     "metadata": {},
     "output_type": "execute_result"
    }
   ],
   "source": [
    "X_train_sparse.shape"
   ]
  },
  {
   "cell_type": "code",
   "execution_count": 157,
   "id": "ebf928d9",
   "metadata": {},
   "outputs": [
    {
     "data": {
      "text/plain": [
       "(253561,)"
      ]
     },
     "execution_count": 157,
     "metadata": {},
     "output_type": "execute_result"
    }
   ],
   "source": [
    "y_train.shape # Видим, что совпадает!"
   ]
  },
  {
   "cell_type": "code",
   "execution_count": 158,
   "id": "4eaaba92",
   "metadata": {},
   "outputs": [
    {
     "data": {
      "text/plain": [
       "(82797, 48371)"
      ]
     },
     "execution_count": 158,
     "metadata": {},
     "output_type": "execute_result"
    }
   ],
   "source": [
    "# 82797 ответа надо послать на Кёгл!\n",
    "X_test_sparse.shape"
   ]
  },
  {
   "cell_type": "markdown",
   "id": "761ffcf3",
   "metadata": {},
   "source": [
    "**Данных достаточно много, чтобы не проводить кросс-валидацию**  \n",
    "Это требует доп проверки, но в данном случае проверка опущена  \n",
    "  \n",
    "Напишем простую ф-ю, чтобы по 10 раз не возвращаться к LogReg.  \n",
    "Внесем в нее основные параметры для LR  \n",
    "Трэйн выборку тоже будем разбивать на обучающую и проверочную!"
   ]
  },
  {
   "cell_type": "code",
   "execution_count": 159,
   "id": "5cbb8eaa",
   "metadata": {},
   "outputs": [],
   "source": [
    "from sklearn.linear_model import LogisticRegression"
   ]
  },
  {
   "cell_type": "code",
   "execution_count": 160,
   "id": "87f28465",
   "metadata": {},
   "outputs": [
    {
     "name": "stdout",
     "output_type": "stream",
     "text": [
      "CPU times: user 149 ms, sys: 182 ms, total: 332 ms\n",
      "Wall time: 15.3 s\n"
     ]
    }
   ],
   "source": [
    "%%time\n",
    "# Просто для оценки времени работы ф-ии, при сложных DFтак делать не надо, долго придется ждать\n",
    "l_r = LogisticRegression(max_iter=1000, n_jobs=-1, random_state=17)\n",
    "l_r_fit = l_r.fit(X_train_sparse, y_train)"
   ]
  },
  {
   "cell_type": "code",
   "execution_count": 161,
   "id": "d2bf9c3c",
   "metadata": {},
   "outputs": [
    {
     "data": {
      "text/plain": [
       "LogisticRegression(max_iter=1000, n_jobs=-1, random_state=17)"
      ]
     },
     "execution_count": 161,
     "metadata": {},
     "output_type": "execute_result"
    }
   ],
   "source": [
    "# Посмотрим что здесь\n",
    "l_r_fit"
   ]
  },
  {
   "cell_type": "code",
   "execution_count": 162,
   "id": "89c9fd3a",
   "metadata": {},
   "outputs": [
    {
     "data": {
      "text/plain": [
       "array([0, 0, 0, 0, 0, 0, 0, 0, 0, 0, 0, 0, 0, 0, 0, 0, 0, 0, 0, 0])"
      ]
     },
     "execution_count": 162,
     "metadata": {},
     "output_type": "execute_result"
    }
   ],
   "source": [
    "# Смотрим что выдаст обученная модель на тестовых данных, по одной (любой) из строчек\n",
    "l_r_fit.predict(X_test_sparse[:20, :])"
   ]
  },
  {
   "cell_type": "code",
   "execution_count": 163,
   "id": "b5f87c4f",
   "metadata": {},
   "outputs": [
    {
     "data": {
      "text/plain": [
       "array([[9.97933834e-01, 2.06616568e-03],\n",
       "       [9.99999996e-01, 4.30938660e-09],\n",
       "       [9.99999981e-01, 1.85278640e-08],\n",
       "       [9.99999979e-01, 2.10384069e-08],\n",
       "       [9.99969858e-01, 3.01419727e-05],\n",
       "       [9.99820011e-01, 1.79988870e-04],\n",
       "       [9.99576063e-01, 4.23936965e-04],\n",
       "       [9.99888808e-01, 1.11191528e-04],\n",
       "       [9.99277882e-01, 7.22118366e-04],\n",
       "       [8.96470686e-01, 1.03529314e-01],\n",
       "       [9.99971190e-01, 2.88096392e-05],\n",
       "       [9.99913534e-01, 8.64663958e-05],\n",
       "       [9.99589498e-01, 4.10501602e-04],\n",
       "       [6.40905948e-01, 3.59094052e-01],\n",
       "       [9.99955876e-01, 4.41240209e-05],\n",
       "       [9.96362717e-01, 3.63728317e-03],\n",
       "       [9.84827459e-01, 1.51725411e-02],\n",
       "       [9.99968517e-01, 3.14830687e-05],\n",
       "       [9.99117716e-01, 8.82284351e-04],\n",
       "       [9.99999747e-01, 2.53225828e-07]])"
      ]
     },
     "execution_count": 163,
     "metadata": {},
     "output_type": "execute_result"
    }
   ],
   "source": [
    "# А можно посмотреть вероятность такого угадывания в конкретной строчке\n",
    "# В ответе 1стлб - вероятность присвоения класса \"0\", 2стлб - вероятность присвоения класса \"1\".\n",
    "l_r_fit.predict_proba(X_test_sparse[:20, :])"
   ]
  },
  {
   "cell_type": "code",
   "execution_count": 164,
   "id": "db1e8042",
   "metadata": {},
   "outputs": [
    {
     "data": {
      "text/plain": [
       "array([[9.99999996e-01, 4.30938660e-09]])"
      ]
     },
     "execution_count": 164,
     "metadata": {},
     "output_type": "execute_result"
    }
   ],
   "source": [
    "# Например, еще одна строчка\n",
    "l_r_fit.predict_proba(X_test_sparse[1, :])"
   ]
  },
  {
   "cell_type": "markdown",
   "id": "fef91d0a",
   "metadata": {},
   "source": [
    "**Но нас будет интересовать вероятность появления класса 1, т.е. вероятность, что это Алиса!**"
   ]
  },
  {
   "cell_type": "code",
   "execution_count": 165,
   "id": "3583ec98",
   "metadata": {},
   "outputs": [
    {
     "data": {
      "text/plain": [
       "array([2.06616568e-03, 4.30938660e-09, 1.85278640e-08, 2.10384069e-08,\n",
       "       3.01419727e-05, 1.79988870e-04, 4.23936965e-04, 1.11191528e-04,\n",
       "       7.22118366e-04, 1.03529314e-01, 2.88096392e-05, 8.64663958e-05,\n",
       "       4.10501602e-04, 3.59094052e-01, 4.41240209e-05, 3.63728317e-03,\n",
       "       1.51725411e-02, 3.14830687e-05, 8.82284351e-04, 2.53225828e-07])"
      ]
     },
     "execution_count": 165,
     "metadata": {},
     "output_type": "execute_result"
    }
   ],
   "source": [
    "l_r_fit.predict_proba(X_test_sparse[:20, :])[:, 1]"
   ]
  },
  {
   "cell_type": "code",
   "execution_count": 166,
   "id": "e086b278",
   "metadata": {},
   "outputs": [],
   "source": [
    "def LogReg_roc_auc1(X, y, C=1.0, ratio=0.9, seed=17, m_iter=100):\n",
    "    # X, y - матрица фичей, вектор целевой переменной соответственно,\n",
    "    # С - кэф регуляризации\n",
    "    # ratio - % в каком отношении делим выборку на трейн и тест\n",
    "    # seed - random_state, лучше фиксировать везде.\n",
    "    \n",
    "    train_len = int(X.shape[0] * ratio) \n",
    "                                               # Вроде разбиение такое можно функцией сделать train_test_split\n",
    "                                               # sklearn.model_selection.train_test_split\n",
    "    X_train = X[train_len:, :]\n",
    "    X_valid = X[:train_len, :]\n",
    "    y_train = y[train_len:]\n",
    "    y_valid = y[:train_len]\n",
    "    \n",
    "    # Создаем объект класса\n",
    "    log_reg = LogisticRegression(C=C, random_state=seed, n_jobs=-1, max_iter=m_iter)\n",
    "    \n",
    "    # Собственно обучение, или тренировка обуч.выборке\n",
    "    log_reg.fit(X_train, y_train)\n",
    "    \n",
    "    # Теперь вычисляем, какую вероятность попадания в 1 будет иметь модель на тестовой выборке\n",
    "    valid_pred = log_reg.predict_proba(X_valid)[:, 1] #Вот она - вероятность класса 1 или вероятность Алисы\n",
    "    \n",
    "    # Выход - Roc-Auc (насколько близко к еденице реальные данные и полученные нами)\n",
    "    return roc_auc_score(y_valid, valid_pred)"
   ]
  },
  {
   "cell_type": "code",
   "execution_count": 167,
   "id": "ed8e324f",
   "metadata": {},
   "outputs": [
    {
     "data": {
      "text/plain": [
       "0.8237843929636158"
      ]
     },
     "execution_count": 167,
     "metadata": {},
     "output_type": "execute_result"
    }
   ],
   "source": [
    "LogReg_roc_auc1(X_train_sparse, y_train)"
   ]
  },
  {
   "cell_type": "code",
   "execution_count": 168,
   "id": "92068b79",
   "metadata": {},
   "outputs": [],
   "source": [
    "# Так дает другой результат???????????\n",
    "# Из-за random_state, что ли или я не правильно выборки делю в верхнем?\n",
    "def LogReg_roc_auc(X, y, C=0.7, ratio=0.75, seed=17, m_iter=500):\n",
    "    # X, y - матрица фичей, вектор целевой переменной соответственно,\n",
    "    # С - кэф регуляризации\n",
    "    # ratio - % в каком отношении делим выборку на трейн и тест\n",
    "    # seed - random_state, лучше фиксировать везде.\n",
    "    \n",
    "   \n",
    "    # Вот реализация с функцией разбиения\n",
    "    # sklern.model_selection.train_test_split\n",
    "    \n",
    "    X_train, X_valid, y_train, y_valid = train_test_split(X, y, train_size=ratio, random_state=seed)\n",
    "\n",
    "    \n",
    "    # Создаем объект класса\n",
    "    log_reg = LogisticRegression(C=C, random_state=seed, n_jobs=-1, max_iter=m_iter)\n",
    "    \n",
    "    # Собственно обучение, или тренировка обуч.выборке\n",
    "    log_reg.fit(X_train, y_train)\n",
    "    \n",
    "    # Теперь вычисляем, какую вероятность попадания в 1 будет иметь модель на тестовой выборке\n",
    "    valid_pred = log_reg.predict_proba(X_valid)[:, 1] #Вот она - вероятность класса 1 или вероятность Алисы\n",
    "    \n",
    "    # Выход - Roc-Auc (насколько близко к еденице реальные данные и полученные нами)\n",
    "    return roc_auc_score(y_valid, valid_pred)"
   ]
  },
  {
   "cell_type": "code",
   "execution_count": 169,
   "id": "2e8f7aa8",
   "metadata": {},
   "outputs": [
    {
     "data": {
      "text/plain": [
       "0.9677402334379981"
      ]
     },
     "execution_count": 169,
     "metadata": {},
     "output_type": "execute_result"
    }
   ],
   "source": [
    "# Не хилый результат сходу получился, посмотрим, что можно еще сделать\n",
    "LogReg_roc_auc(X_train_sparse, y_train)"
   ]
  },
  {
   "cell_type": "code",
   "execution_count": 170,
   "id": "430a4037",
   "metadata": {},
   "outputs": [
    {
     "name": "stdout",
     "output_type": "stream",
     "text": [
      "CPU times: user 53.5 ms, sys: 16.3 ms, total: 69.7 ms\n",
      "Wall time: 12.4 s\n"
     ]
    }
   ],
   "source": [
    "%%time\n",
    "log_reg = LogisticRegression(C=0.7, random_state=17, n_jobs=-1, max_iter=500)\n",
    "log_reg.fit(X_train_sparse, y_train)\n",
    "test_predict = log_reg.predict_proba(X_test_sparse)[:, 1]"
   ]
  },
  {
   "cell_type": "code",
   "execution_count": null,
   "id": "dc2c4f44",
   "metadata": {},
   "outputs": [],
   "source": []
  },
  {
   "cell_type": "code",
   "execution_count": 171,
   "id": "d57144c3",
   "metadata": {},
   "outputs": [
    {
     "data": {
      "text/plain": [
       "(82797,)"
      ]
     },
     "execution_count": 171,
     "metadata": {},
     "output_type": "execute_result"
    }
   ],
   "source": [
    "test_predict.shape"
   ]
  },
  {
   "cell_type": "code",
   "execution_count": 172,
   "id": "798ef275",
   "metadata": {},
   "outputs": [
    {
     "data": {
      "text/plain": [
       "(array([2.72527004e-03, 2.35963062e-08, 4.66479936e-08, 9.92477935e-08,\n",
       "        4.22188984e-05, 2.69950575e-04, 6.01954593e-04, 1.77648133e-04,\n",
       "        1.02582135e-03, 1.03515796e-01]),\n",
       " Int64Index([1, 2, 3, 4, 5, 6, 7, 8, 9, 10], dtype='int64', name='session_id'))"
      ]
     },
     "execution_count": 172,
     "metadata": {},
     "output_type": "execute_result"
    }
   ],
   "source": [
    "test_predict[:10], test.index[:10]"
   ]
  },
  {
   "cell_type": "code",
   "execution_count": 173,
   "id": "de497fd3",
   "metadata": {},
   "outputs": [
    {
     "data": {
      "text/plain": [
       "1        2.725270e-03\n",
       "2        2.359631e-08\n",
       "3        4.664799e-08\n",
       "4        9.924779e-08\n",
       "5        4.221890e-05\n",
       "             ...     \n",
       "82793    2.503472e-05\n",
       "82794    3.197908e-05\n",
       "82795    9.221669e-03\n",
       "82796    6.068064e-04\n",
       "82797    3.141524e-05\n",
       "Name: target, Length: 82797, dtype: float64"
      ]
     },
     "execution_count": 173,
     "metadata": {},
     "output_type": "execute_result"
    }
   ],
   "source": [
    "# Меняем индексы, чтобы первый был 1, а не 0. Зададим имена колонок.\n",
    "pd.Series(test_predict, index=range(1, test_predict.shape[0] + 1), name=\"target\")"
   ]
  },
  {
   "cell_type": "code",
   "execution_count": 174,
   "id": "f8941514",
   "metadata": {},
   "outputs": [],
   "source": [
    "# Переносим в csv файл\n",
    "pd.Series(test_predict, index=range(1, test_predict.shape[0] + 1), name=\"target\"). \\\n",
    "to_csv(\"benchmark1.csv\", header=True, index_label=\"session_id\")"
   ]
  },
  {
   "cell_type": "code",
   "execution_count": 175,
   "id": "40b1bbe1",
   "metadata": {},
   "outputs": [
    {
     "name": "stdout",
     "output_type": "stream",
     "text": [
      "session_id,target\r\n",
      "1,0.0027252700390564275\r\n",
      "2,2.3596306183785566e-08\r\n",
      "3,4.664799356544051e-08\r\n",
      "4,9.924779353746127e-08\r\n",
      "5,4.2218898403100165e-05\r\n",
      "6,0.000269950574977715\r\n",
      "7,0.0006019545928958584\r\n",
      "8,0.00017764813284062295\r\n",
      "9,0.0010258213540001815\r\n"
     ]
    }
   ],
   "source": [
    "!head benchmark1.csv"
   ]
  },
  {
   "cell_type": "code",
   "execution_count": 176,
   "id": "39aac754",
   "metadata": {},
   "outputs": [
    {
     "data": {
      "text/html": [
       "<div>\n",
       "<style scoped>\n",
       "    .dataframe tbody tr th:only-of-type {\n",
       "        vertical-align: middle;\n",
       "    }\n",
       "\n",
       "    .dataframe tbody tr th {\n",
       "        vertical-align: top;\n",
       "    }\n",
       "\n",
       "    .dataframe thead th {\n",
       "        text-align: right;\n",
       "    }\n",
       "</style>\n",
       "<table border=\"1\" class=\"dataframe\">\n",
       "  <thead>\n",
       "    <tr style=\"text-align: right;\">\n",
       "      <th></th>\n",
       "      <th>site1</th>\n",
       "      <th>time1</th>\n",
       "      <th>site2</th>\n",
       "      <th>time2</th>\n",
       "      <th>site3</th>\n",
       "      <th>time3</th>\n",
       "      <th>site4</th>\n",
       "      <th>time4</th>\n",
       "      <th>site5</th>\n",
       "      <th>time5</th>\n",
       "      <th>site6</th>\n",
       "      <th>time6</th>\n",
       "      <th>site7</th>\n",
       "      <th>time7</th>\n",
       "      <th>site8</th>\n",
       "      <th>time8</th>\n",
       "      <th>site9</th>\n",
       "      <th>time9</th>\n",
       "      <th>site10</th>\n",
       "      <th>time10</th>\n",
       "    </tr>\n",
       "    <tr>\n",
       "      <th>session_id</th>\n",
       "      <th></th>\n",
       "      <th></th>\n",
       "      <th></th>\n",
       "      <th></th>\n",
       "      <th></th>\n",
       "      <th></th>\n",
       "      <th></th>\n",
       "      <th></th>\n",
       "      <th></th>\n",
       "      <th></th>\n",
       "      <th></th>\n",
       "      <th></th>\n",
       "      <th></th>\n",
       "      <th></th>\n",
       "      <th></th>\n",
       "      <th></th>\n",
       "      <th></th>\n",
       "      <th></th>\n",
       "      <th></th>\n",
       "      <th></th>\n",
       "    </tr>\n",
       "  </thead>\n",
       "  <tbody>\n",
       "    <tr>\n",
       "      <th>1</th>\n",
       "      <td>29</td>\n",
       "      <td>2014-10-04 11:19:53</td>\n",
       "      <td>35</td>\n",
       "      <td>2014-10-04 11:19:53</td>\n",
       "      <td>22</td>\n",
       "      <td>2014-10-04 11:19:54</td>\n",
       "      <td>321</td>\n",
       "      <td>2014-10-04 11:19:54</td>\n",
       "      <td>23</td>\n",
       "      <td>2014-10-04 11:19:54</td>\n",
       "      <td>2211</td>\n",
       "      <td>2014-10-04 11:19:54</td>\n",
       "      <td>6730</td>\n",
       "      <td>2014-10-04 11:19:54</td>\n",
       "      <td>21</td>\n",
       "      <td>2014-10-04 11:19:54</td>\n",
       "      <td>44582</td>\n",
       "      <td>2014-10-04 11:20:00</td>\n",
       "      <td>15336</td>\n",
       "      <td>2014-10-04 11:20:00</td>\n",
       "    </tr>\n",
       "    <tr>\n",
       "      <th>2</th>\n",
       "      <td>782</td>\n",
       "      <td>2014-07-03 11:00:28</td>\n",
       "      <td>782</td>\n",
       "      <td>2014-07-03 11:00:53</td>\n",
       "      <td>782</td>\n",
       "      <td>2014-07-03 11:00:58</td>\n",
       "      <td>782</td>\n",
       "      <td>2014-07-03 11:01:06</td>\n",
       "      <td>782</td>\n",
       "      <td>2014-07-03 11:01:09</td>\n",
       "      <td>782</td>\n",
       "      <td>2014-07-03 11:01:10</td>\n",
       "      <td>782</td>\n",
       "      <td>2014-07-03 11:01:23</td>\n",
       "      <td>782</td>\n",
       "      <td>2014-07-03 11:01:29</td>\n",
       "      <td>782</td>\n",
       "      <td>2014-07-03 11:01:30</td>\n",
       "      <td>782</td>\n",
       "      <td>2014-07-03 11:01:53</td>\n",
       "    </tr>\n",
       "    <tr>\n",
       "      <th>3</th>\n",
       "      <td>55</td>\n",
       "      <td>2014-12-05 15:55:12</td>\n",
       "      <td>55</td>\n",
       "      <td>2014-12-05 15:55:13</td>\n",
       "      <td>55</td>\n",
       "      <td>2014-12-05 15:55:14</td>\n",
       "      <td>55</td>\n",
       "      <td>2014-12-05 15:56:15</td>\n",
       "      <td>55</td>\n",
       "      <td>2014-12-05 15:56:16</td>\n",
       "      <td>55</td>\n",
       "      <td>2014-12-05 15:56:17</td>\n",
       "      <td>55</td>\n",
       "      <td>2014-12-05 15:56:18</td>\n",
       "      <td>55</td>\n",
       "      <td>2014-12-05 15:56:19</td>\n",
       "      <td>1445</td>\n",
       "      <td>2014-12-05 15:56:33</td>\n",
       "      <td>1445</td>\n",
       "      <td>2014-12-05 15:56:36</td>\n",
       "    </tr>\n",
       "    <tr>\n",
       "      <th>4</th>\n",
       "      <td>1023</td>\n",
       "      <td>2014-11-04 10:03:19</td>\n",
       "      <td>1022</td>\n",
       "      <td>2014-11-04 10:03:19</td>\n",
       "      <td>50</td>\n",
       "      <td>2014-11-04 10:03:20</td>\n",
       "      <td>222</td>\n",
       "      <td>2014-11-04 10:03:21</td>\n",
       "      <td>202</td>\n",
       "      <td>2014-11-04 10:03:21</td>\n",
       "      <td>3374</td>\n",
       "      <td>2014-11-04 10:03:22</td>\n",
       "      <td>50</td>\n",
       "      <td>2014-11-04 10:03:22</td>\n",
       "      <td>48</td>\n",
       "      <td>2014-11-04 10:03:22</td>\n",
       "      <td>48</td>\n",
       "      <td>2014-11-04 10:03:23</td>\n",
       "      <td>3374</td>\n",
       "      <td>2014-11-04 10:03:23</td>\n",
       "    </tr>\n",
       "    <tr>\n",
       "      <th>5</th>\n",
       "      <td>301</td>\n",
       "      <td>2014-05-16 15:05:31</td>\n",
       "      <td>301</td>\n",
       "      <td>2014-05-16 15:05:32</td>\n",
       "      <td>301</td>\n",
       "      <td>2014-05-16 15:05:33</td>\n",
       "      <td>66</td>\n",
       "      <td>2014-05-16 15:05:39</td>\n",
       "      <td>67</td>\n",
       "      <td>2014-05-16 15:05:40</td>\n",
       "      <td>69</td>\n",
       "      <td>2014-05-16 15:05:40</td>\n",
       "      <td>70</td>\n",
       "      <td>2014-05-16 15:05:40</td>\n",
       "      <td>68</td>\n",
       "      <td>2014-05-16 15:05:40</td>\n",
       "      <td>71</td>\n",
       "      <td>2014-05-16 15:05:40</td>\n",
       "      <td>167</td>\n",
       "      <td>2014-05-16 15:05:44</td>\n",
       "    </tr>\n",
       "  </tbody>\n",
       "</table>\n",
       "</div>"
      ],
      "text/plain": [
       "            site1               time1  site2               time2  site3  \\\n",
       "session_id                                                                \n",
       "1              29 2014-10-04 11:19:53     35 2014-10-04 11:19:53     22   \n",
       "2             782 2014-07-03 11:00:28    782 2014-07-03 11:00:53    782   \n",
       "3              55 2014-12-05 15:55:12     55 2014-12-05 15:55:13     55   \n",
       "4            1023 2014-11-04 10:03:19   1022 2014-11-04 10:03:19     50   \n",
       "5             301 2014-05-16 15:05:31    301 2014-05-16 15:05:32    301   \n",
       "\n",
       "                         time3  site4               time4  site5  \\\n",
       "session_id                                                         \n",
       "1          2014-10-04 11:19:54    321 2014-10-04 11:19:54     23   \n",
       "2          2014-07-03 11:00:58    782 2014-07-03 11:01:06    782   \n",
       "3          2014-12-05 15:55:14     55 2014-12-05 15:56:15     55   \n",
       "4          2014-11-04 10:03:20    222 2014-11-04 10:03:21    202   \n",
       "5          2014-05-16 15:05:33     66 2014-05-16 15:05:39     67   \n",
       "\n",
       "                         time5  site6               time6  site7  \\\n",
       "session_id                                                         \n",
       "1          2014-10-04 11:19:54   2211 2014-10-04 11:19:54   6730   \n",
       "2          2014-07-03 11:01:09    782 2014-07-03 11:01:10    782   \n",
       "3          2014-12-05 15:56:16     55 2014-12-05 15:56:17     55   \n",
       "4          2014-11-04 10:03:21   3374 2014-11-04 10:03:22     50   \n",
       "5          2014-05-16 15:05:40     69 2014-05-16 15:05:40     70   \n",
       "\n",
       "                         time7  site8               time8  site9  \\\n",
       "session_id                                                         \n",
       "1          2014-10-04 11:19:54     21 2014-10-04 11:19:54  44582   \n",
       "2          2014-07-03 11:01:23    782 2014-07-03 11:01:29    782   \n",
       "3          2014-12-05 15:56:18     55 2014-12-05 15:56:19   1445   \n",
       "4          2014-11-04 10:03:22     48 2014-11-04 10:03:22     48   \n",
       "5          2014-05-16 15:05:40     68 2014-05-16 15:05:40     71   \n",
       "\n",
       "                         time9  site10              time10  \n",
       "session_id                                                  \n",
       "1          2014-10-04 11:20:00   15336 2014-10-04 11:20:00  \n",
       "2          2014-07-03 11:01:30     782 2014-07-03 11:01:53  \n",
       "3          2014-12-05 15:56:33    1445 2014-12-05 15:56:36  \n",
       "4          2014-11-04 10:03:23    3374 2014-11-04 10:03:23  \n",
       "5          2014-05-16 15:05:40     167 2014-05-16 15:05:44  "
      ]
     },
     "execution_count": 176,
     "metadata": {},
     "output_type": "execute_result"
    }
   ],
   "source": [
    "test.head()"
   ]
  },
  {
   "cell_type": "markdown",
   "id": "027e62c0",
   "metadata": {},
   "source": [
    "# Добавляем характеристики вместо времени"
   ]
  },
  {
   "cell_type": "code",
   "execution_count": 177,
   "id": "a32bb9cb",
   "metadata": {},
   "outputs": [
    {
     "data": {
      "text/html": [
       "<div>\n",
       "<style scoped>\n",
       "    .dataframe tbody tr th:only-of-type {\n",
       "        vertical-align: middle;\n",
       "    }\n",
       "\n",
       "    .dataframe tbody tr th {\n",
       "        vertical-align: top;\n",
       "    }\n",
       "\n",
       "    .dataframe thead th {\n",
       "        text-align: right;\n",
       "    }\n",
       "</style>\n",
       "<table border=\"1\" class=\"dataframe\">\n",
       "  <thead>\n",
       "    <tr style=\"text-align: right;\">\n",
       "      <th></th>\n",
       "      <th>site1</th>\n",
       "      <th>time1</th>\n",
       "      <th>site2</th>\n",
       "      <th>time2</th>\n",
       "      <th>site3</th>\n",
       "      <th>time3</th>\n",
       "      <th>site4</th>\n",
       "      <th>time4</th>\n",
       "      <th>site5</th>\n",
       "      <th>time5</th>\n",
       "      <th>...</th>\n",
       "      <th>time6</th>\n",
       "      <th>site7</th>\n",
       "      <th>time7</th>\n",
       "      <th>site8</th>\n",
       "      <th>time8</th>\n",
       "      <th>site9</th>\n",
       "      <th>time9</th>\n",
       "      <th>site10</th>\n",
       "      <th>time10</th>\n",
       "      <th>target</th>\n",
       "    </tr>\n",
       "    <tr>\n",
       "      <th>session_id</th>\n",
       "      <th></th>\n",
       "      <th></th>\n",
       "      <th></th>\n",
       "      <th></th>\n",
       "      <th></th>\n",
       "      <th></th>\n",
       "      <th></th>\n",
       "      <th></th>\n",
       "      <th></th>\n",
       "      <th></th>\n",
       "      <th></th>\n",
       "      <th></th>\n",
       "      <th></th>\n",
       "      <th></th>\n",
       "      <th></th>\n",
       "      <th></th>\n",
       "      <th></th>\n",
       "      <th></th>\n",
       "      <th></th>\n",
       "      <th></th>\n",
       "      <th></th>\n",
       "    </tr>\n",
       "  </thead>\n",
       "  <tbody>\n",
       "    <tr>\n",
       "      <th>21669</th>\n",
       "      <td>56</td>\n",
       "      <td>2013-01-12 08:05:57</td>\n",
       "      <td>55</td>\n",
       "      <td>2013-01-12 08:05:57</td>\n",
       "      <td>0</td>\n",
       "      <td>NaT</td>\n",
       "      <td>0</td>\n",
       "      <td>NaT</td>\n",
       "      <td>0</td>\n",
       "      <td>NaT</td>\n",
       "      <td>...</td>\n",
       "      <td>NaT</td>\n",
       "      <td>0</td>\n",
       "      <td>NaT</td>\n",
       "      <td>0</td>\n",
       "      <td>NaT</td>\n",
       "      <td>0</td>\n",
       "      <td>NaT</td>\n",
       "      <td>0</td>\n",
       "      <td>NaT</td>\n",
       "      <td>0</td>\n",
       "    </tr>\n",
       "    <tr>\n",
       "      <th>54843</th>\n",
       "      <td>56</td>\n",
       "      <td>2013-01-12 08:37:23</td>\n",
       "      <td>55</td>\n",
       "      <td>2013-01-12 08:37:23</td>\n",
       "      <td>56</td>\n",
       "      <td>2013-01-12 09:07:07</td>\n",
       "      <td>55</td>\n",
       "      <td>2013-01-12 09:07:09</td>\n",
       "      <td>0</td>\n",
       "      <td>NaT</td>\n",
       "      <td>...</td>\n",
       "      <td>NaT</td>\n",
       "      <td>0</td>\n",
       "      <td>NaT</td>\n",
       "      <td>0</td>\n",
       "      <td>NaT</td>\n",
       "      <td>0</td>\n",
       "      <td>NaT</td>\n",
       "      <td>0</td>\n",
       "      <td>NaT</td>\n",
       "      <td>0</td>\n",
       "    </tr>\n",
       "    <tr>\n",
       "      <th>77292</th>\n",
       "      <td>946</td>\n",
       "      <td>2013-01-12 08:50:13</td>\n",
       "      <td>946</td>\n",
       "      <td>2013-01-12 08:50:14</td>\n",
       "      <td>951</td>\n",
       "      <td>2013-01-12 08:50:15</td>\n",
       "      <td>946</td>\n",
       "      <td>2013-01-12 08:50:15</td>\n",
       "      <td>946</td>\n",
       "      <td>2013-01-12 08:50:16</td>\n",
       "      <td>...</td>\n",
       "      <td>2013-01-12 08:50:16</td>\n",
       "      <td>948</td>\n",
       "      <td>2013-01-12 08:50:16</td>\n",
       "      <td>784</td>\n",
       "      <td>2013-01-12 08:50:16</td>\n",
       "      <td>949</td>\n",
       "      <td>2013-01-12 08:50:17</td>\n",
       "      <td>946</td>\n",
       "      <td>2013-01-12 08:50:17</td>\n",
       "      <td>0</td>\n",
       "    </tr>\n",
       "    <tr>\n",
       "      <th>114021</th>\n",
       "      <td>945</td>\n",
       "      <td>2013-01-12 08:50:17</td>\n",
       "      <td>948</td>\n",
       "      <td>2013-01-12 08:50:17</td>\n",
       "      <td>949</td>\n",
       "      <td>2013-01-12 08:50:18</td>\n",
       "      <td>948</td>\n",
       "      <td>2013-01-12 08:50:18</td>\n",
       "      <td>945</td>\n",
       "      <td>2013-01-12 08:50:18</td>\n",
       "      <td>...</td>\n",
       "      <td>2013-01-12 08:50:18</td>\n",
       "      <td>947</td>\n",
       "      <td>2013-01-12 08:50:19</td>\n",
       "      <td>945</td>\n",
       "      <td>2013-01-12 08:50:19</td>\n",
       "      <td>946</td>\n",
       "      <td>2013-01-12 08:50:19</td>\n",
       "      <td>946</td>\n",
       "      <td>2013-01-12 08:50:20</td>\n",
       "      <td>0</td>\n",
       "    </tr>\n",
       "    <tr>\n",
       "      <th>146670</th>\n",
       "      <td>947</td>\n",
       "      <td>2013-01-12 08:50:20</td>\n",
       "      <td>950</td>\n",
       "      <td>2013-01-12 08:50:20</td>\n",
       "      <td>948</td>\n",
       "      <td>2013-01-12 08:50:20</td>\n",
       "      <td>947</td>\n",
       "      <td>2013-01-12 08:50:21</td>\n",
       "      <td>950</td>\n",
       "      <td>2013-01-12 08:50:21</td>\n",
       "      <td>...</td>\n",
       "      <td>2013-01-12 08:50:21</td>\n",
       "      <td>946</td>\n",
       "      <td>2013-01-12 08:50:21</td>\n",
       "      <td>951</td>\n",
       "      <td>2013-01-12 08:50:22</td>\n",
       "      <td>946</td>\n",
       "      <td>2013-01-12 08:50:22</td>\n",
       "      <td>947</td>\n",
       "      <td>2013-01-12 08:50:22</td>\n",
       "      <td>0</td>\n",
       "    </tr>\n",
       "  </tbody>\n",
       "</table>\n",
       "<p>5 rows × 21 columns</p>\n",
       "</div>"
      ],
      "text/plain": [
       "            site1               time1  site2               time2  site3  \\\n",
       "session_id                                                                \n",
       "21669          56 2013-01-12 08:05:57     55 2013-01-12 08:05:57      0   \n",
       "54843          56 2013-01-12 08:37:23     55 2013-01-12 08:37:23     56   \n",
       "77292         946 2013-01-12 08:50:13    946 2013-01-12 08:50:14    951   \n",
       "114021        945 2013-01-12 08:50:17    948 2013-01-12 08:50:17    949   \n",
       "146670        947 2013-01-12 08:50:20    950 2013-01-12 08:50:20    948   \n",
       "\n",
       "                         time3  site4               time4  site5  \\\n",
       "session_id                                                         \n",
       "21669                      NaT      0                 NaT      0   \n",
       "54843      2013-01-12 09:07:07     55 2013-01-12 09:07:09      0   \n",
       "77292      2013-01-12 08:50:15    946 2013-01-12 08:50:15    946   \n",
       "114021     2013-01-12 08:50:18    948 2013-01-12 08:50:18    945   \n",
       "146670     2013-01-12 08:50:20    947 2013-01-12 08:50:21    950   \n",
       "\n",
       "                         time5  ...               time6 site7  \\\n",
       "session_id                      ...                             \n",
       "21669                      NaT  ...                 NaT     0   \n",
       "54843                      NaT  ...                 NaT     0   \n",
       "77292      2013-01-12 08:50:16  ... 2013-01-12 08:50:16   948   \n",
       "114021     2013-01-12 08:50:18  ... 2013-01-12 08:50:18   947   \n",
       "146670     2013-01-12 08:50:21  ... 2013-01-12 08:50:21   946   \n",
       "\n",
       "                         time7 site8               time8 site9  \\\n",
       "session_id                                                       \n",
       "21669                      NaT     0                 NaT     0   \n",
       "54843                      NaT     0                 NaT     0   \n",
       "77292      2013-01-12 08:50:16   784 2013-01-12 08:50:16   949   \n",
       "114021     2013-01-12 08:50:19   945 2013-01-12 08:50:19   946   \n",
       "146670     2013-01-12 08:50:21   951 2013-01-12 08:50:22   946   \n",
       "\n",
       "                         time9 site10              time10 target  \n",
       "session_id                                                        \n",
       "21669                      NaT      0                 NaT      0  \n",
       "54843                      NaT      0                 NaT      0  \n",
       "77292      2013-01-12 08:50:17    946 2013-01-12 08:50:17      0  \n",
       "114021     2013-01-12 08:50:19    946 2013-01-12 08:50:20      0  \n",
       "146670     2013-01-12 08:50:22    947 2013-01-12 08:50:22      0  \n",
       "\n",
       "[5 rows x 21 columns]"
      ]
     },
     "execution_count": 177,
     "metadata": {},
     "output_type": "execute_result"
    }
   ],
   "source": [
    "train.head()"
   ]
  },
  {
   "cell_type": "code",
   "execution_count": 178,
   "id": "f863925d",
   "metadata": {},
   "outputs": [
    {
     "name": "stdout",
     "output_type": "stream",
     "text": [
      "<class 'pandas.core.frame.DataFrame'>\n",
      "Int64Index: 253561 entries, 21669 to 204762\n",
      "Data columns (total 10 columns):\n",
      " #   Column  Non-Null Count   Dtype         \n",
      "---  ------  --------------   -----         \n",
      " 0   time1   253561 non-null  datetime64[ns]\n",
      " 1   time2   250098 non-null  datetime64[ns]\n",
      " 2   time3   246919 non-null  datetime64[ns]\n",
      " 3   time4   244321 non-null  datetime64[ns]\n",
      " 4   time5   241829 non-null  datetime64[ns]\n",
      " 5   time6   239495 non-null  datetime64[ns]\n",
      " 6   time7   237297 non-null  datetime64[ns]\n",
      " 7   time8   235224 non-null  datetime64[ns]\n",
      " 8   time9   233084 non-null  datetime64[ns]\n",
      " 9   time10  231052 non-null  datetime64[ns]\n",
      "dtypes: datetime64[ns](10)\n",
      "memory usage: 21.3 MB\n"
     ]
    }
   ],
   "source": [
    "train[times].info()"
   ]
  },
  {
   "cell_type": "code",
   "execution_count": 28,
   "id": "dd146ba0",
   "metadata": {},
   "outputs": [
    {
     "data": {
      "text/plain": [
       "2014"
      ]
     },
     "execution_count": 28,
     "metadata": {},
     "output_type": "execute_result"
    }
   ],
   "source": [
    "# Так легко вытащить год и также месяц из типа datetime64\n",
    "train[\"time1\"][1].year"
   ]
  },
  {
   "cell_type": "code",
   "execution_count": 22,
   "id": "33e1c51f",
   "metadata": {},
   "outputs": [
    {
     "data": {
      "text/plain": [
       "int"
      ]
     },
     "execution_count": 22,
     "metadata": {},
     "output_type": "execute_result"
    }
   ],
   "source": [
    "# Они еще и интовые!!!!!!!!!!!!!!!!!!!!!!!!!!\n",
    "type(train[\"time1\"][1].month)"
   ]
  },
  {
   "cell_type": "code",
   "execution_count": 181,
   "id": "c8295e06",
   "metadata": {
    "scrolled": true
   },
   "outputs": [
    {
     "data": {
      "text/plain": [
       "session_id\n",
       "21669     2013\n",
       "54843     2013\n",
       "77292     2013\n",
       "114021    2013\n",
       "146670    2013\n",
       "Name: time1, dtype: int64"
      ]
     },
     "execution_count": 181,
     "metadata": {},
     "output_type": "execute_result"
    }
   ],
   "source": [
    "# Вот так это работает\n",
    "train['time1'].apply(lambda time: time.year).head() "
   ]
  },
  {
   "cell_type": "code",
   "execution_count": 19,
   "id": "4a207bf4",
   "metadata": {
    "scrolled": true
   },
   "outputs": [
    {
     "data": {
      "text/plain": [
       "session_id\n",
       "1    2014\n",
       "2    2014\n",
       "3    2013\n",
       "4    2014\n",
       "5    2014\n",
       "Name: time1, dtype: int64"
      ]
     },
     "execution_count": 19,
     "metadata": {},
     "output_type": "execute_result"
    }
   ],
   "source": [
    "# Вот так это работает\n",
    "train['time1'].apply(lambda time: time.year).head() "
   ]
  },
  {
   "cell_type": "code",
   "execution_count": 20,
   "id": "49578878",
   "metadata": {
    "scrolled": false
   },
   "outputs": [
    {
     "data": {
      "text/plain": [
       "session_id\n",
       "1    201402\n",
       "2    201402\n",
       "3    201312\n",
       "4    201403\n",
       "5    201402\n",
       "Name: time1, dtype: int64"
      ]
     },
     "execution_count": 20,
     "metadata": {},
     "output_type": "execute_result"
    }
   ],
   "source": [
    "# А теперь пробуем, соединяем с месяцем (так, чтобы бло везде число одного порядка, а не 20221 и 202212)\n",
    "train['time1'].apply(lambda time: time.year * 100 + time.month).head() "
   ]
  },
  {
   "cell_type": "markdown",
   "id": "77bbd690",
   "metadata": {},
   "source": [
    "**Создадим Df новых признаков, одинаково заполняем трэйн и тест выборки.**"
   ]
  },
  {
   "cell_type": "code",
   "execution_count": 183,
   "id": "60956e46",
   "metadata": {},
   "outputs": [
    {
     "data": {
      "text/html": [
       "<div>\n",
       "<style scoped>\n",
       "    .dataframe tbody tr th:only-of-type {\n",
       "        vertical-align: middle;\n",
       "    }\n",
       "\n",
       "    .dataframe tbody tr th {\n",
       "        vertical-align: top;\n",
       "    }\n",
       "\n",
       "    .dataframe thead th {\n",
       "        text-align: right;\n",
       "    }\n",
       "</style>\n",
       "<table border=\"1\" class=\"dataframe\">\n",
       "  <thead>\n",
       "    <tr style=\"text-align: right;\">\n",
       "      <th></th>\n",
       "      <th>site1</th>\n",
       "      <th>time1</th>\n",
       "      <th>site2</th>\n",
       "      <th>time2</th>\n",
       "      <th>site3</th>\n",
       "      <th>time3</th>\n",
       "      <th>site4</th>\n",
       "      <th>time4</th>\n",
       "      <th>site5</th>\n",
       "      <th>time5</th>\n",
       "      <th>...</th>\n",
       "      <th>time6</th>\n",
       "      <th>site7</th>\n",
       "      <th>time7</th>\n",
       "      <th>site8</th>\n",
       "      <th>time8</th>\n",
       "      <th>site9</th>\n",
       "      <th>time9</th>\n",
       "      <th>site10</th>\n",
       "      <th>time10</th>\n",
       "      <th>target</th>\n",
       "    </tr>\n",
       "    <tr>\n",
       "      <th>session_id</th>\n",
       "      <th></th>\n",
       "      <th></th>\n",
       "      <th></th>\n",
       "      <th></th>\n",
       "      <th></th>\n",
       "      <th></th>\n",
       "      <th></th>\n",
       "      <th></th>\n",
       "      <th></th>\n",
       "      <th></th>\n",
       "      <th></th>\n",
       "      <th></th>\n",
       "      <th></th>\n",
       "      <th></th>\n",
       "      <th></th>\n",
       "      <th></th>\n",
       "      <th></th>\n",
       "      <th></th>\n",
       "      <th></th>\n",
       "      <th></th>\n",
       "      <th></th>\n",
       "    </tr>\n",
       "  </thead>\n",
       "  <tbody>\n",
       "    <tr>\n",
       "      <th>21669</th>\n",
       "      <td>56</td>\n",
       "      <td>2013-01-12 08:05:57</td>\n",
       "      <td>55</td>\n",
       "      <td>2013-01-12 08:05:57</td>\n",
       "      <td>0</td>\n",
       "      <td>NaT</td>\n",
       "      <td>0</td>\n",
       "      <td>NaT</td>\n",
       "      <td>0</td>\n",
       "      <td>NaT</td>\n",
       "      <td>...</td>\n",
       "      <td>NaT</td>\n",
       "      <td>0</td>\n",
       "      <td>NaT</td>\n",
       "      <td>0</td>\n",
       "      <td>NaT</td>\n",
       "      <td>0</td>\n",
       "      <td>NaT</td>\n",
       "      <td>0</td>\n",
       "      <td>NaT</td>\n",
       "      <td>0</td>\n",
       "    </tr>\n",
       "    <tr>\n",
       "      <th>54843</th>\n",
       "      <td>56</td>\n",
       "      <td>2013-01-12 08:37:23</td>\n",
       "      <td>55</td>\n",
       "      <td>2013-01-12 08:37:23</td>\n",
       "      <td>56</td>\n",
       "      <td>2013-01-12 09:07:07</td>\n",
       "      <td>55</td>\n",
       "      <td>2013-01-12 09:07:09</td>\n",
       "      <td>0</td>\n",
       "      <td>NaT</td>\n",
       "      <td>...</td>\n",
       "      <td>NaT</td>\n",
       "      <td>0</td>\n",
       "      <td>NaT</td>\n",
       "      <td>0</td>\n",
       "      <td>NaT</td>\n",
       "      <td>0</td>\n",
       "      <td>NaT</td>\n",
       "      <td>0</td>\n",
       "      <td>NaT</td>\n",
       "      <td>0</td>\n",
       "    </tr>\n",
       "    <tr>\n",
       "      <th>77292</th>\n",
       "      <td>946</td>\n",
       "      <td>2013-01-12 08:50:13</td>\n",
       "      <td>946</td>\n",
       "      <td>2013-01-12 08:50:14</td>\n",
       "      <td>951</td>\n",
       "      <td>2013-01-12 08:50:15</td>\n",
       "      <td>946</td>\n",
       "      <td>2013-01-12 08:50:15</td>\n",
       "      <td>946</td>\n",
       "      <td>2013-01-12 08:50:16</td>\n",
       "      <td>...</td>\n",
       "      <td>2013-01-12 08:50:16</td>\n",
       "      <td>948</td>\n",
       "      <td>2013-01-12 08:50:16</td>\n",
       "      <td>784</td>\n",
       "      <td>2013-01-12 08:50:16</td>\n",
       "      <td>949</td>\n",
       "      <td>2013-01-12 08:50:17</td>\n",
       "      <td>946</td>\n",
       "      <td>2013-01-12 08:50:17</td>\n",
       "      <td>0</td>\n",
       "    </tr>\n",
       "    <tr>\n",
       "      <th>114021</th>\n",
       "      <td>945</td>\n",
       "      <td>2013-01-12 08:50:17</td>\n",
       "      <td>948</td>\n",
       "      <td>2013-01-12 08:50:17</td>\n",
       "      <td>949</td>\n",
       "      <td>2013-01-12 08:50:18</td>\n",
       "      <td>948</td>\n",
       "      <td>2013-01-12 08:50:18</td>\n",
       "      <td>945</td>\n",
       "      <td>2013-01-12 08:50:18</td>\n",
       "      <td>...</td>\n",
       "      <td>2013-01-12 08:50:18</td>\n",
       "      <td>947</td>\n",
       "      <td>2013-01-12 08:50:19</td>\n",
       "      <td>945</td>\n",
       "      <td>2013-01-12 08:50:19</td>\n",
       "      <td>946</td>\n",
       "      <td>2013-01-12 08:50:19</td>\n",
       "      <td>946</td>\n",
       "      <td>2013-01-12 08:50:20</td>\n",
       "      <td>0</td>\n",
       "    </tr>\n",
       "    <tr>\n",
       "      <th>146670</th>\n",
       "      <td>947</td>\n",
       "      <td>2013-01-12 08:50:20</td>\n",
       "      <td>950</td>\n",
       "      <td>2013-01-12 08:50:20</td>\n",
       "      <td>948</td>\n",
       "      <td>2013-01-12 08:50:20</td>\n",
       "      <td>947</td>\n",
       "      <td>2013-01-12 08:50:21</td>\n",
       "      <td>950</td>\n",
       "      <td>2013-01-12 08:50:21</td>\n",
       "      <td>...</td>\n",
       "      <td>2013-01-12 08:50:21</td>\n",
       "      <td>946</td>\n",
       "      <td>2013-01-12 08:50:21</td>\n",
       "      <td>951</td>\n",
       "      <td>2013-01-12 08:50:22</td>\n",
       "      <td>946</td>\n",
       "      <td>2013-01-12 08:50:22</td>\n",
       "      <td>947</td>\n",
       "      <td>2013-01-12 08:50:22</td>\n",
       "      <td>0</td>\n",
       "    </tr>\n",
       "  </tbody>\n",
       "</table>\n",
       "<p>5 rows × 21 columns</p>\n",
       "</div>"
      ],
      "text/plain": [
       "            site1               time1  site2               time2  site3  \\\n",
       "session_id                                                                \n",
       "21669          56 2013-01-12 08:05:57     55 2013-01-12 08:05:57      0   \n",
       "54843          56 2013-01-12 08:37:23     55 2013-01-12 08:37:23     56   \n",
       "77292         946 2013-01-12 08:50:13    946 2013-01-12 08:50:14    951   \n",
       "114021        945 2013-01-12 08:50:17    948 2013-01-12 08:50:17    949   \n",
       "146670        947 2013-01-12 08:50:20    950 2013-01-12 08:50:20    948   \n",
       "\n",
       "                         time3  site4               time4  site5  \\\n",
       "session_id                                                         \n",
       "21669                      NaT      0                 NaT      0   \n",
       "54843      2013-01-12 09:07:07     55 2013-01-12 09:07:09      0   \n",
       "77292      2013-01-12 08:50:15    946 2013-01-12 08:50:15    946   \n",
       "114021     2013-01-12 08:50:18    948 2013-01-12 08:50:18    945   \n",
       "146670     2013-01-12 08:50:20    947 2013-01-12 08:50:21    950   \n",
       "\n",
       "                         time5  ...               time6 site7  \\\n",
       "session_id                      ...                             \n",
       "21669                      NaT  ...                 NaT     0   \n",
       "54843                      NaT  ...                 NaT     0   \n",
       "77292      2013-01-12 08:50:16  ... 2013-01-12 08:50:16   948   \n",
       "114021     2013-01-12 08:50:18  ... 2013-01-12 08:50:18   947   \n",
       "146670     2013-01-12 08:50:21  ... 2013-01-12 08:50:21   946   \n",
       "\n",
       "                         time7 site8               time8 site9  \\\n",
       "session_id                                                       \n",
       "21669                      NaT     0                 NaT     0   \n",
       "54843                      NaT     0                 NaT     0   \n",
       "77292      2013-01-12 08:50:16   784 2013-01-12 08:50:16   949   \n",
       "114021     2013-01-12 08:50:19   945 2013-01-12 08:50:19   946   \n",
       "146670     2013-01-12 08:50:21   951 2013-01-12 08:50:22   946   \n",
       "\n",
       "                         time9 site10              time10 target  \n",
       "session_id                                                        \n",
       "21669                      NaT      0                 NaT      0  \n",
       "54843                      NaT      0                 NaT      0  \n",
       "77292      2013-01-12 08:50:17    946 2013-01-12 08:50:17      0  \n",
       "114021     2013-01-12 08:50:19    946 2013-01-12 08:50:20      0  \n",
       "146670     2013-01-12 08:50:22    947 2013-01-12 08:50:22      0  \n",
       "\n",
       "[5 rows x 21 columns]"
      ]
     },
     "execution_count": 183,
     "metadata": {},
     "output_type": "execute_result"
    }
   ],
   "source": [
    "train.head()"
   ]
  },
  {
   "cell_type": "code",
   "execution_count": 184,
   "id": "a0261f38",
   "metadata": {},
   "outputs": [],
   "source": [
    "new_feat_train = pd.DataFrame(index=train.index)\n",
    "new_feat_test = pd.DataFrame(index=test.index)"
   ]
  },
  {
   "cell_type": "code",
   "execution_count": 185,
   "id": "bfa0392d",
   "metadata": {
    "scrolled": true
   },
   "outputs": [],
   "source": [
    "# Заносим\n",
    "new_feat_train['year_month'] = train['time1'].apply(lambda tm: int(tm.year * 100 + tm.month))\n",
    "new_feat_test['year_month'] = test['time1'].apply(lambda tm: int(tm.year * 100 + tm.month))"
   ]
  },
  {
   "cell_type": "code",
   "execution_count": 186,
   "id": "aaa55869",
   "metadata": {},
   "outputs": [
    {
     "data": {
      "text/html": [
       "<div>\n",
       "<style scoped>\n",
       "    .dataframe tbody tr th:only-of-type {\n",
       "        vertical-align: middle;\n",
       "    }\n",
       "\n",
       "    .dataframe tbody tr th {\n",
       "        vertical-align: top;\n",
       "    }\n",
       "\n",
       "    .dataframe thead th {\n",
       "        text-align: right;\n",
       "    }\n",
       "</style>\n",
       "<table border=\"1\" class=\"dataframe\">\n",
       "  <thead>\n",
       "    <tr style=\"text-align: right;\">\n",
       "      <th></th>\n",
       "      <th>year_month</th>\n",
       "    </tr>\n",
       "    <tr>\n",
       "      <th>session_id</th>\n",
       "      <th></th>\n",
       "    </tr>\n",
       "  </thead>\n",
       "  <tbody>\n",
       "    <tr>\n",
       "      <th>21669</th>\n",
       "      <td>201301</td>\n",
       "    </tr>\n",
       "    <tr>\n",
       "      <th>54843</th>\n",
       "      <td>201301</td>\n",
       "    </tr>\n",
       "    <tr>\n",
       "      <th>77292</th>\n",
       "      <td>201301</td>\n",
       "    </tr>\n",
       "    <tr>\n",
       "      <th>114021</th>\n",
       "      <td>201301</td>\n",
       "    </tr>\n",
       "    <tr>\n",
       "      <th>146670</th>\n",
       "      <td>201301</td>\n",
       "    </tr>\n",
       "  </tbody>\n",
       "</table>\n",
       "</div>"
      ],
      "text/plain": [
       "            year_month\n",
       "session_id            \n",
       "21669           201301\n",
       "54843           201301\n",
       "77292           201301\n",
       "114021          201301\n",
       "146670          201301"
      ]
     },
     "execution_count": 186,
     "metadata": {},
     "output_type": "execute_result"
    }
   ],
   "source": [
    "new_feat_train.head()"
   ]
  },
  {
   "cell_type": "markdown",
   "id": "f860d856",
   "metadata": {},
   "source": [
    "**Если его добавить, то обязательно стандартизировать!!!!!!!!**"
   ]
  },
  {
   "cell_type": "markdown",
   "id": "637d0692",
   "metadata": {},
   "source": [
    "**Стандарт скалер из каждого признака вычтет среднее по столбцу и поделит на стандартное отклонение**"
   ]
  },
  {
   "cell_type": "code",
   "execution_count": 187,
   "id": "fbaf84c9",
   "metadata": {},
   "outputs": [
    {
     "data": {
      "text/plain": [
       "StandardScaler()"
      ]
     },
     "execution_count": 187,
     "metadata": {},
     "output_type": "execute_result"
    }
   ],
   "source": [
    "# Много-много возни с решейпом! Будет кидать ошибку и просьбу отрешейпить, когда передается 1 признак!\n",
    "scaler = StandardScaler()\n",
    "scaler.fit(new_feat_train['year_month'].values.reshape(-1, 1))"
   ]
  },
  {
   "cell_type": "code",
   "execution_count": 188,
   "id": "c22f42a1",
   "metadata": {},
   "outputs": [],
   "source": [
    "new_feat_train['year_month_scaled'] = scaler.transform(new_feat_train['year_month'].values.reshape(-1, 1))"
   ]
  },
  {
   "cell_type": "code",
   "execution_count": 189,
   "id": "0dd8a111",
   "metadata": {},
   "outputs": [
    {
     "data": {
      "text/html": [
       "<div>\n",
       "<style scoped>\n",
       "    .dataframe tbody tr th:only-of-type {\n",
       "        vertical-align: middle;\n",
       "    }\n",
       "\n",
       "    .dataframe tbody tr th {\n",
       "        vertical-align: top;\n",
       "    }\n",
       "\n",
       "    .dataframe thead th {\n",
       "        text-align: right;\n",
       "    }\n",
       "</style>\n",
       "<table border=\"1\" class=\"dataframe\">\n",
       "  <thead>\n",
       "    <tr style=\"text-align: right;\">\n",
       "      <th></th>\n",
       "      <th>year_month</th>\n",
       "      <th>year_month_scaled</th>\n",
       "    </tr>\n",
       "    <tr>\n",
       "      <th>session_id</th>\n",
       "      <th></th>\n",
       "      <th></th>\n",
       "    </tr>\n",
       "  </thead>\n",
       "  <tbody>\n",
       "    <tr>\n",
       "      <th>21669</th>\n",
       "      <td>201301</td>\n",
       "      <td>-1.744405</td>\n",
       "    </tr>\n",
       "    <tr>\n",
       "      <th>54843</th>\n",
       "      <td>201301</td>\n",
       "      <td>-1.744405</td>\n",
       "    </tr>\n",
       "    <tr>\n",
       "      <th>77292</th>\n",
       "      <td>201301</td>\n",
       "      <td>-1.744405</td>\n",
       "    </tr>\n",
       "    <tr>\n",
       "      <th>114021</th>\n",
       "      <td>201301</td>\n",
       "      <td>-1.744405</td>\n",
       "    </tr>\n",
       "    <tr>\n",
       "      <th>146670</th>\n",
       "      <td>201301</td>\n",
       "      <td>-1.744405</td>\n",
       "    </tr>\n",
       "    <tr>\n",
       "      <th>...</th>\n",
       "      <td>...</td>\n",
       "      <td>...</td>\n",
       "    </tr>\n",
       "    <tr>\n",
       "      <th>12224</th>\n",
       "      <td>201404</td>\n",
       "      <td>0.681626</td>\n",
       "    </tr>\n",
       "    <tr>\n",
       "      <th>164438</th>\n",
       "      <td>201404</td>\n",
       "      <td>0.681626</td>\n",
       "    </tr>\n",
       "    <tr>\n",
       "      <th>12221</th>\n",
       "      <td>201404</td>\n",
       "      <td>0.681626</td>\n",
       "    </tr>\n",
       "    <tr>\n",
       "      <th>156968</th>\n",
       "      <td>201404</td>\n",
       "      <td>0.681626</td>\n",
       "    </tr>\n",
       "    <tr>\n",
       "      <th>204762</th>\n",
       "      <td>201404</td>\n",
       "      <td>0.681626</td>\n",
       "    </tr>\n",
       "  </tbody>\n",
       "</table>\n",
       "<p>253561 rows × 2 columns</p>\n",
       "</div>"
      ],
      "text/plain": [
       "            year_month  year_month_scaled\n",
       "session_id                               \n",
       "21669           201301          -1.744405\n",
       "54843           201301          -1.744405\n",
       "77292           201301          -1.744405\n",
       "114021          201301          -1.744405\n",
       "146670          201301          -1.744405\n",
       "...                ...                ...\n",
       "12224           201404           0.681626\n",
       "164438          201404           0.681626\n",
       "12221           201404           0.681626\n",
       "156968          201404           0.681626\n",
       "204762          201404           0.681626\n",
       "\n",
       "[253561 rows x 2 columns]"
      ]
     },
     "execution_count": 189,
     "metadata": {},
     "output_type": "execute_result"
    }
   ],
   "source": [
    "# Все получилось!!!\n",
    "new_feat_train"
   ]
  },
  {
   "cell_type": "code",
   "execution_count": 190,
   "id": "80f75b44",
   "metadata": {},
   "outputs": [],
   "source": [
    "# Повторим на тестовой выборке, но !!! тестовая выборка не участвует в фите, чтобы не собрать информацию о ней\n",
    "new_feat_test['year_month_scaled'] = scaler.transform(new_feat_test['year_month'].values.reshape(-1, 1))"
   ]
  },
  {
   "cell_type": "code",
   "execution_count": 191,
   "id": "1fa568bc",
   "metadata": {
    "scrolled": true
   },
   "outputs": [],
   "source": [
    "ym = new_feat_train"
   ]
  },
  {
   "cell_type": "code",
   "execution_count": 192,
   "id": "af96a175",
   "metadata": {
    "scrolled": true
   },
   "outputs": [],
   "source": [
    "ym['tar'] = train['target'] # Добавили Алису"
   ]
  },
  {
   "cell_type": "code",
   "execution_count": 193,
   "id": "8e7b4b12",
   "metadata": {},
   "outputs": [
    {
     "data": {
      "text/html": [
       "<div>\n",
       "<style scoped>\n",
       "    .dataframe tbody tr th:only-of-type {\n",
       "        vertical-align: middle;\n",
       "    }\n",
       "\n",
       "    .dataframe tbody tr th {\n",
       "        vertical-align: top;\n",
       "    }\n",
       "\n",
       "    .dataframe thead th {\n",
       "        text-align: right;\n",
       "    }\n",
       "</style>\n",
       "<table border=\"1\" class=\"dataframe\">\n",
       "  <thead>\n",
       "    <tr style=\"text-align: right;\">\n",
       "      <th></th>\n",
       "      <th>year_month</th>\n",
       "      <th>year_month_scaled</th>\n",
       "      <th>tar</th>\n",
       "    </tr>\n",
       "    <tr>\n",
       "      <th>session_id</th>\n",
       "      <th></th>\n",
       "      <th></th>\n",
       "      <th></th>\n",
       "    </tr>\n",
       "  </thead>\n",
       "  <tbody>\n",
       "    <tr>\n",
       "      <th>21669</th>\n",
       "      <td>201301</td>\n",
       "      <td>-1.744405</td>\n",
       "      <td>0</td>\n",
       "    </tr>\n",
       "    <tr>\n",
       "      <th>54843</th>\n",
       "      <td>201301</td>\n",
       "      <td>-1.744405</td>\n",
       "      <td>0</td>\n",
       "    </tr>\n",
       "    <tr>\n",
       "      <th>77292</th>\n",
       "      <td>201301</td>\n",
       "      <td>-1.744405</td>\n",
       "      <td>0</td>\n",
       "    </tr>\n",
       "    <tr>\n",
       "      <th>114021</th>\n",
       "      <td>201301</td>\n",
       "      <td>-1.744405</td>\n",
       "      <td>0</td>\n",
       "    </tr>\n",
       "    <tr>\n",
       "      <th>146670</th>\n",
       "      <td>201301</td>\n",
       "      <td>-1.744405</td>\n",
       "      <td>0</td>\n",
       "    </tr>\n",
       "    <tr>\n",
       "      <th>...</th>\n",
       "      <td>...</td>\n",
       "      <td>...</td>\n",
       "      <td>...</td>\n",
       "    </tr>\n",
       "    <tr>\n",
       "      <th>12224</th>\n",
       "      <td>201404</td>\n",
       "      <td>0.681626</td>\n",
       "      <td>0</td>\n",
       "    </tr>\n",
       "    <tr>\n",
       "      <th>164438</th>\n",
       "      <td>201404</td>\n",
       "      <td>0.681626</td>\n",
       "      <td>0</td>\n",
       "    </tr>\n",
       "    <tr>\n",
       "      <th>12221</th>\n",
       "      <td>201404</td>\n",
       "      <td>0.681626</td>\n",
       "      <td>0</td>\n",
       "    </tr>\n",
       "    <tr>\n",
       "      <th>156968</th>\n",
       "      <td>201404</td>\n",
       "      <td>0.681626</td>\n",
       "      <td>0</td>\n",
       "    </tr>\n",
       "    <tr>\n",
       "      <th>204762</th>\n",
       "      <td>201404</td>\n",
       "      <td>0.681626</td>\n",
       "      <td>0</td>\n",
       "    </tr>\n",
       "  </tbody>\n",
       "</table>\n",
       "<p>253561 rows × 3 columns</p>\n",
       "</div>"
      ],
      "text/plain": [
       "            year_month  year_month_scaled  tar\n",
       "session_id                                    \n",
       "21669           201301          -1.744405    0\n",
       "54843           201301          -1.744405    0\n",
       "77292           201301          -1.744405    0\n",
       "114021          201301          -1.744405    0\n",
       "146670          201301          -1.744405    0\n",
       "...                ...                ...  ...\n",
       "12224           201404           0.681626    0\n",
       "164438          201404           0.681626    0\n",
       "12221           201404           0.681626    0\n",
       "156968          201404           0.681626    0\n",
       "204762          201404           0.681626    0\n",
       "\n",
       "[253561 rows x 3 columns]"
      ]
     },
     "execution_count": 193,
     "metadata": {},
     "output_type": "execute_result"
    }
   ],
   "source": [
    "ym"
   ]
  },
  {
   "cell_type": "code",
   "execution_count": 219,
   "id": "469411fe",
   "metadata": {
    "scrolled": true
   },
   "outputs": [
    {
     "data": {
      "text/plain": [
       "201311    446\n",
       "201402    410\n",
       "201403    400\n",
       "201309    377\n",
       "201404    302\n",
       "201312    134\n",
       "201401    129\n",
       "201302     61\n",
       "201304     38\n",
       "Name: year_month, dtype: int64"
      ]
     },
     "execution_count": 219,
     "metadata": {},
     "output_type": "execute_result"
    }
   ],
   "source": [
    "ym[ym.tar == 1]['year_month'].value_counts() # Посмотрели в какие мес Алиса активна"
   ]
  },
  {
   "cell_type": "code",
   "execution_count": 217,
   "id": "4c8c120e",
   "metadata": {
    "scrolled": true
   },
   "outputs": [
    {
     "data": {
      "text/plain": [
       "201403    56250\n",
       "201402    55563\n",
       "201401    35869\n",
       "201311    34493\n",
       "201404    31204\n",
       "201312    16552\n",
       "201304     3997\n",
       "201302     3929\n",
       "201309     3464\n",
       "201303     3337\n",
       "201305     3229\n",
       "201310     2788\n",
       "201306     2094\n",
       "201301      363\n",
       "201308      290\n",
       "201307      139\n",
       "Name: year_month, dtype: int64"
      ]
     },
     "execution_count": 217,
     "metadata": {},
     "output_type": "execute_result"
    }
   ],
   "source": [
    "ym['year_month'].value_counts() # Посмотрели в какие мес какая активность"
   ]
  },
  {
   "cell_type": "code",
   "execution_count": 195,
   "id": "664e7287",
   "metadata": {},
   "outputs": [
    {
     "data": {
      "text/plain": [
       "(253561, 48371)"
      ]
     },
     "execution_count": 195,
     "metadata": {},
     "output_type": "execute_result"
    }
   ],
   "source": [
    "X_train_sparse.shape"
   ]
  },
  {
   "cell_type": "code",
   "execution_count": 196,
   "id": "783d1c87",
   "metadata": {},
   "outputs": [
    {
     "data": {
      "text/plain": [
       "(253561, 3)"
      ]
     },
     "execution_count": 196,
     "metadata": {},
     "output_type": "execute_result"
    }
   ],
   "source": [
    "new_feat_train.shape"
   ]
  },
  {
   "cell_type": "code",
   "execution_count": 197,
   "id": "9e38be77",
   "metadata": {},
   "outputs": [],
   "source": [
    "# Так как начальная матрица разреженая, то просто объединить не получится, надо использовать hstack\n",
    "# На hstack тоже ругается, хочет один вектор-столбец!\n",
    "X_train_new = csr_matrix(hstack([X_train_sparse, new_feat_train['year_month_scaled'].values.reshape(-1, 1)]))"
   ]
  },
  {
   "cell_type": "code",
   "execution_count": 198,
   "id": "6d778bcd",
   "metadata": {},
   "outputs": [
    {
     "data": {
      "text/plain": [
       "(253561, 48372)"
      ]
     },
     "execution_count": 198,
     "metadata": {},
     "output_type": "execute_result"
    }
   ],
   "source": [
    "# Видим, что размерность увеличилась на 1 столбец\n",
    "X_train_new.shape"
   ]
  },
  {
   "cell_type": "code",
   "execution_count": 199,
   "id": "7f3e2370",
   "metadata": {},
   "outputs": [
    {
     "data": {
      "text/plain": [
       "0.8237135489004861"
      ]
     },
     "execution_count": 199,
     "metadata": {},
     "output_type": "execute_result"
    }
   ],
   "source": [
    "# Получается почемуто меньше, чем в kaggle и меньше чем в лекции и меньше чем в первй раз)))))))))))\n",
    "LogReg_roc_auc1(X_train_new, y_train, m_iter=500)"
   ]
  },
  {
   "cell_type": "markdown",
   "id": "c79c164d",
   "metadata": {},
   "source": [
    "## Добавим категорию начала первой сессии по времени суток"
   ]
  },
  {
   "cell_type": "code",
   "execution_count": 201,
   "id": "53201c9e",
   "metadata": {},
   "outputs": [
    {
     "data": {
      "text/html": [
       "<div>\n",
       "<style scoped>\n",
       "    .dataframe tbody tr th:only-of-type {\n",
       "        vertical-align: middle;\n",
       "    }\n",
       "\n",
       "    .dataframe tbody tr th {\n",
       "        vertical-align: top;\n",
       "    }\n",
       "\n",
       "    .dataframe thead th {\n",
       "        text-align: right;\n",
       "    }\n",
       "</style>\n",
       "<table border=\"1\" class=\"dataframe\">\n",
       "  <thead>\n",
       "    <tr style=\"text-align: right;\">\n",
       "      <th></th>\n",
       "      <th>site1</th>\n",
       "      <th>time1</th>\n",
       "      <th>site2</th>\n",
       "      <th>time2</th>\n",
       "      <th>site3</th>\n",
       "      <th>time3</th>\n",
       "      <th>site4</th>\n",
       "      <th>time4</th>\n",
       "      <th>site5</th>\n",
       "      <th>time5</th>\n",
       "      <th>...</th>\n",
       "      <th>time6</th>\n",
       "      <th>site7</th>\n",
       "      <th>time7</th>\n",
       "      <th>site8</th>\n",
       "      <th>time8</th>\n",
       "      <th>site9</th>\n",
       "      <th>time9</th>\n",
       "      <th>site10</th>\n",
       "      <th>time10</th>\n",
       "      <th>target</th>\n",
       "    </tr>\n",
       "    <tr>\n",
       "      <th>session_id</th>\n",
       "      <th></th>\n",
       "      <th></th>\n",
       "      <th></th>\n",
       "      <th></th>\n",
       "      <th></th>\n",
       "      <th></th>\n",
       "      <th></th>\n",
       "      <th></th>\n",
       "      <th></th>\n",
       "      <th></th>\n",
       "      <th></th>\n",
       "      <th></th>\n",
       "      <th></th>\n",
       "      <th></th>\n",
       "      <th></th>\n",
       "      <th></th>\n",
       "      <th></th>\n",
       "      <th></th>\n",
       "      <th></th>\n",
       "      <th></th>\n",
       "      <th></th>\n",
       "    </tr>\n",
       "  </thead>\n",
       "  <tbody>\n",
       "    <tr>\n",
       "      <th>21669</th>\n",
       "      <td>56</td>\n",
       "      <td>2013-01-12 08:05:57</td>\n",
       "      <td>55</td>\n",
       "      <td>2013-01-12 08:05:57</td>\n",
       "      <td>0</td>\n",
       "      <td>NaT</td>\n",
       "      <td>0</td>\n",
       "      <td>NaT</td>\n",
       "      <td>0</td>\n",
       "      <td>NaT</td>\n",
       "      <td>...</td>\n",
       "      <td>NaT</td>\n",
       "      <td>0</td>\n",
       "      <td>NaT</td>\n",
       "      <td>0</td>\n",
       "      <td>NaT</td>\n",
       "      <td>0</td>\n",
       "      <td>NaT</td>\n",
       "      <td>0</td>\n",
       "      <td>NaT</td>\n",
       "      <td>0</td>\n",
       "    </tr>\n",
       "    <tr>\n",
       "      <th>54843</th>\n",
       "      <td>56</td>\n",
       "      <td>2013-01-12 08:37:23</td>\n",
       "      <td>55</td>\n",
       "      <td>2013-01-12 08:37:23</td>\n",
       "      <td>56</td>\n",
       "      <td>2013-01-12 09:07:07</td>\n",
       "      <td>55</td>\n",
       "      <td>2013-01-12 09:07:09</td>\n",
       "      <td>0</td>\n",
       "      <td>NaT</td>\n",
       "      <td>...</td>\n",
       "      <td>NaT</td>\n",
       "      <td>0</td>\n",
       "      <td>NaT</td>\n",
       "      <td>0</td>\n",
       "      <td>NaT</td>\n",
       "      <td>0</td>\n",
       "      <td>NaT</td>\n",
       "      <td>0</td>\n",
       "      <td>NaT</td>\n",
       "      <td>0</td>\n",
       "    </tr>\n",
       "    <tr>\n",
       "      <th>77292</th>\n",
       "      <td>946</td>\n",
       "      <td>2013-01-12 08:50:13</td>\n",
       "      <td>946</td>\n",
       "      <td>2013-01-12 08:50:14</td>\n",
       "      <td>951</td>\n",
       "      <td>2013-01-12 08:50:15</td>\n",
       "      <td>946</td>\n",
       "      <td>2013-01-12 08:50:15</td>\n",
       "      <td>946</td>\n",
       "      <td>2013-01-12 08:50:16</td>\n",
       "      <td>...</td>\n",
       "      <td>2013-01-12 08:50:16</td>\n",
       "      <td>948</td>\n",
       "      <td>2013-01-12 08:50:16</td>\n",
       "      <td>784</td>\n",
       "      <td>2013-01-12 08:50:16</td>\n",
       "      <td>949</td>\n",
       "      <td>2013-01-12 08:50:17</td>\n",
       "      <td>946</td>\n",
       "      <td>2013-01-12 08:50:17</td>\n",
       "      <td>0</td>\n",
       "    </tr>\n",
       "    <tr>\n",
       "      <th>114021</th>\n",
       "      <td>945</td>\n",
       "      <td>2013-01-12 08:50:17</td>\n",
       "      <td>948</td>\n",
       "      <td>2013-01-12 08:50:17</td>\n",
       "      <td>949</td>\n",
       "      <td>2013-01-12 08:50:18</td>\n",
       "      <td>948</td>\n",
       "      <td>2013-01-12 08:50:18</td>\n",
       "      <td>945</td>\n",
       "      <td>2013-01-12 08:50:18</td>\n",
       "      <td>...</td>\n",
       "      <td>2013-01-12 08:50:18</td>\n",
       "      <td>947</td>\n",
       "      <td>2013-01-12 08:50:19</td>\n",
       "      <td>945</td>\n",
       "      <td>2013-01-12 08:50:19</td>\n",
       "      <td>946</td>\n",
       "      <td>2013-01-12 08:50:19</td>\n",
       "      <td>946</td>\n",
       "      <td>2013-01-12 08:50:20</td>\n",
       "      <td>0</td>\n",
       "    </tr>\n",
       "    <tr>\n",
       "      <th>146670</th>\n",
       "      <td>947</td>\n",
       "      <td>2013-01-12 08:50:20</td>\n",
       "      <td>950</td>\n",
       "      <td>2013-01-12 08:50:20</td>\n",
       "      <td>948</td>\n",
       "      <td>2013-01-12 08:50:20</td>\n",
       "      <td>947</td>\n",
       "      <td>2013-01-12 08:50:21</td>\n",
       "      <td>950</td>\n",
       "      <td>2013-01-12 08:50:21</td>\n",
       "      <td>...</td>\n",
       "      <td>2013-01-12 08:50:21</td>\n",
       "      <td>946</td>\n",
       "      <td>2013-01-12 08:50:21</td>\n",
       "      <td>951</td>\n",
       "      <td>2013-01-12 08:50:22</td>\n",
       "      <td>946</td>\n",
       "      <td>2013-01-12 08:50:22</td>\n",
       "      <td>947</td>\n",
       "      <td>2013-01-12 08:50:22</td>\n",
       "      <td>0</td>\n",
       "    </tr>\n",
       "  </tbody>\n",
       "</table>\n",
       "<p>5 rows × 21 columns</p>\n",
       "</div>"
      ],
      "text/plain": [
       "            site1               time1  site2               time2  site3  \\\n",
       "session_id                                                                \n",
       "21669          56 2013-01-12 08:05:57     55 2013-01-12 08:05:57      0   \n",
       "54843          56 2013-01-12 08:37:23     55 2013-01-12 08:37:23     56   \n",
       "77292         946 2013-01-12 08:50:13    946 2013-01-12 08:50:14    951   \n",
       "114021        945 2013-01-12 08:50:17    948 2013-01-12 08:50:17    949   \n",
       "146670        947 2013-01-12 08:50:20    950 2013-01-12 08:50:20    948   \n",
       "\n",
       "                         time3  site4               time4  site5  \\\n",
       "session_id                                                         \n",
       "21669                      NaT      0                 NaT      0   \n",
       "54843      2013-01-12 09:07:07     55 2013-01-12 09:07:09      0   \n",
       "77292      2013-01-12 08:50:15    946 2013-01-12 08:50:15    946   \n",
       "114021     2013-01-12 08:50:18    948 2013-01-12 08:50:18    945   \n",
       "146670     2013-01-12 08:50:20    947 2013-01-12 08:50:21    950   \n",
       "\n",
       "                         time5  ...               time6 site7  \\\n",
       "session_id                      ...                             \n",
       "21669                      NaT  ...                 NaT     0   \n",
       "54843                      NaT  ...                 NaT     0   \n",
       "77292      2013-01-12 08:50:16  ... 2013-01-12 08:50:16   948   \n",
       "114021     2013-01-12 08:50:18  ... 2013-01-12 08:50:18   947   \n",
       "146670     2013-01-12 08:50:21  ... 2013-01-12 08:50:21   946   \n",
       "\n",
       "                         time7 site8               time8 site9  \\\n",
       "session_id                                                       \n",
       "21669                      NaT     0                 NaT     0   \n",
       "54843                      NaT     0                 NaT     0   \n",
       "77292      2013-01-12 08:50:16   784 2013-01-12 08:50:16   949   \n",
       "114021     2013-01-12 08:50:19   945 2013-01-12 08:50:19   946   \n",
       "146670     2013-01-12 08:50:21   951 2013-01-12 08:50:22   946   \n",
       "\n",
       "                         time9 site10              time10 target  \n",
       "session_id                                                        \n",
       "21669                      NaT      0                 NaT      0  \n",
       "54843                      NaT      0                 NaT      0  \n",
       "77292      2013-01-12 08:50:17    946 2013-01-12 08:50:17      0  \n",
       "114021     2013-01-12 08:50:19    946 2013-01-12 08:50:20      0  \n",
       "146670     2013-01-12 08:50:22    947 2013-01-12 08:50:22      0  \n",
       "\n",
       "[5 rows x 21 columns]"
      ]
     },
     "execution_count": 201,
     "metadata": {},
     "output_type": "execute_result"
    }
   ],
   "source": [
    "train.head()"
   ]
  },
  {
   "cell_type": "code",
   "execution_count": 202,
   "id": "5b5d3a4b",
   "metadata": {},
   "outputs": [
    {
     "data": {
      "text/plain": [
       "10"
      ]
     },
     "execution_count": 202,
     "metadata": {},
     "output_type": "execute_result"
    }
   ],
   "source": [
    "train['time1'][1].hour"
   ]
  },
  {
   "cell_type": "code",
   "execution_count": 203,
   "id": "802d208e",
   "metadata": {},
   "outputs": [],
   "source": [
    "time_start = pd.DataFrame(index=train.index)"
   ]
  },
  {
   "cell_type": "code",
   "execution_count": 204,
   "id": "2ded8441",
   "metadata": {},
   "outputs": [],
   "source": [
    "time_start['t_s'] = train['time1']"
   ]
  },
  {
   "cell_type": "code",
   "execution_count": 205,
   "id": "39173a89",
   "metadata": {},
   "outputs": [],
   "source": [
    "time_start['start'] = time_start['t_s'].apply(lambda ts: 0 if 9<=ts.hour<21 else 1)"
   ]
  },
  {
   "cell_type": "code",
   "execution_count": 206,
   "id": "e31b6d5b",
   "metadata": {},
   "outputs": [
    {
     "data": {
      "text/plain": [
       "0    223340\n",
       "1     30221\n",
       "Name: start, dtype: int64"
      ]
     },
     "execution_count": 206,
     "metadata": {},
     "output_type": "execute_result"
    }
   ],
   "source": [
    "# Признак начала сессии\n",
    "time_start['start'].value_counts()"
   ]
  },
  {
   "cell_type": "code",
   "execution_count": 207,
   "id": "f9638cd2",
   "metadata": {},
   "outputs": [
    {
     "data": {
      "text/plain": [
       "0    204701\n",
       "1     48860\n",
       "Name: end, dtype: int64"
      ]
     },
     "execution_count": 207,
     "metadata": {},
     "output_type": "execute_result"
    }
   ],
   "source": [
    "time_end = pd.DataFrame(index=train.index)\n",
    "time_end['t_e'] = train['time10']\n",
    "time_end['end'] = time_end['t_e'].apply(lambda te: 0 if 9<= te.hour < 21 else 1)\n",
    "time_end['end'].value_counts()"
   ]
  },
  {
   "cell_type": "code",
   "execution_count": 208,
   "id": "15670604",
   "metadata": {},
   "outputs": [],
   "source": [
    "time_end['start'] = time_start['start']"
   ]
  },
  {
   "cell_type": "code",
   "execution_count": 209,
   "id": "de2a2631",
   "metadata": {},
   "outputs": [],
   "source": [
    "time_end['s_t'] = time_start['t_s']"
   ]
  },
  {
   "cell_type": "markdown",
   "id": "e5d1e60e",
   "metadata": {},
   "source": [
    "### Нашел как вычислить быстро timedelta в секундах"
   ]
  },
  {
   "cell_type": "code",
   "execution_count": 210,
   "id": "4c91ad9b",
   "metadata": {},
   "outputs": [
    {
     "data": {
      "text/plain": [
       "float"
      ]
     },
     "execution_count": 210,
     "metadata": {},
     "output_type": "execute_result"
    }
   ],
   "source": [
    "type((time_end['t_e'][10] - time_end['s_t'][10]).total_seconds())"
   ]
  },
  {
   "cell_type": "code",
   "execution_count": 211,
   "id": "16b37ddc",
   "metadata": {},
   "outputs": [],
   "source": [
    "time_end['delta_st_end'] = time_end['t_e'] - time_end['s_t']"
   ]
  },
  {
   "cell_type": "code",
   "execution_count": 212,
   "id": "6f9659e7",
   "metadata": {},
   "outputs": [],
   "source": [
    "time_end['delta_st_end'] = time_end['delta_st_end'].apply(lambda td: td.total_seconds())"
   ]
  },
  {
   "cell_type": "code",
   "execution_count": 213,
   "id": "e5ce4c03",
   "metadata": {},
   "outputs": [],
   "source": [
    "time_st_end_delta = time_end.drop('t_e', axis=1).drop('s_t', axis=1)"
   ]
  },
  {
   "cell_type": "code",
   "execution_count": 214,
   "id": "a6ee41f8",
   "metadata": {},
   "outputs": [
    {
     "data": {
      "text/html": [
       "<div>\n",
       "<style scoped>\n",
       "    .dataframe tbody tr th:only-of-type {\n",
       "        vertical-align: middle;\n",
       "    }\n",
       "\n",
       "    .dataframe tbody tr th {\n",
       "        vertical-align: top;\n",
       "    }\n",
       "\n",
       "    .dataframe thead th {\n",
       "        text-align: right;\n",
       "    }\n",
       "</style>\n",
       "<table border=\"1\" class=\"dataframe\">\n",
       "  <thead>\n",
       "    <tr style=\"text-align: right;\">\n",
       "      <th></th>\n",
       "      <th>end</th>\n",
       "      <th>start</th>\n",
       "      <th>delta_st_end</th>\n",
       "    </tr>\n",
       "    <tr>\n",
       "      <th>session_id</th>\n",
       "      <th></th>\n",
       "      <th></th>\n",
       "      <th></th>\n",
       "    </tr>\n",
       "  </thead>\n",
       "  <tbody>\n",
       "    <tr>\n",
       "      <th>21669</th>\n",
       "      <td>1</td>\n",
       "      <td>1</td>\n",
       "      <td>0.0</td>\n",
       "    </tr>\n",
       "    <tr>\n",
       "      <th>54843</th>\n",
       "      <td>1</td>\n",
       "      <td>1</td>\n",
       "      <td>0.0</td>\n",
       "    </tr>\n",
       "    <tr>\n",
       "      <th>77292</th>\n",
       "      <td>1</td>\n",
       "      <td>1</td>\n",
       "      <td>4.0</td>\n",
       "    </tr>\n",
       "    <tr>\n",
       "      <th>114021</th>\n",
       "      <td>1</td>\n",
       "      <td>1</td>\n",
       "      <td>3.0</td>\n",
       "    </tr>\n",
       "    <tr>\n",
       "      <th>146670</th>\n",
       "      <td>1</td>\n",
       "      <td>1</td>\n",
       "      <td>2.0</td>\n",
       "    </tr>\n",
       "    <tr>\n",
       "      <th>...</th>\n",
       "      <td>...</td>\n",
       "      <td>...</td>\n",
       "      <td>...</td>\n",
       "    </tr>\n",
       "    <tr>\n",
       "      <th>12224</th>\n",
       "      <td>1</td>\n",
       "      <td>1</td>\n",
       "      <td>12.0</td>\n",
       "    </tr>\n",
       "    <tr>\n",
       "      <th>164438</th>\n",
       "      <td>1</td>\n",
       "      <td>1</td>\n",
       "      <td>178.0</td>\n",
       "    </tr>\n",
       "    <tr>\n",
       "      <th>12221</th>\n",
       "      <td>1</td>\n",
       "      <td>1</td>\n",
       "      <td>28.0</td>\n",
       "    </tr>\n",
       "    <tr>\n",
       "      <th>156968</th>\n",
       "      <td>1</td>\n",
       "      <td>1</td>\n",
       "      <td>77.0</td>\n",
       "    </tr>\n",
       "    <tr>\n",
       "      <th>204762</th>\n",
       "      <td>1</td>\n",
       "      <td>1</td>\n",
       "      <td>0.0</td>\n",
       "    </tr>\n",
       "  </tbody>\n",
       "</table>\n",
       "<p>253561 rows × 3 columns</p>\n",
       "</div>"
      ],
      "text/plain": [
       "            end  start  delta_st_end\n",
       "session_id                          \n",
       "21669         1      1           0.0\n",
       "54843         1      1           0.0\n",
       "77292         1      1           4.0\n",
       "114021        1      1           3.0\n",
       "146670        1      1           2.0\n",
       "...         ...    ...           ...\n",
       "12224         1      1          12.0\n",
       "164438        1      1         178.0\n",
       "12221         1      1          28.0\n",
       "156968        1      1          77.0\n",
       "204762        1      1           0.0\n",
       "\n",
       "[253561 rows x 3 columns]"
      ]
     },
     "execution_count": 214,
     "metadata": {},
     "output_type": "execute_result"
    }
   ],
   "source": [
    "# Не понятно, надо ли НАНы в нули переделывать?\n",
    "time_st_end_delta.fillna(0)"
   ]
  },
  {
   "cell_type": "code",
   "execution_count": 216,
   "id": "794a9119",
   "metadata": {},
   "outputs": [
    {
     "data": {
      "text/plain": [
       "27.0"
      ]
     },
     "execution_count": 216,
     "metadata": {},
     "output_type": "execute_result"
    }
   ],
   "source": [
    "time_st_end_delta['delta_st_end'].median() # медиана времени всех сессий"
   ]
  },
  {
   "cell_type": "code",
   "execution_count": 87,
   "id": "a42ebc5c",
   "metadata": {},
   "outputs": [],
   "source": [
    "time_st_end_delta = time_st_end_delta.fillna(0)"
   ]
  },
  {
   "cell_type": "code",
   "execution_count": 88,
   "id": "71f51bcf",
   "metadata": {},
   "outputs": [],
   "source": [
    "# Сделаем две категории - вся сессия меньше 30 сек и вся сессия больше 30 сек\n",
    "time_st_end_delta['delta_st_end'] = time_st_end_delta['delta_st_end'].apply(lambda tdse: 0 if tdse < 10 else 1)"
   ]
  },
  {
   "cell_type": "code",
   "execution_count": 89,
   "id": "1b2a8134",
   "metadata": {},
   "outputs": [
    {
     "data": {
      "text/plain": [
       "1    161491\n",
       "0     92070\n",
       "Name: delta_st_end, dtype: int64"
      ]
     },
     "execution_count": 89,
     "metadata": {},
     "output_type": "execute_result"
    }
   ],
   "source": [
    "time_st_end_delta['delta_st_end'].value_counts()"
   ]
  },
  {
   "cell_type": "code",
   "execution_count": 90,
   "id": "15e41097",
   "metadata": {},
   "outputs": [],
   "source": [
    "X_train_new2 = csr_matrix(hstack([X_train_new, time_st_end_delta]))"
   ]
  },
  {
   "cell_type": "code",
   "execution_count": 100,
   "id": "7da35929",
   "metadata": {},
   "outputs": [
    {
     "data": {
      "text/plain": [
       "<253561x48375 sparse matrix of type '<class 'numpy.float64'>'\n",
       "\twith 1923809 stored elements in Compressed Sparse Row format>"
      ]
     },
     "execution_count": 100,
     "metadata": {},
     "output_type": "execute_result"
    }
   ],
   "source": [
    "X_train_new2"
   ]
  },
  {
   "cell_type": "code",
   "execution_count": 97,
   "id": "a7b6bf91",
   "metadata": {},
   "outputs": [
    {
     "data": {
      "text/plain": [
       "(253561, 48375)"
      ]
     },
     "execution_count": 97,
     "metadata": {},
     "output_type": "execute_result"
    }
   ],
   "source": [
    "X_train_new2.shape"
   ]
  },
  {
   "cell_type": "code",
   "execution_count": 92,
   "id": "150b7793",
   "metadata": {},
   "outputs": [
    {
     "name": "stdout",
     "output_type": "stream",
     "text": [
      "CPU times: user 158 ms, sys: 16.6 ms, total: 174 ms\n",
      "Wall time: 8.52 s\n"
     ]
    },
    {
     "data": {
      "text/plain": [
       "0.9731855663832912"
      ]
     },
     "execution_count": 92,
     "metadata": {},
     "output_type": "execute_result"
    }
   ],
   "source": [
    "%%time\n",
    "LogReg_roc_auc(X_train_new2, y_train)"
   ]
  },
  {
   "cell_type": "code",
   "execution_count": 93,
   "id": "a0a6f3c8",
   "metadata": {},
   "outputs": [
    {
     "name": "stdout",
     "output_type": "stream",
     "text": [
      "CPU times: user 190 ms, sys: 12.2 ms, total: 202 ms\n",
      "Wall time: 2.29 s\n"
     ]
    },
    {
     "data": {
      "text/plain": [
       "0.838500905479318"
      ]
     },
     "execution_count": 93,
     "metadata": {},
     "output_type": "execute_result"
    }
   ],
   "source": [
    "%%time\n",
    "# Вот это явное улучшение!!!!!!!!! При менее 30 сек на 0.15 от 0.8237 \n",
    "# И еще лучше при менее 10 сек!\n",
    "LogReg_roc_auc1(X_train_new2, y_train, m_iter=500)"
   ]
  },
  {
   "cell_type": "markdown",
   "id": "b8fc9f1c",
   "metadata": {},
   "source": [
    "## Еще несколько признаков, посмотрим время каждой сессии"
   ]
  },
  {
   "cell_type": "code",
   "execution_count": 94,
   "id": "9600c1a6",
   "metadata": {},
   "outputs": [],
   "source": [
    "train_tm = train[times]"
   ]
  },
  {
   "cell_type": "code",
   "execution_count": 95,
   "id": "6abcc642",
   "metadata": {},
   "outputs": [
    {
     "name": "stderr",
     "output_type": "stream",
     "text": [
      "/tmp/ipykernel_16475/4143465377.py:3: SettingWithCopyWarning: \n",
      "A value is trying to be set on a copy of a slice from a DataFrame.\n",
      "Try using .loc[row_indexer,col_indexer] = value instead\n",
      "\n",
      "See the caveats in the documentation: https://pandas.pydata.org/pandas-docs/stable/user_guide/indexing.html#returning-a-view-versus-a-copy\n",
      "  train_tm['delta%s' % i] = train_tm.iloc[:, i + 1] - train_tm.iloc[:, i]\n",
      "/tmp/ipykernel_16475/4143465377.py:3: SettingWithCopyWarning: \n",
      "A value is trying to be set on a copy of a slice from a DataFrame.\n",
      "Try using .loc[row_indexer,col_indexer] = value instead\n",
      "\n",
      "See the caveats in the documentation: https://pandas.pydata.org/pandas-docs/stable/user_guide/indexing.html#returning-a-view-versus-a-copy\n",
      "  train_tm['delta%s' % i] = train_tm.iloc[:, i + 1] - train_tm.iloc[:, i]\n",
      "/tmp/ipykernel_16475/4143465377.py:3: SettingWithCopyWarning: \n",
      "A value is trying to be set on a copy of a slice from a DataFrame.\n",
      "Try using .loc[row_indexer,col_indexer] = value instead\n",
      "\n",
      "See the caveats in the documentation: https://pandas.pydata.org/pandas-docs/stable/user_guide/indexing.html#returning-a-view-versus-a-copy\n",
      "  train_tm['delta%s' % i] = train_tm.iloc[:, i + 1] - train_tm.iloc[:, i]\n",
      "/tmp/ipykernel_16475/4143465377.py:3: SettingWithCopyWarning: \n",
      "A value is trying to be set on a copy of a slice from a DataFrame.\n",
      "Try using .loc[row_indexer,col_indexer] = value instead\n",
      "\n",
      "See the caveats in the documentation: https://pandas.pydata.org/pandas-docs/stable/user_guide/indexing.html#returning-a-view-versus-a-copy\n",
      "  train_tm['delta%s' % i] = train_tm.iloc[:, i + 1] - train_tm.iloc[:, i]\n",
      "/tmp/ipykernel_16475/4143465377.py:3: SettingWithCopyWarning: \n",
      "A value is trying to be set on a copy of a slice from a DataFrame.\n",
      "Try using .loc[row_indexer,col_indexer] = value instead\n",
      "\n",
      "See the caveats in the documentation: https://pandas.pydata.org/pandas-docs/stable/user_guide/indexing.html#returning-a-view-versus-a-copy\n",
      "  train_tm['delta%s' % i] = train_tm.iloc[:, i + 1] - train_tm.iloc[:, i]\n",
      "/tmp/ipykernel_16475/4143465377.py:3: SettingWithCopyWarning: \n",
      "A value is trying to be set on a copy of a slice from a DataFrame.\n",
      "Try using .loc[row_indexer,col_indexer] = value instead\n",
      "\n",
      "See the caveats in the documentation: https://pandas.pydata.org/pandas-docs/stable/user_guide/indexing.html#returning-a-view-versus-a-copy\n",
      "  train_tm['delta%s' % i] = train_tm.iloc[:, i + 1] - train_tm.iloc[:, i]\n",
      "/tmp/ipykernel_16475/4143465377.py:3: SettingWithCopyWarning: \n",
      "A value is trying to be set on a copy of a slice from a DataFrame.\n",
      "Try using .loc[row_indexer,col_indexer] = value instead\n",
      "\n",
      "See the caveats in the documentation: https://pandas.pydata.org/pandas-docs/stable/user_guide/indexing.html#returning-a-view-versus-a-copy\n",
      "  train_tm['delta%s' % i] = train_tm.iloc[:, i + 1] - train_tm.iloc[:, i]\n",
      "/tmp/ipykernel_16475/4143465377.py:3: SettingWithCopyWarning: \n",
      "A value is trying to be set on a copy of a slice from a DataFrame.\n",
      "Try using .loc[row_indexer,col_indexer] = value instead\n",
      "\n",
      "See the caveats in the documentation: https://pandas.pydata.org/pandas-docs/stable/user_guide/indexing.html#returning-a-view-versus-a-copy\n",
      "  train_tm['delta%s' % i] = train_tm.iloc[:, i + 1] - train_tm.iloc[:, i]\n",
      "/tmp/ipykernel_16475/4143465377.py:3: SettingWithCopyWarning: \n",
      "A value is trying to be set on a copy of a slice from a DataFrame.\n",
      "Try using .loc[row_indexer,col_indexer] = value instead\n",
      "\n",
      "See the caveats in the documentation: https://pandas.pydata.org/pandas-docs/stable/user_guide/indexing.html#returning-a-view-versus-a-copy\n",
      "  train_tm['delta%s' % i] = train_tm.iloc[:, i + 1] - train_tm.iloc[:, i]\n"
     ]
    },
    {
     "ename": "TypeError",
     "evalue": "cannot subtract a datelike from a TimedeltaArray",
     "output_type": "error",
     "traceback": [
      "\u001b[0;31m---------------------------------------------------------------------------\u001b[0m",
      "\u001b[0;31mTypeError\u001b[0m                                 Traceback (most recent call last)",
      "Input \u001b[0;32mIn [95]\u001b[0m, in \u001b[0;36m<module>\u001b[0;34m\u001b[0m\n\u001b[1;32m      1\u001b[0m \u001b[38;5;66;03m# Интересно, ругается, но дельту посчитал и правильно названия проставил\u001b[39;00m\n\u001b[1;32m      2\u001b[0m \u001b[38;5;28;01mfor\u001b[39;00m i \u001b[38;5;129;01min\u001b[39;00m \u001b[38;5;28mrange\u001b[39m(\u001b[38;5;241m0\u001b[39m, \u001b[38;5;241m11\u001b[39m):\n\u001b[0;32m----> 3\u001b[0m     train_tm[\u001b[38;5;124m'\u001b[39m\u001b[38;5;124mdelta\u001b[39m\u001b[38;5;132;01m%s\u001b[39;00m\u001b[38;5;124m'\u001b[39m \u001b[38;5;241m%\u001b[39m i] \u001b[38;5;241m=\u001b[39m \u001b[43mtrain_tm\u001b[49m\u001b[38;5;241;43m.\u001b[39;49m\u001b[43miloc\u001b[49m\u001b[43m[\u001b[49m\u001b[43m:\u001b[49m\u001b[43m,\u001b[49m\u001b[43m \u001b[49m\u001b[43mi\u001b[49m\u001b[43m \u001b[49m\u001b[38;5;241;43m+\u001b[39;49m\u001b[43m \u001b[49m\u001b[38;5;241;43m1\u001b[39;49m\u001b[43m]\u001b[49m\u001b[43m \u001b[49m\u001b[38;5;241;43m-\u001b[39;49m\u001b[43m \u001b[49m\u001b[43mtrain_tm\u001b[49m\u001b[38;5;241;43m.\u001b[39;49m\u001b[43miloc\u001b[49m\u001b[43m[\u001b[49m\u001b[43m:\u001b[49m\u001b[43m,\u001b[49m\u001b[43m \u001b[49m\u001b[43mi\u001b[49m\u001b[43m]\u001b[49m\n",
      "File \u001b[0;32m~/.local/lib/python3.9/site-packages/pandas/core/ops/common.py:70\u001b[0m, in \u001b[0;36m_unpack_zerodim_and_defer.<locals>.new_method\u001b[0;34m(self, other)\u001b[0m\n\u001b[1;32m     66\u001b[0m             \u001b[38;5;28;01mreturn\u001b[39;00m \u001b[38;5;28mNotImplemented\u001b[39m\n\u001b[1;32m     68\u001b[0m other \u001b[38;5;241m=\u001b[39m item_from_zerodim(other)\n\u001b[0;32m---> 70\u001b[0m \u001b[38;5;28;01mreturn\u001b[39;00m \u001b[43mmethod\u001b[49m\u001b[43m(\u001b[49m\u001b[38;5;28;43mself\u001b[39;49m\u001b[43m,\u001b[49m\u001b[43m \u001b[49m\u001b[43mother\u001b[49m\u001b[43m)\u001b[49m\n",
      "File \u001b[0;32m~/.local/lib/python3.9/site-packages/pandas/core/arraylike.py:108\u001b[0m, in \u001b[0;36mOpsMixin.__sub__\u001b[0;34m(self, other)\u001b[0m\n\u001b[1;32m    106\u001b[0m \u001b[38;5;129m@unpack_zerodim_and_defer\u001b[39m(\u001b[38;5;124m\"\u001b[39m\u001b[38;5;124m__sub__\u001b[39m\u001b[38;5;124m\"\u001b[39m)\n\u001b[1;32m    107\u001b[0m \u001b[38;5;28;01mdef\u001b[39;00m \u001b[38;5;21m__sub__\u001b[39m(\u001b[38;5;28mself\u001b[39m, other):\n\u001b[0;32m--> 108\u001b[0m     \u001b[38;5;28;01mreturn\u001b[39;00m \u001b[38;5;28;43mself\u001b[39;49m\u001b[38;5;241;43m.\u001b[39;49m\u001b[43m_arith_method\u001b[49m\u001b[43m(\u001b[49m\u001b[43mother\u001b[49m\u001b[43m,\u001b[49m\u001b[43m \u001b[49m\u001b[43moperator\u001b[49m\u001b[38;5;241;43m.\u001b[39;49m\u001b[43msub\u001b[49m\u001b[43m)\u001b[49m\n",
      "File \u001b[0;32m~/.local/lib/python3.9/site-packages/pandas/core/series.py:5636\u001b[0m, in \u001b[0;36mSeries._arith_method\u001b[0;34m(self, other, op)\u001b[0m\n\u001b[1;32m   5634\u001b[0m \u001b[38;5;28;01mdef\u001b[39;00m \u001b[38;5;21m_arith_method\u001b[39m(\u001b[38;5;28mself\u001b[39m, other, op):\n\u001b[1;32m   5635\u001b[0m     \u001b[38;5;28mself\u001b[39m, other \u001b[38;5;241m=\u001b[39m ops\u001b[38;5;241m.\u001b[39malign_method_SERIES(\u001b[38;5;28mself\u001b[39m, other)\n\u001b[0;32m-> 5636\u001b[0m     \u001b[38;5;28;01mreturn\u001b[39;00m \u001b[43mbase\u001b[49m\u001b[38;5;241;43m.\u001b[39;49m\u001b[43mIndexOpsMixin\u001b[49m\u001b[38;5;241;43m.\u001b[39;49m\u001b[43m_arith_method\u001b[49m\u001b[43m(\u001b[49m\u001b[38;5;28;43mself\u001b[39;49m\u001b[43m,\u001b[49m\u001b[43m \u001b[49m\u001b[43mother\u001b[49m\u001b[43m,\u001b[49m\u001b[43m \u001b[49m\u001b[43mop\u001b[49m\u001b[43m)\u001b[49m\n",
      "File \u001b[0;32m~/.local/lib/python3.9/site-packages/pandas/core/base.py:1295\u001b[0m, in \u001b[0;36mIndexOpsMixin._arith_method\u001b[0;34m(self, other, op)\u001b[0m\n\u001b[1;32m   1292\u001b[0m rvalues \u001b[38;5;241m=\u001b[39m ensure_wrapped_if_datetimelike(rvalues)\n\u001b[1;32m   1294\u001b[0m \u001b[38;5;28;01mwith\u001b[39;00m np\u001b[38;5;241m.\u001b[39merrstate(\u001b[38;5;28mall\u001b[39m\u001b[38;5;241m=\u001b[39m\u001b[38;5;124m\"\u001b[39m\u001b[38;5;124mignore\u001b[39m\u001b[38;5;124m\"\u001b[39m):\n\u001b[0;32m-> 1295\u001b[0m     result \u001b[38;5;241m=\u001b[39m \u001b[43mops\u001b[49m\u001b[38;5;241;43m.\u001b[39;49m\u001b[43marithmetic_op\u001b[49m\u001b[43m(\u001b[49m\u001b[43mlvalues\u001b[49m\u001b[43m,\u001b[49m\u001b[43m \u001b[49m\u001b[43mrvalues\u001b[49m\u001b[43m,\u001b[49m\u001b[43m \u001b[49m\u001b[43mop\u001b[49m\u001b[43m)\u001b[49m\n\u001b[1;32m   1297\u001b[0m \u001b[38;5;28;01mreturn\u001b[39;00m \u001b[38;5;28mself\u001b[39m\u001b[38;5;241m.\u001b[39m_construct_result(result, name\u001b[38;5;241m=\u001b[39mres_name)\n",
      "File \u001b[0;32m~/.local/lib/python3.9/site-packages/pandas/core/ops/array_ops.py:216\u001b[0m, in \u001b[0;36marithmetic_op\u001b[0;34m(left, right, op)\u001b[0m\n\u001b[1;32m    203\u001b[0m \u001b[38;5;66;03m# NB: We assume that extract_array and ensure_wrapped_if_datetimelike\u001b[39;00m\n\u001b[1;32m    204\u001b[0m \u001b[38;5;66;03m#  have already been called on `left` and `right`,\u001b[39;00m\n\u001b[1;32m    205\u001b[0m \u001b[38;5;66;03m#  and `maybe_prepare_scalar_for_op` has already been called on `right`\u001b[39;00m\n\u001b[1;32m    206\u001b[0m \u001b[38;5;66;03m# We need to special-case datetime64/timedelta64 dtypes (e.g. because numpy\u001b[39;00m\n\u001b[1;32m    207\u001b[0m \u001b[38;5;66;03m# casts integer dtypes to timedelta64 when operating with timedelta64 - GH#22390)\u001b[39;00m\n\u001b[1;32m    209\u001b[0m \u001b[38;5;28;01mif\u001b[39;00m (\n\u001b[1;32m    210\u001b[0m     should_extension_dispatch(left, right)\n\u001b[1;32m    211\u001b[0m     \u001b[38;5;129;01mor\u001b[39;00m \u001b[38;5;28misinstance\u001b[39m(right, (Timedelta, BaseOffset, Timestamp))\n\u001b[0;32m   (...)\u001b[0m\n\u001b[1;32m    214\u001b[0m     \u001b[38;5;66;03m# Timedelta/Timestamp and other custom scalars are included in the check\u001b[39;00m\n\u001b[1;32m    215\u001b[0m     \u001b[38;5;66;03m# because numexpr will fail on it, see GH#31457\u001b[39;00m\n\u001b[0;32m--> 216\u001b[0m     res_values \u001b[38;5;241m=\u001b[39m \u001b[43mop\u001b[49m\u001b[43m(\u001b[49m\u001b[43mleft\u001b[49m\u001b[43m,\u001b[49m\u001b[43m \u001b[49m\u001b[43mright\u001b[49m\u001b[43m)\u001b[49m\n\u001b[1;32m    217\u001b[0m \u001b[38;5;28;01melse\u001b[39;00m:\n\u001b[1;32m    218\u001b[0m     \u001b[38;5;66;03m# TODO we should handle EAs consistently and move this check before the if/else\u001b[39;00m\n\u001b[1;32m    219\u001b[0m     \u001b[38;5;66;03m# (https://github.com/pandas-dev/pandas/issues/41165)\u001b[39;00m\n\u001b[1;32m    220\u001b[0m     _bool_arith_check(op, left, right)\n",
      "File \u001b[0;32m~/.local/lib/python3.9/site-packages/pandas/core/ops/common.py:70\u001b[0m, in \u001b[0;36m_unpack_zerodim_and_defer.<locals>.new_method\u001b[0;34m(self, other)\u001b[0m\n\u001b[1;32m     66\u001b[0m             \u001b[38;5;28;01mreturn\u001b[39;00m \u001b[38;5;28mNotImplemented\u001b[39m\n\u001b[1;32m     68\u001b[0m other \u001b[38;5;241m=\u001b[39m item_from_zerodim(other)\n\u001b[0;32m---> 70\u001b[0m \u001b[38;5;28;01mreturn\u001b[39;00m \u001b[43mmethod\u001b[49m\u001b[43m(\u001b[49m\u001b[38;5;28;43mself\u001b[39;49m\u001b[43m,\u001b[49m\u001b[43m \u001b[49m\u001b[43mother\u001b[49m\u001b[43m)\u001b[49m\n",
      "File \u001b[0;32m~/.local/lib/python3.9/site-packages/pandas/core/arrays/datetimelike.py:1340\u001b[0m, in \u001b[0;36mDatetimeLikeArrayMixin.__sub__\u001b[0;34m(self, other)\u001b[0m\n\u001b[1;32m   1337\u001b[0m     result \u001b[38;5;241m=\u001b[39m \u001b[38;5;28mself\u001b[39m\u001b[38;5;241m.\u001b[39m_addsub_object_array(other, operator\u001b[38;5;241m.\u001b[39msub)\n\u001b[1;32m   1338\u001b[0m \u001b[38;5;28;01melif\u001b[39;00m is_datetime64_dtype(other_dtype) \u001b[38;5;129;01mor\u001b[39;00m is_datetime64tz_dtype(other_dtype):\n\u001b[1;32m   1339\u001b[0m     \u001b[38;5;66;03m# DatetimeIndex, ndarray[datetime64]\u001b[39;00m\n\u001b[0;32m-> 1340\u001b[0m     result \u001b[38;5;241m=\u001b[39m \u001b[38;5;28;43mself\u001b[39;49m\u001b[38;5;241;43m.\u001b[39;49m\u001b[43m_sub_datetime_arraylike\u001b[49m\u001b[43m(\u001b[49m\u001b[43mother\u001b[49m\u001b[43m)\u001b[49m\n\u001b[1;32m   1341\u001b[0m \u001b[38;5;28;01melif\u001b[39;00m is_period_dtype(other_dtype):\n\u001b[1;32m   1342\u001b[0m     \u001b[38;5;66;03m# PeriodIndex\u001b[39;00m\n\u001b[1;32m   1343\u001b[0m     result \u001b[38;5;241m=\u001b[39m \u001b[38;5;28mself\u001b[39m\u001b[38;5;241m.\u001b[39m_sub_period_array(other)\n",
      "File \u001b[0;32m~/.local/lib/python3.9/site-packages/pandas/core/arrays/datetimelike.py:1059\u001b[0m, in \u001b[0;36mDatetimeLikeArrayMixin._sub_datetimelike_scalar\u001b[0;34m(self, other)\u001b[0m\n\u001b[1;32m   1056\u001b[0m \u001b[38;5;28;01mdef\u001b[39;00m \u001b[38;5;21m_sub_datetimelike_scalar\u001b[39m(\u001b[38;5;28mself\u001b[39m, other):\n\u001b[1;32m   1057\u001b[0m     \u001b[38;5;66;03m# Overridden by DatetimeArray\u001b[39;00m\n\u001b[1;32m   1058\u001b[0m     \u001b[38;5;28;01massert\u001b[39;00m other \u001b[38;5;129;01mis\u001b[39;00m \u001b[38;5;129;01mnot\u001b[39;00m NaT\n\u001b[0;32m-> 1059\u001b[0m     \u001b[38;5;28;01mraise\u001b[39;00m \u001b[38;5;167;01mTypeError\u001b[39;00m(\u001b[38;5;124mf\u001b[39m\u001b[38;5;124m\"\u001b[39m\u001b[38;5;124mcannot subtract a datelike from a \u001b[39m\u001b[38;5;132;01m{\u001b[39;00m\u001b[38;5;28mtype\u001b[39m(\u001b[38;5;28mself\u001b[39m)\u001b[38;5;241m.\u001b[39m\u001b[38;5;18m__name__\u001b[39m\u001b[38;5;132;01m}\u001b[39;00m\u001b[38;5;124m\"\u001b[39m)\n",
      "\u001b[0;31mTypeError\u001b[0m: cannot subtract a datelike from a TimedeltaArray"
     ]
    }
   ],
   "source": [
    "# Интересно, ругается, но дельту посчитал и правильно названия проставил\n",
    "for i in range(0, 11):\n",
    "    train_tm['delta%s' % i] = train_tm.iloc[:, i + 1] - train_tm.iloc[:, i]"
   ]
  },
  {
   "cell_type": "code",
   "execution_count": 102,
   "id": "42a20fe9",
   "metadata": {
    "scrolled": true
   },
   "outputs": [
    {
     "name": "stderr",
     "output_type": "stream",
     "text": [
      "/tmp/ipykernel_16475/1366894080.py:1: SettingWithCopyWarning: \n",
      "A value is trying to be set on a copy of a slice from a DataFrame.\n",
      "Try using .loc[row_indexer,col_indexer] = value instead\n",
      "\n",
      "See the caveats in the documentation: https://pandas.pydata.org/pandas-docs/stable/user_guide/indexing.html#returning-a-view-versus-a-copy\n",
      "  train_tm['target'] = train['target']\n"
     ]
    }
   ],
   "source": [
    "train_tm['target'] = train['target']"
   ]
  },
  {
   "cell_type": "code",
   "execution_count": 111,
   "id": "a16ec340",
   "metadata": {},
   "outputs": [
    {
     "data": {
      "text/plain": [
       "Timedelta('0 days 00:00:19.317000532')"
      ]
     },
     "execution_count": 111,
     "metadata": {},
     "output_type": "execute_result"
    }
   ],
   "source": [
    "train_tm[train_tm.target == 0]['delta0'].mean()"
   ]
  },
  {
   "cell_type": "code",
   "execution_count": 106,
   "id": "09887849",
   "metadata": {},
   "outputs": [
    {
     "data": {
      "text/html": [
       "<div>\n",
       "<style scoped>\n",
       "    .dataframe tbody tr th:only-of-type {\n",
       "        vertical-align: middle;\n",
       "    }\n",
       "\n",
       "    .dataframe tbody tr th {\n",
       "        vertical-align: top;\n",
       "    }\n",
       "\n",
       "    .dataframe thead th {\n",
       "        text-align: right;\n",
       "    }\n",
       "</style>\n",
       "<table border=\"1\" class=\"dataframe\">\n",
       "  <thead>\n",
       "    <tr style=\"text-align: right;\">\n",
       "      <th></th>\n",
       "      <th>time1</th>\n",
       "      <th>time2</th>\n",
       "      <th>time3</th>\n",
       "      <th>time4</th>\n",
       "      <th>time5</th>\n",
       "      <th>time6</th>\n",
       "      <th>time7</th>\n",
       "      <th>time8</th>\n",
       "      <th>time9</th>\n",
       "      <th>time10</th>\n",
       "      <th>delta0</th>\n",
       "      <th>delta1</th>\n",
       "      <th>delta2</th>\n",
       "      <th>delta3</th>\n",
       "      <th>delta4</th>\n",
       "      <th>delta5</th>\n",
       "      <th>delta6</th>\n",
       "      <th>delta7</th>\n",
       "      <th>delta8</th>\n",
       "      <th>target</th>\n",
       "    </tr>\n",
       "    <tr>\n",
       "      <th>session_id</th>\n",
       "      <th></th>\n",
       "      <th></th>\n",
       "      <th></th>\n",
       "      <th></th>\n",
       "      <th></th>\n",
       "      <th></th>\n",
       "      <th></th>\n",
       "      <th></th>\n",
       "      <th></th>\n",
       "      <th></th>\n",
       "      <th></th>\n",
       "      <th></th>\n",
       "      <th></th>\n",
       "      <th></th>\n",
       "      <th></th>\n",
       "      <th></th>\n",
       "      <th></th>\n",
       "      <th></th>\n",
       "      <th></th>\n",
       "      <th></th>\n",
       "    </tr>\n",
       "  </thead>\n",
       "  <tbody>\n",
       "    <tr>\n",
       "      <th>21669</th>\n",
       "      <td>2013-01-12 08:05:57</td>\n",
       "      <td>2013-01-12 08:05:57</td>\n",
       "      <td>NaT</td>\n",
       "      <td>NaT</td>\n",
       "      <td>NaT</td>\n",
       "      <td>NaT</td>\n",
       "      <td>NaT</td>\n",
       "      <td>NaT</td>\n",
       "      <td>NaT</td>\n",
       "      <td>NaT</td>\n",
       "      <td>0 days 00:00:00</td>\n",
       "      <td>NaT</td>\n",
       "      <td>NaT</td>\n",
       "      <td>NaT</td>\n",
       "      <td>NaT</td>\n",
       "      <td>NaT</td>\n",
       "      <td>NaT</td>\n",
       "      <td>NaT</td>\n",
       "      <td>NaT</td>\n",
       "      <td>0</td>\n",
       "    </tr>\n",
       "    <tr>\n",
       "      <th>54843</th>\n",
       "      <td>2013-01-12 08:37:23</td>\n",
       "      <td>2013-01-12 08:37:23</td>\n",
       "      <td>2013-01-12 09:07:07</td>\n",
       "      <td>2013-01-12 09:07:09</td>\n",
       "      <td>NaT</td>\n",
       "      <td>NaT</td>\n",
       "      <td>NaT</td>\n",
       "      <td>NaT</td>\n",
       "      <td>NaT</td>\n",
       "      <td>NaT</td>\n",
       "      <td>0 days 00:00:00</td>\n",
       "      <td>0 days 00:29:44</td>\n",
       "      <td>0 days 00:00:02</td>\n",
       "      <td>NaT</td>\n",
       "      <td>NaT</td>\n",
       "      <td>NaT</td>\n",
       "      <td>NaT</td>\n",
       "      <td>NaT</td>\n",
       "      <td>NaT</td>\n",
       "      <td>0</td>\n",
       "    </tr>\n",
       "    <tr>\n",
       "      <th>77292</th>\n",
       "      <td>2013-01-12 08:50:13</td>\n",
       "      <td>2013-01-12 08:50:14</td>\n",
       "      <td>2013-01-12 08:50:15</td>\n",
       "      <td>2013-01-12 08:50:15</td>\n",
       "      <td>2013-01-12 08:50:16</td>\n",
       "      <td>2013-01-12 08:50:16</td>\n",
       "      <td>2013-01-12 08:50:16</td>\n",
       "      <td>2013-01-12 08:50:16</td>\n",
       "      <td>2013-01-12 08:50:17</td>\n",
       "      <td>2013-01-12 08:50:17</td>\n",
       "      <td>0 days 00:00:01</td>\n",
       "      <td>0 days 00:00:01</td>\n",
       "      <td>0 days 00:00:00</td>\n",
       "      <td>0 days 00:00:01</td>\n",
       "      <td>0 days 00:00:00</td>\n",
       "      <td>0 days 00:00:00</td>\n",
       "      <td>0 days 00:00:00</td>\n",
       "      <td>0 days 00:00:01</td>\n",
       "      <td>0 days 00:00:00</td>\n",
       "      <td>0</td>\n",
       "    </tr>\n",
       "    <tr>\n",
       "      <th>114021</th>\n",
       "      <td>2013-01-12 08:50:17</td>\n",
       "      <td>2013-01-12 08:50:17</td>\n",
       "      <td>2013-01-12 08:50:18</td>\n",
       "      <td>2013-01-12 08:50:18</td>\n",
       "      <td>2013-01-12 08:50:18</td>\n",
       "      <td>2013-01-12 08:50:18</td>\n",
       "      <td>2013-01-12 08:50:19</td>\n",
       "      <td>2013-01-12 08:50:19</td>\n",
       "      <td>2013-01-12 08:50:19</td>\n",
       "      <td>2013-01-12 08:50:20</td>\n",
       "      <td>0 days 00:00:00</td>\n",
       "      <td>0 days 00:00:01</td>\n",
       "      <td>0 days 00:00:00</td>\n",
       "      <td>0 days 00:00:00</td>\n",
       "      <td>0 days 00:00:00</td>\n",
       "      <td>0 days 00:00:01</td>\n",
       "      <td>0 days 00:00:00</td>\n",
       "      <td>0 days 00:00:00</td>\n",
       "      <td>0 days 00:00:01</td>\n",
       "      <td>0</td>\n",
       "    </tr>\n",
       "    <tr>\n",
       "      <th>146670</th>\n",
       "      <td>2013-01-12 08:50:20</td>\n",
       "      <td>2013-01-12 08:50:20</td>\n",
       "      <td>2013-01-12 08:50:20</td>\n",
       "      <td>2013-01-12 08:50:21</td>\n",
       "      <td>2013-01-12 08:50:21</td>\n",
       "      <td>2013-01-12 08:50:21</td>\n",
       "      <td>2013-01-12 08:50:21</td>\n",
       "      <td>2013-01-12 08:50:22</td>\n",
       "      <td>2013-01-12 08:50:22</td>\n",
       "      <td>2013-01-12 08:50:22</td>\n",
       "      <td>0 days 00:00:00</td>\n",
       "      <td>0 days 00:00:00</td>\n",
       "      <td>0 days 00:00:01</td>\n",
       "      <td>0 days 00:00:00</td>\n",
       "      <td>0 days 00:00:00</td>\n",
       "      <td>0 days 00:00:00</td>\n",
       "      <td>0 days 00:00:01</td>\n",
       "      <td>0 days 00:00:00</td>\n",
       "      <td>0 days 00:00:00</td>\n",
       "      <td>0</td>\n",
       "    </tr>\n",
       "    <tr>\n",
       "      <th>...</th>\n",
       "      <td>...</td>\n",
       "      <td>...</td>\n",
       "      <td>...</td>\n",
       "      <td>...</td>\n",
       "      <td>...</td>\n",
       "      <td>...</td>\n",
       "      <td>...</td>\n",
       "      <td>...</td>\n",
       "      <td>...</td>\n",
       "      <td>...</td>\n",
       "      <td>...</td>\n",
       "      <td>...</td>\n",
       "      <td>...</td>\n",
       "      <td>...</td>\n",
       "      <td>...</td>\n",
       "      <td>...</td>\n",
       "      <td>...</td>\n",
       "      <td>...</td>\n",
       "      <td>...</td>\n",
       "      <td>...</td>\n",
       "    </tr>\n",
       "    <tr>\n",
       "      <th>12224</th>\n",
       "      <td>2014-04-30 23:33:48</td>\n",
       "      <td>2014-04-30 23:33:49</td>\n",
       "      <td>2014-04-30 23:33:52</td>\n",
       "      <td>2014-04-30 23:33:52</td>\n",
       "      <td>2014-04-30 23:33:53</td>\n",
       "      <td>2014-04-30 23:33:53</td>\n",
       "      <td>2014-04-30 23:33:54</td>\n",
       "      <td>2014-04-30 23:33:54</td>\n",
       "      <td>2014-04-30 23:33:57</td>\n",
       "      <td>2014-04-30 23:34:00</td>\n",
       "      <td>0 days 00:00:01</td>\n",
       "      <td>0 days 00:00:03</td>\n",
       "      <td>0 days 00:00:00</td>\n",
       "      <td>0 days 00:00:01</td>\n",
       "      <td>0 days 00:00:00</td>\n",
       "      <td>0 days 00:00:01</td>\n",
       "      <td>0 days 00:00:00</td>\n",
       "      <td>0 days 00:00:03</td>\n",
       "      <td>0 days 00:00:03</td>\n",
       "      <td>0</td>\n",
       "    </tr>\n",
       "    <tr>\n",
       "      <th>164438</th>\n",
       "      <td>2014-04-30 23:34:15</td>\n",
       "      <td>2014-04-30 23:34:16</td>\n",
       "      <td>2014-04-30 23:34:17</td>\n",
       "      <td>2014-04-30 23:34:18</td>\n",
       "      <td>2014-04-30 23:34:18</td>\n",
       "      <td>2014-04-30 23:35:16</td>\n",
       "      <td>2014-04-30 23:35:29</td>\n",
       "      <td>2014-04-30 23:36:12</td>\n",
       "      <td>2014-04-30 23:36:42</td>\n",
       "      <td>2014-04-30 23:37:13</td>\n",
       "      <td>0 days 00:00:01</td>\n",
       "      <td>0 days 00:00:01</td>\n",
       "      <td>0 days 00:00:01</td>\n",
       "      <td>0 days 00:00:00</td>\n",
       "      <td>0 days 00:00:58</td>\n",
       "      <td>0 days 00:00:13</td>\n",
       "      <td>0 days 00:00:43</td>\n",
       "      <td>0 days 00:00:30</td>\n",
       "      <td>0 days 00:00:31</td>\n",
       "      <td>0</td>\n",
       "    </tr>\n",
       "    <tr>\n",
       "      <th>12221</th>\n",
       "      <td>2014-04-30 23:38:08</td>\n",
       "      <td>2014-04-30 23:38:10</td>\n",
       "      <td>2014-04-30 23:38:13</td>\n",
       "      <td>2014-04-30 23:38:18</td>\n",
       "      <td>2014-04-30 23:38:22</td>\n",
       "      <td>2014-04-30 23:38:24</td>\n",
       "      <td>2014-04-30 23:38:35</td>\n",
       "      <td>2014-04-30 23:38:35</td>\n",
       "      <td>2014-04-30 23:38:35</td>\n",
       "      <td>2014-04-30 23:38:36</td>\n",
       "      <td>0 days 00:00:02</td>\n",
       "      <td>0 days 00:00:03</td>\n",
       "      <td>0 days 00:00:05</td>\n",
       "      <td>0 days 00:00:04</td>\n",
       "      <td>0 days 00:00:02</td>\n",
       "      <td>0 days 00:00:11</td>\n",
       "      <td>0 days 00:00:00</td>\n",
       "      <td>0 days 00:00:00</td>\n",
       "      <td>0 days 00:00:01</td>\n",
       "      <td>0</td>\n",
       "    </tr>\n",
       "    <tr>\n",
       "      <th>156968</th>\n",
       "      <td>2014-04-30 23:38:36</td>\n",
       "      <td>2014-04-30 23:38:36</td>\n",
       "      <td>2014-04-30 23:38:38</td>\n",
       "      <td>2014-04-30 23:38:38</td>\n",
       "      <td>2014-04-30 23:38:39</td>\n",
       "      <td>2014-04-30 23:38:40</td>\n",
       "      <td>2014-04-30 23:38:40</td>\n",
       "      <td>2014-04-30 23:39:07</td>\n",
       "      <td>2014-04-30 23:39:08</td>\n",
       "      <td>2014-04-30 23:39:53</td>\n",
       "      <td>0 days 00:00:00</td>\n",
       "      <td>0 days 00:00:02</td>\n",
       "      <td>0 days 00:00:00</td>\n",
       "      <td>0 days 00:00:01</td>\n",
       "      <td>0 days 00:00:01</td>\n",
       "      <td>0 days 00:00:00</td>\n",
       "      <td>0 days 00:00:27</td>\n",
       "      <td>0 days 00:00:01</td>\n",
       "      <td>0 days 00:00:45</td>\n",
       "      <td>0</td>\n",
       "    </tr>\n",
       "    <tr>\n",
       "      <th>204762</th>\n",
       "      <td>2014-04-30 23:39:53</td>\n",
       "      <td>2014-04-30 23:39:59</td>\n",
       "      <td>2014-04-30 23:40:00</td>\n",
       "      <td>2014-04-30 23:40:05</td>\n",
       "      <td>2014-04-30 23:40:05</td>\n",
       "      <td>2014-04-30 23:40:05</td>\n",
       "      <td>2014-04-30 23:40:05</td>\n",
       "      <td>NaT</td>\n",
       "      <td>NaT</td>\n",
       "      <td>NaT</td>\n",
       "      <td>0 days 00:00:06</td>\n",
       "      <td>0 days 00:00:01</td>\n",
       "      <td>0 days 00:00:05</td>\n",
       "      <td>0 days 00:00:00</td>\n",
       "      <td>0 days 00:00:00</td>\n",
       "      <td>0 days 00:00:00</td>\n",
       "      <td>NaT</td>\n",
       "      <td>NaT</td>\n",
       "      <td>NaT</td>\n",
       "      <td>0</td>\n",
       "    </tr>\n",
       "  </tbody>\n",
       "</table>\n",
       "<p>253561 rows × 20 columns</p>\n",
       "</div>"
      ],
      "text/plain": [
       "                         time1               time2               time3  \\\n",
       "session_id                                                               \n",
       "21669      2013-01-12 08:05:57 2013-01-12 08:05:57                 NaT   \n",
       "54843      2013-01-12 08:37:23 2013-01-12 08:37:23 2013-01-12 09:07:07   \n",
       "77292      2013-01-12 08:50:13 2013-01-12 08:50:14 2013-01-12 08:50:15   \n",
       "114021     2013-01-12 08:50:17 2013-01-12 08:50:17 2013-01-12 08:50:18   \n",
       "146670     2013-01-12 08:50:20 2013-01-12 08:50:20 2013-01-12 08:50:20   \n",
       "...                        ...                 ...                 ...   \n",
       "12224      2014-04-30 23:33:48 2014-04-30 23:33:49 2014-04-30 23:33:52   \n",
       "164438     2014-04-30 23:34:15 2014-04-30 23:34:16 2014-04-30 23:34:17   \n",
       "12221      2014-04-30 23:38:08 2014-04-30 23:38:10 2014-04-30 23:38:13   \n",
       "156968     2014-04-30 23:38:36 2014-04-30 23:38:36 2014-04-30 23:38:38   \n",
       "204762     2014-04-30 23:39:53 2014-04-30 23:39:59 2014-04-30 23:40:00   \n",
       "\n",
       "                         time4               time5               time6  \\\n",
       "session_id                                                               \n",
       "21669                      NaT                 NaT                 NaT   \n",
       "54843      2013-01-12 09:07:09                 NaT                 NaT   \n",
       "77292      2013-01-12 08:50:15 2013-01-12 08:50:16 2013-01-12 08:50:16   \n",
       "114021     2013-01-12 08:50:18 2013-01-12 08:50:18 2013-01-12 08:50:18   \n",
       "146670     2013-01-12 08:50:21 2013-01-12 08:50:21 2013-01-12 08:50:21   \n",
       "...                        ...                 ...                 ...   \n",
       "12224      2014-04-30 23:33:52 2014-04-30 23:33:53 2014-04-30 23:33:53   \n",
       "164438     2014-04-30 23:34:18 2014-04-30 23:34:18 2014-04-30 23:35:16   \n",
       "12221      2014-04-30 23:38:18 2014-04-30 23:38:22 2014-04-30 23:38:24   \n",
       "156968     2014-04-30 23:38:38 2014-04-30 23:38:39 2014-04-30 23:38:40   \n",
       "204762     2014-04-30 23:40:05 2014-04-30 23:40:05 2014-04-30 23:40:05   \n",
       "\n",
       "                         time7               time8               time9  \\\n",
       "session_id                                                               \n",
       "21669                      NaT                 NaT                 NaT   \n",
       "54843                      NaT                 NaT                 NaT   \n",
       "77292      2013-01-12 08:50:16 2013-01-12 08:50:16 2013-01-12 08:50:17   \n",
       "114021     2013-01-12 08:50:19 2013-01-12 08:50:19 2013-01-12 08:50:19   \n",
       "146670     2013-01-12 08:50:21 2013-01-12 08:50:22 2013-01-12 08:50:22   \n",
       "...                        ...                 ...                 ...   \n",
       "12224      2014-04-30 23:33:54 2014-04-30 23:33:54 2014-04-30 23:33:57   \n",
       "164438     2014-04-30 23:35:29 2014-04-30 23:36:12 2014-04-30 23:36:42   \n",
       "12221      2014-04-30 23:38:35 2014-04-30 23:38:35 2014-04-30 23:38:35   \n",
       "156968     2014-04-30 23:38:40 2014-04-30 23:39:07 2014-04-30 23:39:08   \n",
       "204762     2014-04-30 23:40:05                 NaT                 NaT   \n",
       "\n",
       "                        time10          delta0          delta1  \\\n",
       "session_id                                                       \n",
       "21669                      NaT 0 days 00:00:00             NaT   \n",
       "54843                      NaT 0 days 00:00:00 0 days 00:29:44   \n",
       "77292      2013-01-12 08:50:17 0 days 00:00:01 0 days 00:00:01   \n",
       "114021     2013-01-12 08:50:20 0 days 00:00:00 0 days 00:00:01   \n",
       "146670     2013-01-12 08:50:22 0 days 00:00:00 0 days 00:00:00   \n",
       "...                        ...             ...             ...   \n",
       "12224      2014-04-30 23:34:00 0 days 00:00:01 0 days 00:00:03   \n",
       "164438     2014-04-30 23:37:13 0 days 00:00:01 0 days 00:00:01   \n",
       "12221      2014-04-30 23:38:36 0 days 00:00:02 0 days 00:00:03   \n",
       "156968     2014-04-30 23:39:53 0 days 00:00:00 0 days 00:00:02   \n",
       "204762                     NaT 0 days 00:00:06 0 days 00:00:01   \n",
       "\n",
       "                    delta2          delta3          delta4          delta5  \\\n",
       "session_id                                                                   \n",
       "21669                  NaT             NaT             NaT             NaT   \n",
       "54843      0 days 00:00:02             NaT             NaT             NaT   \n",
       "77292      0 days 00:00:00 0 days 00:00:01 0 days 00:00:00 0 days 00:00:00   \n",
       "114021     0 days 00:00:00 0 days 00:00:00 0 days 00:00:00 0 days 00:00:01   \n",
       "146670     0 days 00:00:01 0 days 00:00:00 0 days 00:00:00 0 days 00:00:00   \n",
       "...                    ...             ...             ...             ...   \n",
       "12224      0 days 00:00:00 0 days 00:00:01 0 days 00:00:00 0 days 00:00:01   \n",
       "164438     0 days 00:00:01 0 days 00:00:00 0 days 00:00:58 0 days 00:00:13   \n",
       "12221      0 days 00:00:05 0 days 00:00:04 0 days 00:00:02 0 days 00:00:11   \n",
       "156968     0 days 00:00:00 0 days 00:00:01 0 days 00:00:01 0 days 00:00:00   \n",
       "204762     0 days 00:00:05 0 days 00:00:00 0 days 00:00:00 0 days 00:00:00   \n",
       "\n",
       "                    delta6          delta7          delta8  target  \n",
       "session_id                                                          \n",
       "21669                  NaT             NaT             NaT       0  \n",
       "54843                  NaT             NaT             NaT       0  \n",
       "77292      0 days 00:00:00 0 days 00:00:01 0 days 00:00:00       0  \n",
       "114021     0 days 00:00:00 0 days 00:00:00 0 days 00:00:01       0  \n",
       "146670     0 days 00:00:01 0 days 00:00:00 0 days 00:00:00       0  \n",
       "...                    ...             ...             ...     ...  \n",
       "12224      0 days 00:00:00 0 days 00:00:03 0 days 00:00:03       0  \n",
       "164438     0 days 00:00:43 0 days 00:00:30 0 days 00:00:31       0  \n",
       "12221      0 days 00:00:00 0 days 00:00:00 0 days 00:00:01       0  \n",
       "156968     0 days 00:00:27 0 days 00:00:01 0 days 00:00:45       0  \n",
       "204762                 NaT             NaT             NaT       0  \n",
       "\n",
       "[253561 rows x 20 columns]"
      ]
     },
     "execution_count": 106,
     "metadata": {},
     "output_type": "execute_result"
    }
   ],
   "source": [
    "train_tm"
   ]
  },
  {
   "cell_type": "code",
   "execution_count": null,
   "id": "490d3b8a",
   "metadata": {},
   "outputs": [],
   "source": [
    "deltas = ['delta%s' % i for i in range(0, 9)]"
   ]
  },
  {
   "cell_type": "code",
   "execution_count": null,
   "id": "a6aba05e",
   "metadata": {},
   "outputs": [],
   "source": [
    "deltas"
   ]
  },
  {
   "cell_type": "code",
   "execution_count": null,
   "id": "ee13e6eb",
   "metadata": {},
   "outputs": [],
   "source": [
    "train_delta = train_tm[deltas]"
   ]
  },
  {
   "cell_type": "code",
   "execution_count": null,
   "id": "23f95967",
   "metadata": {},
   "outputs": [],
   "source": [
    "# Опять ругается, но сделал же!\n",
    "train_delta['delta0'] = train_delta['delta0'].apply(lambda t: t.total_seconds())"
   ]
  },
  {
   "cell_type": "code",
   "execution_count": null,
   "id": "90681d9f",
   "metadata": {},
   "outputs": [],
   "source": [
    "train_delta"
   ]
  },
  {
   "cell_type": "code",
   "execution_count": null,
   "id": "8b9b24d5",
   "metadata": {},
   "outputs": [],
   "source": [
    "train_delta['delta1'] = train_delta['delta1'].apply(lambda t: t.total_seconds())\n",
    "train_delta['delta2'] = train_delta['delta2'].apply(lambda t: t.total_seconds())\n",
    "train_delta['delta3'] = train_delta['delta3'].apply(lambda t: t.total_seconds())\n",
    "train_delta['delta4'] = train_delta['delta4'].apply(lambda t: t.total_seconds())\n",
    "train_delta['delta5'] = train_delta['delta5'].apply(lambda t: t.total_seconds())\n",
    "train_delta['delta6'] = train_delta['delta6'].apply(lambda t: t.total_seconds())\n",
    "train_delta['delta7'] = train_delta['delta7'].apply(lambda t: t.total_seconds())\n",
    "train_delta['delta8'] = train_delta['delta8'].apply(lambda t: t.total_seconds())"
   ]
  },
  {
   "cell_type": "code",
   "execution_count": null,
   "id": "88663702",
   "metadata": {},
   "outputs": [],
   "source": [
    "train_delta = train_delta.fillna(0)"
   ]
  },
  {
   "cell_type": "code",
   "execution_count": null,
   "id": "29969140",
   "metadata": {},
   "outputs": [],
   "source": [
    "# ВОТ ЕЩЕ 8 КОЛОНОК ПРИЗНАКОВ!!!\n",
    "train_delta"
   ]
  },
  {
   "cell_type": "code",
   "execution_count": null,
   "id": "df418a03",
   "metadata": {},
   "outputs": [],
   "source": [
    "# Также забацаем категории\n",
    "for i in range(0, 9):\n",
    "    train_delta.iloc[:, i] = train_delta.iloc[:, i].apply(lambda td: 0 if td < 30 else 1)"
   ]
  },
  {
   "cell_type": "code",
   "execution_count": null,
   "id": "0f214129",
   "metadata": {},
   "outputs": [],
   "source": [
    "train_delta['delta6'].value_counts()"
   ]
  },
  {
   "cell_type": "code",
   "execution_count": null,
   "id": "620ed5d2",
   "metadata": {},
   "outputs": [],
   "source": [
    "X_train_new3 = csr_matrix(hstack([X_train_new2, train_delta]))"
   ]
  },
  {
   "cell_type": "code",
   "execution_count": null,
   "id": "f4838bc5",
   "metadata": {},
   "outputs": [],
   "source": [
    "X_train_new3.shape"
   ]
  },
  {
   "cell_type": "code",
   "execution_count": null,
   "id": "575ef377",
   "metadata": {},
   "outputs": [],
   "source": [
    "%%time\n",
    "LogReg_roc_auc1(X_train_new3, y_train, m_iter=500)"
   ]
  },
  {
   "cell_type": "code",
   "execution_count": null,
   "id": "dfb92ee8",
   "metadata": {
    "scrolled": true
   },
   "outputs": [],
   "source": [
    "X_train_new2.shape, X_test_sparse.shape "
   ]
  },
  {
   "cell_type": "code",
   "execution_count": null,
   "id": "156b5351",
   "metadata": {},
   "outputs": [],
   "source": [
    "X_test_sparse"
   ]
  },
  {
   "cell_type": "code",
   "execution_count": null,
   "id": "6cea5708",
   "metadata": {},
   "outputs": [],
   "source": [
    "%%time\n",
    "# Просто для оценки времени работы ф-ии, при сложных DFтак делать не надо, долго придется ждать\n",
    "l_r = LogisticRegression(max_iter=1000, n_jobs=-1, random_state=17)\n",
    "l_r_fit = l_r.fit(X_train_new2, y_train)"
   ]
  },
  {
   "cell_type": "code",
   "execution_count": null,
   "id": "dd634298",
   "metadata": {},
   "outputs": [],
   "source": [
    "l_r_predict_pr = l_r_fit.predict_proba(X_test_sparse)"
   ]
  },
  {
   "cell_type": "code",
   "execution_count": null,
   "id": "a00c95bb",
   "metadata": {},
   "outputs": [],
   "source": []
  }
 ],
 "metadata": {
  "kernelspec": {
   "display_name": "Python 3 (ipykernel)",
   "language": "python",
   "name": "python3"
  },
  "language_info": {
   "codemirror_mode": {
    "name": "ipython",
    "version": 3
   },
   "file_extension": ".py",
   "mimetype": "text/x-python",
   "name": "python",
   "nbconvert_exporter": "python",
   "pygments_lexer": "ipython3",
   "version": "3.9.15"
  }
 },
 "nbformat": 4,
 "nbformat_minor": 5
}
