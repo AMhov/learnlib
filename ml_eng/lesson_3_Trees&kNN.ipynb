{
 "cells": [
  {
   "cell_type": "markdown",
   "id": "98100450",
   "metadata": {},
   "source": [
    "# Classification. Decision Trees & k - Nearest Neighbors"
   ]
  },
  {
   "cell_type": "markdown",
   "id": "92a40e19",
   "metadata": {},
   "source": [
    "Со второй части лекции ЮК. На оттоке клиентов телеком компании"
   ]
  },
  {
   "cell_type": "code",
   "execution_count": 1,
   "id": "4fff6a5c",
   "metadata": {},
   "outputs": [],
   "source": [
    "# we don't like warnings\n",
    "# you can comment the following 2 lines if you'd like to\n",
    "import warnings\n",
    "\n",
    "warnings.filterwarnings(\"ignore\")\n",
    "import numpy as np\n",
    "import pandas as pd\n",
    "import seaborn as sns\n",
    "\n",
    "sns.set()\n",
    "from matplotlib import pyplot as plt\n",
    "\n",
    "%config InlineBackend.figure_format = 'retina'"
   ]
  },
  {
   "cell_type": "code",
   "execution_count": 28,
   "id": "e6205bba",
   "metadata": {},
   "outputs": [],
   "source": [
    "df = pd.read_csv(\"telecom_churn.csv\")"
   ]
  },
  {
   "cell_type": "code",
   "execution_count": 29,
   "id": "cb6e2b55",
   "metadata": {},
   "outputs": [
    {
     "data": {
      "text/html": [
       "<div>\n",
       "<style scoped>\n",
       "    .dataframe tbody tr th:only-of-type {\n",
       "        vertical-align: middle;\n",
       "    }\n",
       "\n",
       "    .dataframe tbody tr th {\n",
       "        vertical-align: top;\n",
       "    }\n",
       "\n",
       "    .dataframe thead th {\n",
       "        text-align: right;\n",
       "    }\n",
       "</style>\n",
       "<table border=\"1\" class=\"dataframe\">\n",
       "  <thead>\n",
       "    <tr style=\"text-align: right;\">\n",
       "      <th></th>\n",
       "      <th>state</th>\n",
       "      <th>account length</th>\n",
       "      <th>area code</th>\n",
       "      <th>phone number</th>\n",
       "      <th>international plan</th>\n",
       "      <th>voice mail plan</th>\n",
       "      <th>number vmail messages</th>\n",
       "      <th>total day minutes</th>\n",
       "      <th>total day calls</th>\n",
       "      <th>total day charge</th>\n",
       "      <th>...</th>\n",
       "      <th>total eve calls</th>\n",
       "      <th>total eve charge</th>\n",
       "      <th>total night minutes</th>\n",
       "      <th>total night calls</th>\n",
       "      <th>total night charge</th>\n",
       "      <th>total intl minutes</th>\n",
       "      <th>total intl calls</th>\n",
       "      <th>total intl charge</th>\n",
       "      <th>customer service calls</th>\n",
       "      <th>churn</th>\n",
       "    </tr>\n",
       "  </thead>\n",
       "  <tbody>\n",
       "    <tr>\n",
       "      <th>0</th>\n",
       "      <td>KS</td>\n",
       "      <td>128</td>\n",
       "      <td>415</td>\n",
       "      <td>382-4657</td>\n",
       "      <td>no</td>\n",
       "      <td>yes</td>\n",
       "      <td>25</td>\n",
       "      <td>265.1</td>\n",
       "      <td>110</td>\n",
       "      <td>45.07</td>\n",
       "      <td>...</td>\n",
       "      <td>99</td>\n",
       "      <td>16.78</td>\n",
       "      <td>244.7</td>\n",
       "      <td>91</td>\n",
       "      <td>11.01</td>\n",
       "      <td>10.0</td>\n",
       "      <td>3</td>\n",
       "      <td>2.70</td>\n",
       "      <td>1</td>\n",
       "      <td>False</td>\n",
       "    </tr>\n",
       "    <tr>\n",
       "      <th>1</th>\n",
       "      <td>OH</td>\n",
       "      <td>107</td>\n",
       "      <td>415</td>\n",
       "      <td>371-7191</td>\n",
       "      <td>no</td>\n",
       "      <td>yes</td>\n",
       "      <td>26</td>\n",
       "      <td>161.6</td>\n",
       "      <td>123</td>\n",
       "      <td>27.47</td>\n",
       "      <td>...</td>\n",
       "      <td>103</td>\n",
       "      <td>16.62</td>\n",
       "      <td>254.4</td>\n",
       "      <td>103</td>\n",
       "      <td>11.45</td>\n",
       "      <td>13.7</td>\n",
       "      <td>3</td>\n",
       "      <td>3.70</td>\n",
       "      <td>1</td>\n",
       "      <td>False</td>\n",
       "    </tr>\n",
       "    <tr>\n",
       "      <th>2</th>\n",
       "      <td>NJ</td>\n",
       "      <td>137</td>\n",
       "      <td>415</td>\n",
       "      <td>358-1921</td>\n",
       "      <td>no</td>\n",
       "      <td>no</td>\n",
       "      <td>0</td>\n",
       "      <td>243.4</td>\n",
       "      <td>114</td>\n",
       "      <td>41.38</td>\n",
       "      <td>...</td>\n",
       "      <td>110</td>\n",
       "      <td>10.30</td>\n",
       "      <td>162.6</td>\n",
       "      <td>104</td>\n",
       "      <td>7.32</td>\n",
       "      <td>12.2</td>\n",
       "      <td>5</td>\n",
       "      <td>3.29</td>\n",
       "      <td>0</td>\n",
       "      <td>False</td>\n",
       "    </tr>\n",
       "    <tr>\n",
       "      <th>3</th>\n",
       "      <td>OH</td>\n",
       "      <td>84</td>\n",
       "      <td>408</td>\n",
       "      <td>375-9999</td>\n",
       "      <td>yes</td>\n",
       "      <td>no</td>\n",
       "      <td>0</td>\n",
       "      <td>299.4</td>\n",
       "      <td>71</td>\n",
       "      <td>50.90</td>\n",
       "      <td>...</td>\n",
       "      <td>88</td>\n",
       "      <td>5.26</td>\n",
       "      <td>196.9</td>\n",
       "      <td>89</td>\n",
       "      <td>8.86</td>\n",
       "      <td>6.6</td>\n",
       "      <td>7</td>\n",
       "      <td>1.78</td>\n",
       "      <td>2</td>\n",
       "      <td>False</td>\n",
       "    </tr>\n",
       "    <tr>\n",
       "      <th>4</th>\n",
       "      <td>OK</td>\n",
       "      <td>75</td>\n",
       "      <td>415</td>\n",
       "      <td>330-6626</td>\n",
       "      <td>yes</td>\n",
       "      <td>no</td>\n",
       "      <td>0</td>\n",
       "      <td>166.7</td>\n",
       "      <td>113</td>\n",
       "      <td>28.34</td>\n",
       "      <td>...</td>\n",
       "      <td>122</td>\n",
       "      <td>12.61</td>\n",
       "      <td>186.9</td>\n",
       "      <td>121</td>\n",
       "      <td>8.41</td>\n",
       "      <td>10.1</td>\n",
       "      <td>3</td>\n",
       "      <td>2.73</td>\n",
       "      <td>3</td>\n",
       "      <td>False</td>\n",
       "    </tr>\n",
       "  </tbody>\n",
       "</table>\n",
       "<p>5 rows × 21 columns</p>\n",
       "</div>"
      ],
      "text/plain": [
       "  state  account length  area code phone number international plan  \\\n",
       "0    KS             128        415     382-4657                 no   \n",
       "1    OH             107        415     371-7191                 no   \n",
       "2    NJ             137        415     358-1921                 no   \n",
       "3    OH              84        408     375-9999                yes   \n",
       "4    OK              75        415     330-6626                yes   \n",
       "\n",
       "  voice mail plan  number vmail messages  total day minutes  total day calls  \\\n",
       "0             yes                     25              265.1              110   \n",
       "1             yes                     26              161.6              123   \n",
       "2              no                      0              243.4              114   \n",
       "3              no                      0              299.4               71   \n",
       "4              no                      0              166.7              113   \n",
       "\n",
       "   total day charge  ...  total eve calls  total eve charge  \\\n",
       "0             45.07  ...               99             16.78   \n",
       "1             27.47  ...              103             16.62   \n",
       "2             41.38  ...              110             10.30   \n",
       "3             50.90  ...               88              5.26   \n",
       "4             28.34  ...              122             12.61   \n",
       "\n",
       "   total night minutes  total night calls  total night charge  \\\n",
       "0                244.7                 91               11.01   \n",
       "1                254.4                103               11.45   \n",
       "2                162.6                104                7.32   \n",
       "3                196.9                 89                8.86   \n",
       "4                186.9                121                8.41   \n",
       "\n",
       "   total intl minutes  total intl calls  total intl charge  \\\n",
       "0                10.0                 3               2.70   \n",
       "1                13.7                 3               3.70   \n",
       "2                12.2                 5               3.29   \n",
       "3                 6.6                 7               1.78   \n",
       "4                10.1                 3               2.73   \n",
       "\n",
       "   customer service calls  churn  \n",
       "0                       1  False  \n",
       "1                       1  False  \n",
       "2                       0  False  \n",
       "3                       2  False  \n",
       "4                       3  False  \n",
       "\n",
       "[5 rows x 21 columns]"
      ]
     },
     "execution_count": 29,
     "metadata": {},
     "output_type": "execute_result"
    }
   ],
   "source": [
    "df.head()"
   ]
  },
  {
   "cell_type": "markdown",
   "id": "fe4faafa",
   "metadata": {},
   "source": [
    "### Предобработка"
   ]
  },
  {
   "cell_type": "code",
   "execution_count": 30,
   "id": "27f0103d",
   "metadata": {},
   "outputs": [],
   "source": [
    "df.drop(['state', 'phone number', 'voice mail plan'], axis=1, inplace=True) #Уберем лишнии не числовые"
   ]
  },
  {
   "cell_type": "code",
   "execution_count": 31,
   "id": "927f2cc8",
   "metadata": {},
   "outputs": [
    {
     "data": {
      "text/plain": [
       "no     3010\n",
       "yes     323\n",
       "Name: international plan, dtype: int64"
      ]
     },
     "execution_count": 31,
     "metadata": {},
     "output_type": "execute_result"
    }
   ],
   "source": [
    "df['international plan'].value_counts()"
   ]
  },
  {
   "cell_type": "code",
   "execution_count": 32,
   "id": "a41cc4a5",
   "metadata": {},
   "outputs": [],
   "source": [
    "df['international plan'] = df['international plan'].map({'no': 0, 'yes': 1}) #Из да/нет сделаем числовой 1/0"
   ]
  },
  {
   "cell_type": "markdown",
   "id": "c4309408",
   "metadata": {},
   "source": [
    "Если есть значения не равные да или нет, то в sklearn есть какие-то модули (какие не сказал)"
   ]
  },
  {
   "cell_type": "code",
   "execution_count": 33,
   "id": "4fb36314",
   "metadata": {},
   "outputs": [],
   "source": [
    "df['churn'] = df['churn'].astype('int64') #Из boolсделаем числовой"
   ]
  },
  {
   "cell_type": "code",
   "execution_count": 34,
   "id": "14b27d6a",
   "metadata": {},
   "outputs": [
    {
     "name": "stdout",
     "output_type": "stream",
     "text": [
      "<class 'pandas.core.frame.DataFrame'>\n",
      "RangeIndex: 3333 entries, 0 to 3332\n",
      "Data columns (total 18 columns):\n",
      " #   Column                  Non-Null Count  Dtype  \n",
      "---  ------                  --------------  -----  \n",
      " 0   account length          3333 non-null   int64  \n",
      " 1   area code               3333 non-null   int64  \n",
      " 2   international plan      3333 non-null   int64  \n",
      " 3   number vmail messages   3333 non-null   int64  \n",
      " 4   total day minutes       3333 non-null   float64\n",
      " 5   total day calls         3333 non-null   int64  \n",
      " 6   total day charge        3333 non-null   float64\n",
      " 7   total eve minutes       3333 non-null   float64\n",
      " 8   total eve calls         3333 non-null   int64  \n",
      " 9   total eve charge        3333 non-null   float64\n",
      " 10  total night minutes     3333 non-null   float64\n",
      " 11  total night calls       3333 non-null   int64  \n",
      " 12  total night charge      3333 non-null   float64\n",
      " 13  total intl minutes      3333 non-null   float64\n",
      " 14  total intl calls        3333 non-null   int64  \n",
      " 15  total intl charge       3333 non-null   float64\n",
      " 16  customer service calls  3333 non-null   int64  \n",
      " 17  churn                   3333 non-null   int64  \n",
      "dtypes: float64(8), int64(10)\n",
      "memory usage: 468.8 KB\n"
     ]
    }
   ],
   "source": [
    "df.info() #Проверяем"
   ]
  },
  {
   "cell_type": "code",
   "execution_count": 36,
   "id": "8fe113f4",
   "metadata": {},
   "outputs": [],
   "source": [
    "X = df.drop(['churn'], axis=1) #Конечный фрейм"
   ]
  },
  {
   "cell_type": "code",
   "execution_count": 39,
   "id": "57ccae67",
   "metadata": {},
   "outputs": [
    {
     "data": {
      "text/plain": [
       "((3333, 18), (3333, 17))"
      ]
     },
     "execution_count": 39,
     "metadata": {},
     "output_type": "execute_result"
    }
   ],
   "source": [
    "df.shape, X.shape"
   ]
  },
  {
   "cell_type": "code",
   "execution_count": 41,
   "id": "312ed07d",
   "metadata": {},
   "outputs": [],
   "source": [
    "y = df['churn'] #Целевая переменная"
   ]
  },
  {
   "cell_type": "markdown",
   "id": "aebaecbd",
   "metadata": {},
   "source": [
    "X и Y готовы, можно приступать."
   ]
  },
  {
   "cell_type": "markdown",
   "id": "e77fddc7",
   "metadata": {},
   "source": [
    "### Разбиваем на трен/валид (здесь в соотношении 70 на 30)"
   ]
  },
  {
   "cell_type": "code",
   "execution_count": 47,
   "id": "e8388553",
   "metadata": {},
   "outputs": [],
   "source": [
    "#Сначала разобъем в соотношении 70 на 30. Тренируем на 70, проверяем на 30% выборке из нашей выборки.\n",
    "from sklearn.model_selection import train_test_split"
   ]
  },
  {
   "cell_type": "code",
   "execution_count": 48,
   "id": "9ed3044d",
   "metadata": {},
   "outputs": [],
   "source": [
    "#random_state - перемешивание перед разбивкой. Лучше фиксировать, и не оставлять пустым.\n",
    "X_train, X_test, y_train, y_test = train_test_split(X, y, train_size=0.7, random_state=17)"
   ]
  },
  {
   "cell_type": "code",
   "execution_count": 52,
   "id": "ecb0e4f9",
   "metadata": {},
   "outputs": [
    {
     "data": {
      "text/plain": [
       "((2333, 17), (1000, 17))"
      ]
     },
     "execution_count": 52,
     "metadata": {},
     "output_type": "execute_result"
    }
   ],
   "source": [
    "X_train.shape, X_test.shape #Просто убедимся, что 70 на 30 %, как заказывали"
   ]
  },
  {
   "cell_type": "markdown",
   "id": "55145ddb",
   "metadata": {},
   "source": [
    "## Обучаем"
   ]
  },
  {
   "cell_type": "markdown",
   "id": "84fef3c7",
   "metadata": {},
   "source": [
    "### Dicision Trees"
   ]
  },
  {
   "cell_type": "code",
   "execution_count": 53,
   "id": "8d9d08e6",
   "metadata": {},
   "outputs": [],
   "source": [
    "from sklearn.tree import DecisionTreeClassifier\n",
    "#Создаем экземпляр класса (конструктор), лучше также фиксировать random_state\n",
    "f_tree = DecisionTreeClassifier(random_state=17)"
   ]
  },
  {
   "cell_type": "code",
   "execution_count": 54,
   "id": "fa141b3e",
   "metadata": {},
   "outputs": [],
   "source": [
    "#Собственно, само обучение\n",
    "f_tree_train = f_tree.fit(X_train, y_train)"
   ]
  },
  {
   "cell_type": "code",
   "execution_count": 57,
   "id": "b8ab2710",
   "metadata": {},
   "outputs": [],
   "source": [
    "#Считаем какой % правильных ответов будет при применении деревьев на тренировочной выборке\n",
    "#при кросс-валидации на 5-ти фолдах\n",
    "from sklearn.model_selection import cross_val_score"
   ]
  },
  {
   "cell_type": "code",
   "execution_count": 60,
   "id": "acae79ad",
   "metadata": {},
   "outputs": [
    {
     "data": {
      "text/plain": [
       "array([0.9143469 , 0.91220557, 0.92077088, 0.90772532, 0.91416309])"
      ]
     },
     "execution_count": 60,
     "metadata": {},
     "output_type": "execute_result"
    }
   ],
   "source": [
    "cross_val_score(f_tree, X_train, y_train, cv=5) #Так получим по значению на каждом фолде (у нас - 5)\n",
    "#Здесь надо на эти цифры посмотреть. Они не должны иметь огромные различия. Обычно так и есть."
   ]
  },
  {
   "cell_type": "code",
   "execution_count": 62,
   "id": "337cf158",
   "metadata": {},
   "outputs": [
    {
     "data": {
      "text/plain": [
       "0.9138"
      ]
     },
     "execution_count": 62,
     "metadata": {},
     "output_type": "execute_result"
    }
   ],
   "source": [
    "round(np.mean(cross_val_score(f_tree, X_train, y_train, cv=5)), 4) #Вычислим среднее и округлим"
   ]
  },
  {
   "cell_type": "code",
   "execution_count": 63,
   "id": "7cac139f",
   "metadata": {},
   "outputs": [
    {
     "data": {
      "text/plain": [
       "0.9138"
      ]
     },
     "execution_count": 63,
     "metadata": {},
     "output_type": "execute_result"
    }
   ],
   "source": [
    "round(cross_val_score(f_tree, X_train, y_train, cv=5).mean(), 4) #Можно и так"
   ]
  },
  {
   "cell_type": "code",
   "execution_count": 64,
   "id": "977d57c8",
   "metadata": {},
   "outputs": [
    {
     "data": {
      "text/plain": [
       "0.9142"
      ]
     },
     "execution_count": 64,
     "metadata": {},
     "output_type": "execute_result"
    }
   ],
   "source": [
    "round(np.median(cross_val_score(f_tree, X_train, y_train, cv=5)), 4) #Можно медиану проверить на всяк случай"
   ]
  },
  {
   "cell_type": "markdown",
   "id": "a56b5dfb",
   "metadata": {},
   "source": [
    "### k-Nearest Neighbors"
   ]
  },
  {
   "cell_type": "code",
   "execution_count": 67,
   "id": "f2b02232",
   "metadata": {},
   "outputs": [],
   "source": [
    "from sklearn.neighbors import KNeighborsClassifier"
   ]
  },
  {
   "cell_type": "code",
   "execution_count": 68,
   "id": "0e9e522a",
   "metadata": {},
   "outputs": [],
   "source": [
    "f_knn = KNeighborsClassifier()"
   ]
  },
  {
   "cell_type": "code",
   "execution_count": 70,
   "id": "d79709e6",
   "metadata": {},
   "outputs": [],
   "source": [
    "KNeighborsClassifier?"
   ]
  },
  {
   "cell_type": "code",
   "execution_count": 69,
   "id": "2e55ff58",
   "metadata": {},
   "outputs": [
    {
     "data": {
      "text/plain": [
       "array([0.8608137 , 0.85653105, 0.875803  , 0.86266094, 0.87982833])"
      ]
     },
     "execution_count": 69,
     "metadata": {},
     "output_type": "execute_result"
    }
   ],
   "source": [
    "cross_val_score(f_knn, X_train, y_train, cv=5) #Смотрим кросс-валидацию также как и у деревьев"
   ]
  },
  {
   "cell_type": "code",
   "execution_count": 72,
   "id": "ce863f0e",
   "metadata": {},
   "outputs": [
    {
     "data": {
      "text/plain": [
       "0.8671"
      ]
     },
     "execution_count": 72,
     "metadata": {},
     "output_type": "execute_result"
    }
   ],
   "source": [
    "round(cross_val_score(f_knn, X_train, y_train, cv=5).mean(), 4) #Значительно похуже, чем у деревьев!"
   ]
  },
  {
   "cell_type": "code",
   "execution_count": 76,
   "id": "d3d9a509",
   "metadata": {},
   "outputs": [
    {
     "data": {
      "text/plain": [
       "0.8551"
      ]
     },
     "execution_count": 76,
     "metadata": {},
     "output_type": "execute_result"
    }
   ],
   "source": [
    "round(1 - y.mean(), 4) #А такая вероятность получения 1, если мы поставим всем 1 в прогноз. Т.е. без обучения"
   ]
  },
  {
   "cell_type": "markdown",
   "id": "bab049da",
   "metadata": {},
   "source": [
    "## Подберем наилучшие гиперпараметры!"
   ]
  },
  {
   "cell_type": "markdown",
   "id": "265cc91f",
   "metadata": {},
   "source": [
    "Обязательно, т.к. возможно изменение значений у всех моделей!"
   ]
  },
  {
   "cell_type": "markdown",
   "id": "ac803c78",
   "metadata": {},
   "source": [
    "### 1.Максимальная глубина дерева решений - max_depth"
   ]
  },
  {
   "cell_type": "markdown",
   "id": "cf65e453",
   "metadata": {},
   "source": [
    "!!!При большой решетке очень энергозатратно!!!"
   ]
  },
  {
   "cell_type": "code",
   "execution_count": 78,
   "id": "380fe01d",
   "metadata": {},
   "outputs": [],
   "source": [
    "#Поисковик наилучших гиперпараметров!!! \"Решетчатый поиск кросс-вал\"\n",
    "from sklearn.model_selection import GridSearchCV\n",
    "#Решетка, т.к. поиск по всем сочетаниям указанных гиперпараметров в словарях или массивах"
   ]
  },
  {
   "cell_type": "code",
   "execution_count": 103,
   "id": "d41113d3",
   "metadata": {},
   "outputs": [],
   "source": [
    "d_param = {'max_depth': np.arange(1, 11, 1), 'max_features': np.arange(0.3, 1, 0.05)}\n",
    "#Так и будет перебор по решетке из 30 точек (10 первых параметров по 3-м значениям второго параметра)"
   ]
  },
  {
   "cell_type": "code",
   "execution_count": 104,
   "id": "eccb5a66",
   "metadata": {},
   "outputs": [],
   "source": [
    "#n_jobs - кол-во потоков, которые задействует, так - все, остальное затормооозииитттсссяяяяя))))\n",
    "tree = GridSearchCV(f_tree, param_grid= d_param, cv=5, n_jobs=-1, verbose=3)"
   ]
  },
  {
   "cell_type": "code",
   "execution_count": 121,
   "id": "bad7f9e2",
   "metadata": {
    "scrolled": true
   },
   "outputs": [
    {
     "name": "stdout",
     "output_type": "stream",
     "text": [
      "Fitting 5 folds for each of 140 candidates, totalling 700 fits\n",
      "[CV 1/5] END .....max_depth=1, max_features=0.3;, score=0.837 total time=   0.0s\n",
      "[CV 5/5] END .....max_depth=1, max_features=0.3;, score=0.873 total time=   0.0s\n",
      "[CV 1/5] END ....max_depth=1, max_features=0.35;, score=0.837 total time=   0.0s\n",
      "[CV 3/5] END ....max_depth=1, max_features=0.35;, score=0.876 total time=   0.0s\n",
      "[CV 5/5] END ....max_depth=1, max_features=0.35;, score=0.873 total time=   0.0s\n",
      "[CV 3/5] END max_depth=1, max_features=0.39999999999999997;, score=0.876 total time=   0.0s\n",
      "[CV 1/5] END max_depth=1, max_features=0.44999999999999996;, score=0.837 total time=   0.0s\n",
      "[CV 4/5] END max_depth=1, max_features=0.44999999999999996;, score=0.863 total time=   0.0s\n",
      "[CV 2/5] END max_depth=1, max_features=0.49999999999999994;, score=0.869 total time=   0.0s\n",
      "[CV 1/5] END max_depth=1, max_features=0.5499999999999999;, score=0.837 total time=   0.0s\n",
      "[CV 5/5] END max_depth=1, max_features=0.5499999999999999;, score=0.873 total time=   0.0s\n",
      "[CV 3/5] END max_depth=1, max_features=0.5999999999999999;, score=0.876 total time=   0.0s\n",
      "[CV 4/5] END max_depth=1, max_features=0.5999999999999999;, score=0.863 total time=   0.0s\n",
      "[CV 1/5] END .....max_depth=1, max_features=0.7;, score=0.837 total time=   0.0s\n",
      "[CV 2/5] END .....max_depth=1, max_features=0.7;, score=0.869 total time=   0.0s\n",
      "[CV 4/5] END max_depth=1, max_features=0.7499999999999999;, score=0.863 total time=   0.0s\n",
      "[CV 5/5] END max_depth=1, max_features=0.7499999999999999;, score=0.873 total time=   0.0s\n",
      "[CV 1/5] END max_depth=1, max_features=0.7999999999999998;, score=0.837 total time=   0.0s\n",
      "[CV 2/5] END max_depth=1, max_features=0.7999999999999998;, score=0.869 total time=   0.0s\n",
      "[CV 5/5] END max_depth=1, max_features=0.8999999999999999;, score=0.873 total time=   0.0s\n",
      "[CV 1/5] END ....max_depth=1, max_features=0.95;, score=0.837 total time=   0.0s\n",
      "[CV 2/5] END ....max_depth=1, max_features=0.95;, score=0.869 total time=   0.0s\n",
      "[CV 3/5] END ....max_depth=1, max_features=0.95;, score=0.876 total time=   0.0s\n",
      "[CV 1/5] END max_depth=2, max_features=0.39999999999999997;, score=0.846 total time=   0.0s\n",
      "[CV 2/5] END max_depth=2, max_features=0.39999999999999997;, score=0.878 total time=   0.0s\n",
      "[CV 3/5] END max_depth=2, max_features=0.39999999999999997;, score=0.882 total time=   0.0s\n",
      "[CV 4/5] END max_depth=2, max_features=0.39999999999999997;, score=0.867 total time=   0.0s\n",
      "[CV 5/5] END max_depth=2, max_features=0.39999999999999997;, score=0.882 total time=   0.0s\n",
      "[CV 1/5] END max_depth=2, max_features=0.44999999999999996;, score=0.850 total time=   0.0s\n",
      "[CV 2/5] END max_depth=2, max_features=0.44999999999999996;, score=0.869 total time=   0.0s\n",
      "[CV 3/5] END max_depth=2, max_features=0.44999999999999996;, score=0.876 total time=   0.0s\n",
      "[CV 3/5] END .....max_depth=2, max_features=0.7;, score=0.887 total time=   0.0s\n",
      "[CV 4/5] END .....max_depth=2, max_features=0.7;, score=0.865 total time=   0.0s\n",
      "[CV 5/5] END .....max_depth=2, max_features=0.7;, score=0.878 total time=   0.0s\n",
      "[CV 1/5] END max_depth=2, max_features=0.7499999999999999;, score=0.857 total time=   0.0s\n",
      "[CV 2/5] END max_depth=2, max_features=0.7499999999999999;, score=0.882 total time=   0.0s\n",
      "[CV 3/5] END max_depth=2, max_features=0.7499999999999999;, score=0.884 total time=   0.0s\n",
      "[CV 4/5] END max_depth=2, max_features=0.7499999999999999;, score=0.873 total time=   0.0s\n",
      "[CV 5/5] END max_depth=2, max_features=0.7499999999999999;, score=0.882 total time=   0.0s\n",
      "[CV 1/5] END max_depth=3, max_features=0.49999999999999994;, score=0.880 total time=   0.0s\n",
      "[CV 2/5] END max_depth=3, max_features=0.49999999999999994;, score=0.897 total time=   0.0s\n",
      "[CV 3/5] END max_depth=3, max_features=0.49999999999999994;, score=0.906 total time=   0.0s\n",
      "[CV 4/5] END max_depth=3, max_features=0.49999999999999994;, score=0.882 total time=   0.0s\n",
      "[CV 5/5] END max_depth=3, max_features=0.49999999999999994;, score=0.888 total time=   0.0s\n",
      "[CV 1/5] END max_depth=3, max_features=0.5499999999999999;, score=0.884 total time=   0.0s\n",
      "[CV 2/5] END max_depth=3, max_features=0.5499999999999999;, score=0.901 total time=   0.0s\n",
      "[CV 3/5] END max_depth=3, max_features=0.5499999999999999;, score=0.891 total time=   0.0s\n",
      "[CV 4/5] END max_depth=3, max_features=0.5499999999999999;, score=0.876 total time=   0.0s\n",
      "[CV 5/5] END max_depth=3, max_features=0.5499999999999999;, score=0.893 total time=   0.0s\n",
      "[CV 1/5] END max_depth=3, max_features=0.5999999999999999;, score=0.874 total time=   0.0s\n",
      "[CV 2/5] END max_depth=3, max_features=0.5999999999999999;, score=0.910 total time=   0.0s\n",
      "[CV 3/5] END max_depth=3, max_features=0.5999999999999999;, score=0.895 total time=   0.0s\n",
      "[CV 4/5] END max_depth=3, max_features=0.5999999999999999;, score=0.891 total time=   0.0s\n",
      "[CV 5/5] END max_depth=3, max_features=0.5999999999999999;, score=0.906 total time=   0.0s\n",
      "[CV 1/5] END max_depth=3, max_features=0.6499999999999999;, score=0.899 total time=   0.0s\n",
      "[CV 5/5] END max_depth=4, max_features=0.39999999999999997;, score=0.880 total time=   0.0s\n",
      "[CV 1/5] END max_depth=4, max_features=0.44999999999999996;, score=0.872 total time=   0.0s\n",
      "[CV 2/5] END max_depth=4, max_features=0.44999999999999996;, score=0.906 total time=   0.0s\n",
      "[CV 3/5] END max_depth=4, max_features=0.44999999999999996;, score=0.910 total time=   0.0s\n",
      "[CV 4/5] END max_depth=4, max_features=0.44999999999999996;, score=0.906 total time=   0.0s\n",
      "[CV 5/5] END max_depth=4, max_features=0.44999999999999996;, score=0.906 total time=   0.0s\n",
      "[CV 1/5] END max_depth=4, max_features=0.49999999999999994;, score=0.919 total time=   0.0s\n",
      "[CV 2/5] END max_depth=4, max_features=0.49999999999999994;, score=0.912 total time=   0.0s\n",
      "[CV 3/5] END max_depth=4, max_features=0.49999999999999994;, score=0.912 total time=   0.0s\n",
      "[CV 4/5] END max_depth=4, max_features=0.49999999999999994;, score=0.897 total time=   0.0s\n",
      "[CV 5/5] END max_depth=4, max_features=0.49999999999999994;, score=0.918 total time=   0.0s\n",
      "[CV 1/5] END max_depth=4, max_features=0.5499999999999999;, score=0.929 total time=   0.0s\n",
      "[CV 2/5] END max_depth=4, max_features=0.5499999999999999;, score=0.929 total time=   0.0s\n",
      "[CV 3/5] END max_depth=4, max_features=0.5499999999999999;, score=0.923 total time=   0.0s\n",
      "[CV 4/5] END max_depth=4, max_features=0.5499999999999999;, score=0.923 total time=   0.0s\n",
      "[CV 5/5] END max_depth=4, max_features=0.5499999999999999;, score=0.938 total time=   0.0s\n",
      "[CV 4/5] END ....max_depth=5, max_features=0.35;, score=0.886 total time=   0.0s\n",
      "[CV 5/5] END ....max_depth=5, max_features=0.35;, score=0.903 total time=   0.0s\n",
      "[CV 1/5] END max_depth=5, max_features=0.39999999999999997;, score=0.895 total time=   0.0s\n",
      "[CV 2/5] END max_depth=5, max_features=0.39999999999999997;, score=0.936 total time=   0.0s\n",
      "[CV 3/5] END max_depth=5, max_features=0.39999999999999997;, score=0.912 total time=   0.0s\n",
      "[CV 4/5] END max_depth=5, max_features=0.39999999999999997;, score=0.895 total time=   0.0s\n",
      "[CV 5/5] END max_depth=5, max_features=0.39999999999999997;, score=0.908 total time=   0.0s\n",
      "[CV 1/5] END max_depth=5, max_features=0.44999999999999996;, score=0.919 total time=   0.0s\n",
      "[CV 2/5] END max_depth=5, max_features=0.44999999999999996;, score=0.919 total time=   0.0s\n",
      "[CV 3/5] END max_depth=5, max_features=0.44999999999999996;, score=0.934 total time=   0.0s\n",
      "[CV 4/5] END max_depth=5, max_features=0.44999999999999996;, score=0.927 total time=   0.0s\n",
      "[CV 5/5] END max_depth=5, max_features=0.44999999999999996;, score=0.899 total time=   0.0s\n",
      "[CV 1/5] END max_depth=5, max_features=0.49999999999999994;, score=0.908 total time=   0.0s\n",
      "[CV 2/5] END max_depth=5, max_features=0.49999999999999994;, score=0.923 total time=   0.0s\n",
      "[CV 3/5] END max_depth=5, max_features=0.49999999999999994;, score=0.925 total time=   0.0s\n",
      "[CV 4/5] END max_depth=5, max_features=0.49999999999999994;, score=0.946 total time=   0.0s\n",
      "[CV 1/5] END .....max_depth=5, max_features=0.7;, score=0.934 total time=   0.0s\n",
      "[CV 2/5] END .....max_depth=5, max_features=0.7;, score=0.931 total time=   0.0s\n",
      "[CV 3/5] END .....max_depth=5, max_features=0.7;, score=0.929 total time=   0.0s\n",
      "[CV 4/5] END .....max_depth=5, max_features=0.7;, score=0.942 total time=   0.0s\n"
     ]
    },
    {
     "name": "stdout",
     "output_type": "stream",
     "text": [
      "[CV 4/5] END .....max_depth=1, max_features=0.3;, score=0.863 total time=   0.0s\n",
      "[CV 3/5] END max_depth=1, max_features=0.49999999999999994;, score=0.876 total time=   0.0s\n",
      "[CV 2/5] END max_depth=1, max_features=0.5499999999999999;, score=0.869 total time=   0.0s\n",
      "[CV 1/5] END max_depth=1, max_features=0.5999999999999999;, score=0.837 total time=   0.0s\n",
      "[CV 2/5] END max_depth=1, max_features=0.6499999999999999;, score=0.869 total time=   0.0s\n",
      "[CV 3/5] END max_depth=1, max_features=0.6499999999999999;, score=0.876 total time=   0.0s\n",
      "[CV 5/5] END .....max_depth=1, max_features=0.7;, score=0.873 total time=   0.0s\n",
      "[CV 1/5] END max_depth=1, max_features=0.7499999999999999;, score=0.837 total time=   0.0s\n",
      "[CV 1/5] END max_depth=1, max_features=0.8999999999999999;, score=0.837 total time=   0.0s\n",
      "[CV 2/5] END max_depth=1, max_features=0.8999999999999999;, score=0.869 total time=   0.0s\n",
      "[CV 3/5] END max_depth=1, max_features=0.8999999999999999;, score=0.876 total time=   0.0s\n",
      "[CV 4/5] END max_depth=1, max_features=0.8999999999999999;, score=0.863 total time=   0.0s\n",
      "[CV 2/5] END ....max_depth=2, max_features=0.35;, score=0.878 total time=   0.0s\n",
      "[CV 3/5] END ....max_depth=2, max_features=0.35;, score=0.882 total time=   0.0s\n",
      "[CV 4/5] END ....max_depth=2, max_features=0.35;, score=0.867 total time=   0.0s\n",
      "[CV 5/5] END ....max_depth=2, max_features=0.35;, score=0.873 total time=   0.0s\n",
      "[CV 2/5] END max_depth=2, max_features=0.5499999999999999;, score=0.882 total time=   0.0s\n",
      "[CV 3/5] END max_depth=2, max_features=0.5499999999999999;, score=0.884 total time=   0.0s\n",
      "[CV 4/5] END max_depth=2, max_features=0.5499999999999999;, score=0.873 total time=   0.0s\n",
      "[CV 5/5] END max_depth=2, max_features=0.5499999999999999;, score=0.882 total time=   0.0s\n",
      "[CV 1/5] END max_depth=2, max_features=0.5999999999999999;, score=0.857 total time=   0.0s\n",
      "[CV 2/5] END max_depth=2, max_features=0.5999999999999999;, score=0.882 total time=   0.0s\n",
      "[CV 3/5] END max_depth=2, max_features=0.5999999999999999;, score=0.884 total time=   0.0s\n",
      "[CV 4/5] END max_depth=2, max_features=0.5999999999999999;, score=0.873 total time=   0.0s\n",
      "[CV 1/5] END max_depth=2, max_features=0.7999999999999998;, score=0.857 total time=   0.0s\n",
      "[CV 2/5] END max_depth=2, max_features=0.7999999999999998;, score=0.891 total time=   0.0s\n",
      "[CV 3/5] END max_depth=2, max_features=0.7999999999999998;, score=0.887 total time=   0.0s\n",
      "[CV 4/5] END max_depth=2, max_features=0.7999999999999998;, score=0.865 total time=   0.0s\n",
      "[CV 5/5] END max_depth=2, max_features=0.7999999999999998;, score=0.878 total time=   0.0s\n",
      "[CV 1/5] END max_depth=2, max_features=0.8499999999999999;, score=0.857 total time=   0.0s\n",
      "[CV 2/5] END max_depth=2, max_features=0.8499999999999999;, score=0.882 total time=   0.0s\n",
      "[CV 3/5] END max_depth=2, max_features=0.8499999999999999;, score=0.884 total time=   0.0s\n",
      "[CV 5/5] END .....max_depth=3, max_features=0.3;, score=0.884 total time=   0.0s\n",
      "[CV 1/5] END ....max_depth=3, max_features=0.35;, score=0.889 total time=   0.0s\n",
      "[CV 2/5] END ....max_depth=3, max_features=0.35;, score=0.897 total time=   0.0s\n",
      "[CV 3/5] END ....max_depth=3, max_features=0.35;, score=0.897 total time=   0.0s\n",
      "[CV 4/5] END ....max_depth=3, max_features=0.35;, score=0.863 total time=   0.0s\n",
      "[CV 5/5] END ....max_depth=3, max_features=0.35;, score=0.884 total time=   0.0s\n",
      "[CV 1/5] END max_depth=3, max_features=0.39999999999999997;, score=0.857 total time=   0.0s\n",
      "[CV 2/5] END max_depth=3, max_features=0.39999999999999997;, score=0.882 total time=   0.0s\n",
      "[CV 3/5] END max_depth=3, max_features=0.39999999999999997;, score=0.844 total time=   0.0s\n",
      "[CV 4/5] END max_depth=3, max_features=0.39999999999999997;, score=0.871 total time=   0.0s\n",
      "[CV 5/5] END max_depth=3, max_features=0.39999999999999997;, score=0.878 total time=   0.0s\n",
      "[CV 1/5] END max_depth=3, max_features=0.44999999999999996;, score=0.861 total time=   0.0s\n",
      "[CV 2/5] END max_depth=3, max_features=0.44999999999999996;, score=0.887 total time=   0.0s\n",
      "[CV 3/5] END max_depth=3, max_features=0.44999999999999996;, score=0.895 total time=   0.0s\n",
      "[CV 4/5] END max_depth=3, max_features=0.44999999999999996;, score=0.882 total time=   0.0s\n",
      "[CV 5/5] END max_depth=3, max_features=0.44999999999999996;, score=0.884 total time=   0.0s\n",
      "[CV 4/5] END ....max_depth=3, max_features=0.95;, score=0.882 total time=   0.0s\n",
      "[CV 5/5] END ....max_depth=3, max_features=0.95;, score=0.910 total time=   0.0s\n",
      "[CV 1/5] END .....max_depth=4, max_features=0.3;, score=0.880 total time=   0.0s\n",
      "[CV 2/5] END .....max_depth=4, max_features=0.3;, score=0.901 total time=   0.0s\n",
      "[CV 3/5] END .....max_depth=4, max_features=0.3;, score=0.891 total time=   0.0s\n",
      "[CV 4/5] END .....max_depth=4, max_features=0.3;, score=0.876 total time=   0.0s\n",
      "[CV 5/5] END .....max_depth=4, max_features=0.3;, score=0.878 total time=   0.0s\n",
      "[CV 1/5] END ....max_depth=4, max_features=0.35;, score=0.880 total time=   0.0s\n",
      "[CV 2/5] END ....max_depth=4, max_features=0.35;, score=0.901 total time=   0.0s\n",
      "[CV 3/5] END ....max_depth=4, max_features=0.35;, score=0.891 total time=   0.0s\n",
      "[CV 4/5] END ....max_depth=4, max_features=0.35;, score=0.876 total time=   0.0s\n",
      "[CV 5/5] END ....max_depth=4, max_features=0.35;, score=0.878 total time=   0.0s\n",
      "[CV 1/5] END max_depth=4, max_features=0.39999999999999997;, score=0.878 total time=   0.0s\n",
      "[CV 2/5] END max_depth=4, max_features=0.39999999999999997;, score=0.893 total time=   0.0s\n",
      "[CV 3/5] END max_depth=4, max_features=0.39999999999999997;, score=0.887 total time=   0.0s\n",
      "[CV 4/5] END max_depth=4, max_features=0.39999999999999997;, score=0.886 total time=   0.0s\n",
      "[CV 3/5] END max_depth=4, max_features=0.8999999999999999;, score=0.925 total time=   0.0s\n",
      "[CV 4/5] END max_depth=4, max_features=0.8999999999999999;, score=0.906 total time=   0.0s\n",
      "[CV 5/5] END max_depth=4, max_features=0.8999999999999999;, score=0.925 total time=   0.0s\n",
      "[CV 1/5] END ....max_depth=4, max_features=0.95;, score=0.916 total time=   0.0s\n",
      "[CV 2/5] END ....max_depth=4, max_features=0.95;, score=0.923 total time=   0.0s\n",
      "[CV 3/5] END ....max_depth=4, max_features=0.95;, score=0.914 total time=   0.0s\n",
      "[CV 4/5] END ....max_depth=4, max_features=0.95;, score=0.899 total time=   0.0s\n",
      "[CV 5/5] END ....max_depth=4, max_features=0.95;, score=0.921 total time=   0.0s\n",
      "[CV 1/5] END .....max_depth=5, max_features=0.3;, score=0.904 total time=   0.0s\n",
      "[CV 2/5] END .....max_depth=5, max_features=0.3;, score=0.904 total time=   0.0s\n",
      "[CV 3/5] END .....max_depth=5, max_features=0.3;, score=0.904 total time=   0.0s\n",
      "[CV 4/5] END .....max_depth=5, max_features=0.3;, score=0.886 total time=   0.0s\n",
      "[CV 5/5] END .....max_depth=5, max_features=0.3;, score=0.903 total time=   0.0s\n",
      "[CV 1/5] END ....max_depth=5, max_features=0.35;, score=0.904 total time=   0.0s\n",
      "[CV 2/5] END ....max_depth=5, max_features=0.35;, score=0.904 total time=   0.0s\n",
      "[CV 3/5] END ....max_depth=5, max_features=0.35;, score=0.904 total time=   0.0s\n",
      "[CV 3/5] END .....max_depth=6, max_features=0.3;, score=0.916 total time=   0.0s\n",
      "[CV 4/5] END .....max_depth=6, max_features=0.3;, score=0.895 total time=   0.0s\n",
      "[CV 5/5] END .....max_depth=6, max_features=0.3;, score=0.893 total time=   0.0s\n",
      "[CV 1/5] END ....max_depth=6, max_features=0.35;, score=0.889 total time=   0.0s\n",
      "[CV 2/5] END ....max_depth=6, max_features=0.35;, score=0.908 total time=   0.0s\n",
      "[CV 3/5] END ....max_depth=6, max_features=0.35;, score=0.916 total time=   0.0s\n",
      "[CV 4/5] END ....max_depth=6, max_features=0.35;, score=0.895 total time=   0.0s\n",
      "[CV 5/5] END ....max_depth=6, max_features=0.35;, score=0.893 total time=   0.0s\n",
      "[CV 1/5] END max_depth=6, max_features=0.39999999999999997;, score=0.934 total time=   0.0s\n",
      "[CV 2/5] END max_depth=6, max_features=0.39999999999999997;, score=0.938 total time=   0.0s\n",
      "[CV 3/5] END max_depth=6, max_features=0.39999999999999997;, score=0.925 total time=   0.0s\n",
      "[CV 4/5] END max_depth=6, max_features=0.39999999999999997;, score=0.940 total time=   0.0s\n",
      "[CV 5/5] END max_depth=6, max_features=0.39999999999999997;, score=0.933 total time=   0.0s\n",
      "[CV 1/5] END max_depth=6, max_features=0.44999999999999996;, score=0.916 total time=   0.0s\n",
      "[CV 2/5] END .....max_depth=1, max_features=0.3;, score=0.869 total time=   0.0s\n",
      "[CV 2/5] END ....max_depth=1, max_features=0.35;, score=0.869 total time=   0.0s\n",
      "[CV 4/5] END ....max_depth=1, max_features=0.35;, score=0.863 total time=   0.0s\n",
      "[CV 1/5] END max_depth=1, max_features=0.39999999999999997;, score=0.837 total time=   0.0s\n",
      "[CV 2/5] END max_depth=1, max_features=0.39999999999999997;, score=0.869 total time=   0.0s\n",
      "[CV 5/5] END max_depth=1, max_features=0.39999999999999997;, score=0.873 total time=   0.0s\n",
      "[CV 3/5] END max_depth=1, max_features=0.44999999999999996;, score=0.876 total time=   0.0s\n",
      "[CV 1/5] END max_depth=1, max_features=0.49999999999999994;, score=0.837 total time=   0.0s\n",
      "[CV 4/5] END max_depth=1, max_features=0.49999999999999994;, score=0.863 total time=   0.0s\n",
      "[CV 3/5] END max_depth=1, max_features=0.5499999999999999;, score=0.876 total time=   0.0s\n",
      "[CV 2/5] END max_depth=1, max_features=0.5999999999999999;, score=0.869 total time=   0.0s\n",
      "[CV 4/5] END max_depth=1, max_features=0.6499999999999999;, score=0.863 total time=   0.0s\n",
      "[CV 5/5] END max_depth=1, max_features=0.6499999999999999;, score=0.873 total time=   0.0s\n",
      "[CV 2/5] END max_depth=1, max_features=0.7499999999999999;, score=0.869 total time=   0.0s\n",
      "[CV 3/5] END max_depth=1, max_features=0.7499999999999999;, score=0.876 total time=   0.0s\n",
      "[CV 2/5] END max_depth=1, max_features=0.8499999999999999;, score=0.869 total time=   0.0s\n",
      "[CV 3/5] END max_depth=1, max_features=0.8499999999999999;, score=0.876 total time=   0.0s\n",
      "[CV 4/5] END max_depth=1, max_features=0.8499999999999999;, score=0.863 total time=   0.0s\n",
      "[CV 5/5] END max_depth=1, max_features=0.8499999999999999;, score=0.873 total time=   0.0s\n",
      "[CV 3/5] END .....max_depth=2, max_features=0.3;, score=0.882 total time=   0.0s\n",
      "[CV 4/5] END .....max_depth=2, max_features=0.3;, score=0.867 total time=   0.0s\n",
      "[CV 5/5] END .....max_depth=2, max_features=0.3;, score=0.873 total time=   0.0s\n",
      "[CV 1/5] END ....max_depth=2, max_features=0.35;, score=0.844 total time=   0.0s\n",
      "[CV 5/5] END max_depth=2, max_features=0.5999999999999999;, score=0.882 total time=   0.0s\n",
      "[CV 1/5] END max_depth=2, max_features=0.6499999999999999;, score=0.857 total time=   0.0s\n",
      "[CV 2/5] END max_depth=2, max_features=0.6499999999999999;, score=0.891 total time=   0.0s\n",
      "[CV 3/5] END max_depth=2, max_features=0.6499999999999999;, score=0.887 total time=   0.0s\n",
      "[CV 4/5] END max_depth=2, max_features=0.6499999999999999;, score=0.865 total time=   0.0s\n",
      "[CV 5/5] END max_depth=2, max_features=0.6499999999999999;, score=0.878 total time=   0.0s\n",
      "[CV 1/5] END .....max_depth=2, max_features=0.7;, score=0.857 total time=   0.0s\n",
      "[CV 2/5] END .....max_depth=2, max_features=0.7;, score=0.891 total time=   0.0s\n",
      "[CV 2/5] END ....max_depth=2, max_features=0.95;, score=0.887 total time=   0.0s\n",
      "[CV 3/5] END ....max_depth=2, max_features=0.95;, score=0.884 total time=   0.0s\n",
      "[CV 4/5] END ....max_depth=2, max_features=0.95;, score=0.858 total time=   0.0s\n",
      "[CV 5/5] END ....max_depth=2, max_features=0.95;, score=0.878 total time=   0.0s\n",
      "[CV 1/5] END .....max_depth=3, max_features=0.3;, score=0.889 total time=   0.0s\n",
      "[CV 2/5] END .....max_depth=3, max_features=0.3;, score=0.897 total time=   0.0s\n",
      "[CV 3/5] END .....max_depth=3, max_features=0.3;, score=0.897 total time=   0.0s\n",
      "[CV 4/5] END .....max_depth=3, max_features=0.3;, score=0.863 total time=   0.0s\n",
      "[CV 2/5] END max_depth=3, max_features=0.6499999999999999;, score=0.904 total time=   0.0s\n",
      "[CV 3/5] END max_depth=3, max_features=0.6499999999999999;, score=0.904 total time=   0.0s\n",
      "[CV 4/5] END max_depth=3, max_features=0.6499999999999999;, score=0.882 total time=   0.0s\n",
      "[CV 5/5] END max_depth=3, max_features=0.6499999999999999;, score=0.910 total time=   0.0s\n",
      "[CV 1/5] END .....max_depth=3, max_features=0.7;, score=0.899 total time=   0.0s\n",
      "[CV 2/5] END .....max_depth=3, max_features=0.7;, score=0.904 total time=   0.0s\n",
      "[CV 3/5] END .....max_depth=3, max_features=0.7;, score=0.904 total time=   0.0s\n",
      "[CV 4/5] END .....max_depth=3, max_features=0.7;, score=0.882 total time=   0.0s\n",
      "[CV 5/5] END .....max_depth=3, max_features=0.7;, score=0.910 total time=   0.0s\n",
      "[CV 1/5] END max_depth=3, max_features=0.7499999999999999;, score=0.874 total time=   0.0s\n",
      "[CV 2/5] END max_depth=3, max_features=0.7499999999999999;, score=0.887 total time=   0.0s\n",
      "[CV 3/5] END max_depth=3, max_features=0.7499999999999999;, score=0.884 total time=   0.0s\n",
      "[CV 4/5] END max_depth=3, max_features=0.7499999999999999;, score=0.884 total time=   0.0s\n",
      "[CV 5/5] END max_depth=3, max_features=0.7499999999999999;, score=0.884 total time=   0.0s\n",
      "[CV 1/5] END max_depth=3, max_features=0.7999999999999998;, score=0.901 total time=   0.0s\n",
      "[CV 2/5] END max_depth=3, max_features=0.7999999999999998;, score=0.906 total time=   0.0s\n",
      "[CV 1/5] END max_depth=4, max_features=0.5999999999999999;, score=0.927 total time=   0.0s\n",
      "[CV 2/5] END max_depth=4, max_features=0.5999999999999999;, score=0.927 total time=   0.0s\n",
      "[CV 3/5] END max_depth=4, max_features=0.5999999999999999;, score=0.921 total time=   0.0s\n",
      "[CV 4/5] END max_depth=4, max_features=0.5999999999999999;, score=0.923 total time=   0.0s\n",
      "[CV 5/5] END max_depth=4, max_features=0.5999999999999999;, score=0.931 total time=   0.0s\n",
      "[CV 1/5] END max_depth=4, max_features=0.6499999999999999;, score=0.906 total time=   0.0s\n",
      "[CV 2/5] END max_depth=4, max_features=0.6499999999999999;, score=0.931 total time=   0.0s\n",
      "[CV 3/5] END max_depth=4, max_features=0.6499999999999999;, score=0.923 total time=   0.0s\n",
      "[CV 4/5] END max_depth=4, max_features=0.6499999999999999;, score=0.906 total time=   0.0s\n",
      "[CV 5/5] END max_depth=4, max_features=0.6499999999999999;, score=0.931 total time=   0.0s\n",
      "[CV 1/5] END .....max_depth=4, max_features=0.7;, score=0.906 total time=   0.0s\n",
      "[CV 2/5] END .....max_depth=4, max_features=0.7;, score=0.931 total time=   0.0s\n",
      "[CV 3/5] END .....max_depth=4, max_features=0.7;, score=0.923 total time=   0.0s\n",
      "[CV 4/5] END .....max_depth=4, max_features=0.7;, score=0.906 total time=   0.0s\n",
      "[CV 5/5] END .....max_depth=4, max_features=0.7;, score=0.931 total time=   0.0s\n",
      "[CV 1/5] END max_depth=4, max_features=0.7499999999999999;, score=0.912 total time=   0.0s\n",
      "[CV 5/5] END max_depth=5, max_features=0.49999999999999994;, score=0.918 total time=   0.0s\n",
      "[CV 1/5] END max_depth=5, max_features=0.5499999999999999;, score=0.921 total time=   0.0s\n",
      "[CV 2/5] END max_depth=5, max_features=0.5499999999999999;, score=0.914 total time=   0.0s\n",
      "[CV 3/5] END max_depth=5, max_features=0.5499999999999999;, score=0.921 total time=   0.0s\n",
      "[CV 4/5] END max_depth=5, max_features=0.5499999999999999;, score=0.931 total time=   0.0s\n",
      "[CV 5/5] END max_depth=5, max_features=0.5499999999999999;, score=0.923 total time=   0.0s\n",
      "[CV 1/5] END max_depth=5, max_features=0.5999999999999999;, score=0.931 total time=   0.0s\n",
      "[CV 2/5] END max_depth=5, max_features=0.5999999999999999;, score=0.931 total time=   0.0s\n",
      "[CV 3/5] END max_depth=5, max_features=0.5999999999999999;, score=0.927 total time=   0.0s\n",
      "[CV 4/5] END max_depth=5, max_features=0.5999999999999999;, score=0.942 total time=   0.0s\n",
      "[CV 5/5] END max_depth=5, max_features=0.5999999999999999;, score=0.927 total time=   0.0s\n",
      "[CV 1/5] END max_depth=5, max_features=0.6499999999999999;, score=0.934 total time=   0.0s\n",
      "[CV 2/5] END max_depth=5, max_features=0.6499999999999999;, score=0.931 total time=   0.0s\n",
      "[CV 3/5] END max_depth=5, max_features=0.6499999999999999;, score=0.929 total time=   0.1s\n",
      "[CV 4/5] END max_depth=5, max_features=0.6499999999999999;, score=0.942 total time=   0.0s\n",
      "[CV 5/5] END max_depth=5, max_features=0.6499999999999999;, score=0.927 total time=   0.0s\n",
      "[CV 5/5] END max_depth=6, max_features=0.5999999999999999;, score=0.942 total time=   0.1s\n",
      "[CV 1/5] END max_depth=6, max_features=0.6499999999999999;, score=0.936 total time=   0.0s\n",
      "[CV 2/5] END max_depth=6, max_features=0.6499999999999999;, score=0.940 total time=   0.0s\n",
      "[CV 3/5] END max_depth=6, max_features=0.6499999999999999;, score=0.936 total time=   0.0s\n",
      "[CV 4/5] END max_depth=6, max_features=0.6499999999999999;, score=0.944 total time=   0.0s\n"
     ]
    },
    {
     "name": "stdout",
     "output_type": "stream",
     "text": [
      "[CV 3/5] END .....max_depth=1, max_features=0.3;, score=0.876 total time=   0.0s\n",
      "[CV 4/5] END max_depth=1, max_features=0.39999999999999997;, score=0.863 total time=   0.0s\n",
      "[CV 2/5] END max_depth=1, max_features=0.44999999999999996;, score=0.869 total time=   0.0s\n",
      "[CV 5/5] END max_depth=1, max_features=0.44999999999999996;, score=0.873 total time=   0.0s\n",
      "[CV 5/5] END max_depth=1, max_features=0.49999999999999994;, score=0.873 total time=   0.0s\n",
      "[CV 4/5] END max_depth=1, max_features=0.5499999999999999;, score=0.863 total time=   0.0s\n",
      "[CV 5/5] END max_depth=1, max_features=0.5999999999999999;, score=0.873 total time=   0.0s\n",
      "[CV 1/5] END max_depth=1, max_features=0.6499999999999999;, score=0.837 total time=   0.0s\n",
      "[CV 3/5] END .....max_depth=1, max_features=0.7;, score=0.876 total time=   0.0s\n",
      "[CV 4/5] END .....max_depth=1, max_features=0.7;, score=0.863 total time=   0.0s\n",
      "[CV 3/5] END max_depth=1, max_features=0.7999999999999998;, score=0.876 total time=   0.0s\n",
      "[CV 4/5] END max_depth=1, max_features=0.7999999999999998;, score=0.863 total time=   0.0s\n",
      "[CV 5/5] END max_depth=1, max_features=0.7999999999999998;, score=0.873 total time=   0.0s\n",
      "[CV 1/5] END max_depth=1, max_features=0.8499999999999999;, score=0.837 total time=   0.0s\n",
      "[CV 4/5] END ....max_depth=1, max_features=0.95;, score=0.863 total time=   0.0s\n",
      "[CV 5/5] END ....max_depth=1, max_features=0.95;, score=0.873 total time=   0.0s\n",
      "[CV 1/5] END .....max_depth=2, max_features=0.3;, score=0.844 total time=   0.0s\n",
      "[CV 2/5] END .....max_depth=2, max_features=0.3;, score=0.878 total time=   0.0s\n",
      "[CV 4/5] END max_depth=2, max_features=0.44999999999999996;, score=0.869 total time=   0.0s\n",
      "[CV 5/5] END max_depth=2, max_features=0.44999999999999996;, score=0.867 total time=   0.0s\n",
      "[CV 1/5] END max_depth=2, max_features=0.49999999999999994;, score=0.846 total time=   0.0s\n",
      "[CV 2/5] END max_depth=2, max_features=0.49999999999999994;, score=0.887 total time=   0.0s\n",
      "[CV 3/5] END max_depth=2, max_features=0.49999999999999994;, score=0.884 total time=   0.0s\n",
      "[CV 4/5] END max_depth=2, max_features=0.49999999999999994;, score=0.858 total time=   0.0s\n",
      "[CV 5/5] END max_depth=2, max_features=0.49999999999999994;, score=0.878 total time=   0.0s\n",
      "[CV 1/5] END max_depth=2, max_features=0.5499999999999999;, score=0.857 total time=   0.0s\n",
      "[CV 4/5] END max_depth=2, max_features=0.8499999999999999;, score=0.873 total time=   0.0s\n",
      "[CV 5/5] END max_depth=2, max_features=0.8499999999999999;, score=0.882 total time=   0.0s\n",
      "[CV 1/5] END max_depth=2, max_features=0.8999999999999999;, score=0.857 total time=   0.0s\n",
      "[CV 2/5] END max_depth=2, max_features=0.8999999999999999;, score=0.891 total time=   0.0s\n",
      "[CV 3/5] END max_depth=2, max_features=0.8999999999999999;, score=0.887 total time=   0.0s\n",
      "[CV 4/5] END max_depth=2, max_features=0.8999999999999999;, score=0.865 total time=   0.0s\n",
      "[CV 5/5] END max_depth=2, max_features=0.8999999999999999;, score=0.878 total time=   0.0s\n",
      "[CV 1/5] END ....max_depth=2, max_features=0.95;, score=0.844 total time=   0.0s\n",
      "[CV 3/5] END max_depth=3, max_features=0.7999999999999998;, score=0.910 total time=   0.0s\n",
      "[CV 4/5] END max_depth=3, max_features=0.7999999999999998;, score=0.886 total time=   0.0s\n",
      "[CV 5/5] END max_depth=3, max_features=0.7999999999999998;, score=0.906 total time=   0.0s\n",
      "[CV 1/5] END max_depth=3, max_features=0.8499999999999999;, score=0.874 total time=   0.0s\n",
      "[CV 2/5] END max_depth=3, max_features=0.8499999999999999;, score=0.910 total time=   0.0s\n",
      "[CV 3/5] END max_depth=3, max_features=0.8499999999999999;, score=0.895 total time=   0.0s\n",
      "[CV 4/5] END max_depth=3, max_features=0.8499999999999999;, score=0.882 total time=   0.0s\n",
      "[CV 5/5] END max_depth=3, max_features=0.8499999999999999;, score=0.906 total time=   0.0s\n",
      "[CV 1/5] END max_depth=3, max_features=0.8999999999999999;, score=0.897 total time=   0.1s\n",
      "[CV 2/5] END max_depth=3, max_features=0.8999999999999999;, score=0.901 total time=   0.0s\n",
      "[CV 3/5] END max_depth=3, max_features=0.8999999999999999;, score=0.906 total time=   0.0s\n",
      "[CV 4/5] END max_depth=3, max_features=0.8999999999999999;, score=0.882 total time=   0.0s\n",
      "[CV 5/5] END max_depth=3, max_features=0.8999999999999999;, score=0.906 total time=   0.0s\n",
      "[CV 1/5] END ....max_depth=3, max_features=0.95;, score=0.899 total time=   0.0s\n",
      "[CV 2/5] END ....max_depth=3, max_features=0.95;, score=0.904 total time=   0.0s\n",
      "[CV 3/5] END ....max_depth=3, max_features=0.95;, score=0.904 total time=   0.0s\n",
      "[CV 2/5] END max_depth=4, max_features=0.7499999999999999;, score=0.904 total time=   0.0s\n",
      "[CV 3/5] END max_depth=4, max_features=0.7499999999999999;, score=0.912 total time=   0.0s\n",
      "[CV 4/5] END max_depth=4, max_features=0.7499999999999999;, score=0.903 total time=   0.0s\n",
      "[CV 5/5] END max_depth=4, max_features=0.7499999999999999;, score=0.901 total time=   0.0s\n",
      "[CV 1/5] END max_depth=4, max_features=0.7999999999999998;, score=0.914 total time=   0.0s\n",
      "[CV 2/5] END max_depth=4, max_features=0.7999999999999998;, score=0.921 total time=   0.0s\n",
      "[CV 3/5] END max_depth=4, max_features=0.7999999999999998;, score=0.921 total time=   0.0s\n",
      "[CV 4/5] END max_depth=4, max_features=0.7999999999999998;, score=0.899 total time=   0.0s\n",
      "[CV 5/5] END max_depth=4, max_features=0.7999999999999998;, score=0.910 total time=   0.0s\n",
      "[CV 1/5] END max_depth=4, max_features=0.8499999999999999;, score=0.929 total time=   0.0s\n",
      "[CV 2/5] END max_depth=4, max_features=0.8499999999999999;, score=0.927 total time=   0.0s\n",
      "[CV 3/5] END max_depth=4, max_features=0.8499999999999999;, score=0.923 total time=   0.0s\n",
      "[CV 4/5] END max_depth=4, max_features=0.8499999999999999;, score=0.923 total time=   0.0s\n",
      "[CV 5/5] END max_depth=4, max_features=0.8499999999999999;, score=0.931 total time=   0.0s\n",
      "[CV 1/5] END max_depth=4, max_features=0.8999999999999999;, score=0.904 total time=   0.0s\n",
      "[CV 2/5] END max_depth=4, max_features=0.8999999999999999;, score=0.929 total time=   0.0s\n",
      "[CV 2/5] END max_depth=5, max_features=0.8499999999999999;, score=0.934 total time=   0.1s\n",
      "[CV 3/5] END max_depth=5, max_features=0.8499999999999999;, score=0.931 total time=   0.0s\n",
      "[CV 4/5] END max_depth=5, max_features=0.8499999999999999;, score=0.940 total time=   0.0s\n",
      "[CV 5/5] END max_depth=5, max_features=0.8499999999999999;, score=0.931 total time=   0.0s\n",
      "[CV 1/5] END max_depth=5, max_features=0.8999999999999999;, score=0.925 total time=   0.1s\n",
      "[CV 2/5] END max_depth=5, max_features=0.8999999999999999;, score=0.936 total time=   0.1s\n",
      "[CV 3/5] END max_depth=5, max_features=0.8999999999999999;, score=0.927 total time=   0.0s\n",
      "[CV 4/5] END max_depth=5, max_features=0.8999999999999999;, score=0.936 total time=   0.0s\n",
      "[CV 5/5] END max_depth=5, max_features=0.8999999999999999;, score=0.938 total time=   0.0s\n",
      "[CV 1/5] END ....max_depth=5, max_features=0.95;, score=0.934 total time=   0.0s\n",
      "[CV 2/5] END ....max_depth=5, max_features=0.95;, score=0.938 total time=   0.0s\n",
      "[CV 3/5] END ....max_depth=5, max_features=0.95;, score=0.934 total time=   0.0s\n",
      "[CV 4/5] END ....max_depth=5, max_features=0.95;, score=0.951 total time=   0.0s\n",
      "[CV 5/5] END ....max_depth=5, max_features=0.95;, score=0.933 total time=   0.1s\n",
      "[CV 1/5] END .....max_depth=6, max_features=0.3;, score=0.889 total time=   0.0s\n",
      "[CV 2/5] END .....max_depth=6, max_features=0.3;, score=0.908 total time=   0.0s\n",
      "[CV 2/5] END ....max_depth=6, max_features=0.95;, score=0.934 total time=   0.0s\n",
      "[CV 3/5] END ....max_depth=6, max_features=0.95;, score=0.936 total time=   0.0s\n",
      "[CV 4/5] END ....max_depth=6, max_features=0.95;, score=0.955 total time=   0.0s\n",
      "[CV 5/5] END ....max_depth=6, max_features=0.95;, score=0.942 total time=   0.0s\n",
      "[CV 1/5] END .....max_depth=7, max_features=0.3;, score=0.901 total time=   0.0s\n",
      "[CV 2/5] END .....max_depth=7, max_features=0.3;, score=0.923 total time=   0.0s\n",
      "[CV 3/5] END .....max_depth=7, max_features=0.3;, score=0.912 total time=   0.0s\n",
      "[CV 4/5] END .....max_depth=7, max_features=0.3;, score=0.927 total time=   0.0s\n",
      "[CV 5/5] END .....max_depth=7, max_features=0.3;, score=0.891 total time=   0.0s\n",
      "[CV 1/5] END ....max_depth=7, max_features=0.35;, score=0.901 total time=   0.0s\n",
      "[CV 2/5] END ....max_depth=7, max_features=0.35;, score=0.923 total time=   0.0s\n",
      "[CV 5/5] END .....max_depth=5, max_features=0.7;, score=0.927 total time=   0.0s\n",
      "[CV 1/5] END max_depth=5, max_features=0.7499999999999999;, score=0.925 total time=   0.0s\n",
      "[CV 2/5] END max_depth=5, max_features=0.7499999999999999;, score=0.938 total time=   0.0s\n",
      "[CV 3/5] END max_depth=5, max_features=0.7499999999999999;, score=0.923 total time=   0.0s\n",
      "[CV 4/5] END max_depth=5, max_features=0.7499999999999999;, score=0.942 total time=   0.0s\n",
      "[CV 5/5] END max_depth=5, max_features=0.7499999999999999;, score=0.938 total time=   0.0s\n",
      "[CV 1/5] END max_depth=5, max_features=0.7999999999999998;, score=0.934 total time=   0.0s\n",
      "[CV 2/5] END max_depth=5, max_features=0.7999999999999998;, score=0.929 total time=   0.0s\n",
      "[CV 3/5] END max_depth=5, max_features=0.7999999999999998;, score=0.931 total time=   0.0s\n",
      "[CV 4/5] END max_depth=5, max_features=0.7999999999999998;, score=0.951 total time=   0.0s\n",
      "[CV 5/5] END max_depth=5, max_features=0.7999999999999998;, score=0.927 total time=   0.0s\n",
      "[CV 1/5] END max_depth=5, max_features=0.8499999999999999;, score=0.929 total time=   0.0s\n",
      "[CV 4/5] END max_depth=6, max_features=0.44999999999999996;, score=0.933 total time=   0.0s\n",
      "[CV 5/5] END max_depth=6, max_features=0.44999999999999996;, score=0.906 total time=   0.0s\n",
      "[CV 1/5] END max_depth=6, max_features=0.49999999999999994;, score=0.929 total time=   0.0s\n",
      "[CV 2/5] END max_depth=6, max_features=0.49999999999999994;, score=0.938 total time=   0.0s\n",
      "[CV 3/5] END max_depth=6, max_features=0.49999999999999994;, score=0.925 total time=   0.0s\n",
      "[CV 4/5] END max_depth=6, max_features=0.49999999999999994;, score=0.946 total time=   0.0s\n",
      "[CV 5/5] END max_depth=6, max_features=0.49999999999999994;, score=0.948 total time=   0.0s\n",
      "[CV 1/5] END max_depth=6, max_features=0.5499999999999999;, score=0.931 total time=   0.0s\n",
      "[CV 2/5] END max_depth=6, max_features=0.5499999999999999;, score=0.931 total time=   0.0s\n",
      "[CV 3/5] END max_depth=6, max_features=0.5499999999999999;, score=0.925 total time=   0.0s\n",
      "[CV 4/5] END max_depth=6, max_features=0.5499999999999999;, score=0.931 total time=   0.0s\n",
      "[CV 5/5] END max_depth=6, max_features=0.5499999999999999;, score=0.931 total time=   0.0s\n",
      "[CV 1/5] END max_depth=6, max_features=0.5999999999999999;, score=0.938 total time=   0.0s\n",
      "[CV 2/5] END max_depth=6, max_features=0.5999999999999999;, score=0.938 total time=   0.0s\n",
      "[CV 3/5] END max_depth=6, max_features=0.5999999999999999;, score=0.927 total time=   0.0s\n",
      "[CV 4/5] END max_depth=6, max_features=0.5999999999999999;, score=0.944 total time=   0.0s\n",
      "[CV 3/5] END max_depth=7, max_features=0.39999999999999997;, score=0.916 total time=   0.0s\n",
      "[CV 4/5] END max_depth=7, max_features=0.39999999999999997;, score=0.936 total time=   0.0s\n",
      "[CV 5/5] END max_depth=7, max_features=0.39999999999999997;, score=0.944 total time=   0.0s\n",
      "[CV 1/5] END max_depth=7, max_features=0.44999999999999996;, score=0.912 total time=   0.0s\n",
      "[CV 2/5] END max_depth=7, max_features=0.44999999999999996;, score=0.934 total time=   0.0s\n",
      "[CV 3/5] END max_depth=7, max_features=0.44999999999999996;, score=0.921 total time=   0.0s\n",
      "[CV 4/5] END max_depth=7, max_features=0.44999999999999996;, score=0.948 total time=   0.0s\n",
      "[CV 5/5] END max_depth=7, max_features=0.44999999999999996;, score=0.929 total time=   0.0s\n",
      "[CV 1/5] END max_depth=7, max_features=0.49999999999999994;, score=0.931 total time=   0.0s\n",
      "[CV 2/5] END max_depth=7, max_features=0.49999999999999994;, score=0.925 total time=   0.0s\n",
      "[CV 3/5] END max_depth=7, max_features=0.49999999999999994;, score=0.931 total time=   0.0s\n",
      "[CV 4/5] END max_depth=7, max_features=0.49999999999999994;, score=0.946 total time=   0.0s\n",
      "[CV 5/5] END max_depth=7, max_features=0.49999999999999994;, score=0.942 total time=   0.0s\n",
      "[CV 1/5] END max_depth=7, max_features=0.5499999999999999;, score=0.910 total time=   0.0s\n",
      "[CV 2/5] END max_depth=7, max_features=0.5499999999999999;, score=0.923 total time=   0.0s\n",
      "[CV 3/5] END max_depth=7, max_features=0.5499999999999999;, score=0.914 total time=   0.0s\n",
      "[CV 2/5] END ....max_depth=8, max_features=0.35;, score=0.901 total time=   0.0s\n",
      "[CV 3/5] END ....max_depth=8, max_features=0.35;, score=0.914 total time=   0.0s\n",
      "[CV 4/5] END ....max_depth=8, max_features=0.35;, score=0.893 total time=   0.0s\n",
      "[CV 5/5] END ....max_depth=8, max_features=0.35;, score=0.921 total time=   0.0s\n",
      "[CV 1/5] END max_depth=8, max_features=0.39999999999999997;, score=0.921 total time=   0.0s\n",
      "[CV 2/5] END max_depth=8, max_features=0.39999999999999997;, score=0.925 total time=   0.0s\n",
      "[CV 3/5] END max_depth=8, max_features=0.39999999999999997;, score=0.938 total time=   0.0s\n",
      "[CV 4/5] END max_depth=8, max_features=0.39999999999999997;, score=0.929 total time=   0.0s\n",
      "[CV 5/5] END max_depth=8, max_features=0.39999999999999997;, score=0.931 total time=   0.0s\n",
      "[CV 1/5] END max_depth=8, max_features=0.44999999999999996;, score=0.914 total time=   0.0s\n",
      "[CV 2/5] END max_depth=8, max_features=0.44999999999999996;, score=0.914 total time=   0.0s\n",
      "[CV 3/5] END max_depth=8, max_features=0.44999999999999996;, score=0.927 total time=   0.0s\n",
      "[CV 4/5] END max_depth=8, max_features=0.44999999999999996;, score=0.923 total time=   0.0s\n",
      "[CV 5/5] END max_depth=8, max_features=0.44999999999999996;, score=0.914 total time=   0.0s\n",
      "[CV 1/5] END max_depth=8, max_features=0.49999999999999994;, score=0.921 total time=   0.0s\n",
      "[CV 2/5] END max_depth=8, max_features=0.49999999999999994;, score=0.944 total time=   0.0s\n",
      "[CV 4/5] END max_depth=8, max_features=0.6499999999999999;, score=0.927 total time=   0.0s\n",
      "[CV 5/5] END max_depth=8, max_features=0.6499999999999999;, score=0.931 total time=   0.0s\n",
      "[CV 1/5] END .....max_depth=8, max_features=0.7;, score=0.925 total time=   0.0s\n",
      "[CV 2/5] END .....max_depth=8, max_features=0.7;, score=0.927 total time=   0.0s\n",
      "[CV 3/5] END .....max_depth=8, max_features=0.7;, score=0.927 total time=   0.0s\n",
      "[CV 4/5] END .....max_depth=8, max_features=0.7;, score=0.927 total time=   0.0s\n",
      "[CV 5/5] END .....max_depth=8, max_features=0.7;, score=0.931 total time=   0.0s\n",
      "[CV 1/5] END max_depth=8, max_features=0.7499999999999999;, score=0.942 total time=   0.0s\n",
      "[CV 2/5] END max_depth=8, max_features=0.7499999999999999;, score=0.921 total time=   0.0s\n",
      "[CV 3/5] END max_depth=8, max_features=0.7499999999999999;, score=0.912 total time=   0.0s\n",
      "[CV 4/5] END max_depth=8, max_features=0.7499999999999999;, score=0.933 total time=   0.0s\n",
      "[CV 5/5] END max_depth=8, max_features=0.7499999999999999;, score=0.923 total time=   0.0s\n",
      "[CV 1/5] END max_depth=8, max_features=0.7999999999999998;, score=0.929 total time=   0.0s\n",
      "[CV 2/5] END max_depth=8, max_features=0.7999999999999998;, score=0.929 total time=   0.0s\n",
      "[CV 3/5] END max_depth=8, max_features=0.7999999999999998;, score=0.923 total time=   0.0s\n",
      "[CV 4/5] END max_depth=8, max_features=0.7999999999999998;, score=0.942 total time=   0.0s\n",
      "[CV 3/5] END max_depth=9, max_features=0.5999999999999999;, score=0.931 total time=   0.0s\n",
      "[CV 4/5] END max_depth=9, max_features=0.5999999999999999;, score=0.933 total time=   0.0s\n",
      "[CV 5/5] END max_depth=9, max_features=0.5999999999999999;, score=0.942 total time=   0.0s\n",
      "[CV 1/5] END max_depth=9, max_features=0.6499999999999999;, score=0.916 total time=   0.0s\n",
      "[CV 2/5] END max_depth=9, max_features=0.6499999999999999;, score=0.916 total time=   0.0s\n",
      "[CV 3/5] END max_depth=9, max_features=0.6499999999999999;, score=0.927 total time=   0.0s\n",
      "[CV 4/5] END max_depth=9, max_features=0.6499999999999999;, score=0.944 total time=   0.0s\n",
      "[CV 5/5] END max_depth=9, max_features=0.6499999999999999;, score=0.933 total time=   0.0s\n",
      "[CV 1/5] END .....max_depth=9, max_features=0.7;, score=0.916 total time=   0.0s\n",
      "[CV 2/5] END .....max_depth=9, max_features=0.7;, score=0.916 total time=   0.0s\n",
      "[CV 3/5] END .....max_depth=9, max_features=0.7;, score=0.927 total time=   0.0s\n",
      "[CV 4/5] END .....max_depth=9, max_features=0.7;, score=0.944 total time=   0.0s\n",
      "[CV 5/5] END .....max_depth=9, max_features=0.7;, score=0.933 total time=   0.0s\n",
      "[CV 1/5] END max_depth=9, max_features=0.7499999999999999;, score=0.936 total time=   0.0s\n",
      "[CV 2/5] END max_depth=9, max_features=0.7499999999999999;, score=0.931 total time=   0.0s\n"
     ]
    },
    {
     "name": "stdout",
     "output_type": "stream",
     "text": [
      "CPU times: user 904 ms, sys: 111 ms, total: 1.01 s\n",
      "Wall time: 7.99 s\n"
     ]
    }
   ],
   "source": [
    "%%time\n",
    "tree_grid = tree.fit(X_train, y_train); #Вот он обученный объект на трейн выборке!!!!!!!!!"
   ]
  },
  {
   "cell_type": "code",
   "execution_count": 122,
   "id": "823bfc75",
   "metadata": {},
   "outputs": [
    {
     "data": {
      "text/plain": [
       "(0.9417, {'max_depth': 6, 'max_features': 0.8999999999999999})"
      ]
     },
     "execution_count": 122,
     "metadata": {},
     "output_type": "execute_result"
    }
   ],
   "source": [
    "#Вот они - лучший процент правильных ответов, лучшие параметры, т.е. лучшая модель\n",
    "round(tree_greed.best_score_, 4), tree_greed.best_params_\n",
    "#94% - круууче, чем 91 или 92, которые были не на лучших параметрах!"
   ]
  },
  {
   "cell_type": "markdown",
   "id": "ecd5b79f",
   "metadata": {},
   "source": [
    "### Наилучшее количество соседей \"к\""
   ]
  },
  {
   "cell_type": "markdown",
   "id": "19a5ef43",
   "metadata": {},
   "source": [
    "   Не забываем заимпортить GridSearchCV "
   ]
  },
  {
   "cell_type": "code",
   "execution_count": 130,
   "id": "9d563a1c",
   "metadata": {},
   "outputs": [],
   "source": [
    "k_param = {'n_neighbors': np.arange(10, 50, 5)}"
   ]
  },
  {
   "cell_type": "code",
   "execution_count": 131,
   "id": "c996671f",
   "metadata": {},
   "outputs": [],
   "source": [
    "knn = GridSearchCV(f_knn, k_param, cv=5, n_jobs=-1, verbose=3)"
   ]
  },
  {
   "cell_type": "code",
   "execution_count": 132,
   "id": "da93c36a",
   "metadata": {},
   "outputs": [
    {
     "name": "stdout",
     "output_type": "stream",
     "text": [
      "Fitting 5 folds for each of 8 candidates, totalling 40 fits\n",
      "[CV 3/5] END ....max_depth=7, max_features=0.35;, score=0.912 total time=   0.0s\n",
      "[CV 4/5] END ....max_depth=7, max_features=0.35;, score=0.927 total time=   0.0s\n",
      "[CV 5/5] END ....max_depth=7, max_features=0.35;, score=0.891 total time=   0.0s\n",
      "[CV 1/5] END max_depth=7, max_features=0.39999999999999997;, score=0.906 total time=   0.0s\n",
      "[CV 2/5] END max_depth=7, max_features=0.39999999999999997;, score=0.914 total time=   0.0s\n",
      "[CV 1/5] END max_depth=7, max_features=0.8999999999999999;, score=0.936 total time=   0.0s\n",
      "[CV 2/5] END max_depth=7, max_features=0.8999999999999999;, score=0.938 total time=   0.0s\n",
      "[CV 3/5] END max_depth=7, max_features=0.8999999999999999;, score=0.936 total time=   0.1s\n",
      "[CV 4/5] END max_depth=7, max_features=0.8999999999999999;, score=0.940 total time=   0.1s\n",
      "[CV 5/5] END max_depth=7, max_features=0.8999999999999999;, score=0.938 total time=   0.0s\n",
      "[CV 1/5] END ....max_depth=7, max_features=0.95;, score=0.931 total time=   0.1s\n",
      "[CV 2/5] END ....max_depth=7, max_features=0.95;, score=0.934 total time=   0.0s\n",
      "[CV 3/5] END ....max_depth=7, max_features=0.95;, score=0.931 total time=   0.1s\n",
      "[CV 4/5] END ....max_depth=7, max_features=0.95;, score=0.946 total time=   0.1s\n",
      "[CV 5/5] END ....max_depth=7, max_features=0.95;, score=0.938 total time=   0.1s\n",
      "[CV 1/5] END .....max_depth=8, max_features=0.3;, score=0.904 total time=   0.0s\n",
      "[CV 2/5] END .....max_depth=8, max_features=0.3;, score=0.901 total time=   0.0s\n",
      "[CV 3/5] END .....max_depth=8, max_features=0.3;, score=0.914 total time=   0.0s\n",
      "[CV 4/5] END .....max_depth=8, max_features=0.3;, score=0.893 total time=   0.0s\n",
      "[CV 5/5] END .....max_depth=8, max_features=0.3;, score=0.921 total time=   0.0s\n",
      "[CV 1/5] END ....max_depth=8, max_features=0.35;, score=0.904 total time=   0.0s\n",
      "[CV 1/5] END .....max_depth=9, max_features=0.3;, score=0.899 total time=   0.0s\n",
      "[CV 2/5] END .....max_depth=9, max_features=0.3;, score=0.912 total time=   0.0s\n",
      "[CV 3/5] END .....max_depth=9, max_features=0.3;, score=0.912 total time=   0.0s\n",
      "[CV 4/5] END .....max_depth=9, max_features=0.3;, score=0.925 total time=   0.0s\n",
      "[CV 5/5] END .....max_depth=9, max_features=0.3;, score=0.923 total time=   0.0s\n",
      "[CV 1/5] END ....max_depth=9, max_features=0.35;, score=0.899 total time=   0.0s\n",
      "[CV 2/5] END ....max_depth=9, max_features=0.35;, score=0.912 total time=   0.0s\n",
      "[CV 3/5] END ....max_depth=9, max_features=0.35;, score=0.912 total time=   0.0s\n",
      "[CV 4/5] END ....max_depth=9, max_features=0.35;, score=0.925 total time=   0.0s\n",
      "[CV 5/5] END ....max_depth=9, max_features=0.35;, score=0.923 total time=   0.0s\n",
      "[CV 1/5] END max_depth=9, max_features=0.39999999999999997;, score=0.919 total time=   0.0s\n",
      "[CV 2/5] END max_depth=9, max_features=0.39999999999999997;, score=0.891 total time=   0.0s\n",
      "[CV 3/5] END max_depth=9, max_features=0.39999999999999997;, score=0.942 total time=   0.0s\n",
      "[CV 4/5] END max_depth=9, max_features=0.39999999999999997;, score=0.938 total time=   0.0s\n",
      "[CV 5/5] END max_depth=9, max_features=0.39999999999999997;, score=0.940 total time=   0.0s\n",
      "[CV 1/5] END max_depth=9, max_features=0.44999999999999996;, score=0.910 total time=   0.0s\n",
      "[CV 4/5] END max_depth=9, max_features=0.7499999999999999;, score=0.940 total time=   0.0s\n",
      "[CV 5/5] END max_depth=9, max_features=0.7499999999999999;, score=0.921 total time=   0.0s\n",
      "[CV 1/5] END max_depth=9, max_features=0.7999999999999998;, score=0.931 total time=   0.0s\n",
      "[CV 2/5] END max_depth=9, max_features=0.7999999999999998;, score=0.927 total time=   0.0s\n",
      "[CV 3/5] END max_depth=9, max_features=0.7999999999999998;, score=0.923 total time=   0.0s\n",
      "[CV 4/5] END max_depth=9, max_features=0.7999999999999998;, score=0.936 total time=   0.0s\n",
      "[CV 5/5] END max_depth=9, max_features=0.7999999999999998;, score=0.925 total time=   0.1s\n",
      "[CV 1/5] END max_depth=9, max_features=0.8499999999999999;, score=0.925 total time=   0.1s\n",
      "[CV 2/5] END max_depth=9, max_features=0.8499999999999999;, score=0.927 total time=   0.0s\n",
      "[CV 3/5] END max_depth=9, max_features=0.8499999999999999;, score=0.929 total time=   0.1s\n",
      "[CV 4/5] END max_depth=9, max_features=0.8499999999999999;, score=0.940 total time=   0.0s\n",
      "[CV 5/5] END max_depth=9, max_features=0.8499999999999999;, score=0.951 total time=   0.0s\n",
      "[CV 1/5] END max_depth=9, max_features=0.8999999999999999;, score=0.925 total time=   0.0s\n",
      "[CV 2/5] END max_depth=9, max_features=0.8999999999999999;, score=0.925 total time=   0.0s\n",
      "[CV 3/5] END max_depth=9, max_features=0.8999999999999999;, score=0.919 total time=   0.0s\n",
      "[CV 4/5] END max_depth=9, max_features=0.8999999999999999;, score=0.948 total time=   0.0s\n",
      "[CV 5/5] END max_depth=10, max_features=0.5999999999999999;, score=0.948 total time=   0.0s\n",
      "[CV 3/5] END max_depth=10, max_features=0.6499999999999999;, score=0.925 total time=   0.1s\n",
      "[CV 2/5] END ....max_depth=10, max_features=0.7;, score=0.923 total time=   0.0s\n",
      "[CV 1/5] END max_depth=10, max_features=0.7499999999999999;, score=0.923 total time=   0.0s\n",
      "[CV 1/5] END max_depth=10, max_features=0.7999999999999998;, score=0.927 total time=   0.0s\n",
      "[CV 5/5] END max_depth=10, max_features=0.7999999999999998;, score=0.933 total time=   0.0s\n",
      "[CV 4/5] END max_depth=10, max_features=0.8499999999999999;, score=0.938 total time=   0.0s\n",
      "[CV 4/5] END max_depth=10, max_features=0.8999999999999999;, score=0.933 total time=   0.1s\n",
      "[CV 3/5] END ...max_depth=10, max_features=0.95;, score=0.931 total time=   0.1s\n",
      "[CV 3/5] END .....................n_neighbors=1;, score=0.827 total time=   0.1s\n",
      "[CV 2/5] END .....................n_neighbors=2;, score=0.865 total time=   0.1s\n",
      "[CV 5/5] END .....................n_neighbors=3;, score=0.863 total time=   0.1s\n",
      "[CV 1/5] END .....................n_neighbors=4;, score=0.861 total time=   0.1s\n",
      "[CV 3/5] END .....................n_neighbors=5;, score=0.876 total time=   0.1s\n",
      "[CV 4/5] END .....................n_neighbors=5;, score=0.863 total time=   0.1s\n",
      "[CV 1/5] END .....................n_neighbors=7;, score=0.861 total time=   0.1s\n",
      "[CV 2/5] END .....................n_neighbors=7;, score=0.869 total time=   0.1s\n",
      "[CV 4/5] END .....................n_neighbors=8;, score=0.867 total time=   0.1s\n",
      "[CV 5/5] END .....................n_neighbors=8;, score=0.878 total time=   0.1s\n",
      "[CV 2/5] END ....................n_neighbors=10;, score=0.874 total time=   0.1s\n",
      "[CV 3/5] END ....................n_neighbors=10;, score=0.867 total time=   0.1s\n",
      "[CV 2/5] END .......................n_neighbors=0;, score=nan total time=   0.0s\n",
      "[CV 3/5] END .....................n_neighbors=2;, score=0.867 total time=   0.1s\n",
      "[CV 5/5] END .......................n_neighbors=0;, score=nan total time=   0.0s\n",
      "[CV 1/5] END .......................n_neighbors=0;, score=nan total time=   0.0s\n",
      "[CV 1/5] END .....................n_neighbors=4;, score=0.861 total time=   0.1s\n",
      "[CV 2/5] END .....................n_neighbors=4;, score=0.859 total time=   0.1s\n",
      "[CV 3/5] END .......................n_neighbors=0;, score=nan total time=   0.0s\n",
      "[CV 4/5] END .......................n_neighbors=0;, score=nan total time=   0.0s\n",
      "[CV 5/5] END .......................n_neighbors=0;, score=nan total time=   0.0s\n",
      "[CV 1/5] END .......................n_neighbors=0;, score=nan total time=   0.0s\n",
      "[CV 2/5] END .......................n_neighbors=0;, score=nan total time=   0.0s\n",
      "[CV 3/5] END .......................n_neighbors=0;, score=nan total time=   0.0s\n",
      "[CV 4/5] END .......................n_neighbors=0;, score=nan total time=   0.0s\n",
      "[CV 5/5] END .......................n_neighbors=0;, score=nan total time=   0.0s\n",
      "[CV 2/5] END .....................n_neighbors=8;, score=0.872 total time=   0.1s\n",
      "[CV 5/5] END .....................n_neighbors=8;, score=0.878 total time=   0.1s\n",
      "[CV 4/5] END ....................n_neighbors=10;, score=0.873 total time=   0.1s\n",
      "[CV 3/5] END ....................n_neighbors=10;, score=0.867 total time=   0.2s\n",
      "[CV 3/5] END ....................n_neighbors=15;, score=0.880 total time=   0.1s\n",
      "[CV 3/5] END ....................n_neighbors=20;, score=0.874 total time=   0.1s\n",
      "[CV 4/5] END ....................n_neighbors=20;, score=0.869 total time=   0.1s\n",
      "[CV 1/5] END ....................n_neighbors=30;, score=0.850 total time=   0.1s\n"
     ]
    },
    {
     "name": "stdout",
     "output_type": "stream",
     "text": [
      "CPU times: user 118 ms, sys: 13 ms, total: 131 ms\n",
      "Wall time: 1.14 s\n"
     ]
    }
   ],
   "source": [
    "%%time\n",
    "knn_grid = knn.fit(X_tarin, y_train)"
   ]
  },
  {
   "cell_type": "code",
   "execution_count": 134,
   "id": "c441260c",
   "metadata": {},
   "outputs": [
    {
     "data": {
      "text/plain": [
       "(0.8701, {'n_neighbors': 10})"
      ]
     },
     "execution_count": 134,
     "metadata": {},
     "output_type": "execute_result"
    },
    {
     "name": "stdout",
     "output_type": "stream",
     "text": [
      "[CV 2/5] END .....................n_neighbors=8;, score=0.872 total time=   0.1s\n",
      "[CV 3/5] END .....................n_neighbors=8;, score=0.872 total time=   0.1s\n",
      "[CV 5/5] END .....................n_neighbors=9;, score=0.882 total time=   0.1s\n",
      "[CV 1/5] END ....................n_neighbors=10;, score=0.859 total time=   0.1s\n",
      "[CV 4/5] END ....................n_neighbors=10;, score=0.873 total time=   0.1s\n",
      "[CV 4/5] END .......................n_neighbors=0;, score=nan total time=   0.0s\n",
      "[CV 2/5] END .....................n_neighbors=2;, score=0.865 total time=   0.1s\n",
      "[CV 2/5] END .......................n_neighbors=0;, score=nan total time=   0.0s\n",
      "[CV 3/5] END .......................n_neighbors=0;, score=nan total time=   0.0s\n",
      "[CV 3/5] END .....................n_neighbors=4;, score=0.869 total time=   0.1s\n",
      "[CV 4/5] END .....................n_neighbors=4;, score=0.869 total time=   0.1s\n",
      "[CV 1/5] END .....................n_neighbors=8;, score=0.854 total time=   0.1s\n",
      "[CV 4/5] END .....................n_neighbors=8;, score=0.867 total time=   0.1s\n",
      "[CV 2/5] END ....................n_neighbors=10;, score=0.874 total time=   0.1s\n",
      "[CV 1/5] END ....................n_neighbors=10;, score=0.859 total time=   0.1s\n",
      "[CV 1/5] END ....................n_neighbors=15;, score=0.854 total time=   0.1s\n",
      "[CV 1/5] END ....................n_neighbors=20;, score=0.854 total time=   0.1s\n",
      "[CV 2/5] END ....................n_neighbors=20;, score=0.867 total time=   0.1s\n",
      "[CV 4/5] END ....................n_neighbors=25;, score=0.871 total time=   0.1s\n",
      "[CV 5/5] END ....................n_neighbors=25;, score=0.873 total time=   0.1s\n",
      "[CV 2/5] END ....................n_neighbors=35;, score=0.867 total time=   0.1s\n",
      "[CV 3/5] END ....................n_neighbors=35;, score=0.867 total time=   0.1s\n",
      "[CV 5/5] END ....................n_neighbors=40;, score=0.873 total time=   0.1s\n",
      "[CV 1/5] END ....................n_neighbors=45;, score=0.848 total time=   0.1s\n",
      "[CV 2/5] END ....................n_neighbors=30;, score=0.869 total time=   0.1s\n",
      "[CV 4/5] END ....................n_neighbors=35;, score=0.865 total time=   0.1s\n",
      "[CV 5/5] END ....................n_neighbors=35;, score=0.871 total time=   0.1s\n",
      "[CV 2/5] END ....................n_neighbors=45;, score=0.865 total time=   0.1s\n",
      "[CV 3/5] END ....................n_neighbors=45;, score=0.867 total time=   0.1s\n",
      "[CV 3/5] END max_depth=9, max_features=0.7499999999999999;, score=0.936 total time=   0.0s\n",
      "[CV 2/5] END max_depth=10, max_features=0.5499999999999999;, score=0.919 total time=   0.0s\n",
      "[CV 3/5] END max_depth=10, max_features=0.5499999999999999;, score=0.934 total time=   0.0s\n",
      "[CV 4/5] END max_depth=10, max_features=0.5499999999999999;, score=0.923 total time=   0.0s\n",
      "[CV 5/5] END max_depth=10, max_features=0.5499999999999999;, score=0.925 total time=   0.0s\n",
      "[CV 1/5] END max_depth=10, max_features=0.5999999999999999;, score=0.923 total time=   0.0s\n",
      "[CV 2/5] END max_depth=10, max_features=0.5999999999999999;, score=0.927 total time=   0.0s\n",
      "[CV 3/5] END max_depth=10, max_features=0.5999999999999999;, score=0.923 total time=   0.0s\n",
      "[CV 4/5] END max_depth=10, max_features=0.5999999999999999;, score=0.921 total time=   0.0s\n",
      "[CV 2/5] END max_depth=10, max_features=0.6499999999999999;, score=0.923 total time=   0.0s\n",
      "[CV 5/5] END max_depth=10, max_features=0.6499999999999999;, score=0.921 total time=   0.0s\n",
      "[CV 3/5] END ....max_depth=10, max_features=0.7;, score=0.925 total time=   0.0s\n",
      "[CV 2/5] END max_depth=10, max_features=0.7499999999999999;, score=0.925 total time=   0.0s\n",
      "[CV 5/5] END max_depth=10, max_features=0.7499999999999999;, score=0.936 total time=   0.0s\n",
      "[CV 4/5] END max_depth=10, max_features=0.7999999999999998;, score=0.942 total time=   0.0s\n",
      "[CV 3/5] END max_depth=10, max_features=0.8499999999999999;, score=0.927 total time=   0.0s\n",
      "[CV 2/5] END max_depth=10, max_features=0.8999999999999999;, score=0.925 total time=   0.0s\n",
      "[CV 1/5] END ...max_depth=10, max_features=0.95;, score=0.931 total time=   0.0s\n",
      "[CV 5/5] END ...max_depth=10, max_features=0.95;, score=0.931 total time=   0.0s\n",
      "[CV 2/5] END .....................n_neighbors=1;, score=0.805 total time=   0.1s\n",
      "[CV 5/5] END .....................n_neighbors=1;, score=0.796 total time=   0.1s\n",
      "[CV 4/5] END .....................n_neighbors=2;, score=0.869 total time=   0.1s\n",
      "[CV 5/5] END .....................n_neighbors=2;, score=0.858 total time=   0.1s\n",
      "[CV 2/5] END .....................n_neighbors=4;, score=0.859 total time=   0.1s\n",
      "[CV 3/5] END .....................n_neighbors=4;, score=0.869 total time=   0.1s\n",
      "[CV 5/5] END .....................n_neighbors=5;, score=0.880 total time=   0.1s\n",
      "[CV 1/5] END .....................n_neighbors=6;, score=0.857 total time=   0.1s\n",
      "[CV 3/5] END .....................n_neighbors=7;, score=0.874 total time=   0.1s\n",
      "[CV 4/5] END .....................n_neighbors=7;, score=0.871 total time=   0.1s\n",
      "[CV 1/5] END .....................n_neighbors=9;, score=0.859 total time=   0.1s\n",
      "[CV 2/5] END .....................n_neighbors=9;, score=0.874 total time=   0.2s\n",
      "[CV 5/5] END ....................n_neighbors=10;, score=0.878 total time=   0.1s\n",
      "[CV 3/5] END .......................n_neighbors=0;, score=nan total time=   0.0s\n",
      "[CV 5/5] END .......................n_neighbors=0;, score=nan total time=   0.0s\n",
      "[CV 4/5] END .....................n_neighbors=2;, score=0.869 total time=   0.1s\n",
      "[CV 5/5] END .....................n_neighbors=2;, score=0.858 total time=   0.1s\n",
      "[CV 4/5] END .....................n_neighbors=2;, score=0.869 total time=   0.1s\n",
      "[CV 5/5] END .....................n_neighbors=2;, score=0.858 total time=   0.1s\n",
      "[CV 1/5] END .......................n_neighbors=0;, score=nan total time=   0.0s\n",
      "[CV 2/5] END .......................n_neighbors=0;, score=nan total time=   0.0s\n",
      "[CV 3/5] END .....................n_neighbors=8;, score=0.872 total time=   0.1s\n",
      "[CV 1/5] END ....................n_neighbors=10;, score=0.859 total time=   0.1s\n",
      "[CV 5/5] END ....................n_neighbors=10;, score=0.878 total time=   0.1s\n",
      "[CV 4/5] END ....................n_neighbors=10;, score=0.873 total time=   0.1s\n",
      "[CV 2/5] END ....................n_neighbors=15;, score=0.872 total time=   0.1s\n",
      "[CV 5/5] END ....................n_neighbors=20;, score=0.871 total time=   0.1s\n",
      "[CV 1/5] END ....................n_neighbors=25;, score=0.854 total time=   0.1s\n",
      "[CV 3/5] END ....................n_neighbors=30;, score=0.867 total time=   0.1s\n",
      "[CV 4/5] END ....................n_neighbors=30;, score=0.867 total time=   0.1s\n",
      "[CV 1/5] END ....................n_neighbors=40;, score=0.850 total time=   0.1s\n",
      "[CV 2/5] END ....................n_neighbors=40;, score=0.867 total time=   0.1s\n",
      "[CV 4/5] END ....................n_neighbors=45;, score=0.867 total time=   0.1s\n",
      "[CV 5/5] END ....................n_neighbors=45;, score=0.871 total time=   0.1s\n",
      "[CV 5/5] END .......................n_neighbors=0;, score=nan total time=   0.0s\n",
      "[CV 5/5] END .....................n_neighbors=4;, score=0.871 total time=   0.1s\n",
      "[CV 1/5] END .....................n_neighbors=2;, score=0.865 total time=   0.1s\n",
      "[CV 2/5] END .....................n_neighbors=2;, score=0.865 total time=   0.1s\n",
      "[CV 3/5] END .....................n_neighbors=2;, score=0.867 total time=   0.1s\n",
      "[CV 3/5] END ....................n_neighbors=10;, score=0.867 total time=   0.1s\n",
      "[CV 2/5] END ....................n_neighbors=10;, score=0.874 total time=   0.1s\n",
      "[CV 5/5] END ....................n_neighbors=10;, score=0.878 total time=   0.1s\n",
      "[CV 4/5] END ....................n_neighbors=15;, score=0.867 total time=   0.1s\n",
      "[CV 5/5] END ....................n_neighbors=15;, score=0.876 total time=   0.1s\n",
      "[CV 2/5] END ....................n_neighbors=25;, score=0.865 total time=   0.1s\n",
      "[CV 3/5] END ....................n_neighbors=25;, score=0.872 total time=   0.1s\n",
      "[CV 5/5] END ....................n_neighbors=30;, score=0.871 total time=   0.1s\n",
      "[CV 1/5] END ....................n_neighbors=35;, score=0.850 total time=   0.1s\n",
      "[CV 3/5] END ....................n_neighbors=40;, score=0.867 total time=   0.1s\n",
      "[CV 4/5] END ....................n_neighbors=40;, score=0.863 total time=   0.1s\n"
     ]
    }
   ],
   "source": [
    "round(knn_grid.best_score_, 4),  knn_grid.best_params_ #kNN мягко скажем, не очень здесь работает"
   ]
  },
  {
   "cell_type": "markdown",
   "id": "85b56ccd",
   "metadata": {},
   "source": [
    "Все понятно, как не ищи, но здесь деревья лучше соседей работают!"
   ]
  },
  {
   "cell_type": "markdown",
   "id": "aa06de3f",
   "metadata": {},
   "source": [
    "### Смотрим как будет работать обученная лучшая модель на тестовой выборке"
   ]
  },
  {
   "cell_type": "code",
   "execution_count": 135,
   "id": "9f459893",
   "metadata": {},
   "outputs": [
    {
     "data": {
      "text/plain": [
       "DecisionTreeClassifier(max_depth=6, max_features=0.8999999999999999,\n",
       "                       random_state=17)"
      ]
     },
     "execution_count": 135,
     "metadata": {},
     "output_type": "execute_result"
    }
   ],
   "source": [
    "#Лучшая модель\n",
    "tree_grid.best_estimator_"
   ]
  },
  {
   "cell_type": "code",
   "execution_count": 139,
   "id": "54d043c4",
   "metadata": {},
   "outputs": [
    {
     "data": {
      "text/plain": [
       "array([0, 0, 0, 0, 0, 0, 0, 0, 0, 1, 0, 0, 0, 0, 0, 0, 0, 0, 0, 0, 0, 0,\n",
       "       0, 0, 0, 0, 0, 0, 0, 1, 0, 0, 1, 0, 0, 0, 0, 0, 0, 1, 0, 0, 0, 0,\n",
       "       0, 1, 0, 0, 0, 0, 0, 0, 0, 0, 0, 0, 0, 0, 0, 0, 0, 0, 0, 0, 0, 0,\n",
       "       0, 0, 0, 0, 0, 0, 0, 1, 0, 0, 0, 0, 0, 0, 0, 1, 1, 0, 1, 0, 0, 0,\n",
       "       1, 0, 0, 0, 0, 0, 1, 0, 0, 0, 0, 0, 0, 0, 1, 0, 0, 0, 0, 0, 0, 0,\n",
       "       0, 0, 0, 0, 0, 0, 0, 0, 0, 0, 0, 0, 0, 0, 0, 0, 0, 0, 0, 0, 0, 0,\n",
       "       0, 0, 0, 1, 0, 0, 0, 0, 0, 1, 0, 0, 0, 0, 0, 0, 0, 0, 1, 1, 0, 0,\n",
       "       0, 0, 0, 0, 0, 0, 0, 0, 0, 0, 0, 0, 0, 0, 0, 0, 0, 0, 0, 1, 0, 0,\n",
       "       0, 0, 0, 0, 0, 0, 0, 0, 0, 0, 0, 0, 0, 0, 0, 0, 0, 0, 0, 0, 0, 0,\n",
       "       0, 0, 0, 0, 0, 0, 0, 0, 0, 1, 0, 1, 0, 0, 1, 0, 0, 0, 0, 0, 0, 0,\n",
       "       0, 0, 0, 0, 0, 0, 0, 0, 0, 0, 1, 0, 1, 0, 0, 0, 0, 0, 0, 0, 0, 0,\n",
       "       0, 0, 0, 1, 0, 1, 0, 0, 1, 0, 0, 0, 0, 0, 0, 0, 0, 0, 0, 0, 0, 0,\n",
       "       0, 0, 0, 0, 0, 0, 0, 0, 0, 0, 0, 0, 0, 0, 0, 0, 0, 0, 0, 0, 0, 1,\n",
       "       0, 0, 0, 0, 0, 0, 0, 0, 0, 0, 0, 1, 0, 0, 0, 0, 0, 0, 0, 0, 0, 0,\n",
       "       0, 0, 0, 0, 0, 1, 0, 1, 0, 0, 0, 0, 0, 0, 0, 0, 0, 0, 0, 0, 0, 0,\n",
       "       0, 0, 1, 0, 0, 0, 0, 0, 0, 0, 0, 0, 0, 0, 0, 0, 0, 0, 0, 0, 0, 0,\n",
       "       0, 0, 0, 0, 0, 0, 0, 1, 0, 0, 0, 0, 0, 0, 0, 0, 1, 0, 0, 0, 0, 0,\n",
       "       0, 0, 0, 0, 0, 0, 0, 0, 0, 0, 0, 0, 0, 0, 1, 0, 0, 0, 0, 0, 0, 0,\n",
       "       0, 0, 1, 0, 0, 0, 0, 0, 0, 0, 0, 0, 1, 0, 0, 0, 0, 0, 0, 0, 0, 0,\n",
       "       0, 0, 0, 0, 0, 0, 1, 0, 0, 0, 0, 0, 0, 0, 0, 0, 0, 0, 0, 0, 0, 0,\n",
       "       0, 0, 0, 0, 1, 0, 0, 0, 1, 0, 1, 0, 0, 0, 0, 0, 0, 0, 0, 0, 0, 0,\n",
       "       0, 0, 0, 1, 1, 0, 0, 0, 0, 0, 1, 0, 1, 0, 1, 0, 0, 0, 0, 0, 1, 0,\n",
       "       0, 0, 1, 1, 0, 0, 0, 0, 0, 0, 0, 0, 0, 0, 0, 0, 0, 0, 0, 0, 1, 0,\n",
       "       0, 0, 1, 0, 0, 0, 0, 0, 0, 0, 0, 0, 0, 0, 0, 0, 0, 0, 0, 0, 0, 0,\n",
       "       0, 0, 0, 0, 0, 1, 0, 0, 1, 0, 0, 0, 0, 0, 0, 0, 0, 0, 0, 1, 0, 0,\n",
       "       0, 0, 0, 1, 0, 1, 0, 0, 0, 0, 0, 0, 1, 0, 0, 0, 0, 0, 0, 1, 0, 0,\n",
       "       0, 0, 0, 0, 0, 0, 0, 0, 0, 0, 0, 0, 0, 0, 0, 0, 0, 0, 0, 0, 0, 0,\n",
       "       0, 0, 0, 0, 1, 0, 0, 0, 1, 0, 0, 0, 0, 0, 0, 0, 0, 0, 1, 0, 0, 1,\n",
       "       0, 0, 0, 0, 0, 0, 0, 0, 0, 0, 0, 1, 0, 0, 0, 0, 0, 0, 0, 0, 0, 0,\n",
       "       1, 0, 0, 0, 0, 0, 1, 0, 0, 0, 0, 0, 0, 0, 0, 0, 0, 0, 0, 0, 0, 0,\n",
       "       0, 0, 0, 0, 0, 0, 0, 0, 0, 0, 1, 0, 0, 0, 0, 0, 0, 0, 0, 0, 0, 0,\n",
       "       0, 0, 0, 0, 0, 0, 0, 0, 0, 0, 0, 0, 0, 0, 0, 0, 0, 1, 0, 0, 0, 0,\n",
       "       1, 0, 1, 1, 0, 0, 0, 0, 0, 0, 0, 1, 0, 0, 0, 0, 0, 1, 0, 0, 0, 0,\n",
       "       0, 0, 0, 0, 0, 0, 0, 0, 0, 0, 0, 0, 0, 0, 0, 0, 0, 0, 0, 0, 0, 0,\n",
       "       0, 0, 0, 0, 1, 0, 0, 0, 0, 0, 0, 0, 0, 0, 0, 0, 0, 1, 0, 1, 0, 0,\n",
       "       1, 0, 0, 0, 0, 0, 1, 0, 0, 0, 1, 0, 0, 0, 0, 0, 0, 0, 0, 0, 0, 1,\n",
       "       0, 1, 0, 0, 0, 0, 0, 0, 0, 1, 1, 0, 0, 0, 0, 0, 0, 0, 0, 0, 0, 0,\n",
       "       0, 0, 0, 0, 0, 0, 0, 0, 0, 0, 0, 0, 0, 0, 0, 0, 1, 0, 0, 0, 0, 0,\n",
       "       0, 0, 0, 0, 0, 0, 1, 0, 0, 0, 0, 0, 0, 0, 0, 0, 0, 0, 0, 0, 0, 0,\n",
       "       0, 0, 0, 0, 0, 0, 0, 0, 0, 0, 0, 0, 0, 0, 0, 0, 0, 0, 1, 0, 0, 0,\n",
       "       0, 0, 0, 0, 0, 0, 0, 0, 1, 1, 0, 0, 0, 0, 0, 0, 0, 1, 0, 0, 0, 0,\n",
       "       0, 0, 0, 0, 0, 0, 0, 0, 0, 0, 0, 0, 0, 0, 0, 1, 0, 0, 0, 0, 0, 0,\n",
       "       0, 0, 0, 0, 1, 0, 0, 0, 0, 0, 0, 0, 0, 0, 0, 0, 0, 0, 0, 0, 0, 0,\n",
       "       0, 0, 0, 0, 1, 0, 0, 0, 0, 0, 0, 0, 0, 0, 0, 0, 0, 0, 0, 0, 0, 0,\n",
       "       0, 0, 1, 0, 0, 0, 0, 0, 1, 0, 0, 0, 0, 0, 0, 1, 0, 0, 0, 0, 0, 0,\n",
       "       0, 0, 0, 0, 1, 0, 0, 0, 0, 0])"
      ]
     },
     "execution_count": 139,
     "metadata": {},
     "output_type": "execute_result"
    }
   ],
   "source": [
    "tree_grid.predict(X_test) #Вот так это работает, но нам это не надо."
   ]
  },
  {
   "cell_type": "code",
   "execution_count": 143,
   "id": "00a3d13e",
   "metadata": {},
   "outputs": [
    {
     "data": {
      "text/plain": [
       "0.946"
      ]
     },
     "execution_count": 143,
     "metadata": {},
     "output_type": "execute_result"
    }
   ],
   "source": [
    "#Смотрим, какой наилучший процент правильных ответов\n",
    "tree_grid.score(X_test, y_test)"
   ]
  },
  {
   "cell_type": "code",
   "execution_count": 144,
   "id": "18773199",
   "metadata": {},
   "outputs": [],
   "source": [
    "#Лучше прямо объявлять\n",
    "from sklearn.metrics import accuracy_score"
   ]
  },
  {
   "cell_type": "code",
   "execution_count": 146,
   "id": "7f7485f2",
   "metadata": {},
   "outputs": [
    {
     "data": {
      "text/plain": [
       "0.946"
      ]
     },
     "execution_count": 146,
     "metadata": {},
     "output_type": "execute_result"
    }
   ],
   "source": [
    "accuracy_score(tree_grid.predict(X_test), y_test)"
   ]
  },
  {
   "cell_type": "markdown",
   "id": "01648b4a",
   "metadata": {},
   "source": [
    "## Нарисуем"
   ]
  },
  {
   "cell_type": "code",
   "execution_count": 147,
   "id": "0453bcb8",
   "metadata": {},
   "outputs": [],
   "source": [
    "from sklearn.tree import export_graphviz"
   ]
  },
  {
   "cell_type": "code",
   "execution_count": 153,
   "id": "e91bc4e9",
   "metadata": {},
   "outputs": [],
   "source": [
    "#Характеристики (фичи) - это и есть наши колонки здесь в начальном датафрейме\n",
    "export_graphviz(tree_greed.best_estimator_, out_file='tree_3_lesson.dot', feature_names=X.columns, filled=True)"
   ]
  },
  {
   "cell_type": "code",
   "execution_count": 155,
   "id": "8609e0f4",
   "metadata": {},
   "outputs": [
    {
     "name": "stdout",
     "output_type": "stream",
     "text": [
      "-rw-rw-r-- 1 anton anton 7804 мар 23 20:56 tree_3_lesson.dot\r\n"
     ]
    }
   ],
   "source": [
    "#Через ком строку смотрим как графвиз записал дот файл\n",
    "!ls -l *.dot"
   ]
  },
  {
   "cell_type": "code",
   "execution_count": 156,
   "id": "b5ebaa1d",
   "metadata": {},
   "outputs": [],
   "source": [
    "export_graphviz?"
   ]
  },
  {
   "cell_type": "code",
   "execution_count": 160,
   "id": "072f1dac",
   "metadata": {},
   "outputs": [],
   "source": [
    "!dot -Tpng tree_3_lesson.dot -o tree_3_lesson.png #Прямо с документации к графвизу копируем.\n",
    "#Графвиз установлен через баш"
   ]
  },
  {
   "cell_type": "code",
   "execution_count": 161,
   "id": "1c7fee2f",
   "metadata": {},
   "outputs": [
    {
     "name": "stdout",
     "output_type": "stream",
     "text": [
      "итого 988\r\n",
      "-rw-rw-r-- 1 anton anton  98647 мар 23 21:02 'Oi_lesson_3_Trees&kNN.ipynb'\r\n",
      "-rw-r--r-- 1 anton anton 310007 окт 27 19:07  telecom_churn.csv\r\n",
      "-rw-rw-r-- 1 anton anton   6240 мар 23 20:52  tree_3_lesson\r\n",
      "-rw-rw-r-- 1 anton anton   7804 мар 23 20:56  tree_3_lesson.dot\r\n",
      "-rw-rw-r-- 1 anton anton 578749 мар 23 21:10  tree_3_lesson.png\r\n"
     ]
    }
   ],
   "source": [
    "!ls -l  #Вот и рисунок png"
   ]
  },
  {
   "cell_type": "markdown",
   "id": "9df64bed",
   "metadata": {},
   "source": [
    "В HTMLне сложно запомнить, как сюда рисунок разместить"
   ]
  },
  {
   "cell_type": "markdown",
   "id": "cea4272b",
   "metadata": {},
   "source": [
    "<img src = 'tree_3_lesson.png'>"
   ]
  },
  {
   "cell_type": "code",
   "execution_count": null,
   "id": "dba128c9",
   "metadata": {},
   "outputs": [],
   "source": []
  }
 ],
 "metadata": {
  "kernelspec": {
   "display_name": "Python 3 (ipykernel)",
   "language": "python",
   "name": "python3"
  },
  "language_info": {
   "codemirror_mode": {
    "name": "ipython",
    "version": 3
   },
   "file_extension": ".py",
   "mimetype": "text/x-python",
   "name": "python",
   "nbconvert_exporter": "python",
   "pygments_lexer": "ipython3",
   "version": "3.9.15"
  }
 },
 "nbformat": 4,
 "nbformat_minor": 5
}
